{
 "cells": [
  {
   "cell_type": "markdown",
   "id": "314091a9",
   "metadata": {},
   "source": [
    "---------------------------------------------Multiple Flight Cancellation -------------------------------------------"
   ]
  },
  {
   "cell_type": "code",
   "execution_count": 1,
   "id": "abbdfa29-4a81-420b-8dec-fae31acfdb83",
   "metadata": {},
   "outputs": [],
   "source": [
    "import pandas as pd"
   ]
  },
  {
   "cell_type": "code",
   "execution_count": 2,
   "id": "d38d085b-c76b-4771-9a19-339363b0b79b",
   "metadata": {},
   "outputs": [],
   "source": [
    "sch_data = 'SCH-ZZ-20231208_035117.xlsx'      #Importing schedule data\n",
    "inv_data = 'INV-ZZ-20231208_041852.xlsx'      #Importing inventory data"
   ]
  },
  {
   "cell_type": "code",
   "execution_count": 3,
   "id": "ec50140b-932b-4050-b7da-422db4fec2c3",
   "metadata": {},
   "outputs": [],
   "source": [
    "sch = pd.read_excel(sch_data)\n",
    "inv = pd.read_excel(inv_data)"
   ]
  },
  {
   "cell_type": "code",
   "execution_count": 4,
   "id": "24c4b063-9e87-462f-be43-edcaef31c061",
   "metadata": {},
   "outputs": [],
   "source": [
    "df1 = pd.DataFrame(sch)         #Converting excel data into dataframe\n",
    "df2 = pd.DataFrame(inv)"
   ]
  },
  {
   "cell_type": "markdown",
   "id": "6785185c",
   "metadata": {},
   "source": [
    "Selecting Flights to Cancel"
   ]
  },
  {
   "cell_type": "code",
   "execution_count": 5,
   "id": "422d00be-04dd-45fe-b7f4-353d21d822d9",
   "metadata": {},
   "outputs": [],
   "source": [
    "df2['Bool'] = 1   #Creating a new column in df2 and naming it as Bool and assigning all values as 1\n",
    "                  #Bool value will be 0 for the flights which are cancelled"
   ]
  },
  {
   "cell_type": "code",
   "execution_count": 10,
   "id": "6e5f1f17-1b2a-4570-a624-5246656f1c8f",
   "metadata": {},
   "outputs": [
    {
     "data": {
      "text/plain": [
       "DepartureAirport    BLR\n",
       "ArrivalAirport      HYD\n",
       "Name: 100, dtype: object"
      ]
     },
     "execution_count": 10,
     "metadata": {},
     "output_type": "execute_result"
    }
   ],
   "source": [
    "df2.loc[100, ['DepartureAirport', 'ArrivalAirport']]"
   ]
  },
  {
   "cell_type": "code",
   "execution_count": 11,
   "id": "857a81ff-f8ed-44df-9107-436a10e06021",
   "metadata": {},
   "outputs": [
    {
     "data": {
      "text/plain": [
       "DepartureAirport    HYD\n",
       "ArrivalAirport      AMD\n",
       "Name: 200, dtype: object"
      ]
     },
     "execution_count": 11,
     "metadata": {},
     "output_type": "execute_result"
    }
   ],
   "source": [
    "df2.loc[200, ['DepartureAirport', 'ArrivalAirport']]"
   ]
  },
  {
   "cell_type": "code",
   "execution_count": 12,
   "id": "fb166b7f-c21b-4e8b-8cf0-167d2dc2e3c5",
   "metadata": {},
   "outputs": [],
   "source": [
    "import numpy as np\n",
    "cancelled_flights = [100, 200]       "
   ]
  },
  {
   "cell_type": "code",
   "execution_count": 13,
   "id": "dca74771-abbf-4b3c-9d3e-bd789c0d6754",
   "metadata": {},
   "outputs": [
    {
     "name": "stdout",
     "output_type": "stream",
     "text": [
      "[100, 200]\n"
     ]
    }
   ],
   "source": [
    "for i in cancelled_flights:\n",
    "    df2.at[i, 'Bool'] = 0     #Assigning a bool value of 0 to the cancelled flights\n",
    "print(cancelled_flights)"
   ]
  },
  {
   "cell_type": "code",
   "execution_count": 14,
   "id": "fb74c75c-2f9b-4d67-8917-59f38af06c38",
   "metadata": {},
   "outputs": [],
   "source": [
    "threshold1 = pd.Timedelta(hours=6)\n",
    "threshold2 = pd.Timedelta(hours=12)\n",
    "threshold3 = pd.Timedelta(hours=24)\n",
    "threshold4 = pd.Timedelta(hours=48)\n",
    "threshold5 = pd.Timedelta(hours=72)\n",
    "zero_time = pd.Timedelta(hours=0)\n",
    "inf_time = pd.Timedelta(weeks=52)"
   ]
  },
  {
   "cell_type": "markdown",
   "id": "76857eec",
   "metadata": {},
   "source": [
    "Algorithm for flight scoring based on arrival, departure time, arrival, departure time etc."
   ]
  },
  {
   "cell_type": "code",
   "execution_count": 58,
   "id": "69eb7068-eb11-4101-b701-8c1cebdf1204",
   "metadata": {},
   "outputs": [],
   "source": [
    " for j in range(len(cancelled_flights)):\n",
    "    new_col = f'Flight_Score_{cancelled_flights[j]}'\n",
    "    new_col2 = f'Quality Score Grade_{cancelled_flights[j]}'\n",
    "    df2[new_col] = 0                 #New column in the dataframe for scoring cancelled flights\n",
    "    df2[new_col2] = 'NaN'            #Each flights having a bool value of 1 will have a score \n",
    "                                     #corresponding to each cancelled flight\n",
    "    \n",
    "    for i in range(len(df2)):\n",
    "        if df2.loc[i, 'Bool'] == 1:  #Only scoring non-cancelled flights\n",
    "            if df2.loc[i, 'DepartureAirport'] == df2.loc[cancelled_flights[j], \n",
    "            'DepartureAirport'] and df2.loc[i, 'ArrivalAirport'] == df2.loc[cancelled_flights[j], 'ArrivalAirport']:\n",
    "               df2.loc[i, new_col] = 40 \n",
    "               diff_dep = df2.loc[i, 'DepartureDateTime'] - df2.loc[cancelled_flights[j], 'DepartureDateTime']\n",
    "               diff_arr = df2.loc[i, 'ArrivalDateTime'] - df2.loc[cancelled_flights[j], 'ArrivalDateTime']\n",
    "               if((diff_dep <= threshold4) and (diff_dep >= zero_time)):                            \n",
    "                    df2.loc[i, new_col] = df2.loc[i, new_col] + 30                                  \n",
    "                    if((diff_dep <= threshold3) and (diff_dep >= zero_time)):                       \n",
    "                        df2.loc[i, new_col] = df2.loc[i, new_col] + 10   #Adding only 10 because there is a nested-if \n",
    "                        if((diff_dep <= threshold2) and (diff_dep >= zero_time)):\n",
    "                            df2.loc[i, new_col] = df2.loc[i, new_col] + 10\n",
    "                            if((diff_dep <= threshold1) and (diff_dep >= zero_time)):\n",
    "                                df2.loc[i, new_col] = df2.loc[i, new_col] + 20\n",
    "               if((diff_arr <= threshold4) and (diff_arr >= zero_time)):                            \n",
    "                    df2.loc[i, new_col] = df2.loc[i, new_col] + 30                                    \n",
    "                    if((diff_arr <= threshold3) and (diff_arr >= zero_time)):                        \n",
    "                        df2.loc[i, new_col] = df2.loc[i, new_col] + 10\n",
    "                        if((diff_arr <= threshold2) and (diff_arr >= zero_time)):\n",
    "                            df2.loc[i, new_col] = df2.loc[i, new_col] + 10\n",
    "                            if((diff_arr <= threshold1) and (diff_arr >= zero_time)):\n",
    "                                df2.loc[i, new_col] = df2.loc[i, new_col] + 20\n",
    "               for k in range(len(df1)):\n",
    "                    if (df2.loc[i, 'ScheduleId'] == df1.loc[k, 'ScheduleID']):\n",
    "                        tail_number = df1.loc[k, 'AircraftTailNumber']\n",
    "               for k in range(len(df1)):\n",
    "                    if (df2.loc[cancelled_flights[j], 'ScheduleId'] == df1.loc[k, 'ScheduleID']):\n",
    "                        if (df1.loc[k, 'AircraftTailNumber'] == tail_number):\n",
    "                            df2.loc[i, new_col] = df2.loc[i, new_col] + 50\n",
    "\n",
    "            #Quality grading of flights acc. to ruleset provided\n",
    "            if(df2.loc[i, new_col] < 150 and df2.loc[i, new_col] > 0):\n",
    "                df2.loc[i, new_col2] = 'D'\n",
    "            if(df2.loc[i, new_col] >= 150):\n",
    "                df2.loc[i, new_col2] = 'C'\n",
    "            if(df2.loc[i, new_col] >= 180):\n",
    "                df2.loc[i, new_col2] = 'B'\n",
    "            if(df2.loc[i, new_col] >= 200):\n",
    "                df2.loc[i, new_col2] = 'A'\n",
    "\n",
    "df2 = pd.concat([df2], axis=1)"
   ]
  },
  {
   "cell_type": "code",
   "execution_count": 59,
   "id": "db5ffcd5-915e-4c5e-b15b-f895d43eae60",
   "metadata": {},
   "outputs": [],
   "source": [
    "filt1 = (df2[f'Quality Score Grade_{cancelled_flights[0]}'] == 'A')\n",
    "filt2 = (df2[f'Quality Score Grade_{cancelled_flights[0]}'] == 'B')\n",
    "filt3 = (df2[f'Quality Score Grade_{cancelled_flights[0]}'] == 'C')\n",
    "filt4 = (df2['Oversold'] < 0)       #Considering only those flights which have vacant seats\n",
    "Available_flights_c1 = df2.loc[(filt1 | filt2 | filt3) & filt4]"
   ]
  },
  {
   "cell_type": "code",
   "execution_count": 60,
   "id": "0e2d0589-e294-4d39-b257-bd5fac1e8676",
   "metadata": {},
   "outputs": [
    {
     "data": {
      "text/html": [
       "<div>\n",
       "<style scoped>\n",
       "    .dataframe tbody tr th:only-of-type {\n",
       "        vertical-align: middle;\n",
       "    }\n",
       "\n",
       "    .dataframe tbody tr th {\n",
       "        vertical-align: top;\n",
       "    }\n",
       "\n",
       "    .dataframe thead th {\n",
       "        text-align: right;\n",
       "    }\n",
       "</style>\n",
       "<table border=\"1\" class=\"dataframe\">\n",
       "  <thead>\n",
       "    <tr style=\"text-align: right;\">\n",
       "      <th></th>\n",
       "      <th>InventoryId</th>\n",
       "      <th>ScheduleId</th>\n",
       "      <th>CarrierCode</th>\n",
       "      <th>Dep_Key</th>\n",
       "      <th>FlightNumber</th>\n",
       "      <th>AircraftType</th>\n",
       "      <th>DepartureDate</th>\n",
       "      <th>DepartureDateTime</th>\n",
       "      <th>ArrivalDateTime</th>\n",
       "      <th>DepartureAirport</th>\n",
       "      <th>...</th>\n",
       "      <th>EC_AvailableInventory</th>\n",
       "      <th>FC_CD</th>\n",
       "      <th>BC_CD</th>\n",
       "      <th>PC_CD</th>\n",
       "      <th>EC_CD</th>\n",
       "      <th>Bool</th>\n",
       "      <th>Flight_Score_100</th>\n",
       "      <th>Quality Score Grade_100</th>\n",
       "      <th>Flight_Score_200</th>\n",
       "      <th>Quality Score Grade_200</th>\n",
       "    </tr>\n",
       "  </thead>\n",
       "  <tbody>\n",
       "    <tr>\n",
       "      <th>101</th>\n",
       "      <td>INV-ZZ-1078045</td>\n",
       "      <td>SCH-ZZ-8346723</td>\n",
       "      <td>ZZ</td>\n",
       "      <td>ZZ20240419BLRHYD3027.0</td>\n",
       "      <td>3027</td>\n",
       "      <td>BAe 146</td>\n",
       "      <td>2024-04-19</td>\n",
       "      <td>2024-04-19 18:48:00</td>\n",
       "      <td>2024-04-20 02:58:00</td>\n",
       "      <td>BLR</td>\n",
       "      <td>...</td>\n",
       "      <td>18</td>\n",
       "      <td>{'F': 5, 'P': 4}</td>\n",
       "      <td>{'C': 7, 'J': 5, 'Z': 5}</td>\n",
       "      <td>{'Q': 8, 'R': 5, 'S': 3, 'T': 3, 'H': 5, 'M': 3}</td>\n",
       "      <td>{'Y': 3, 'A': 3, 'B': 1, 'D': 1, 'E': 1, 'G': ...</td>\n",
       "      <td>1</td>\n",
       "      <td>170</td>\n",
       "      <td>C</td>\n",
       "      <td>0</td>\n",
       "      <td>NaN</td>\n",
       "    </tr>\n",
       "  </tbody>\n",
       "</table>\n",
       "<p>1 rows × 45 columns</p>\n",
       "</div>"
      ],
      "text/plain": [
       "        InventoryId      ScheduleId CarrierCode                 Dep_Key  \\\n",
       "101  INV-ZZ-1078045  SCH-ZZ-8346723          ZZ  ZZ20240419BLRHYD3027.0   \n",
       "\n",
       "     FlightNumber AircraftType DepartureDate   DepartureDateTime  \\\n",
       "101          3027      BAe 146    2024-04-19 2024-04-19 18:48:00   \n",
       "\n",
       "        ArrivalDateTime DepartureAirport  ... EC_AvailableInventory  \\\n",
       "101 2024-04-20 02:58:00              BLR  ...                    18   \n",
       "\n",
       "                FC_CD                     BC_CD  \\\n",
       "101  {'F': 5, 'P': 4}  {'C': 7, 'J': 5, 'Z': 5}   \n",
       "\n",
       "                                                PC_CD  \\\n",
       "101  {'Q': 8, 'R': 5, 'S': 3, 'T': 3, 'H': 5, 'M': 3}   \n",
       "\n",
       "                                                 EC_CD  Bool  \\\n",
       "101  {'Y': 3, 'A': 3, 'B': 1, 'D': 1, 'E': 1, 'G': ...     1   \n",
       "\n",
       "     Flight_Score_100  Quality Score Grade_100  Flight_Score_200  \\\n",
       "101               170                        C                 0   \n",
       "\n",
       "     Quality Score Grade_200  \n",
       "101                      NaN  \n",
       "\n",
       "[1 rows x 45 columns]"
      ]
     },
     "execution_count": 60,
     "metadata": {},
     "output_type": "execute_result"
    }
   ],
   "source": [
    "Available_flights_c1"
   ]
  },
  {
   "cell_type": "code",
   "execution_count": 61,
   "id": "e0d328ca-9faa-4a96-86cc-ff6196a88ca5",
   "metadata": {},
   "outputs": [],
   "source": [
    "filt1 = (df2[f'Quality Score Grade_{cancelled_flights[1]}'] == 'A')\n",
    "filt2 = (df2[f'Quality Score Grade_{cancelled_flights[1]}'] == 'B')\n",
    "filt3 = (df2[f'Quality Score Grade_{cancelled_flights[1]}'] == 'C')\n",
    "filt4 = (df2['Oversold'] < 0)       #Considering only those flights which have vacant seats\n",
    "Available_flights_c2 = df2.loc[(filt1 | filt2 | filt3) & filt4]"
   ]
  },
  {
   "cell_type": "code",
   "execution_count": 62,
   "id": "7318b484-e332-44e2-a408-6cc3047dc697",
   "metadata": {},
   "outputs": [
    {
     "data": {
      "text/html": [
       "<div>\n",
       "<style scoped>\n",
       "    .dataframe tbody tr th:only-of-type {\n",
       "        vertical-align: middle;\n",
       "    }\n",
       "\n",
       "    .dataframe tbody tr th {\n",
       "        vertical-align: top;\n",
       "    }\n",
       "\n",
       "    .dataframe thead th {\n",
       "        text-align: right;\n",
       "    }\n",
       "</style>\n",
       "<table border=\"1\" class=\"dataframe\">\n",
       "  <thead>\n",
       "    <tr style=\"text-align: right;\">\n",
       "      <th></th>\n",
       "      <th>InventoryId</th>\n",
       "      <th>ScheduleId</th>\n",
       "      <th>CarrierCode</th>\n",
       "      <th>Dep_Key</th>\n",
       "      <th>FlightNumber</th>\n",
       "      <th>AircraftType</th>\n",
       "      <th>DepartureDate</th>\n",
       "      <th>DepartureDateTime</th>\n",
       "      <th>ArrivalDateTime</th>\n",
       "      <th>DepartureAirport</th>\n",
       "      <th>...</th>\n",
       "      <th>EC_AvailableInventory</th>\n",
       "      <th>FC_CD</th>\n",
       "      <th>BC_CD</th>\n",
       "      <th>PC_CD</th>\n",
       "      <th>EC_CD</th>\n",
       "      <th>Bool</th>\n",
       "      <th>Flight_Score_100</th>\n",
       "      <th>Quality Score Grade_100</th>\n",
       "      <th>Flight_Score_200</th>\n",
       "      <th>Quality Score Grade_200</th>\n",
       "    </tr>\n",
       "  </thead>\n",
       "  <tbody>\n",
       "    <tr>\n",
       "      <th>201</th>\n",
       "      <td>INV-ZZ-7388012</td>\n",
       "      <td>SCH-ZZ-5716505</td>\n",
       "      <td>ZZ</td>\n",
       "      <td>ZZ20240518HYDAMD4335.0</td>\n",
       "      <td>4335</td>\n",
       "      <td>Airbus A321-200</td>\n",
       "      <td>2024-05-18</td>\n",
       "      <td>2024-05-18 14:19:00</td>\n",
       "      <td>2024-05-19 11:51:00</td>\n",
       "      <td>HYD</td>\n",
       "      <td>...</td>\n",
       "      <td>44</td>\n",
       "      <td>{'F': 12, 'P': 8}</td>\n",
       "      <td>{'C': 16, 'J': 12, 'Z': 12}</td>\n",
       "      <td>{'Q': 18, 'R': 12, 'S': 6, 'T': 6, 'H': 12, 'M...</td>\n",
       "      <td>{'Y': 6, 'A': 6, 'B': 3, 'D': 3, 'E': 3, 'G': ...</td>\n",
       "      <td>1</td>\n",
       "      <td>0</td>\n",
       "      <td>NaN</td>\n",
       "      <td>170</td>\n",
       "      <td>C</td>\n",
       "    </tr>\n",
       "  </tbody>\n",
       "</table>\n",
       "<p>1 rows × 45 columns</p>\n",
       "</div>"
      ],
      "text/plain": [
       "        InventoryId      ScheduleId CarrierCode                 Dep_Key  \\\n",
       "201  INV-ZZ-7388012  SCH-ZZ-5716505          ZZ  ZZ20240518HYDAMD4335.0   \n",
       "\n",
       "     FlightNumber     AircraftType DepartureDate   DepartureDateTime  \\\n",
       "201          4335  Airbus A321-200    2024-05-18 2024-05-18 14:19:00   \n",
       "\n",
       "        ArrivalDateTime DepartureAirport  ... EC_AvailableInventory  \\\n",
       "201 2024-05-19 11:51:00              HYD  ...                    44   \n",
       "\n",
       "                 FC_CD                        BC_CD  \\\n",
       "201  {'F': 12, 'P': 8}  {'C': 16, 'J': 12, 'Z': 12}   \n",
       "\n",
       "                                                 PC_CD  \\\n",
       "201  {'Q': 18, 'R': 12, 'S': 6, 'T': 6, 'H': 12, 'M...   \n",
       "\n",
       "                                                 EC_CD  Bool  \\\n",
       "201  {'Y': 6, 'A': 6, 'B': 3, 'D': 3, 'E': 3, 'G': ...     1   \n",
       "\n",
       "     Flight_Score_100  Quality Score Grade_100  Flight_Score_200  \\\n",
       "201                 0                      NaN               170   \n",
       "\n",
       "     Quality Score Grade_200  \n",
       "201                        C  \n",
       "\n",
       "[1 rows x 45 columns]"
      ]
     },
     "execution_count": 62,
     "metadata": {},
     "output_type": "execute_result"
    }
   ],
   "source": [
    "Available_flights_c2"
   ]
  },
  {
   "cell_type": "markdown",
   "metadata": {},
   "source": [
    "If a third flight is cancelled....."
   ]
  },
  {
   "cell_type": "code",
   "execution_count": 325,
   "id": "98b7d53f-cb18-4bea-91ef-f96ecb27e3c3",
   "metadata": {},
   "outputs": [
    {
     "name": "stdout",
     "output_type": "stream",
     "text": [
      "[[2], [2]]\n",
      "[[101], [201]]\n",
      "[[31], [76]]\n"
     ]
    }
   ],
   "source": [
    "F = []          # 2D Array for storing scores for each alternate flight\n",
    "Av_Fl = []      # 2D Array for storing indices of each alternate flight in the inventory dataframe\n",
    "V_S = []\n",
    "#    F = [[f1, f2, ...], [f1', f2', ...], ...]\n",
    "#Av_Fl = [[i1, i2, ...], [i1', i2', ...], ...]\n",
    "#             c1              c2\n",
    "\n",
    "#Adding scores and indices for alternate flights for each cancelled flights\n",
    "for flight in range(len(cancelled_flights)):\n",
    "    available_flights = globals()[f'Available_flights_c{flight+1}']  # Assuming Available_flights_c1, Available_flights_c2, etc. are defined as dataframes\n",
    "    \n",
    "    F_temp = []      # Temporary list for scores for the current cancelled flight\n",
    "    Av_Fl_temp = []  # Temporary list for indices for the current cancelled flight\n",
    "    V_S_temp = []    #Storing the available seats in each alternate flight\n",
    "\n",
    "    for i in range(len(available_flights)):\n",
    "        ix = available_flights.index[i]\n",
    "        Av_Fl_temp.append(ix)\n",
    "        F_temp.append(df2.loc[ix, f'Quality Score Grade_{cancelled_flights[flight]}'])\n",
    "        V_S_temp.append(-df2.loc[ix, 'Oversold'])\n",
    "    \n",
    "    # Converting Quality Score into numerical scores\n",
    "    F_temp = [4 if grade == 'A' else 3 if grade == 'B' else 2 if grade == 'C' else 1 for grade in F_temp]\n",
    "    \n",
    "    # Appending the temporary lists to the main lists\n",
    "    F.append(F_temp)\n",
    "    Av_Fl.append(Av_Fl_temp)\n",
    "    V_S.append(V_S_temp)\n",
    "\n",
    "# Now F, Av_Fl and V_S contain scores, indices and vacant seats for each cancelled flight\n",
    "\n",
    "print(F)\n",
    "print(Av_Fl)\n",
    "print(V_S)"
   ]
  },
  {
   "cell_type": "markdown",
   "id": "b7750b84",
   "metadata": {},
   "source": [
    "Scaling down the values in V_S(Vacant Seats)"
   ]
  },
  {
   "cell_type": "code",
   "execution_count": 326,
   "id": "76143469-fb44-4c6a-b759-6d2517414d2c",
   "metadata": {},
   "outputs": [
    {
     "name": "stdout",
     "output_type": "stream",
     "text": [
      "[[3.0], [7.0]]\n"
     ]
    }
   ],
   "source": [
    "for j in range(len(V_S)):\n",
    "    for i in range(len(V_S[j])):\n",
    "        V_S[j][i] = V_S[j][i]/10\n",
    "        V_S[j][i] = np.floor(V_S[j][i])   #Floor value so that no. of passengers accommodated\n",
    "print(V_S)                                #in each flight is less than the flight's capacity"
   ]
  },
  {
   "cell_type": "code",
   "execution_count": 67,
   "id": "e9dfd883-ed79-4ff4-8575-847a4a2cb4b5",
   "metadata": {},
   "outputs": [],
   "source": [
    "#We have:\n",
    "#F containing the scores for each alternate flight\n",
    "#Av_Fl containing the index of each alternate flight in the inventory dataframe\n",
    "#V_S containing the number of available seats in each alternating flight\n",
    "#All the above 3 arrays have the same length. The corresponding indices represent the same flights"
   ]
  },
  {
   "cell_type": "code",
   "execution_count": 68,
   "id": "ae0b1dcf-f319-4097-8fc0-722f8fd1f5b2",
   "metadata": {},
   "outputs": [],
   "source": [
    "PNR = 'PNRB-ZZ-20231208_062017.xlsx'     #Importing the PNR Data\n",
    "Pass = 'PNRP-ZZ-20231208_111136.xlsx'    #Importing the Passenger Data"
   ]
  },
  {
   "cell_type": "code",
   "execution_count": 69,
   "id": "e7133e43-ad1f-4654-b19c-1c2b1d6815ca",
   "metadata": {},
   "outputs": [],
   "source": [
    "PNR1 = pd.read_excel(PNR)          \n",
    "Pass1 = pd.read_excel(Pass)"
   ]
  },
  {
   "cell_type": "code",
   "execution_count": 70,
   "id": "2044f4cd-085d-4de4-8807-46545a81e87b",
   "metadata": {},
   "outputs": [],
   "source": [
    "PNR_DF = pd.DataFrame(PNR1)             #Converting excel data into dataframe\n",
    "Pass_DF = pd.DataFrame(Pass1)"
   ]
  },
  {
   "cell_type": "code",
   "execution_count": 71,
   "id": "60c0c276-1e2d-4cca-860c-aab4efeb90e2",
   "metadata": {},
   "outputs": [],
   "source": [
    "Pass_DF['SSR_CODE_CD1'] = Pass_DF['SSR_CODE_CD1'].fillna(0)\n",
    "Pass_DF['TierLevel'] = Pass_DF['TierLevel'].fillna(0)"
   ]
  },
  {
   "cell_type": "markdown",
   "id": "6c204a91",
   "metadata": {},
   "source": [
    "Scoring Passengers"
   ]
  },
  {
   "cell_type": "code",
   "execution_count": 76,
   "id": "f8ea1136-d146-44e3-b62e-49e26416ed75",
   "metadata": {},
   "outputs": [],
   "source": [
    "departure_list = PNR_DF['ORIG_CD'].to_list()\n",
    "arrival_list = PNR_DF['DEST_CD'].to_list()\n",
    "\n",
    "city_pairs = [tuple([departure_list[i], arrival_list[i]]) for i in range(len(departure_list))]\n",
    "\n",
    "fltnum_list = PNR_DF[\"FLT_NUM\"].to_list()\n",
    "\n",
    "citypair_dict = {fltnum_list[i] : city_pairs[i] for i in range(len(city_pairs))}"
   ]
  },
  {
   "cell_type": "code",
   "execution_count": 77,
   "id": "3d42e83a-96fa-4b2b-9e97-278ee34e53ea",
   "metadata": {},
   "outputs": [],
   "source": [
    "paxcnt_wt = 50\n",
    "connect_wt = 100\n",
    "grp_threshold = 7\n",
    "grp_wt = 500\n",
    "class_wt = {\n",
    "    'FirstClass' : 2000, 'BusinessClass' : 1750, \n",
    "    'PremiumEconomyClass' : 1500, 'EconomyClass' : 1250\n",
    "}\n",
    "# The airlines can vary the weights as per their rules set and have the choice to disregard certain factors as per their choice."
   ]
  },
  {
   "cell_type": "code",
   "execution_count": 78,
   "id": "b2b71c20-78ab-43f4-89ce-4de226cabe20",
   "metadata": {},
   "outputs": [],
   "source": [
    "def get_recloc_score(df):\n",
    "    recloc_sclist = []\n",
    "    recloc_score = 0\n",
    "    for i in range(len(df['RECLOC'])):\n",
    "        recloc_score += df['PAX_CNT'][i]*paxcnt_wt + class_wt[df['COS_CD'][i]]\n",
    "        if df['PAX_CNT'][i] >= grp_threshold:\n",
    "            recloc_score += grp_wt\n",
    "        recloc_sclist.append(recloc_score)\n",
    "        recloc_score = 0\n",
    "\n",
    "    df['RECLOC_SCORE'] = recloc_sclist\n",
    "\n",
    "    return df    \n",
    "\n",
    "#Due to multiple passengers having the same recloc, We have split calculating passenger \n",
    "#score into two parts : recloc_Score and passenger_score. The recloc score will initialise\n",
    "#the pax_score variable and build up from there."
   ]
  },
  {
   "cell_type": "code",
   "execution_count": 79,
   "id": "316bdec1-3972-407d-bcfb-ab7863acc115",
   "metadata": {},
   "outputs": [
    {
     "data": {
      "text/html": [
       "<div>\n",
       "<style scoped>\n",
       "    .dataframe tbody tr th:only-of-type {\n",
       "        vertical-align: middle;\n",
       "    }\n",
       "\n",
       "    .dataframe tbody tr th {\n",
       "        vertical-align: top;\n",
       "    }\n",
       "\n",
       "    .dataframe thead th {\n",
       "        text-align: right;\n",
       "    }\n",
       "</style>\n",
       "<table border=\"1\" class=\"dataframe\">\n",
       "  <thead>\n",
       "    <tr style=\"text-align: right;\">\n",
       "      <th></th>\n",
       "      <th>RECLOC</th>\n",
       "      <th>CREATION_DTZ</th>\n",
       "      <th>DEP_KEY</th>\n",
       "      <th>ACTION_CD</th>\n",
       "      <th>COS_CD</th>\n",
       "      <th>SEG_SEQ</th>\n",
       "      <th>SEG_TOTAL</th>\n",
       "      <th>PAX_CNT</th>\n",
       "      <th>CARRIER_CD</th>\n",
       "      <th>FLT_NUM</th>\n",
       "      <th>ORIG_CD</th>\n",
       "      <th>DEST_CD</th>\n",
       "      <th>DEP_DT</th>\n",
       "      <th>DEP_DTML</th>\n",
       "      <th>ARR_DTML</th>\n",
       "      <th>DEP_DTMZ</th>\n",
       "      <th>ARR_DTMZ</th>\n",
       "      <th>RECLOC_SCORE</th>\n",
       "    </tr>\n",
       "  </thead>\n",
       "  <tbody>\n",
       "    <tr>\n",
       "      <th>0</th>\n",
       "      <td>DRGS80</td>\n",
       "      <td>2024-03-02 16:35:00</td>\n",
       "      <td>ZZ20240403BLRCCU2504</td>\n",
       "      <td>GN</td>\n",
       "      <td>FirstClass</td>\n",
       "      <td>1</td>\n",
       "      <td>4</td>\n",
       "      <td>3</td>\n",
       "      <td>ZZ</td>\n",
       "      <td>2504</td>\n",
       "      <td>BLR</td>\n",
       "      <td>CCU</td>\n",
       "      <td>2024-04-03</td>\n",
       "      <td>2024-04-03 15:35:00</td>\n",
       "      <td>2024-04-03 18:17:00</td>\n",
       "      <td>2024-04-03 10:05:00</td>\n",
       "      <td>2024-04-03 12:47:00</td>\n",
       "      <td>2150</td>\n",
       "    </tr>\n",
       "    <tr>\n",
       "      <th>1</th>\n",
       "      <td>YEZQ47</td>\n",
       "      <td>2024-03-02 16:35:00</td>\n",
       "      <td>ZZ20240403BLRCCU2504</td>\n",
       "      <td>GN</td>\n",
       "      <td>FirstClass</td>\n",
       "      <td>1</td>\n",
       "      <td>2</td>\n",
       "      <td>4</td>\n",
       "      <td>ZZ</td>\n",
       "      <td>2504</td>\n",
       "      <td>BLR</td>\n",
       "      <td>CCU</td>\n",
       "      <td>2024-04-03</td>\n",
       "      <td>2024-04-03 15:35:00</td>\n",
       "      <td>2024-04-03 18:17:00</td>\n",
       "      <td>2024-04-03 10:05:00</td>\n",
       "      <td>2024-04-03 12:47:00</td>\n",
       "      <td>2200</td>\n",
       "    </tr>\n",
       "    <tr>\n",
       "      <th>2</th>\n",
       "      <td>JDDM40</td>\n",
       "      <td>2024-03-02 16:35:00</td>\n",
       "      <td>ZZ20240403BLRCCU2504</td>\n",
       "      <td>GN</td>\n",
       "      <td>FirstClass</td>\n",
       "      <td>1</td>\n",
       "      <td>3</td>\n",
       "      <td>2</td>\n",
       "      <td>ZZ</td>\n",
       "      <td>2504</td>\n",
       "      <td>BLR</td>\n",
       "      <td>CCU</td>\n",
       "      <td>2024-04-03</td>\n",
       "      <td>2024-04-03 15:35:00</td>\n",
       "      <td>2024-04-03 18:17:00</td>\n",
       "      <td>2024-04-03 10:05:00</td>\n",
       "      <td>2024-04-03 12:47:00</td>\n",
       "      <td>2100</td>\n",
       "    </tr>\n",
       "    <tr>\n",
       "      <th>3</th>\n",
       "      <td>AVFF16</td>\n",
       "      <td>2024-03-02 16:35:00</td>\n",
       "      <td>ZZ20240403BLRCCU2504</td>\n",
       "      <td>GN</td>\n",
       "      <td>FirstClass</td>\n",
       "      <td>1</td>\n",
       "      <td>4</td>\n",
       "      <td>1</td>\n",
       "      <td>ZZ</td>\n",
       "      <td>2504</td>\n",
       "      <td>BLR</td>\n",
       "      <td>CCU</td>\n",
       "      <td>2024-04-03</td>\n",
       "      <td>2024-04-03 15:35:00</td>\n",
       "      <td>2024-04-03 18:17:00</td>\n",
       "      <td>2024-04-03 10:05:00</td>\n",
       "      <td>2024-04-03 12:47:00</td>\n",
       "      <td>2050</td>\n",
       "    </tr>\n",
       "    <tr>\n",
       "      <th>4</th>\n",
       "      <td>DBLE79</td>\n",
       "      <td>2024-03-02 16:35:00</td>\n",
       "      <td>ZZ20240403BLRCCU2504</td>\n",
       "      <td>GN</td>\n",
       "      <td>FirstClass</td>\n",
       "      <td>1</td>\n",
       "      <td>2</td>\n",
       "      <td>2</td>\n",
       "      <td>ZZ</td>\n",
       "      <td>2504</td>\n",
       "      <td>BLR</td>\n",
       "      <td>CCU</td>\n",
       "      <td>2024-04-03</td>\n",
       "      <td>2024-04-03 15:35:00</td>\n",
       "      <td>2024-04-03 18:17:00</td>\n",
       "      <td>2024-04-03 10:05:00</td>\n",
       "      <td>2024-04-03 12:47:00</td>\n",
       "      <td>2100</td>\n",
       "    </tr>\n",
       "    <tr>\n",
       "      <th>...</th>\n",
       "      <td>...</td>\n",
       "      <td>...</td>\n",
       "      <td>...</td>\n",
       "      <td>...</td>\n",
       "      <td>...</td>\n",
       "      <td>...</td>\n",
       "      <td>...</td>\n",
       "      <td>...</td>\n",
       "      <td>...</td>\n",
       "      <td>...</td>\n",
       "      <td>...</td>\n",
       "      <td>...</td>\n",
       "      <td>...</td>\n",
       "      <td>...</td>\n",
       "      <td>...</td>\n",
       "      <td>...</td>\n",
       "      <td>...</td>\n",
       "      <td>...</td>\n",
       "    </tr>\n",
       "    <tr>\n",
       "      <th>78179</th>\n",
       "      <td>CJEL38</td>\n",
       "      <td>2023-08-20 13:28:00</td>\n",
       "      <td>ZZ20240630AMDBLR4957</td>\n",
       "      <td>HL</td>\n",
       "      <td>EconomyClass</td>\n",
       "      <td>1</td>\n",
       "      <td>4</td>\n",
       "      <td>7</td>\n",
       "      <td>ZZ</td>\n",
       "      <td>4957</td>\n",
       "      <td>AMD</td>\n",
       "      <td>BLR</td>\n",
       "      <td>2024-06-30</td>\n",
       "      <td>2024-06-30 10:19:00</td>\n",
       "      <td>2024-06-30 21:50:00</td>\n",
       "      <td>2024-06-30 04:49:00</td>\n",
       "      <td>2024-06-30 16:20:00</td>\n",
       "      <td>2100</td>\n",
       "    </tr>\n",
       "    <tr>\n",
       "      <th>78180</th>\n",
       "      <td>NDXM23</td>\n",
       "      <td>2023-08-20 13:28:00</td>\n",
       "      <td>ZZ20240630AMDBLR4957</td>\n",
       "      <td>HL</td>\n",
       "      <td>EconomyClass</td>\n",
       "      <td>1</td>\n",
       "      <td>1</td>\n",
       "      <td>9</td>\n",
       "      <td>ZZ</td>\n",
       "      <td>4957</td>\n",
       "      <td>AMD</td>\n",
       "      <td>BLR</td>\n",
       "      <td>2024-06-30</td>\n",
       "      <td>2024-06-30 10:19:00</td>\n",
       "      <td>2024-06-30 21:50:00</td>\n",
       "      <td>2024-06-30 04:49:00</td>\n",
       "      <td>2024-06-30 16:20:00</td>\n",
       "      <td>2200</td>\n",
       "    </tr>\n",
       "    <tr>\n",
       "      <th>78181</th>\n",
       "      <td>RIUQ17</td>\n",
       "      <td>2023-08-20 13:28:00</td>\n",
       "      <td>ZZ20240630AMDBLR4957</td>\n",
       "      <td>HL</td>\n",
       "      <td>EconomyClass</td>\n",
       "      <td>1</td>\n",
       "      <td>4</td>\n",
       "      <td>5</td>\n",
       "      <td>ZZ</td>\n",
       "      <td>4957</td>\n",
       "      <td>AMD</td>\n",
       "      <td>BLR</td>\n",
       "      <td>2024-06-30</td>\n",
       "      <td>2024-06-30 10:19:00</td>\n",
       "      <td>2024-06-30 21:50:00</td>\n",
       "      <td>2024-06-30 04:49:00</td>\n",
       "      <td>2024-06-30 16:20:00</td>\n",
       "      <td>1500</td>\n",
       "    </tr>\n",
       "    <tr>\n",
       "      <th>78182</th>\n",
       "      <td>QLFS50</td>\n",
       "      <td>2023-08-20 13:28:00</td>\n",
       "      <td>ZZ20240630AMDBLR4957</td>\n",
       "      <td>HL</td>\n",
       "      <td>EconomyClass</td>\n",
       "      <td>1</td>\n",
       "      <td>2</td>\n",
       "      <td>1</td>\n",
       "      <td>ZZ</td>\n",
       "      <td>4957</td>\n",
       "      <td>AMD</td>\n",
       "      <td>BLR</td>\n",
       "      <td>2024-06-30</td>\n",
       "      <td>2024-06-30 10:19:00</td>\n",
       "      <td>2024-06-30 21:50:00</td>\n",
       "      <td>2024-06-30 04:49:00</td>\n",
       "      <td>2024-06-30 16:20:00</td>\n",
       "      <td>1300</td>\n",
       "    </tr>\n",
       "    <tr>\n",
       "      <th>78183</th>\n",
       "      <td>RSMB57</td>\n",
       "      <td>2023-08-20 13:28:00</td>\n",
       "      <td>ZZ20240630AMDBLR4957</td>\n",
       "      <td>HL</td>\n",
       "      <td>EconomyClass</td>\n",
       "      <td>1</td>\n",
       "      <td>3</td>\n",
       "      <td>1</td>\n",
       "      <td>ZZ</td>\n",
       "      <td>4957</td>\n",
       "      <td>AMD</td>\n",
       "      <td>BLR</td>\n",
       "      <td>2024-06-30</td>\n",
       "      <td>2024-06-30 10:19:00</td>\n",
       "      <td>2024-06-30 21:50:00</td>\n",
       "      <td>2024-06-30 04:49:00</td>\n",
       "      <td>2024-06-30 16:20:00</td>\n",
       "      <td>1300</td>\n",
       "    </tr>\n",
       "  </tbody>\n",
       "</table>\n",
       "<p>78184 rows × 18 columns</p>\n",
       "</div>"
      ],
      "text/plain": [
       "       RECLOC        CREATION_DTZ               DEP_KEY ACTION_CD  \\\n",
       "0      DRGS80 2024-03-02 16:35:00  ZZ20240403BLRCCU2504        GN   \n",
       "1      YEZQ47 2024-03-02 16:35:00  ZZ20240403BLRCCU2504        GN   \n",
       "2      JDDM40 2024-03-02 16:35:00  ZZ20240403BLRCCU2504        GN   \n",
       "3      AVFF16 2024-03-02 16:35:00  ZZ20240403BLRCCU2504        GN   \n",
       "4      DBLE79 2024-03-02 16:35:00  ZZ20240403BLRCCU2504        GN   \n",
       "...       ...                 ...                   ...       ...   \n",
       "78179  CJEL38 2023-08-20 13:28:00  ZZ20240630AMDBLR4957        HL   \n",
       "78180  NDXM23 2023-08-20 13:28:00  ZZ20240630AMDBLR4957        HL   \n",
       "78181  RIUQ17 2023-08-20 13:28:00  ZZ20240630AMDBLR4957        HL   \n",
       "78182  QLFS50 2023-08-20 13:28:00  ZZ20240630AMDBLR4957        HL   \n",
       "78183  RSMB57 2023-08-20 13:28:00  ZZ20240630AMDBLR4957        HL   \n",
       "\n",
       "             COS_CD  SEG_SEQ  SEG_TOTAL  PAX_CNT CARRIER_CD  FLT_NUM ORIG_CD  \\\n",
       "0        FirstClass        1          4        3         ZZ     2504     BLR   \n",
       "1        FirstClass        1          2        4         ZZ     2504     BLR   \n",
       "2        FirstClass        1          3        2         ZZ     2504     BLR   \n",
       "3        FirstClass        1          4        1         ZZ     2504     BLR   \n",
       "4        FirstClass        1          2        2         ZZ     2504     BLR   \n",
       "...             ...      ...        ...      ...        ...      ...     ...   \n",
       "78179  EconomyClass        1          4        7         ZZ     4957     AMD   \n",
       "78180  EconomyClass        1          1        9         ZZ     4957     AMD   \n",
       "78181  EconomyClass        1          4        5         ZZ     4957     AMD   \n",
       "78182  EconomyClass        1          2        1         ZZ     4957     AMD   \n",
       "78183  EconomyClass        1          3        1         ZZ     4957     AMD   \n",
       "\n",
       "      DEST_CD     DEP_DT            DEP_DTML            ARR_DTML  \\\n",
       "0         CCU 2024-04-03 2024-04-03 15:35:00 2024-04-03 18:17:00   \n",
       "1         CCU 2024-04-03 2024-04-03 15:35:00 2024-04-03 18:17:00   \n",
       "2         CCU 2024-04-03 2024-04-03 15:35:00 2024-04-03 18:17:00   \n",
       "3         CCU 2024-04-03 2024-04-03 15:35:00 2024-04-03 18:17:00   \n",
       "4         CCU 2024-04-03 2024-04-03 15:35:00 2024-04-03 18:17:00   \n",
       "...       ...        ...                 ...                 ...   \n",
       "78179     BLR 2024-06-30 2024-06-30 10:19:00 2024-06-30 21:50:00   \n",
       "78180     BLR 2024-06-30 2024-06-30 10:19:00 2024-06-30 21:50:00   \n",
       "78181     BLR 2024-06-30 2024-06-30 10:19:00 2024-06-30 21:50:00   \n",
       "78182     BLR 2024-06-30 2024-06-30 10:19:00 2024-06-30 21:50:00   \n",
       "78183     BLR 2024-06-30 2024-06-30 10:19:00 2024-06-30 21:50:00   \n",
       "\n",
       "                 DEP_DTMZ            ARR_DTMZ  RECLOC_SCORE  \n",
       "0     2024-04-03 10:05:00 2024-04-03 12:47:00          2150  \n",
       "1     2024-04-03 10:05:00 2024-04-03 12:47:00          2200  \n",
       "2     2024-04-03 10:05:00 2024-04-03 12:47:00          2100  \n",
       "3     2024-04-03 10:05:00 2024-04-03 12:47:00          2050  \n",
       "4     2024-04-03 10:05:00 2024-04-03 12:47:00          2100  \n",
       "...                   ...                 ...           ...  \n",
       "78179 2024-06-30 04:49:00 2024-06-30 16:20:00          2100  \n",
       "78180 2024-06-30 04:49:00 2024-06-30 16:20:00          2200  \n",
       "78181 2024-06-30 04:49:00 2024-06-30 16:20:00          1500  \n",
       "78182 2024-06-30 04:49:00 2024-06-30 16:20:00          1300  \n",
       "78183 2024-06-30 04:49:00 2024-06-30 16:20:00          1300  \n",
       "\n",
       "[78184 rows x 18 columns]"
      ]
     },
     "execution_count": 79,
     "metadata": {},
     "output_type": "execute_result"
    }
   ],
   "source": [
    "get_recloc_score(PNR_DF)"
   ]
  },
  {
   "cell_type": "code",
   "execution_count": 80,
   "id": "33a39d9f-2996-4e85-9591-8e69eb5830ba",
   "metadata": {},
   "outputs": [],
   "source": [
    "recloc_dict = {PNR_DF['RECLOC'][i] : PNR_DF['RECLOC_SCORE'][i] for i in range(len(PNR_DF['RECLOC']))}"
   ]
  },
  {
   "cell_type": "code",
   "execution_count": 81,
   "id": "b8eec625-a224-4afc-a32a-fa397ea08fd7",
   "metadata": {},
   "outputs": [],
   "source": [
    "loyalty_dict = {'Platinum' : 1800, 'Gold' : 1600, 'Silver' : 1500, 0 : 0}\n",
    "ssr_wt = 200\n",
    "# The airlines can vary the weights as per their rules set and have the choice to disregard certain factors as per their choice."
   ]
  },
  {
   "cell_type": "code",
   "execution_count": 82,
   "id": "6494c14b-ab1b-41f5-aa4a-57e3fdb0c956",
   "metadata": {},
   "outputs": [],
   "source": [
    "def get_pnr_score(df):\n",
    "    pnr_sclist = []\n",
    "    pnr_score = 0\n",
    "    for i in range(len(df['RECLOC'])):\n",
    "        pnr_score += recloc_dict[df['RECLOC'][i]] + loyalty_dict[df['TierLevel'][i]]\n",
    "        if df['SSR_CODE_CD1'][i] != 0:\n",
    "            pnr_score += ssr_wt\n",
    "        \n",
    "        pnr_sclist.append(pnr_score)\n",
    "        pnr_score = 0\n",
    "\n",
    "    df['PNR_SCORE'] = pnr_sclist\n",
    "\n",
    "    return df "
   ]
  },
  {
   "cell_type": "code",
   "execution_count": 83,
   "id": "8d25c818-3af0-4cd8-90f5-dee1a0dfceba",
   "metadata": {},
   "outputs": [
    {
     "data": {
      "text/html": [
       "<div>\n",
       "<style scoped>\n",
       "    .dataframe tbody tr th:only-of-type {\n",
       "        vertical-align: middle;\n",
       "    }\n",
       "\n",
       "    .dataframe tbody tr th {\n",
       "        vertical-align: top;\n",
       "    }\n",
       "\n",
       "    .dataframe thead th {\n",
       "        text-align: right;\n",
       "    }\n",
       "</style>\n",
       "<table border=\"1\" class=\"dataframe\">\n",
       "  <thead>\n",
       "    <tr style=\"text-align: right;\">\n",
       "      <th></th>\n",
       "      <th>RECLOC</th>\n",
       "      <th>CREATION_DTZ</th>\n",
       "      <th>CUSTOMER_ID</th>\n",
       "      <th>LAST_NAME</th>\n",
       "      <th>FIRST_NAME</th>\n",
       "      <th>NATIONALITY</th>\n",
       "      <th>DOB</th>\n",
       "      <th>CONTACT_PH_NUM</th>\n",
       "      <th>CONTACT_EMAIL</th>\n",
       "      <th>DOC_TYPE</th>\n",
       "      <th>DOC_ID</th>\n",
       "      <th>SPECIAL_NAME_CD2</th>\n",
       "      <th>SSR_CODE_CD1</th>\n",
       "      <th>SPECIAL_NAME_CD1</th>\n",
       "      <th>FF_NUM</th>\n",
       "      <th>TierLevel</th>\n",
       "      <th>PNR_SCORE</th>\n",
       "    </tr>\n",
       "  </thead>\n",
       "  <tbody>\n",
       "    <tr>\n",
       "      <th>0</th>\n",
       "      <td>DRGS80</td>\n",
       "      <td>2024-03-02 16:35:00</td>\n",
       "      <td>VNQ9748</td>\n",
       "      <td>Mitchell</td>\n",
       "      <td>Christina</td>\n",
       "      <td>CA</td>\n",
       "      <td>2003-06-01</td>\n",
       "      <td>1-769-506-8397</td>\n",
       "      <td>christinamitchell1@example.com</td>\n",
       "      <td>Driving License</td>\n",
       "      <td>299196000000</td>\n",
       "      <td>NaN</td>\n",
       "      <td>0</td>\n",
       "      <td>ADT</td>\n",
       "      <td>4.276771e+09</td>\n",
       "      <td>Gold</td>\n",
       "      <td>3750</td>\n",
       "    </tr>\n",
       "    <tr>\n",
       "      <th>1</th>\n",
       "      <td>DRGS80</td>\n",
       "      <td>2024-03-02 16:35:00</td>\n",
       "      <td>BAP1926</td>\n",
       "      <td>Parker</td>\n",
       "      <td>Rebecca</td>\n",
       "      <td>CA</td>\n",
       "      <td>2015-08-18</td>\n",
       "      <td>1-947-699-5143</td>\n",
       "      <td>rebeccaparker2@example.com</td>\n",
       "      <td>Passport</td>\n",
       "      <td>11901984430</td>\n",
       "      <td>NaN</td>\n",
       "      <td>0</td>\n",
       "      <td>CHD</td>\n",
       "      <td>8.493470e+09</td>\n",
       "      <td>Platinum</td>\n",
       "      <td>3950</td>\n",
       "    </tr>\n",
       "    <tr>\n",
       "      <th>2</th>\n",
       "      <td>DRGS80</td>\n",
       "      <td>2024-03-02 16:35:00</td>\n",
       "      <td>ALV9938</td>\n",
       "      <td>Swamy</td>\n",
       "      <td>Vardaniya</td>\n",
       "      <td>IN</td>\n",
       "      <td>1945-02-23</td>\n",
       "      <td>6102977873</td>\n",
       "      <td>vardaniyaswamy3@example.com</td>\n",
       "      <td>Govt-Id</td>\n",
       "      <td>4283733463</td>\n",
       "      <td>NaN</td>\n",
       "      <td>0</td>\n",
       "      <td>S65</td>\n",
       "      <td>6.731611e+09</td>\n",
       "      <td>Platinum</td>\n",
       "      <td>3950</td>\n",
       "    </tr>\n",
       "    <tr>\n",
       "      <th>3</th>\n",
       "      <td>YEZQ47</td>\n",
       "      <td>2024-03-02 16:35:00</td>\n",
       "      <td>CEU7075</td>\n",
       "      <td>Edwin</td>\n",
       "      <td>Stuvan</td>\n",
       "      <td>IN</td>\n",
       "      <td>2003-06-18</td>\n",
       "      <td>5791967032</td>\n",
       "      <td>stuvanedwin1@example.com</td>\n",
       "      <td>Passport</td>\n",
       "      <td>139267560</td>\n",
       "      <td>NaN</td>\n",
       "      <td>0</td>\n",
       "      <td>ADT</td>\n",
       "      <td>7.214819e+09</td>\n",
       "      <td>Platinum</td>\n",
       "      <td>4000</td>\n",
       "    </tr>\n",
       "    <tr>\n",
       "      <th>4</th>\n",
       "      <td>YEZQ47</td>\n",
       "      <td>2024-03-02 16:35:00</td>\n",
       "      <td>WFG9647</td>\n",
       "      <td>Hernandez</td>\n",
       "      <td>Andrea</td>\n",
       "      <td>CA</td>\n",
       "      <td>1969-07-03</td>\n",
       "      <td>+1 (378) 291-0325</td>\n",
       "      <td>andreahernandez2@example.com</td>\n",
       "      <td>Govt-Id</td>\n",
       "      <td>5459762750</td>\n",
       "      <td>NaN</td>\n",
       "      <td>0</td>\n",
       "      <td>ADT</td>\n",
       "      <td>NaN</td>\n",
       "      <td>0</td>\n",
       "      <td>2200</td>\n",
       "    </tr>\n",
       "    <tr>\n",
       "      <th>...</th>\n",
       "      <td>...</td>\n",
       "      <td>...</td>\n",
       "      <td>...</td>\n",
       "      <td>...</td>\n",
       "      <td>...</td>\n",
       "      <td>...</td>\n",
       "      <td>...</td>\n",
       "      <td>...</td>\n",
       "      <td>...</td>\n",
       "      <td>...</td>\n",
       "      <td>...</td>\n",
       "      <td>...</td>\n",
       "      <td>...</td>\n",
       "      <td>...</td>\n",
       "      <td>...</td>\n",
       "      <td>...</td>\n",
       "      <td>...</td>\n",
       "    </tr>\n",
       "    <tr>\n",
       "      <th>152508</th>\n",
       "      <td>RIUQ17</td>\n",
       "      <td>2023-08-20 13:28:00</td>\n",
       "      <td>NQF8798</td>\n",
       "      <td>Shankar</td>\n",
       "      <td>Divit</td>\n",
       "      <td>IN</td>\n",
       "      <td>1981-08-22</td>\n",
       "      <td>(347) 703-8971</td>\n",
       "      <td>divitshankar3@example.com</td>\n",
       "      <td>Driving License</td>\n",
       "      <td>169860000000</td>\n",
       "      <td>NaN</td>\n",
       "      <td>0</td>\n",
       "      <td>ADT</td>\n",
       "      <td>NaN</td>\n",
       "      <td>0</td>\n",
       "      <td>1500</td>\n",
       "    </tr>\n",
       "    <tr>\n",
       "      <th>152509</th>\n",
       "      <td>RIUQ17</td>\n",
       "      <td>2023-08-20 13:28:00</td>\n",
       "      <td>RJI4602</td>\n",
       "      <td>Henderson</td>\n",
       "      <td>Autumn</td>\n",
       "      <td>US</td>\n",
       "      <td>2013-09-14</td>\n",
       "      <td>(371) 218-4438</td>\n",
       "      <td>autumnhenderson4@example.com</td>\n",
       "      <td>Govt-Id</td>\n",
       "      <td>7100653216</td>\n",
       "      <td>NaN</td>\n",
       "      <td>0</td>\n",
       "      <td>CHD</td>\n",
       "      <td>5.882689e+09</td>\n",
       "      <td>Gold</td>\n",
       "      <td>3100</td>\n",
       "    </tr>\n",
       "    <tr>\n",
       "      <th>152510</th>\n",
       "      <td>RIUQ17</td>\n",
       "      <td>2023-08-20 13:28:00</td>\n",
       "      <td>VPC0920</td>\n",
       "      <td>Ramanathan</td>\n",
       "      <td>Hridaan</td>\n",
       "      <td>IN</td>\n",
       "      <td>1944-09-06</td>\n",
       "      <td>(437) 839-4309</td>\n",
       "      <td>hridaanramanathan5@example.com</td>\n",
       "      <td>Driving License</td>\n",
       "      <td>715385534</td>\n",
       "      <td>NaN</td>\n",
       "      <td>0</td>\n",
       "      <td>S65</td>\n",
       "      <td>NaN</td>\n",
       "      <td>0</td>\n",
       "      <td>1500</td>\n",
       "    </tr>\n",
       "    <tr>\n",
       "      <th>152511</th>\n",
       "      <td>QLFS50</td>\n",
       "      <td>2023-08-20 13:28:00</td>\n",
       "      <td>BIB2224</td>\n",
       "      <td>Baria</td>\n",
       "      <td>Taimur</td>\n",
       "      <td>IN</td>\n",
       "      <td>2010-06-19</td>\n",
       "      <td>(771) 284-3525</td>\n",
       "      <td>taimurbaria1@example.com</td>\n",
       "      <td>Govt-Id</td>\n",
       "      <td>4431751697</td>\n",
       "      <td>NaN</td>\n",
       "      <td>0</td>\n",
       "      <td>CHD</td>\n",
       "      <td>3.701390e+09</td>\n",
       "      <td>Gold</td>\n",
       "      <td>2900</td>\n",
       "    </tr>\n",
       "    <tr>\n",
       "      <th>152512</th>\n",
       "      <td>RSMB57</td>\n",
       "      <td>2023-08-20 13:28:00</td>\n",
       "      <td>WWZ4650</td>\n",
       "      <td>Swanson</td>\n",
       "      <td>Michael</td>\n",
       "      <td>US</td>\n",
       "      <td>1985-04-05</td>\n",
       "      <td>(945) 565-9777</td>\n",
       "      <td>michaelswanson1@example.com</td>\n",
       "      <td>Govt-Id</td>\n",
       "      <td>1966570122</td>\n",
       "      <td>NRSA</td>\n",
       "      <td>0</td>\n",
       "      <td>ADT</td>\n",
       "      <td>4.330241e+09</td>\n",
       "      <td>Platinum</td>\n",
       "      <td>3100</td>\n",
       "    </tr>\n",
       "  </tbody>\n",
       "</table>\n",
       "<p>152513 rows × 17 columns</p>\n",
       "</div>"
      ],
      "text/plain": [
       "        RECLOC        CREATION_DTZ CUSTOMER_ID   LAST_NAME FIRST_NAME  \\\n",
       "0       DRGS80 2024-03-02 16:35:00     VNQ9748    Mitchell  Christina   \n",
       "1       DRGS80 2024-03-02 16:35:00     BAP1926      Parker    Rebecca   \n",
       "2       DRGS80 2024-03-02 16:35:00     ALV9938       Swamy  Vardaniya   \n",
       "3       YEZQ47 2024-03-02 16:35:00     CEU7075       Edwin     Stuvan   \n",
       "4       YEZQ47 2024-03-02 16:35:00     WFG9647   Hernandez     Andrea   \n",
       "...        ...                 ...         ...         ...        ...   \n",
       "152508  RIUQ17 2023-08-20 13:28:00     NQF8798     Shankar      Divit   \n",
       "152509  RIUQ17 2023-08-20 13:28:00     RJI4602   Henderson     Autumn   \n",
       "152510  RIUQ17 2023-08-20 13:28:00     VPC0920  Ramanathan    Hridaan   \n",
       "152511  QLFS50 2023-08-20 13:28:00     BIB2224       Baria     Taimur   \n",
       "152512  RSMB57 2023-08-20 13:28:00     WWZ4650     Swanson    Michael   \n",
       "\n",
       "       NATIONALITY        DOB     CONTACT_PH_NUM  \\\n",
       "0               CA 2003-06-01     1-769-506-8397   \n",
       "1               CA 2015-08-18     1-947-699-5143   \n",
       "2               IN 1945-02-23         6102977873   \n",
       "3               IN 2003-06-18         5791967032   \n",
       "4               CA 1969-07-03  +1 (378) 291-0325   \n",
       "...            ...        ...                ...   \n",
       "152508          IN 1981-08-22     (347) 703-8971   \n",
       "152509          US 2013-09-14     (371) 218-4438   \n",
       "152510          IN 1944-09-06     (437) 839-4309   \n",
       "152511          IN 2010-06-19     (771) 284-3525   \n",
       "152512          US 1985-04-05     (945) 565-9777   \n",
       "\n",
       "                         CONTACT_EMAIL         DOC_TYPE        DOC_ID  \\\n",
       "0       christinamitchell1@example.com  Driving License  299196000000   \n",
       "1           rebeccaparker2@example.com         Passport   11901984430   \n",
       "2          vardaniyaswamy3@example.com          Govt-Id    4283733463   \n",
       "3             stuvanedwin1@example.com         Passport     139267560   \n",
       "4         andreahernandez2@example.com          Govt-Id    5459762750   \n",
       "...                                ...              ...           ...   \n",
       "152508       divitshankar3@example.com  Driving License  169860000000   \n",
       "152509    autumnhenderson4@example.com          Govt-Id    7100653216   \n",
       "152510  hridaanramanathan5@example.com  Driving License     715385534   \n",
       "152511        taimurbaria1@example.com          Govt-Id    4431751697   \n",
       "152512     michaelswanson1@example.com          Govt-Id    1966570122   \n",
       "\n",
       "       SPECIAL_NAME_CD2 SSR_CODE_CD1 SPECIAL_NAME_CD1        FF_NUM TierLevel  \\\n",
       "0                   NaN            0              ADT  4.276771e+09      Gold   \n",
       "1                   NaN            0              CHD  8.493470e+09  Platinum   \n",
       "2                   NaN            0              S65  6.731611e+09  Platinum   \n",
       "3                   NaN            0              ADT  7.214819e+09  Platinum   \n",
       "4                   NaN            0              ADT           NaN         0   \n",
       "...                 ...          ...              ...           ...       ...   \n",
       "152508              NaN            0              ADT           NaN         0   \n",
       "152509              NaN            0              CHD  5.882689e+09      Gold   \n",
       "152510              NaN            0              S65           NaN         0   \n",
       "152511              NaN            0              CHD  3.701390e+09      Gold   \n",
       "152512             NRSA            0              ADT  4.330241e+09  Platinum   \n",
       "\n",
       "        PNR_SCORE  \n",
       "0            3750  \n",
       "1            3950  \n",
       "2            3950  \n",
       "3            4000  \n",
       "4            2200  \n",
       "...           ...  \n",
       "152508       1500  \n",
       "152509       3100  \n",
       "152510       1500  \n",
       "152511       2900  \n",
       "152512       3100  \n",
       "\n",
       "[152513 rows x 17 columns]"
      ]
     },
     "execution_count": 83,
     "metadata": {},
     "output_type": "execute_result"
    }
   ],
   "source": [
    "get_pnr_score(Pass_DF)"
   ]
  },
  {
   "cell_type": "code",
   "execution_count": 112,
   "id": "a04b0733-f9f5-45f6-bd38-c1f7c37526d5",
   "metadata": {},
   "outputs": [],
   "source": [
    "#Function that returns the PNRs that are affected based on flight no., and departure date of the cancelled flight\n",
    "def Affected_PNR(FLT_NUM, DEP_DATE, PNR_DF):\n",
    "    AffectedPNR = PNR_DF.loc[(PNR_DF['FLT_NUM'] == FLT_NUM) & (PNR_DF['DEP_DT']==DEP_DATE)]\n",
    "    return AffectedPNR"
   ]
  },
  {
   "cell_type": "code",
   "execution_count": 113,
   "id": "27717a72-eb85-44e7-a044-05a6f6178a7a",
   "metadata": {},
   "outputs": [],
   "source": [
    "#Dataframe consisting of affected PNRs\n",
    "aff_c1 = Affected_PNR(df2.loc[cancelled_flights[0],'FlightNumber'], df2.loc[cancelled_flights[0],'DepartureDate'], PNR_DF)\n",
    "aff_c2 = Affected_PNR(df2.loc[cancelled_flights[1],'FlightNumber'], df2.loc[cancelled_flights[1],'DepartureDate'], PNR_DF)\n",
    "#If a 3rd flight is cancelled\n",
    "#aff = Affected_PNR(df2.loc[cancelled_flights[2],'FlightNumber'], df2.loc[cancelled_flights[2],'DepartureDate'], PNR_DF)"
   ]
  },
  {
   "cell_type": "code",
   "execution_count": 114,
   "id": "0b99a844-d362-43ac-8996-44ff20fa4f67",
   "metadata": {},
   "outputs": [],
   "source": [
    "#Dataframe consisting of affected passengers\n",
    "aff_pax_c1 = pd.merge(Pass_DF, aff_c1[['RECLOC']], on='RECLOC', how='inner')\n",
    "aff_pax_c2 = pd.merge(Pass_DF, aff_c2[['RECLOC']], on='RECLOC', how='inner')\n",
    "#aff_pax_c3 = pd.merge(Pass_DF, aff_c3[['RECLOC']], on='RECLOC', how='inner')"
   ]
  },
  {
   "cell_type": "code",
   "execution_count": 115,
   "id": "69742ea4-0044-4d89-9b29-fec480d194d1",
   "metadata": {},
   "outputs": [
    {
     "name": "stdout",
     "output_type": "stream",
     "text": [
      "183 passengers are affected\n"
     ]
    }
   ],
   "source": [
    "print(f'{len(aff_pax_c1) + len(aff_pax_c2)} passengers are affected')"
   ]
  },
  {
   "cell_type": "markdown",
   "id": "42610d08",
   "metadata": {},
   "source": [
    "Grouping passengers based on PNR_Score"
   ]
  },
  {
   "cell_type": "code",
   "execution_count": 116,
   "id": "2da54a56-fb7b-4288-83af-477ee40cb796",
   "metadata": {},
   "outputs": [],
   "source": [
    "def group_passengers_by_score(df):\n",
    "    for i in range(len(df)):\n",
    "        score = df.loc[i, 'PNR_SCORE']\n",
    "        \n",
    "        if score >= 3500:\n",
    "            df.loc[i, 'PNR_SCORE'] = 5\n",
    "        elif score >= 3000:\n",
    "            df.loc[i, 'PNR_SCORE'] = 4\n",
    "        elif score >= 2500:\n",
    "            df.loc[i, 'PNR_SCORE'] = 3\n",
    "        elif score >= 2000:\n",
    "            df.loc[i, 'PNR_SCORE'] = 2\n",
    "        else:\n",
    "            df.loc[i, 'PNR_SCORE'] = 1\n",
    "            "
   ]
  },
  {
   "cell_type": "code",
   "execution_count": 117,
   "id": "563c8964-25a2-4122-9886-d3064f19ebe8",
   "metadata": {},
   "outputs": [],
   "source": [
    "# Applying the function to each dataframe\n",
    "group_passengers_by_score(aff_pax_c1)\n",
    "group_passengers_by_score(aff_pax_c2)\n",
    "# Add more lines if you have more dataframes\n",
    "\n",
    "# Now aff_pax_c1 and aff_pax_c2 (and others if applicable) are modified with grouped PNR_SCORE"
   ]
  },
  {
   "cell_type": "code",
   "execution_count": 141,
   "id": "839220e7-285d-4c24-9225-0b8b95ceaad8",
   "metadata": {},
   "outputs": [],
   "source": [
    "value_counts = aff_pax_c1['PNR_SCORE'].value_counts()\n",
    "# Convert the Series to a DataFrame\n",
    "freq_df_c1 = pd.DataFrame({'PNR_SCORE': value_counts.index, 'Frequency': value_counts.values})\n",
    "\n",
    "value_counts = aff_pax_c2['PNR_SCORE'].value_counts()\n",
    "# Convert the Series to a DataFrame\n",
    "freq_df_c2 = pd.DataFrame({'PNR_SCORE': value_counts.index, 'Frequency': value_counts.values})\n",
    "\n",
    "#value_counts = aff_pax_c3['PNR_SCORE'].value_counts()\n",
    "## Convert the Series to a DataFrame\n",
    "#freq_df_c3 = pd.DataFrame({'PNR_SCORE': value_counts.index, 'Frequency': value_counts.values})"
   ]
  },
  {
   "cell_type": "code",
   "execution_count": 143,
   "id": "b6fb55ac-69a9-4f18-bd09-fb30a67b0668",
   "metadata": {},
   "outputs": [
    {
     "data": {
      "text/html": [
       "<div>\n",
       "<style scoped>\n",
       "    .dataframe tbody tr th:only-of-type {\n",
       "        vertical-align: middle;\n",
       "    }\n",
       "\n",
       "    .dataframe tbody tr th {\n",
       "        vertical-align: top;\n",
       "    }\n",
       "\n",
       "    .dataframe thead th {\n",
       "        text-align: right;\n",
       "    }\n",
       "</style>\n",
       "<table border=\"1\" class=\"dataframe\">\n",
       "  <thead>\n",
       "    <tr style=\"text-align: right;\">\n",
       "      <th></th>\n",
       "      <th>PNR_SCORE</th>\n",
       "      <th>Frequency</th>\n",
       "    </tr>\n",
       "  </thead>\n",
       "  <tbody>\n",
       "    <tr>\n",
       "      <th>0</th>\n",
       "      <td>5</td>\n",
       "      <td>36</td>\n",
       "    </tr>\n",
       "    <tr>\n",
       "      <th>1</th>\n",
       "      <td>1</td>\n",
       "      <td>30</td>\n",
       "    </tr>\n",
       "    <tr>\n",
       "      <th>2</th>\n",
       "      <td>4</td>\n",
       "      <td>29</td>\n",
       "    </tr>\n",
       "    <tr>\n",
       "      <th>3</th>\n",
       "      <td>2</td>\n",
       "      <td>16</td>\n",
       "    </tr>\n",
       "    <tr>\n",
       "      <th>4</th>\n",
       "      <td>3</td>\n",
       "      <td>7</td>\n",
       "    </tr>\n",
       "  </tbody>\n",
       "</table>\n",
       "</div>"
      ],
      "text/plain": [
       "   PNR_SCORE  Frequency\n",
       "0          5         36\n",
       "1          1         30\n",
       "2          4         29\n",
       "3          2         16\n",
       "4          3          7"
      ]
     },
     "execution_count": 143,
     "metadata": {},
     "output_type": "execute_result"
    }
   ],
   "source": [
    "freq_df_c2"
   ]
  },
  {
   "cell_type": "code",
   "execution_count": 327,
   "id": "c0259d7d-821d-45de-ab6d-3a397cc320a5",
   "metadata": {},
   "outputs": [],
   "source": [
    "def ScoreAndFreq(df, Score, G):\n",
    "    Score_temp = []\n",
    "    G_temp = []\n",
    "    for i in range(len(df)):\n",
    "        Score_temp.append(df.loc[i, 'PNR_SCORE'])\n",
    "        G_temp.append(df.loc[i, 'Frequency'])\n",
    "    Score.append(Score_temp)\n",
    "    G.append(G_temp)\n",
    "    return Score, G"
   ]
  },
  {
   "cell_type": "code",
   "execution_count": 328,
   "id": "9ce8199d-7e0c-403b-9033-871f316b09e4",
   "metadata": {},
   "outputs": [],
   "source": [
    "(Score, G) = ScoreAndFreq(freq_df_c1, [], [])\n",
    "(Score, G) = ScoreAndFreq(freq_df_c2, Score, G)\n",
    "#ScoreAndFreq(freq_df_c3)"
   ]
  },
  {
   "cell_type": "code",
   "execution_count": 329,
   "id": "76212dcb-216b-4afa-bd6c-b217c1f43f86",
   "metadata": {},
   "outputs": [
    {
     "data": {
      "text/plain": [
       "[[4, 1, 5, 2, 3], [5, 1, 4, 2, 3]]"
      ]
     },
     "execution_count": 329,
     "metadata": {},
     "output_type": "execute_result"
    }
   ],
   "source": [
    "Score "
   ]
  },
  {
   "cell_type": "code",
   "execution_count": 330,
   "id": "a62aede4-4212-4770-8914-318c489346b9",
   "metadata": {},
   "outputs": [
    {
     "data": {
      "text/plain": [
       "[[23, 19, 17, 4, 2], [36, 30, 29, 16, 7]]"
      ]
     },
     "execution_count": 330,
     "metadata": {},
     "output_type": "execute_result"
    }
   ],
   "source": [
    "G "
   ]
  },
  {
   "cell_type": "code",
   "execution_count": 331,
   "id": "9b8d4c2b-eff0-4dea-ab59-c24fc25e7935",
   "metadata": {},
   "outputs": [
    {
     "name": "stdout",
     "output_type": "stream",
     "text": [
      "[[3.0, 2.0, 2.0, 1.0, 1.0], [4.0, 3.0, 3.0, 2.0, 1.0]]\n"
     ]
    }
   ],
   "source": [
    "#Scaling down the values in G\n",
    "for j in range(len(G)):\n",
    "    for i in range(len(G[j])):\n",
    "        G[j][i] = G[j][i]/10\n",
    "        G[j][i] = np.ceil(G[j][i])   #Ceil value so that number of passengers accommodated in\n",
    "                                     #a flight is always less than than the flight's capacity\n",
    "print(G)"
   ]
  },
  {
   "cell_type": "markdown",
   "id": "9afd3467",
   "metadata": {},
   "source": [
    "Solving our QUBO problem using Quantum Solvers"
   ]
  },
  {
   "cell_type": "code",
   "execution_count": 160,
   "id": "dbb1e9f9-b3b3-44ed-b2f7-68b5cdd3da4f",
   "metadata": {},
   "outputs": [],
   "source": [
    "#!pip install qiskit\n",
    "#!pip install qiskit_algorithms\n",
    "#!pip install qiskit_optimization"
   ]
  },
  {
   "cell_type": "code",
   "execution_count": 161,
   "id": "1d4ee8cf-fd43-4324-a7d3-c5780c4b3ea0",
   "metadata": {},
   "outputs": [],
   "source": [
    "from qiskit_algorithms import QAOA, NumPyMinimumEigensolver\n",
    "from qiskit_algorithms.optimizers import COBYLA, SPSA\n",
    "from qiskit.primitives import Sampler\n",
    "from qiskit_optimization.algorithms import (\n",
    "    MinimumEigenOptimizer,\n",
    "    SolutionSample,\n",
    "    OptimizationResultStatus,\n",
    ")\n",
    "from qiskit_optimization import QuadraticProgram\n",
    "from qiskit.visualization import plot_histogram\n",
    "from typing import List, Tuple\n",
    "import numpy as np\n",
    "from qiskit_optimization.translators import from_docplex_mp\n",
    "from qiskit_optimization.converters import LinearInequalityToPenalty, QuadraticProgramToQubo"
   ]
  },
  {
   "cell_type": "code",
   "execution_count": 332,
   "id": "fc0d0e24-d431-4957-aec7-bce675dcc25f",
   "metadata": {},
   "outputs": [
    {
     "name": "stdout",
     "output_type": "stream",
     "text": [
      "Av_Fl = [[101], [201]]\n",
      "V_S = [[3.0], [7.0]]\n",
      "F = [[2], [2]]\n",
      "Score = [[4, 1, 5, 2, 3], [5, 1, 4, 2, 3]]\n",
      "G = [[3.0, 2.0, 2.0, 1.0, 1.0], [4.0, 3.0, 3.0, 2.0, 1.0]]\n"
     ]
    }
   ],
   "source": [
    "print(f'Av_Fl = {Av_Fl}')\n",
    "print(f'V_S = {V_S}')\n",
    "print(f'F = {F}')\n",
    "print(f'Score = {Score}')\n",
    "print(f'G = {G}')"
   ]
  },
  {
   "cell_type": "code",
   "execution_count": 337,
   "id": "cf2572bc-084c-443c-adc6-ed3d6c902b9d",
   "metadata": {},
   "outputs": [
    {
     "name": "stdout",
     "output_type": "stream",
     "text": [
      "Problem name: \n",
      "\n",
      "Maximize\n",
      "  8*x_0_0_0_0 + 2*x_0_0_1_0 + 10*x_0_0_2_0 + 4*x_0_0_3_0 + 6*x_0_0_4_0\n",
      "  + 10*x_1_1_0_0 + 2*x_1_1_1_0 + 8*x_1_1_2_0 + 4*x_1_1_3_0 + 6*x_1_1_4_0\n",
      "\n",
      "Subject to\n",
      "  Linear constraints (2)\n",
      "    3*x_0_0_0_0 + 2*x_0_0_1_0 + 2*x_0_0_2_0 + x_0_0_3_0 + x_0_0_4_0 <= 3  'c0'\n",
      "    4*x_1_1_0_0 + 3*x_1_1_1_0 + 3*x_1_1_2_0 + 2*x_1_1_3_0 + x_1_1_4_0\n",
      "    <= 7  'c1'\n",
      "\n",
      "  Binary variables (10)\n",
      "    x_0_0_0_0 x_0_0_1_0 x_0_0_2_0 x_0_0_3_0 x_0_0_4_0 x_1_1_0_0 x_1_1_1_0\n",
      "    x_1_1_2_0 x_1_1_3_0 x_1_1_4_0\n",
      "\n"
     ]
    }
   ],
   "source": [
    "#Formulating the problem\n",
    "qp = QuadraticProgram()\n",
    "\n",
    "#Defining variables\n",
    "for k in range(len(Score)):         #len(F) = len(Score)\n",
    "    for j in range(len(F[k])):\n",
    "        for i in range(len(Score[k])):\n",
    "            qp.binary_var(name=f'x_{k}_{k}_{i}_{j}')\n",
    "\n",
    "#Objective function\n",
    "linear_dict = {\n",
    "    f'x_{k}_{k}_{i}_{j}':F[k][j] * Score[k][i]\n",
    "    for k in range(len(Score))\n",
    "    for j in range(len(F[k]))\n",
    "    for i in range(len(Score[k])) \n",
    "}\n",
    "qp.maximize(linear=linear_dict)\n",
    "\n",
    "#Add constraints\n",
    "#Passenger Constraint (Each passenger(group here) is assigned one flight)\n",
    "#for k in range(len(Score)):\n",
    "#    for i in range(len(Score[k])):\n",
    "#        constraint1 = {\n",
    "#            f'x_{k}_{k}_{i}_{j}': 1 \n",
    "#            for j in range(len(F[k]))\n",
    "#        }\n",
    "#        qp.linear_constraint(linear=constraint1, sense='<=', rhs=1)\n",
    "\n",
    "#Flight Constraint (Flights shouldn't accommodate more than it can carry/fly)\n",
    "for k in range(len(F)):\n",
    "    for j in range(len(F[k])):\n",
    "        constraint2 = {\n",
    "            f'x_{k}_{k}_{i}_{j}': G[k][i] \n",
    "            for i in range(len(Score[k]))\n",
    "        }\n",
    "        qp.linear_constraint(linear=constraint2, sense='<=', rhs=V_S[k][j])\n",
    "\n",
    "print(qp.prettyprint())"
   ]
  },
  {
   "cell_type": "code",
   "execution_count": 338,
   "id": "15154387-1587-48d0-bd1c-67a0db9faa32",
   "metadata": {},
   "outputs": [],
   "source": [
    "qaoa_mes = QAOA(sampler=Sampler(), optimizer=SPSA(), reps=1)"
   ]
  },
  {
   "cell_type": "code",
   "execution_count": 339,
   "id": "04740642-262c-4f75-be1e-93801a489ef5",
   "metadata": {},
   "outputs": [],
   "source": [
    "qaoa = MinimumEigenOptimizer(qaoa_mes)  # using QAOA"
   ]
  },
  {
   "cell_type": "code",
   "execution_count": 340,
   "id": "0853cbc8-ded8-4902-be41-b88ad9bd2d3b",
   "metadata": {},
   "outputs": [
    {
     "name": "stdout",
     "output_type": "stream",
     "text": [
      "objective function value: 36.0\n",
      "variable values: x_0_0_0_0=0.0, x_0_0_1_0=0.0, x_0_0_2_0=1.0, x_0_0_3_0=0.0, x_0_0_4_0=1.0, x_1_1_0_0=1.0, x_1_1_1_0=0.0, x_1_1_2_0=0.0, x_1_1_3_0=1.0, x_1_1_4_0=1.0\n",
      "status: SUCCESS\n"
     ]
    }
   ],
   "source": [
    "qaoa_result = qaoa.solve(qp)\n",
    "print(qaoa_result.prettyprint())"
   ]
  },
  {
   "cell_type": "code",
   "execution_count": 360,
   "id": "f8b6f571-6968-4ae9-a1e5-f4599adb7410",
   "metadata": {},
   "outputs": [
    {
     "name": "stdout",
     "output_type": "stream",
     "text": [
      "variable order: ['x_0_0_0_0', 'x_0_0_1_0', 'x_0_0_2_0', 'x_0_0_3_0', 'x_0_0_4_0', 'x_1_1_0_0', 'x_1_1_1_0', 'x_1_1_2_0', 'x_1_1_3_0', 'x_1_1_4_0']\n"
     ]
    }
   ],
   "source": [
    "print(\"variable order:\", [var.name for var in qaoa_result.variables])\n",
    "X = []\n",
    "for i in range(min(4, len(qaoa_result.samples))):\n",
    "    sample = qaoa_result.samples[i]\n",
    "\n",
    "    # Extract 'x' array from the sample\n",
    "    x_array = sample.x\n",
    "    X.append(x_array[:])   #Omitting the slack variables"
   ]
  },
  {
   "cell_type": "markdown",
   "id": "a4bbddbc",
   "metadata": {},
   "source": [
    "List that contains the first 4 optimal solutions\n"
   ]
  },
  {
   "cell_type": "code",
   "execution_count": 362,
   "id": "f5ecc6fb-5eeb-4984-9ed7-dd7c1e78cabc",
   "metadata": {},
   "outputs": [
    {
     "data": {
      "text/plain": [
       "array([0., 0., 1., 0., 1., 1., 0., 0., 1., 1.])"
      ]
     },
     "execution_count": 362,
     "metadata": {},
     "output_type": "execute_result"
    }
   ],
   "source": [
    "#Anslyzing first solution\n",
    "n=1\n",
    "X[n-1]"
   ]
  },
  {
   "cell_type": "code",
   "execution_count": 363,
   "id": "92fb3bcf-ecb4-4d81-8660-777daa93bdeb",
   "metadata": {},
   "outputs": [],
   "source": [
    "aff_pax_c1['Alt_Fli'] = 'NaN'      #New column for storing the assigned alternate flight to passengers\n",
    "aff_pax_c2['Alt_Fli'] = 'NaN'\n",
    "#aff_pax_c3['Alt_Fli'] = 'NaN'"
   ]
  },
  {
   "cell_type": "code",
   "execution_count": 365,
   "id": "da0c9af9-5072-4240-a73d-23f5866f4f3b",
   "metadata": {},
   "outputs": [
    {
     "name": "stdout",
     "output_type": "stream",
     "text": [
      "Group 3 is assigned to Flight 1\n",
      "Group 5 is assigned to Flight 1\n"
     ]
    }
   ],
   "source": [
    "lt = len(X[n-1])\n",
    "#Cancelled flight 1\n",
    "lt1 = len(Score[0])*len(F[0])\n",
    "for i in range(lt1):\n",
    "    if X[n-1][i] == 1:\n",
    "        alt_flight_number = (i // len(Score[0])) + 1\n",
    "        group_index = (i % len(Score[0])) + 1\n",
    "        assignment_info = f\"Group {group_index} is assigned to Flight {alt_flight_number}\" \n",
    "        print(assignment_info)\n",
    "        condition = aff_pax_c1['PNR_SCORE'] == Score[0][group_index - 1]\n",
    "        aff_pax_c1.loc[condition, 'Alt_Fli'] = Av_Fl[0][alt_flight_number - 1]  "
   ]
  },
  {
   "cell_type": "code",
   "execution_count": 370,
   "id": "fb5f22f5-74f8-4e90-843e-4e09274d1fa1",
   "metadata": {},
   "outputs": [
    {
     "name": "stdout",
     "output_type": "stream",
     "text": [
      "Group 1 is assigned to Flight 1\n",
      "Group 4 is assigned to Flight 1\n",
      "Group 5 is assigned to Flight 1\n"
     ]
    }
   ],
   "source": [
    "#Cancelled flight 2\n",
    "lt2 = len(Score[1])*len(F[1])\n",
    "j = 0\n",
    "for i in range(lt1, lt1 + lt2):\n",
    "    if X[n-1][i] == 1:\n",
    "        alt_flight_number = (j // len(Score[1])) + 1\n",
    "        group_index = (j % len(Score[1])) + 1\n",
    "        assignment_info = f\"Group {group_index} is assigned to Flight {alt_flight_number}\" \n",
    "        print(assignment_info)\n",
    "        condition = aff_pax_c2['PNR_SCORE'] == Score[1][group_index - 1]\n",
    "        aff_pax_c2.loc[condition, 'Alt_Fli'] = Av_Fl[1][alt_flight_number - 1] \n",
    "    j = j + 1"
   ]
  },
  {
   "cell_type": "code",
   "execution_count": null,
   "id": "2567eae5-c885-4c35-a631-be18881b76b5",
   "metadata": {},
   "outputs": [],
   "source": [
    "#Cancelled flight 3\n",
    "#lt3 = len(Score[2])*len(F[2])\n",
    "#for i in range(lt2, lt2 + lt3):\n",
    "#    j = 0\n",
    "#    if X[n-1][i] == 1:\n",
    "#        alt_flight_number = (j // len(Score[2])) + 1\n",
    "#        group_index = (j % len(Score[2])) + 1\n",
    "#        assignment_info = f\"Group {group_index} is assigned to Flight {alt_flight_number}\" \n",
    "#        print(assignment_info)\n",
    "#        condition = aff_pax_c3['PNR_SCORE'] == Score[2][group_index - 1]\n",
    "#        aff_pax_c3.loc[condition, 'Alt_Fli'] = Av_Fl[2][alt_flight_number - 1] \n",
    "#    j = j + 1"
   ]
  },
  {
   "cell_type": "code",
   "execution_count": 371,
   "id": "40842b3e-f5ed-4c12-ac9c-be8c8a8fee65",
   "metadata": {},
   "outputs": [],
   "source": [
    "#Importing class from PNR Data to Passenger Data\n",
    "aff_pax_c1['Class'] = 'NaN'\n",
    "aff_pax_c2['Class'] = 'NaN'\n",
    "\n",
    "for i in range(len(aff_c1)):\n",
    "    recloc_aff = aff_c1.loc[aff_c1.index[i], 'RECLOC']\n",
    "    class_aff = aff_c1.loc[aff_c1.index[i], 'COS_CD']\n",
    "\n",
    "    aff_pax_c1.loc[aff_pax_c1['RECLOC'] == recloc_aff, 'Class'] = class_aff\n",
    "\n",
    "for i in range(len(aff_c2)):\n",
    "    recloc_aff = aff_c2.loc[aff_c2.index[i], 'RECLOC']\n",
    "    class_aff = aff_c2.loc[aff_c2.index[i], 'COS_CD']\n",
    "\n",
    "    aff_pax_c2.loc[aff_pax_c2['RECLOC'] == recloc_aff, 'Class'] = class_aff\n",
    "\n",
    "#aff_pax_c3['Class'] = 'NaN'\n",
    "#for i in range(len(aff_c3)):\n",
    "#    recloc_aff = aff_c3.loc[aff_c3.index[i], 'RECLOC']\n",
    "#    class_aff = aff_c3.loc[aff_c3.index[i], 'COS_CD']\n",
    "\n",
    "#    aff_pax_c3.loc[aff_pax_c3['RECLOC'] == recloc_aff, 'Class'] = class_aff"
   ]
  },
  {
   "cell_type": "code",
   "execution_count": 374,
   "id": "b9d5b9e6-1b38-4b4a-bea9-218ae7eb998c",
   "metadata": {},
   "outputs": [
    {
     "data": {
      "text/plain": [
       "Alt_Fli\n",
       "NaN    46\n",
       "101    19\n",
       "Name: count, dtype: int64"
      ]
     },
     "execution_count": 374,
     "metadata": {},
     "output_type": "execute_result"
    }
   ],
   "source": [
    "aff_pax_c1['Alt_Fli'].value_counts()  "
   ]
  },
  {
   "cell_type": "code",
   "execution_count": 375,
   "id": "bbe96fb6-0d57-435f-b50a-fba4af1c5c20",
   "metadata": {},
   "outputs": [
    {
     "data": {
      "text/plain": [
       "Alt_Fli\n",
       "NaN    59\n",
       "201    59\n",
       "Name: count, dtype: int64"
      ]
     },
     "execution_count": 375,
     "metadata": {},
     "output_type": "execute_result"
    }
   ],
   "source": [
    "aff_pax_c2['Alt_Fli'].value_counts() "
   ]
  },
  {
   "cell_type": "code",
   "execution_count": 376,
   "id": "3747c338-23b1-4d27-8fed-8aa367770929",
   "metadata": {},
   "outputs": [],
   "source": [
    "aff_pax_c1['Assigned Class'] = ''     #New column for storing the newly assigned class in alternate flights\n",
    "aff_pax_c2['Assigned Class'] = ''\n",
    "#aff_pax_c3['Assigned Class'] = ''"
   ]
  },
  {
   "cell_type": "code",
   "execution_count": 377,
   "id": "407560cd-7353-497d-875f-ce40bca6b4fa",
   "metadata": {},
   "outputs": [
    {
     "name": "stdout",
     "output_type": "stream",
     "text": [
      "78 passengers out of 183 were reaccommodated\n"
     ]
    }
   ],
   "source": [
    "filt = (aff_pax_c1['Alt_Fli'] != 'NaN')\n",
    "Reaccommodated_List_c1 = aff_pax_c1.loc[filt] #Dataframe that contains the passengers who were rescheduled\n",
    "\n",
    "filt = (aff_pax_c2['Alt_Fli'] != 'NaN')\n",
    "Reaccommodated_List_c2 = aff_pax_c2.loc[filt] #Dataframe that contains the passengers who were rescheduled\n",
    "\n",
    "filt = (aff_pax_c1['Alt_Fli'] == 'NaN')\n",
    "Exception_List_c1 = aff_pax_c1.loc[filt] #Dataframe that contains the passengers who couldn't be rescheduled\n",
    "\n",
    "filt = (aff_pax_c2['Alt_Fli'] == 'NaN')\n",
    "Exception_List_c2 = aff_pax_c2.loc[filt] #Dataframe that contains the passengers who couldn't be rescheduled\n",
    "\n",
    "Reaccommodated_List = pd.concat([Reaccommodated_List_c1, Reaccommodated_List_c2], ignore_index=True) \n",
    "\n",
    "Exception_List = pd.concat([Exception_List_c1, Exception_List_c2], ignore_index=True)\n",
    "\n",
    "print(f'{len(Reaccommodated_List)} passengers out of {len(Reaccommodated_List) + len(Exception_List)} were reaccommodated')"
   ]
  },
  {
   "cell_type": "markdown",
   "id": "e8ce67e7",
   "metadata": {},
   "source": [
    "Class Assignment"
   ]
  },
  {
   "cell_type": "code",
   "execution_count": 378,
   "id": "18579e8a-fb14-4469-8471-95b3729ac91f",
   "metadata": {},
   "outputs": [],
   "source": [
    "# Assign classes based on 'Score' and class limits\n",
    "def assign_class(row):\n",
    "     global class_count\n",
    "     for category, limit in class_limits.items():\n",
    "           if class_count[category] < limit:\n",
    "               class_count[category] += 1\n",
    "               return category\n",
    "     return None"
   ]
  },
  {
   "cell_type": "code",
   "execution_count": 379,
   "id": "2c0f5a7f-db4c-409a-bb03-440cda2c3aaf",
   "metadata": {},
   "outputs": [],
   "source": [
    "#C1"
   ]
  },
  {
   "cell_type": "code",
   "execution_count": 380,
   "id": "c0fbc33f-3805-4baf-8d0d-b31d1b47b0b3",
   "metadata": {},
   "outputs": [],
   "source": [
    "#Alternate flight 1\n",
    "f = 1\n",
    "filt = (aff_pax_c1['Alt_Fli'] == Av_Fl[0][f-1])\n",
    "filtered_c1_f1 = aff_pax_c1.loc[filt]\n",
    "\n",
    "filt = (aff_pax_c1['Alt_Fli'] == Av_Fl[0][f-1])\n",
    "filtered_pass_data_c1_f1 = aff_pax_c1.loc[filt]"
   ]
  },
  {
   "cell_type": "code",
   "execution_count": 381,
   "id": "b81b6f16-c2db-431b-8784-66daeddd1c10",
   "metadata": {},
   "outputs": [],
   "source": [
    "#Assigning class based on PNR scores\n",
    "# Sort the DataFrame based on 'Score' in descending order\n",
    "filtered_pass_data_c1_f1 = filtered_pass_data_c1_f1.sort_values(by='PNR_SCORE', ascending=False)\n",
    "\n",
    "# Define class categories and corresponding limits\n",
    "class_categories = ['FirstClass', 'BusinessClass', 'PremiumEconomyClass', 'EconomyClass']\n",
    "class_limits = {\n",
    "    'FirstClass': df2.loc[Av_Fl[0][f-1], 'FC_Oversold'], \n",
    "    'BusinessClass': df2.loc[Av_Fl[0][f-1], 'BC_Oversold'], \n",
    "    'PremiumEconomyClass': df2.loc[Av_Fl[0][f-1], 'PC_Oversold'], \n",
    "    'EconomyClass': df2.loc[Av_Fl[0][f-1], 'EC_Oversold']} \n",
    "\n",
    "# Initialize count for each class\n",
    "class_count = {category: 0 for category in class_categories}\n",
    "\n",
    "# Create a new column 'Assigned Class'\n",
    "filtered_pass_data_c1_f1['Assigned Class'] = filtered_pass_data_c1_f1.apply(assign_class, axis=1)"
   ]
  },
  {
   "cell_type": "code",
   "execution_count": 382,
   "id": "1337ae2f-e16e-4d1e-b93e-24cd0ce09e60",
   "metadata": {},
   "outputs": [],
   "source": [
    "#Alternate flight 2\n",
    "#f = 2\n",
    "#filt = (aff_pax_c1['Alt_Fli'] == Av_Fl[0][f-1])\n",
    "#filtered_c1_f2 = aff_pax_c1.loc[filt]\n",
    "\n",
    "#filt = (aff_pax_c1['Alt_Fli'] == Av_Fl[0][f-1])\n",
    "#filtered_pass_data_c1_f2 = aff_pax_c1.loc[filt]"
   ]
  },
  {
   "cell_type": "code",
   "execution_count": 383,
   "id": "d8c47710-8d8a-464c-912a-27ca8daed985",
   "metadata": {},
   "outputs": [],
   "source": [
    "#Assigning class based on PNR scores\n",
    "# Sort the DataFrame based on 'Score' in descending order\n",
    "#filtered_pass_data_c1_f2 = filtered_pass_data_c1_f2.sort_values(by='PNR_SCORE', ascending=False)\n",
    "\n",
    "# Define class categories and corresponding limits\n",
    "#class_categories = ['FirstClass', 'BusinessClass', 'PremiumEconomyClass', 'EconomyClass']\n",
    "#class_limits = {\n",
    "#    'FirstClass': df2.loc[Av_Fl[0][f-1], 'FC_Oversold'], \n",
    "#    'BusinessClass': df2.loc[Av_Fl[0][f-1], 'BC_Oversold'], \n",
    "#    'PremiumEconomyClass': df2.loc[Av_Fl[0][f-1], 'PC_Oversold'], \n",
    "#    'EconomyClass': df2.loc[Av_Fl[0][f-1], 'EC_Oversold']} \n",
    "\n",
    "# Initialize count for each class\n",
    "#class_count = {category: 0 for category in class_categories}\n",
    "\n",
    "# Create a new column 'Assigned Class'\n",
    "#filtered_pass_data_c1_f2['Assigned Class'] = filtered_pass_data_c1_f2.apply(assign_class, axis=1)"
   ]
  },
  {
   "cell_type": "code",
   "execution_count": 384,
   "id": "b23bc5cc-b2b3-4c03-a438-e3d9e19671c9",
   "metadata": {},
   "outputs": [],
   "source": [
    "#Passengers who were alloted the same class in flight 1\n",
    "filt = (filtered_pass_data_c1_f1['Class'] == filtered_pass_data_c1_f1['Assigned Class'])\n",
    "same_allotment_c1_f1 = filtered_pass_data_c1_f1.loc[filt]  \n",
    "\n",
    "#Passengers who were alloted the same class in flight 2\n",
    "#filt = (filtered_pass_data_c1_f2['Class'] == filtered_pass_data_c1_f2['Assigned Class'])\n",
    "#same_allotment_2 = filtered_pass_data_c1_f1.loc[filt]"
   ]
  },
  {
   "cell_type": "code",
   "execution_count": 385,
   "id": "989a6e28-780b-4ea4-9026-1c30b9904cec",
   "metadata": {},
   "outputs": [],
   "source": [
    "#Passengers who were downgraded "
   ]
  },
  {
   "cell_type": "code",
   "execution_count": 386,
   "id": "bf340631-5937-4133-97f4-1343af1a3ddf",
   "metadata": {},
   "outputs": [],
   "source": [
    "#Flight 1"
   ]
  },
  {
   "cell_type": "code",
   "execution_count": 387,
   "id": "0ccfa3b1-582f-4bc1-9f88-81901db3c58f",
   "metadata": {},
   "outputs": [],
   "source": [
    "filt1 = (filtered_pass_data_c1_f1['Class'] == 'FirstClass')\n",
    "filt2 = (filtered_pass_data_c1_f1['Assigned Class'] == 'BusinessClass')\n",
    "filt3 = (filtered_pass_data_c1_f1['Assigned Class'] == 'PremiumEconomyClass')\n",
    "filt4 = (filtered_pass_data_c1_f1['Assigned Class'] == 'EconomyClass')\n",
    "FC_dn_c1_f1 = filtered_pass_data_c1_f1.loc[filt1 & (filt2 | filt3| filt4)]\n",
    "\n",
    "filt2 = (filtered_pass_data_c1_f1['Class'] == 'BusinessClass')\n",
    "filt3 = (filtered_pass_data_c1_f1['Assigned Class'] == 'PremiumEconomyClass')\n",
    "filt4 = (filtered_pass_data_c1_f1['Assigned Class'] == 'EconomyClass')\n",
    "BC_dn_c1_f1 = filtered_pass_data_c1_f1.loc[filt2 & (filt3 | filt4)]\n",
    "\n",
    "filt3 = (filtered_pass_data_c1_f1['Class'] == 'PremiumEconomyClass')\n",
    "filt4 = (filtered_pass_data_c1_f1['Assigned Class'] == 'EconomyClass')\n",
    "PC_dn_c1_f1 = filtered_pass_data_c1_f1.loc[filt3 & (filt4)]"
   ]
  },
  {
   "cell_type": "code",
   "execution_count": 388,
   "id": "0fbf37be-b896-42f5-ab1e-0ede5948d64a",
   "metadata": {},
   "outputs": [],
   "source": [
    "#Flight 2"
   ]
  },
  {
   "cell_type": "code",
   "execution_count": 389,
   "id": "30c9e6ba-3441-431e-9675-9f5acc36878c",
   "metadata": {},
   "outputs": [],
   "source": [
    "#filt1 = (filtered_pass_data_c1_f2['Class'] == 'FirstClass')\n",
    "#filt2 = (filtered_pass_data_c1_f2['Assigned Class'] == 'BusinessClass')\n",
    "#filt3 = (filtered_pass_data_c1_f2['Assigned Class'] == 'PremiumEconomyClass')\n",
    "#filt4 = (filtered_pass_data_c1_f2['Assigned Class'] == 'EconomyClass')\n",
    "#FC_dn_c1_f2 = filtered_pass_data_c1_f2.loc[filt1 & (filt2 | filt3| filt4)]\n",
    "\n",
    "#filt2 = (filtered_pass_data_c1_f2['Class'] == 'BusinessClass')\n",
    "#filt3 = (filtered_pass_data_c1_f2['Assigned Class'] == 'PremiumEconomyClass')\n",
    "#filt4 = (filtered_pass_data_c1_f2['Assigned Class'] == 'EconomyClass')\n",
    "#BC_dn_c1_f2 = filtered_pass_data_c1_f2.loc[filt2 & (filt3 | filt4)]\n",
    "\n",
    "#filt3 = (filtered_pass_data_c1_f2['Class'] == 'PremiumEconomyClass')\n",
    "#filt4 = (filtered_pass_data_c1_f2['Assigned Class'] == 'EconomyClass')\n",
    "#PC_dn_c1_f2 = filtered_pass_data_c1_f2.loc[filt3 & (filt4)]"
   ]
  },
  {
   "cell_type": "code",
   "execution_count": 390,
   "id": "50dbcfb7-8757-44ed-98d7-0359e8bf9a12",
   "metadata": {},
   "outputs": [],
   "source": [
    "#Passengers who were upgraded "
   ]
  },
  {
   "cell_type": "code",
   "execution_count": 391,
   "id": "23555758-d517-4943-baf9-bb36ec122e10",
   "metadata": {},
   "outputs": [],
   "source": [
    "#Flight 1"
   ]
  },
  {
   "cell_type": "code",
   "execution_count": 392,
   "id": "6164d1a5-70a2-466f-8686-e55d2547c495",
   "metadata": {},
   "outputs": [],
   "source": [
    "filt1 = (filtered_pass_data_c1_f1['Assigned Class'] == 'FirstClass')\n",
    "filt2 = (filtered_pass_data_c1_f1['Assigned Class'] == 'BusinessClass')\n",
    "filt3 = (filtered_pass_data_c1_f1['Assigned Class'] == 'PremiumEconomyClass')\n",
    "filt4 = (filtered_pass_data_c1_f1['Class'] == 'EconomyClass')\n",
    "EC_up_c1_f1 = filtered_pass_data_c1_f1.loc[filt4 & (filt1 | filt2| filt3)]\n",
    "\n",
    "filt1 = (filtered_pass_data_c1_f1['Assigned Class'] == 'FirstClass')\n",
    "filt2 = (filtered_pass_data_c1_f1['Assigned Class'] == 'BusinessClass')\n",
    "filt3 = (filtered_pass_data_c1_f1['Class'] == 'PremiumEconomyClass')\n",
    "PC_up_c1_f1 = filtered_pass_data_c1_f1.loc[filt3 & (filt1 | filt2)]\n",
    "\n",
    "filt1 = (filtered_pass_data_c1_f1['Assigned Class'] == 'FirstClass')\n",
    "filt2 = (filtered_pass_data_c1_f1['Class'] == 'BusinessClass')\n",
    "BC_up_c1_f1 = filtered_pass_data_c1_f1.loc[filt2 & filt1]"
   ]
  },
  {
   "cell_type": "code",
   "execution_count": 393,
   "id": "891b1036-69e7-45bd-ac53-e7849ffc1054",
   "metadata": {},
   "outputs": [],
   "source": [
    "#Flight 2"
   ]
  },
  {
   "cell_type": "code",
   "execution_count": 394,
   "id": "838cf8aa-977d-4e9c-80b9-c6c11c8ad4bc",
   "metadata": {},
   "outputs": [],
   "source": [
    "#filt1 = (filtered_pass_data_c1_f2['Assigned Class'] == 'FirstClass')\n",
    "#filt2 = (filtered_pass_data_c1_f2['Assigned Class'] == 'BusinessClass')\n",
    "#filt3 = (filtered_pass_data_c1_f2['Assigned Class'] == 'PremiumEconomyClass')\n",
    "#filt4 = (filtered_pass_data_c1_f2['Class'] == 'EconomyClass')\n",
    "#EC_up_c1_f2 = filtered_pass_data_c1_f2.loc[filt4 & (filt1 | filt2| filt3)]\n",
    "\n",
    "#filt1 = (filtered_pass_data_c1_f2['Assigned Class'] == 'FirstClass')\n",
    "#filt2 = (filtered_pass_data_c1_f2['Assigned Class'] == 'BusinessClass')\n",
    "#filt3 = (filtered_pass_data_c1_f2['Class'] == 'PremiumEconomyClass')\n",
    "#PC_up_c1_f2 = filtered_pass_data_c1_f2.loc[filt3 & (filt1 | filt2)]\n",
    "\n",
    "#filt1 = (filtered_pass_data_c1_f2['Assigned Class'] == 'FirstClass')\n",
    "#filt2 = (filtered_pass_data_c1_f2['Class'] == 'BusinessClass')\n",
    "#BC_up_c1_f2 = filtered_pass_data_c1_f2.loc[filt2 & filt1]"
   ]
  },
  {
   "cell_type": "code",
   "execution_count": 395,
   "id": "f3e9aad7-416f-40b7-b93b-bc9d3f9370d4",
   "metadata": {},
   "outputs": [
    {
     "name": "stdout",
     "output_type": "stream",
     "text": [
      "1 passengers were allotted the same class they applied for\n",
      "10 passengers were downgraded\n",
      "8 passengers were upgraded\n"
     ]
    }
   ],
   "source": [
    "print(f\"{len(same_allotment_c1_f1)} passengers were allotted the same class they applied for\")\n",
    "print(f\"{len(FC_dn_c1_f1) + len(BC_dn_c1_f1) + len(PC_dn_c1_f1)} passengers were downgraded\")\n",
    "print(f\"{len(EC_up_c1_f1) + len(PC_up_c1_f1) + len(BC_up_c1_f1)} passengers were upgraded\")"
   ]
  },
  {
   "cell_type": "code",
   "execution_count": 396,
   "id": "92bc2320-7fe9-4c32-a4c9-cf9c930bcc01",
   "metadata": {},
   "outputs": [],
   "source": [
    "#C2"
   ]
  },
  {
   "cell_type": "code",
   "execution_count": 397,
   "id": "d270a348-ac2b-4ce8-880d-449520f4217d",
   "metadata": {},
   "outputs": [],
   "source": [
    "#Alternate flight 1\n",
    "f = 1\n",
    "filt = (aff_pax_c2['Alt_Fli'] == Av_Fl[1][f-1])\n",
    "filtered_c2_f1 = aff_pax_c2.loc[filt]\n",
    "\n",
    "filt = (aff_pax_c2['Alt_Fli'] == Av_Fl[1][f-1])\n",
    "filtered_pass_data_c2_f1 = aff_pax_c2.loc[filt]"
   ]
  },
  {
   "cell_type": "code",
   "execution_count": 398,
   "id": "93a54da0-97d1-4dd9-b2cd-c23671d65533",
   "metadata": {},
   "outputs": [],
   "source": [
    "#Assigning class based on PNR scores\n",
    "# Sort the DataFrame based on 'Score' in descending order\n",
    "filtered_pass_data_c2_f1 = filtered_pass_data_c2_f1.sort_values(by='PNR_SCORE', ascending=False)\n",
    "\n",
    "# Define class categories and corresponding limits\n",
    "class_categories = ['FirstClass', 'BusinessClass', 'PremiumEconomyClass', 'EconomyClass']\n",
    "class_limits = {\n",
    "    'FirstClass': df2.loc[Av_Fl[1][f-1], 'FC_Oversold'], \n",
    "    'BusinessClass': df2.loc[Av_Fl[1][f-1], 'BC_Oversold'], \n",
    "    'PremiumEconomyClass': df2.loc[Av_Fl[1][f-1], 'PC_Oversold'], \n",
    "    'EconomyClass': df2.loc[Av_Fl[1][f-1], 'EC_Oversold']} \n",
    "\n",
    "# Initialize count for each class\n",
    "class_count = {category: 0 for category in class_categories}\n",
    "\n",
    "# Create a new column 'Assigned Class'\n",
    "filtered_pass_data_c2_f1['Assigned Class'] = filtered_pass_data_c2_f1.apply(assign_class, axis=1)"
   ]
  },
  {
   "cell_type": "code",
   "execution_count": 399,
   "id": "c39bb52f-9dde-47f0-8f44-a06391c321f8",
   "metadata": {},
   "outputs": [],
   "source": [
    "#Alternate flight 2\n",
    "#f = 2\n",
    "#filt = (aff_pax_c2['Alt_Fli'] == Av_Fl[1][f-1])\n",
    "#filtered_c2_f2 = aff_pax_c2.loc[filt]\n",
    "\n",
    "#filt = (aff_pax_c2['Alt_Fli'] == Av_Fl[1][f-1])\n",
    "#filtered_pass_data_c2_f2 = aff_pax_c2.loc[filt]"
   ]
  },
  {
   "cell_type": "code",
   "execution_count": 400,
   "id": "409057dd-eeea-4880-93cc-77d200af672b",
   "metadata": {},
   "outputs": [],
   "source": [
    "#Assigning class based on PNR scores\n",
    "# Sort the DataFrame based on 'Score' in descending order\n",
    "#filtered_pass_data_c2_f2 = filtered_pass_data_c2_f2.sort_values(by='PNR_SCORE', ascending=False)\n",
    "\n",
    "# Define class categories and corresponding limits\n",
    "#class_categories = ['FirstClass', 'BusinessClass', 'PremiumEconomyClass', 'EconomyClass']\n",
    "#class_limits = {\n",
    "#    'FirstClass': df2.loc[Av_Fl[1][f-1], 'FC_Oversold'], \n",
    "#    'BusinessClass': df2.loc[Av_Fl[1][f-1], 'BC_Oversold'], \n",
    "#    'PremiumEconomyClass': df2.loc[Av_Fl[1][f-1], 'PC_Oversold'], \n",
    "#    'EconomyClass': df2.loc[Av_Fl[1][f-1], 'EC_Oversold']} \n",
    "\n",
    "# Initialize count for each class\n",
    "#class_count = {category: 0 for category in class_categories}\n",
    "\n",
    "# Create a new column 'Assigned Class'\n",
    "#filtered_pass_data_c2_f2['Assigned Class'] = filtered_pass_data_c2_f2.apply(assign_class, axis=1)"
   ]
  },
  {
   "cell_type": "code",
   "execution_count": 401,
   "id": "93ddeb4b-57dd-4c7c-8fdc-a51f84d7b155",
   "metadata": {},
   "outputs": [],
   "source": [
    "#Passengers who were alloted the same class in flight 1\n",
    "filt = (filtered_pass_data_c2_f1['Class'] == filtered_pass_data_c2_f1['Assigned Class'])\n",
    "same_allotment_c2_f1 = filtered_pass_data_c2_f1.loc[filt]  \n",
    "\n",
    "#Passengers who were alloted the same class in flight 2\n",
    "#filt = (filtered_pass_data_c1_f2['Class'] == filtered_pass_data_c1_f2['Assigned Class'])\n",
    "#same_allotment_2 = filtered_pass_data_c1_f1.loc[filt]"
   ]
  },
  {
   "cell_type": "markdown",
   "id": "29673925",
   "metadata": {},
   "source": [
    "Passengers who were downgraded "
   ]
  },
  {
   "cell_type": "code",
   "execution_count": 403,
   "id": "f9dc7dd3-1ff3-4736-b02c-21cbed4b56c3",
   "metadata": {},
   "outputs": [],
   "source": [
    "#Flight 1"
   ]
  },
  {
   "cell_type": "code",
   "execution_count": 404,
   "id": "4ae2ce3e-ceac-4f98-b124-1474be72e0b9",
   "metadata": {},
   "outputs": [],
   "source": [
    "filt1 = (filtered_pass_data_c2_f1['Class'] == 'FirstClass')\n",
    "filt2 = (filtered_pass_data_c2_f1['Assigned Class'] == 'BusinessClass')\n",
    "filt3 = (filtered_pass_data_c2_f1['Assigned Class'] == 'PremiumEconomyClass')\n",
    "filt4 = (filtered_pass_data_c2_f1['Assigned Class'] == 'EconomyClass')\n",
    "FC_dn_c2_f1 = filtered_pass_data_c2_f1.loc[filt1 & (filt2 | filt3| filt4)]\n",
    "\n",
    "filt2 = (filtered_pass_data_c2_f1['Class'] == 'BusinessClass')\n",
    "filt3 = (filtered_pass_data_c2_f1['Assigned Class'] == 'PremiumEconomyClass')\n",
    "filt4 = (filtered_pass_data_c2_f1['Assigned Class'] == 'EconomyClass')\n",
    "BC_dn_c2_f1 = filtered_pass_data_c2_f1.loc[filt2 & (filt3 | filt4)]\n",
    "\n",
    "filt3 = (filtered_pass_data_c2_f1['Class'] == 'PremiumEconomyClass')\n",
    "filt4 = (filtered_pass_data_c2_f1['Assigned Class'] == 'EconomyClass')\n",
    "PC_dn_c2_f1 = filtered_pass_data_c2_f1.loc[filt3 & (filt4)]"
   ]
  },
  {
   "cell_type": "code",
   "execution_count": 405,
   "id": "8ba38643-5bf9-4175-a3f6-071fc69bfb70",
   "metadata": {},
   "outputs": [],
   "source": [
    "#Flight 2"
   ]
  },
  {
   "cell_type": "code",
   "execution_count": 406,
   "id": "2ed5e70c-9272-4af4-b254-75ce003a7c7a",
   "metadata": {},
   "outputs": [],
   "source": [
    "#filt1 = (filtered_pass_data_c2_f2['Class'] == 'FirstClass')\n",
    "#filt2 = (filtered_pass_data_c2_f2['Assigned Class'] == 'BusinessClass')\n",
    "#filt3 = (filtered_pass_data_c2_f2['Assigned Class'] == 'PremiumEconomyClass')\n",
    "#filt4 = (filtered_pass_data_c2_f2['Assigned Class'] == 'EconomyClass')\n",
    "#FC_dn_c2_f2 = filtered_pass_data_c1_f2.loc[filt1 & (filt2 | filt3| filt4)]\n",
    "\n",
    "#filt2 = (filtered_pass_data_c2_f2['Class'] == 'BusinessClass')\n",
    "#filt3 = (filtered_pass_data_c2_f2['Assigned Class'] == 'PremiumEconomyClass')\n",
    "#filt4 = (filtered_pass_data_c2_f2['Assigned Class'] == 'EconomyClass')\n",
    "#BC_dn_c2_f2 = filtered_pass_data_c2_f2.loc[filt2 & (filt3 | filt4)]\n",
    "\n",
    "#filt3 = (filtered_pass_data_c2_f2['Class'] == 'PremiumEconomyClass')\n",
    "#filt4 = (filtered_pass_data_c2_f2['Assigned Class'] == 'EconomyClass')\n",
    "#PC_dn_c2_f2 = filtered_pass_data_c2_f2.loc[filt3 & (filt4)]"
   ]
  },
  {
   "cell_type": "markdown",
   "id": "6db63436",
   "metadata": {},
   "source": [
    "Passengers who were upgraded "
   ]
  },
  {
   "cell_type": "code",
   "execution_count": 408,
   "id": "ed58540a-f76f-41cd-9a7a-e129ca07ab70",
   "metadata": {},
   "outputs": [],
   "source": [
    "#Flight 1"
   ]
  },
  {
   "cell_type": "code",
   "execution_count": 409,
   "id": "e847797c-8b90-4e4d-85d5-89b9d1c42f71",
   "metadata": {},
   "outputs": [],
   "source": [
    "filt1 = (filtered_pass_data_c2_f1['Assigned Class'] == 'FirstClass')\n",
    "filt2 = (filtered_pass_data_c2_f1['Assigned Class'] == 'BusinessClass')\n",
    "filt3 = (filtered_pass_data_c2_f1['Assigned Class'] == 'PremiumEconomyClass')\n",
    "filt4 = (filtered_pass_data_c2_f1['Class'] == 'EconomyClass')\n",
    "EC_up_c2_f1 = filtered_pass_data_c2_f1.loc[filt4 & (filt1 | filt2| filt3)]\n",
    "\n",
    "filt1 = (filtered_pass_data_c2_f1['Assigned Class'] == 'FirstClass')\n",
    "filt2 = (filtered_pass_data_c2_f1['Assigned Class'] == 'BusinessClass')\n",
    "filt3 = (filtered_pass_data_c2_f1['Class'] == 'PremiumEconomyClass')\n",
    "PC_up_c2_f1 = filtered_pass_data_c2_f1.loc[filt3 & (filt1 | filt2)]\n",
    "\n",
    "filt1 = (filtered_pass_data_c2_f1['Assigned Class'] == 'FirstClass')\n",
    "filt2 = (filtered_pass_data_c2_f1['Class'] == 'BusinessClass')\n",
    "BC_up_c2_f1 = filtered_pass_data_c2_f1.loc[filt2 & filt1]"
   ]
  },
  {
   "cell_type": "code",
   "execution_count": 410,
   "id": "a26bf85c-77f2-4df8-a0ab-7be352376001",
   "metadata": {},
   "outputs": [],
   "source": [
    "#Flight 2"
   ]
  },
  {
   "cell_type": "code",
   "execution_count": 411,
   "id": "526856e5-d926-488b-b30a-c81140946a37",
   "metadata": {},
   "outputs": [],
   "source": [
    "#filt1 = (filtered_pass_data_c2_f2['Assigned Class'] == 'FirstClass')\n",
    "#filt2 = (filtered_pass_data_c2_f2['Assigned Class'] == 'BusinessClass')\n",
    "#filt3 = (filtered_pass_data_c2_f2['Assigned Class'] == 'PremiumEconomyClass')\n",
    "#filt4 = (filtered_pass_data_c2_f2['Class'] == 'EconomyClass')\n",
    "#EC_up_c2_f2 = filtered_pass_data_c2_f2.loc[filt4 & (filt1 | filt2| filt3)]\n",
    "\n",
    "#filt1 = (filtered_pass_data_c2_f2['Assigned Class'] == 'FirstClass')\n",
    "#filt2 = (filtered_pass_data_c2_f2['Assigned Class'] == 'BusinessClass')\n",
    "#filt3 = (filtered_pass_data_c2_f2['Class'] == 'PremiumEconomyClass')\n",
    "#PC_up_c2_f2 = filtered_pass_data_c2_f2.loc[filt3 & (filt1 | filt2)]\n",
    "\n",
    "#filt1 = (filtered_pass_data_c2_f2['Assigned Class'] == 'FirstClass')\n",
    "#filt2 = (filtered_pass_data_c2_f2['Class'] == 'BusinessClass')\n",
    "#BC_up_c2_f2 = filtered_pass_data_c2_f2.loc[filt2 & filt1]"
   ]
  },
  {
   "cell_type": "code",
   "execution_count": 412,
   "id": "5c5f5398-cde6-4866-a7a3-bae3733c1434",
   "metadata": {},
   "outputs": [
    {
     "name": "stdout",
     "output_type": "stream",
     "text": [
      "13 passengers were allotted the same class they applied for\n",
      "19 passengers were downgraded\n",
      "27 passengers were upgraded\n"
     ]
    }
   ],
   "source": [
    "print(f\"{len(same_allotment_c2_f1)} passengers were allotted the same class they applied for\")\n",
    "print(f\"{len(FC_dn_c2_f1) + len(BC_dn_c2_f1) + len(PC_dn_c2_f1)} passengers were downgraded\")\n",
    "print(f\"{len(EC_up_c2_f1) + len(PC_up_c2_f1) + len(BC_up_c2_f1)} passengers were upgraded\")"
   ]
  },
  {
   "cell_type": "code",
   "execution_count": 413,
   "id": "1d241b39-f630-4ff8-8334-6889427e412e",
   "metadata": {},
   "outputs": [
    {
     "name": "stdout",
     "output_type": "stream",
     "text": [
      "14 passengers were allotted the same class they applied for\n",
      "29 passengers were downgraded\n",
      "35 passengers were upgraded\n"
     ]
    }
   ],
   "source": [
    "print(f\"{len(same_allotment_c1_f1) + len(same_allotment_c2_f1)} passengers were allotted the same class they applied for\")\n",
    "print(f\"{len(FC_dn_c1_f1) + len(BC_dn_c1_f1) + len(PC_dn_c1_f1) + len(FC_dn_c2_f1) + len(BC_dn_c2_f1) + len(PC_dn_c2_f1)} passengers were downgraded\")\n",
    "print(f\"{len(EC_up_c1_f1) + len(PC_up_c1_f1) + len(BC_up_c1_f1) + len(EC_up_c2_f1) + len(PC_up_c2_f1) + len(BC_up_c2_f1)} passengers were upgraded\")"
   ]
  },
  {
   "cell_type": "code",
   "execution_count": null,
   "id": "e61d291e-2e3a-44fd-8dcc-d5dd98871b36",
   "metadata": {},
   "outputs": [],
   "source": []
  }
 ],
 "metadata": {
  "kernelspec": {
   "display_name": "Python 3 (ipykernel)",
   "language": "python",
   "name": "python3"
  },
  "language_info": {
   "codemirror_mode": {
    "name": "ipython",
    "version": 3
   },
   "file_extension": ".py",
   "mimetype": "text/x-python",
   "name": "python",
   "nbconvert_exporter": "python",
   "pygments_lexer": "ipython3",
   "version": "3.10.4"
  }
 },
 "nbformat": 4,
 "nbformat_minor": 5
}
