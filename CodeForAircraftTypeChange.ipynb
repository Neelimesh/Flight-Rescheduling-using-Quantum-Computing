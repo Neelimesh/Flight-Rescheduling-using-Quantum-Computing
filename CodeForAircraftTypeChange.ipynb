{
 "cells": [
  {
   "cell_type": "code",
   "execution_count": 371,
   "id": "427cd712-9259-4ba5-a99a-6688ba0dd773",
   "metadata": {},
   "outputs": [],
   "source": [
    "import pandas as pd"
   ]
  },
  {
   "cell_type": "code",
   "execution_count": 385,
   "id": "c8949ab9-bd35-4b9a-90bb-28d496ceb8ce",
   "metadata": {},
   "outputs": [],
   "source": [
    "sch_data = 'SCH-ZZ-20231208_035117.xlsx'      #Importing schedule data\n",
    "inv_data = 'INV-ZZ-20231208_041852.xlsx'      #Importing inventory data"
   ]
  },
  {
   "cell_type": "code",
   "execution_count": 386,
   "id": "f41493a6-b60d-4f10-a2e0-50b09c8aca01",
   "metadata": {},
   "outputs": [],
   "source": [
    "sch = pd.read_excel(sch_data)\n",
    "inv = pd.read_excel(inv_data)"
   ]
  },
  {
   "cell_type": "code",
   "execution_count": 387,
   "id": "9b392b3f-78f4-4fb2-9bf0-3bcbb0f460c0",
   "metadata": {},
   "outputs": [],
   "source": [
    "df1 = pd.DataFrame(sch)         #Converting excel data into dataframe\n",
    "df2 = pd.DataFrame(inv) "
   ]
  },
  {
   "cell_type": "code",
   "execution_count": 388,
   "id": "ca63ba6a-e17b-468f-bf2a-ef11a1f6d1f3",
   "metadata": {},
   "outputs": [],
   "source": [
    "df2['Bool'] = 1   #Creating a new column in df2 and naming it as Bool and assigning all values as 1\n",
    "                  #Bool value will be 0 for the flights which are cancelled"
   ]
  },
  {
   "cell_type": "code",
   "execution_count": 395,
   "id": "2f8f9d09-d68f-49b2-b422-7c1c7fc406a3",
   "metadata": {},
   "outputs": [
    {
     "name": "stdout",
     "output_type": "stream",
     "text": [
      "940\n"
     ]
    }
   ],
   "source": [
    "import numpy as np\n",
    "import random\n",
    "#Considering Aircraft Type Change\n",
    "\n",
    "a = random.randrange(len(df2))\n",
    "print(a)\n",
    "cancelled_flights = [a]"
   ]
  },
  {
   "cell_type": "code",
   "execution_count": 396,
   "id": "2711000c-5c1e-4efa-b489-94a687115d2d",
   "metadata": {},
   "outputs": [
    {
     "data": {
      "text/plain": [
       "AircraftType     Boeing 767\n",
       "TotalCapacity           278\n",
       "Name: 940, dtype: object"
      ]
     },
     "execution_count": 396,
     "metadata": {},
     "output_type": "execute_result"
    }
   ],
   "source": [
    "df2.loc[a, ['AircraftType', 'TotalCapacity']]"
   ]
  },
  {
   "cell_type": "code",
   "execution_count": 397,
   "id": "8cad306a-cdae-4cde-ba75-e5d192a77106",
   "metadata": {},
   "outputs": [
    {
     "name": "stdout",
     "output_type": "stream",
     "text": [
      "686\n"
     ]
    },
    {
     "data": {
      "text/plain": [
       "AircraftType     Boeing 717\n",
       "TotalCapacity           100\n",
       "Name: 686, dtype: object"
      ]
     },
     "execution_count": 397,
     "metadata": {},
     "output_type": "execute_result"
    }
   ],
   "source": [
    "b = random.randrange(len(df2))\n",
    "print(b)\n",
    "df2.loc[b, ['AircraftType', 'TotalCapacity']]"
   ]
  },
  {
   "cell_type": "code",
   "execution_count": 398,
   "id": "a517b2e8-cd4d-4c2b-ae53-342f3aa4d9dd",
   "metadata": {},
   "outputs": [],
   "source": [
    "#The AircraftType of the 1st flight is changed with that of the 2nd flight"
   ]
  },
  {
   "cell_type": "code",
   "execution_count": 399,
   "id": "6462b2fd-2b7a-47a5-a3b7-ad53cce9df85",
   "metadata": {},
   "outputs": [
    {
     "name": "stdout",
     "output_type": "stream",
     "text": [
      "[940]\n"
     ]
    }
   ],
   "source": [
    "for i in cancelled_flights:\n",
    "    df2.at[i, 'Bool'] = 0     #Assigning a bool value of 0 to the cancelled flights\n",
    "print(cancelled_flights)"
   ]
  },
  {
   "cell_type": "code",
   "execution_count": 400,
   "id": "8bd057f2-f49f-486a-85c2-925def48e30d",
   "metadata": {},
   "outputs": [],
   "source": [
    "threshold1 = pd.Timedelta(hours=6)\n",
    "threshold2 = pd.Timedelta(hours=12)\n",
    "threshold3 = pd.Timedelta(hours=24)\n",
    "threshold4 = pd.Timedelta(hours=48)\n",
    "threshold5 = pd.Timedelta(hours=72)\n",
    "zero_time = pd.Timedelta(hours=0)\n",
    "inf_time = pd.Timedelta(weeks=52)"
   ]
  },
  {
   "cell_type": "code",
   "execution_count": 401,
   "id": "5b645552-b4ac-492e-bb84-ea1f9a5ec2dc",
   "metadata": {},
   "outputs": [],
   "source": [
    "#Algorithm for flight scoring based on arrival, departure time, arrival, departure time etc. \n",
    "for j in range(len(cancelled_flights)):\n",
    "    new_col = f'Flight_Score_{cancelled_flights[j]}'\n",
    "    new_col2 = f'Quality Score Grade_{cancelled_flights[j]}'\n",
    "    df2[new_col] = 0                 #New column in the dataframe for scoring cancelled flights\n",
    "    df2[new_col2] = 'NaN'            #Each flights having a bool value of 1 will have a score \n",
    "                                     #corresponding to each cancelled flight\n",
    "    \n",
    "    for i in range(len(df2)):\n",
    "        if df2.loc[i, 'Bool'] == 1:  #Only scoring non-cancelled flights\n",
    "            if df2.loc[i, 'DepartureAirport'] == df2.loc[cancelled_flights[j], \n",
    "            'DepartureAirport'] and df2.loc[i, 'ArrivalAirport'] == df2.loc[cancelled_flights[j], 'ArrivalAirport']:\n",
    "               df2.loc[i, new_col] = 40 \n",
    "               diff_dep = df2.loc[i, 'DepartureDateTime'] - df2.loc[cancelled_flights[j], 'DepartureDateTime']\n",
    "               diff_arr = df2.loc[i, 'ArrivalDateTime'] - df2.loc[cancelled_flights[j], 'ArrivalDateTime']\n",
    "               if((diff_dep <= threshold4) and (diff_dep >= zero_time)):                            \n",
    "                    df2.loc[i, new_col] = df2.loc[i, new_col] + 30                                  \n",
    "                    if((diff_dep <= threshold3) and (diff_dep >= zero_time)):                       \n",
    "                        df2.loc[i, new_col] = df2.loc[i, new_col] + 10   #Adding only 10 because there is a nested-if \n",
    "                        if((diff_dep <= threshold2) and (diff_dep >= zero_time)):\n",
    "                            df2.loc[i, new_col] = df2.loc[i, new_col] + 10\n",
    "                            if((diff_dep <= threshold1) and (diff_dep >= zero_time)):\n",
    "                                df2.loc[i, new_col] = df2.loc[i, new_col] + 20\n",
    "               if((diff_arr <= threshold4) and (diff_arr >= zero_time)):                            \n",
    "                    df2.loc[i, new_col] = df2.loc[i, new_col] + 30                                    \n",
    "                    if((diff_arr <= threshold3) and (diff_arr >= zero_time)):                        \n",
    "                        df2.loc[i, new_col] = df2.loc[i, new_col] + 10\n",
    "                        if((diff_arr <= threshold2) and (diff_arr >= zero_time)):\n",
    "                            df2.loc[i, new_col] = df2.loc[i, new_col] + 10\n",
    "                            if((diff_arr <= threshold1) and (diff_arr >= zero_time)):\n",
    "                                df2.loc[i, new_col] = df2.loc[i, new_col] + 20\n",
    "               for k in range(len(df1)):\n",
    "                    if (df2.loc[i, 'ScheduleId'] == df1.loc[k, 'ScheduleID']):\n",
    "                        tail_number = df1.loc[k, 'AircraftTailNumber']\n",
    "               for k in range(len(df1)):\n",
    "                    if (df2.loc[cancelled_flights[j], 'ScheduleId'] == df1.loc[k, 'ScheduleID']):\n",
    "                        if (df1.loc[k, 'AircraftTailNumber'] == tail_number):\n",
    "                            df2.loc[i, new_col] = df2.loc[i, new_col] + 50\n",
    "\n",
    "            #Quality grading of flights acc. to ruleset provided\n",
    "            if(df2.loc[i, new_col] < 150 and df2.loc[i, new_col] > 0):\n",
    "                df2.loc[i, new_col2] = 'D'\n",
    "            if(df2.loc[i, new_col] >= 150):\n",
    "                df2.loc[i, new_col2] = 'C'\n",
    "            if(df2.loc[i, new_col] >= 180):\n",
    "                df2.loc[i, new_col2] = 'B'\n",
    "            if(df2.loc[i, new_col] >= 200):\n",
    "                df2.loc[i, new_col2] = 'A'\n",
    "\n",
    "df2 = pd.concat([df2], axis=1)"
   ]
  },
  {
   "cell_type": "code",
   "execution_count": 402,
   "id": "053455e4-aee0-46f6-b68b-e5cba99b53a4",
   "metadata": {},
   "outputs": [],
   "source": [
    "filt1 = (df2[f'Quality Score Grade_{cancelled_flights[0]}'] == 'A')\n",
    "filt2 = (df2[f'Quality Score Grade_{cancelled_flights[0]}'] == 'B')\n",
    "filt3 = (df2[f'Quality Score Grade_{cancelled_flights[0]}'] == 'C')\n",
    "filt4 = (df2['Oversold'] < 0)       #Considering only those flights which have vacant seats\n",
    "Available_flights = df2.loc[(filt1 | filt2 | filt3) & filt4]"
   ]
  },
  {
   "cell_type": "code",
   "execution_count": 403,
   "id": "edd8ea6d-b077-4142-a190-c33b4b56e05f",
   "metadata": {},
   "outputs": [
    {
     "data": {
      "text/html": [
       "<div>\n",
       "<style scoped>\n",
       "    .dataframe tbody tr th:only-of-type {\n",
       "        vertical-align: middle;\n",
       "    }\n",
       "\n",
       "    .dataframe tbody tr th {\n",
       "        vertical-align: top;\n",
       "    }\n",
       "\n",
       "    .dataframe thead th {\n",
       "        text-align: right;\n",
       "    }\n",
       "</style>\n",
       "<table border=\"1\" class=\"dataframe\">\n",
       "  <thead>\n",
       "    <tr style=\"text-align: right;\">\n",
       "      <th></th>\n",
       "      <th>InventoryId</th>\n",
       "      <th>ScheduleId</th>\n",
       "      <th>CarrierCode</th>\n",
       "      <th>Dep_Key</th>\n",
       "      <th>FlightNumber</th>\n",
       "      <th>AircraftType</th>\n",
       "      <th>DepartureDate</th>\n",
       "      <th>DepartureDateTime</th>\n",
       "      <th>ArrivalDateTime</th>\n",
       "      <th>DepartureAirport</th>\n",
       "      <th>...</th>\n",
       "      <th>EC_BookedInventory</th>\n",
       "      <th>EC_Oversold</th>\n",
       "      <th>EC_AvailableInventory</th>\n",
       "      <th>FC_CD</th>\n",
       "      <th>BC_CD</th>\n",
       "      <th>PC_CD</th>\n",
       "      <th>EC_CD</th>\n",
       "      <th>Bool</th>\n",
       "      <th>Flight_Score_940</th>\n",
       "      <th>Quality Score Grade_940</th>\n",
       "    </tr>\n",
       "  </thead>\n",
       "  <tbody>\n",
       "    <tr>\n",
       "      <th>941</th>\n",
       "      <td>INV-ZZ-8424367</td>\n",
       "      <td>SCH-ZZ-3838342</td>\n",
       "      <td>ZZ</td>\n",
       "      <td>ZZ20240525HYDCCU3772.0</td>\n",
       "      <td>3772</td>\n",
       "      <td>Boeing 767</td>\n",
       "      <td>2024-05-25</td>\n",
       "      <td>2024-05-25 05:58:00</td>\n",
       "      <td>2024-05-26 03:23:00</td>\n",
       "      <td>HYD</td>\n",
       "      <td>...</td>\n",
       "      <td>63</td>\n",
       "      <td>48</td>\n",
       "      <td>67</td>\n",
       "      <td>{'F': 16, 'P': 11}</td>\n",
       "      <td>{'C': 22, 'J': 16, 'Z': 16}</td>\n",
       "      <td>{'Q': 25, 'R': 17, 'S': 8, 'T': 8, 'H': 17, 'M...</td>\n",
       "      <td>{'Y': 8, 'A': 8, 'B': 4, 'D': 4, 'E': 4, 'G': ...</td>\n",
       "      <td>1</td>\n",
       "      <td>170</td>\n",
       "      <td>C</td>\n",
       "    </tr>\n",
       "    <tr>\n",
       "      <th>942</th>\n",
       "      <td>INV-ZZ-7025490</td>\n",
       "      <td>SCH-ZZ-3838342</td>\n",
       "      <td>ZZ</td>\n",
       "      <td>ZZ20240526HYDCCU3772.0</td>\n",
       "      <td>3772</td>\n",
       "      <td>Boeing 767</td>\n",
       "      <td>2024-05-26</td>\n",
       "      <td>2024-05-26 05:58:00</td>\n",
       "      <td>2024-05-27 03:23:00</td>\n",
       "      <td>HYD</td>\n",
       "      <td>...</td>\n",
       "      <td>62</td>\n",
       "      <td>49</td>\n",
       "      <td>71</td>\n",
       "      <td>{'F': 16, 'P': 11}</td>\n",
       "      <td>{'C': 22, 'J': 16, 'Z': 16}</td>\n",
       "      <td>{'Q': 25, 'R': 17, 'S': 8, 'T': 8, 'H': 17, 'M...</td>\n",
       "      <td>{'Y': 8, 'A': 8, 'B': 4, 'D': 4, 'E': 4, 'G': ...</td>\n",
       "      <td>1</td>\n",
       "      <td>150</td>\n",
       "      <td>C</td>\n",
       "    </tr>\n",
       "  </tbody>\n",
       "</table>\n",
       "<p>2 rows × 43 columns</p>\n",
       "</div>"
      ],
      "text/plain": [
       "        InventoryId      ScheduleId CarrierCode                 Dep_Key  \\\n",
       "941  INV-ZZ-8424367  SCH-ZZ-3838342          ZZ  ZZ20240525HYDCCU3772.0   \n",
       "942  INV-ZZ-7025490  SCH-ZZ-3838342          ZZ  ZZ20240526HYDCCU3772.0   \n",
       "\n",
       "     FlightNumber AircraftType DepartureDate   DepartureDateTime  \\\n",
       "941          3772   Boeing 767    2024-05-25 2024-05-25 05:58:00   \n",
       "942          3772   Boeing 767    2024-05-26 2024-05-26 05:58:00   \n",
       "\n",
       "        ArrivalDateTime DepartureAirport  ... EC_BookedInventory  EC_Oversold  \\\n",
       "941 2024-05-26 03:23:00              HYD  ...                 63           48   \n",
       "942 2024-05-27 03:23:00              HYD  ...                 62           49   \n",
       "\n",
       "     EC_AvailableInventory               FC_CD                        BC_CD  \\\n",
       "941                     67  {'F': 16, 'P': 11}  {'C': 22, 'J': 16, 'Z': 16}   \n",
       "942                     71  {'F': 16, 'P': 11}  {'C': 22, 'J': 16, 'Z': 16}   \n",
       "\n",
       "                                                 PC_CD  \\\n",
       "941  {'Q': 25, 'R': 17, 'S': 8, 'T': 8, 'H': 17, 'M...   \n",
       "942  {'Q': 25, 'R': 17, 'S': 8, 'T': 8, 'H': 17, 'M...   \n",
       "\n",
       "                                                 EC_CD  Bool  \\\n",
       "941  {'Y': 8, 'A': 8, 'B': 4, 'D': 4, 'E': 4, 'G': ...     1   \n",
       "942  {'Y': 8, 'A': 8, 'B': 4, 'D': 4, 'E': 4, 'G': ...     1   \n",
       "\n",
       "     Flight_Score_940  Quality Score Grade_940  \n",
       "941               170                        C  \n",
       "942               150                        C  \n",
       "\n",
       "[2 rows x 43 columns]"
      ]
     },
     "execution_count": 403,
     "metadata": {},
     "output_type": "execute_result"
    }
   ],
   "source": [
    "Available_flights"
   ]
  },
  {
   "cell_type": "code",
   "execution_count": 404,
   "id": "d2732161-24ae-4920-8db7-9167f01f3f92",
   "metadata": {},
   "outputs": [
    {
     "name": "stdout",
     "output_type": "stream",
     "text": [
      "[2, 2]\n",
      "[941, 942]\n",
      "[130, 133]\n"
     ]
    }
   ],
   "source": [
    "F = []          #Array for storing score for each alternate flight\n",
    "Av_Fl = []      #Array for storing index of each alternate flight in the inventory dataframe\n",
    "for i in range(len(Available_flights)):\n",
    "    ix = Available_flights.index[i]\n",
    "    Av_Fl.append(ix)\n",
    "    F.append(df2.loc[ix, f'Quality Score Grade_{cancelled_flights[0]}'])     \n",
    "    #Change the index based on the index of the flight cancelled\n",
    "\n",
    "#Converting Quality Score into numerical scores\n",
    "for i in range(len(F)):\n",
    "    if F[i] == 'A':\n",
    "        F[i] = 4     \n",
    "    if F[i] == 'B':\n",
    "        F[i] = 3\n",
    "    if F[i] == 'C':\n",
    "        F[i] = 2\n",
    "    if F[i] == 'D': \n",
    "        F[i] = 1\n",
    "        \n",
    "V_S = []       #Array for storing number of available seats in each alternating flight\n",
    "for i in range(len(Available_flights)):\n",
    "    ix = Available_flights.index[i]\n",
    "    V_S.append(-df2.loc[ix, 'Oversold'])\n",
    "print(F)\n",
    "print(Av_Fl)\n",
    "print(V_S)"
   ]
  },
  {
   "cell_type": "code",
   "execution_count": 405,
   "id": "7aefd28e-8fd3-4e14-b297-68f6ab79d7d4",
   "metadata": {},
   "outputs": [
    {
     "name": "stdout",
     "output_type": "stream",
     "text": [
      "[13.0, 13.0]\n"
     ]
    }
   ],
   "source": [
    "#Scaling down the values in V_S \n",
    "for i in range(len(V_S)):\n",
    "    V_S[i] = V_S[i]/10\n",
    "    V_S[i] = np.floor(V_S[i])   #Floor value so that no. of passengers accommodated\n",
    "print(V_S)                      #in each flight is less than the flight's capacity"
   ]
  },
  {
   "cell_type": "code",
   "execution_count": 406,
   "id": "45a3698e-1d9b-4b41-bf94-50a90a81a32e",
   "metadata": {},
   "outputs": [],
   "source": [
    "PNR = 'PNRB-ZZ-20231208_062017.xlsx'     #Importing the PNR Data\n",
    "Pass = 'PNRP-ZZ-20231208_111136.xlsx'    #Importing the Passenger Data"
   ]
  },
  {
   "cell_type": "code",
   "execution_count": 407,
   "id": "3124f233-3eaf-45a3-9be2-26f18e17a5b4",
   "metadata": {},
   "outputs": [],
   "source": [
    "PNR1 = pd.read_excel(PNR)          \n",
    "Pass1 = pd.read_excel(Pass)"
   ]
  },
  {
   "cell_type": "code",
   "execution_count": 408,
   "id": "b91598b4-b82f-4503-be7f-4d39eaf80613",
   "metadata": {},
   "outputs": [],
   "source": [
    "PNR_DF = pd.DataFrame(PNR1)             #Converting excel data into dataframe\n",
    "Pass_DF = pd.DataFrame(Pass1)"
   ]
  },
  {
   "cell_type": "code",
   "execution_count": 409,
   "id": "da5da916-afe4-4749-a846-8d467d96cf7d",
   "metadata": {},
   "outputs": [],
   "source": [
    "Pass_DF['SSR_CODE_CD1'] = Pass_DF['SSR_CODE_CD1'].fillna(0)\n",
    "Pass_DF['TierLevel'] = Pass_DF['TierLevel'].fillna(0)"
   ]
  },
  {
   "cell_type": "code",
   "execution_count": 410,
   "id": "59cb1f32-3947-4b5a-890e-2e9d0491bee9",
   "metadata": {},
   "outputs": [],
   "source": [
    "departure_list = PNR_DF['ORIG_CD'].to_list()\n",
    "arrival_list = PNR_DF['DEST_CD'].to_list()\n",
    "\n",
    "city_pairs = [tuple([departure_list[i], arrival_list[i]]) for i in range(len(departure_list))]\n",
    "\n",
    "fltnum_list = PNR_DF[\"FLT_NUM\"].to_list()\n",
    "\n",
    "citypair_dict = {fltnum_list[i] : city_pairs[i] for i in range(len(city_pairs))}"
   ]
  },
  {
   "cell_type": "code",
   "execution_count": 411,
   "id": "501ab9b8-0551-46ce-b8f3-32fc8dde43e5",
   "metadata": {},
   "outputs": [],
   "source": [
    "paxcnt_wt = 50\n",
    "connect_wt = 100\n",
    "grp_threshold = 7\n",
    "grp_wt = 500\n",
    "class_wt = {\n",
    "    'FirstClass' : 2000, 'BusinessClass' : 1750, \n",
    "    'PremiumEconomyClass' : 1500, 'EconomyClass' : 1250\n",
    "}\n",
    "# The airlines can vary the weights as per their rules set and have the choice to disregard certain factors as per their choice."
   ]
  },
  {
   "cell_type": "code",
   "execution_count": 412,
   "id": "db2e0dfe-10bb-4f6f-bf6e-0ea1881d68df",
   "metadata": {},
   "outputs": [],
   "source": [
    "def get_recloc_score(df):\n",
    "    recloc_sclist = []\n",
    "    recloc_score = 0\n",
    "    for i in range(len(df['RECLOC'])):\n",
    "        recloc_score += df['PAX_CNT'][i]*paxcnt_wt + class_wt[df['COS_CD'][i]]\n",
    "        if df['PAX_CNT'][i] >= grp_threshold:\n",
    "            recloc_score += grp_wt\n",
    "        recloc_sclist.append(recloc_score)\n",
    "        recloc_score = 0\n",
    "\n",
    "    df['RECLOC_SCORE'] = recloc_sclist\n",
    "\n",
    "    return df    \n",
    "\n",
    "#Due to multiple passengers having the same recloc, We have split calculating passenger \n",
    "#score into two parts : recloc_Score and passenger_score. The recloc score will initialise\n",
    "#the pax_score variable and build up from there."
   ]
  },
  {
   "cell_type": "code",
   "execution_count": 413,
   "id": "d5c790dc-0518-4045-bc2b-943084bba6c2",
   "metadata": {},
   "outputs": [
    {
     "data": {
      "text/html": [
       "<div>\n",
       "<style scoped>\n",
       "    .dataframe tbody tr th:only-of-type {\n",
       "        vertical-align: middle;\n",
       "    }\n",
       "\n",
       "    .dataframe tbody tr th {\n",
       "        vertical-align: top;\n",
       "    }\n",
       "\n",
       "    .dataframe thead th {\n",
       "        text-align: right;\n",
       "    }\n",
       "</style>\n",
       "<table border=\"1\" class=\"dataframe\">\n",
       "  <thead>\n",
       "    <tr style=\"text-align: right;\">\n",
       "      <th></th>\n",
       "      <th>RECLOC</th>\n",
       "      <th>CREATION_DTZ</th>\n",
       "      <th>DEP_KEY</th>\n",
       "      <th>ACTION_CD</th>\n",
       "      <th>COS_CD</th>\n",
       "      <th>SEG_SEQ</th>\n",
       "      <th>SEG_TOTAL</th>\n",
       "      <th>PAX_CNT</th>\n",
       "      <th>CARRIER_CD</th>\n",
       "      <th>FLT_NUM</th>\n",
       "      <th>ORIG_CD</th>\n",
       "      <th>DEST_CD</th>\n",
       "      <th>DEP_DT</th>\n",
       "      <th>DEP_DTML</th>\n",
       "      <th>ARR_DTML</th>\n",
       "      <th>DEP_DTMZ</th>\n",
       "      <th>ARR_DTMZ</th>\n",
       "      <th>RECLOC_SCORE</th>\n",
       "    </tr>\n",
       "  </thead>\n",
       "  <tbody>\n",
       "    <tr>\n",
       "      <th>0</th>\n",
       "      <td>DRGS80</td>\n",
       "      <td>2024-03-02 16:35:00</td>\n",
       "      <td>ZZ20240403BLRCCU2504</td>\n",
       "      <td>GN</td>\n",
       "      <td>FirstClass</td>\n",
       "      <td>1</td>\n",
       "      <td>4</td>\n",
       "      <td>3</td>\n",
       "      <td>ZZ</td>\n",
       "      <td>2504</td>\n",
       "      <td>BLR</td>\n",
       "      <td>CCU</td>\n",
       "      <td>2024-04-03</td>\n",
       "      <td>2024-04-03 15:35:00</td>\n",
       "      <td>2024-04-03 18:17:00</td>\n",
       "      <td>2024-04-03 10:05:00</td>\n",
       "      <td>2024-04-03 12:47:00</td>\n",
       "      <td>2150</td>\n",
       "    </tr>\n",
       "    <tr>\n",
       "      <th>1</th>\n",
       "      <td>YEZQ47</td>\n",
       "      <td>2024-03-02 16:35:00</td>\n",
       "      <td>ZZ20240403BLRCCU2504</td>\n",
       "      <td>GN</td>\n",
       "      <td>FirstClass</td>\n",
       "      <td>1</td>\n",
       "      <td>2</td>\n",
       "      <td>4</td>\n",
       "      <td>ZZ</td>\n",
       "      <td>2504</td>\n",
       "      <td>BLR</td>\n",
       "      <td>CCU</td>\n",
       "      <td>2024-04-03</td>\n",
       "      <td>2024-04-03 15:35:00</td>\n",
       "      <td>2024-04-03 18:17:00</td>\n",
       "      <td>2024-04-03 10:05:00</td>\n",
       "      <td>2024-04-03 12:47:00</td>\n",
       "      <td>2200</td>\n",
       "    </tr>\n",
       "    <tr>\n",
       "      <th>2</th>\n",
       "      <td>JDDM40</td>\n",
       "      <td>2024-03-02 16:35:00</td>\n",
       "      <td>ZZ20240403BLRCCU2504</td>\n",
       "      <td>GN</td>\n",
       "      <td>FirstClass</td>\n",
       "      <td>1</td>\n",
       "      <td>3</td>\n",
       "      <td>2</td>\n",
       "      <td>ZZ</td>\n",
       "      <td>2504</td>\n",
       "      <td>BLR</td>\n",
       "      <td>CCU</td>\n",
       "      <td>2024-04-03</td>\n",
       "      <td>2024-04-03 15:35:00</td>\n",
       "      <td>2024-04-03 18:17:00</td>\n",
       "      <td>2024-04-03 10:05:00</td>\n",
       "      <td>2024-04-03 12:47:00</td>\n",
       "      <td>2100</td>\n",
       "    </tr>\n",
       "    <tr>\n",
       "      <th>3</th>\n",
       "      <td>AVFF16</td>\n",
       "      <td>2024-03-02 16:35:00</td>\n",
       "      <td>ZZ20240403BLRCCU2504</td>\n",
       "      <td>GN</td>\n",
       "      <td>FirstClass</td>\n",
       "      <td>1</td>\n",
       "      <td>4</td>\n",
       "      <td>1</td>\n",
       "      <td>ZZ</td>\n",
       "      <td>2504</td>\n",
       "      <td>BLR</td>\n",
       "      <td>CCU</td>\n",
       "      <td>2024-04-03</td>\n",
       "      <td>2024-04-03 15:35:00</td>\n",
       "      <td>2024-04-03 18:17:00</td>\n",
       "      <td>2024-04-03 10:05:00</td>\n",
       "      <td>2024-04-03 12:47:00</td>\n",
       "      <td>2050</td>\n",
       "    </tr>\n",
       "    <tr>\n",
       "      <th>4</th>\n",
       "      <td>DBLE79</td>\n",
       "      <td>2024-03-02 16:35:00</td>\n",
       "      <td>ZZ20240403BLRCCU2504</td>\n",
       "      <td>GN</td>\n",
       "      <td>FirstClass</td>\n",
       "      <td>1</td>\n",
       "      <td>2</td>\n",
       "      <td>2</td>\n",
       "      <td>ZZ</td>\n",
       "      <td>2504</td>\n",
       "      <td>BLR</td>\n",
       "      <td>CCU</td>\n",
       "      <td>2024-04-03</td>\n",
       "      <td>2024-04-03 15:35:00</td>\n",
       "      <td>2024-04-03 18:17:00</td>\n",
       "      <td>2024-04-03 10:05:00</td>\n",
       "      <td>2024-04-03 12:47:00</td>\n",
       "      <td>2100</td>\n",
       "    </tr>\n",
       "    <tr>\n",
       "      <th>...</th>\n",
       "      <td>...</td>\n",
       "      <td>...</td>\n",
       "      <td>...</td>\n",
       "      <td>...</td>\n",
       "      <td>...</td>\n",
       "      <td>...</td>\n",
       "      <td>...</td>\n",
       "      <td>...</td>\n",
       "      <td>...</td>\n",
       "      <td>...</td>\n",
       "      <td>...</td>\n",
       "      <td>...</td>\n",
       "      <td>...</td>\n",
       "      <td>...</td>\n",
       "      <td>...</td>\n",
       "      <td>...</td>\n",
       "      <td>...</td>\n",
       "      <td>...</td>\n",
       "    </tr>\n",
       "    <tr>\n",
       "      <th>78179</th>\n",
       "      <td>CJEL38</td>\n",
       "      <td>2023-08-20 13:28:00</td>\n",
       "      <td>ZZ20240630AMDBLR4957</td>\n",
       "      <td>HL</td>\n",
       "      <td>EconomyClass</td>\n",
       "      <td>1</td>\n",
       "      <td>4</td>\n",
       "      <td>7</td>\n",
       "      <td>ZZ</td>\n",
       "      <td>4957</td>\n",
       "      <td>AMD</td>\n",
       "      <td>BLR</td>\n",
       "      <td>2024-06-30</td>\n",
       "      <td>2024-06-30 10:19:00</td>\n",
       "      <td>2024-06-30 21:50:00</td>\n",
       "      <td>2024-06-30 04:49:00</td>\n",
       "      <td>2024-06-30 16:20:00</td>\n",
       "      <td>2100</td>\n",
       "    </tr>\n",
       "    <tr>\n",
       "      <th>78180</th>\n",
       "      <td>NDXM23</td>\n",
       "      <td>2023-08-20 13:28:00</td>\n",
       "      <td>ZZ20240630AMDBLR4957</td>\n",
       "      <td>HL</td>\n",
       "      <td>EconomyClass</td>\n",
       "      <td>1</td>\n",
       "      <td>1</td>\n",
       "      <td>9</td>\n",
       "      <td>ZZ</td>\n",
       "      <td>4957</td>\n",
       "      <td>AMD</td>\n",
       "      <td>BLR</td>\n",
       "      <td>2024-06-30</td>\n",
       "      <td>2024-06-30 10:19:00</td>\n",
       "      <td>2024-06-30 21:50:00</td>\n",
       "      <td>2024-06-30 04:49:00</td>\n",
       "      <td>2024-06-30 16:20:00</td>\n",
       "      <td>2200</td>\n",
       "    </tr>\n",
       "    <tr>\n",
       "      <th>78181</th>\n",
       "      <td>RIUQ17</td>\n",
       "      <td>2023-08-20 13:28:00</td>\n",
       "      <td>ZZ20240630AMDBLR4957</td>\n",
       "      <td>HL</td>\n",
       "      <td>EconomyClass</td>\n",
       "      <td>1</td>\n",
       "      <td>4</td>\n",
       "      <td>5</td>\n",
       "      <td>ZZ</td>\n",
       "      <td>4957</td>\n",
       "      <td>AMD</td>\n",
       "      <td>BLR</td>\n",
       "      <td>2024-06-30</td>\n",
       "      <td>2024-06-30 10:19:00</td>\n",
       "      <td>2024-06-30 21:50:00</td>\n",
       "      <td>2024-06-30 04:49:00</td>\n",
       "      <td>2024-06-30 16:20:00</td>\n",
       "      <td>1500</td>\n",
       "    </tr>\n",
       "    <tr>\n",
       "      <th>78182</th>\n",
       "      <td>QLFS50</td>\n",
       "      <td>2023-08-20 13:28:00</td>\n",
       "      <td>ZZ20240630AMDBLR4957</td>\n",
       "      <td>HL</td>\n",
       "      <td>EconomyClass</td>\n",
       "      <td>1</td>\n",
       "      <td>2</td>\n",
       "      <td>1</td>\n",
       "      <td>ZZ</td>\n",
       "      <td>4957</td>\n",
       "      <td>AMD</td>\n",
       "      <td>BLR</td>\n",
       "      <td>2024-06-30</td>\n",
       "      <td>2024-06-30 10:19:00</td>\n",
       "      <td>2024-06-30 21:50:00</td>\n",
       "      <td>2024-06-30 04:49:00</td>\n",
       "      <td>2024-06-30 16:20:00</td>\n",
       "      <td>1300</td>\n",
       "    </tr>\n",
       "    <tr>\n",
       "      <th>78183</th>\n",
       "      <td>RSMB57</td>\n",
       "      <td>2023-08-20 13:28:00</td>\n",
       "      <td>ZZ20240630AMDBLR4957</td>\n",
       "      <td>HL</td>\n",
       "      <td>EconomyClass</td>\n",
       "      <td>1</td>\n",
       "      <td>3</td>\n",
       "      <td>1</td>\n",
       "      <td>ZZ</td>\n",
       "      <td>4957</td>\n",
       "      <td>AMD</td>\n",
       "      <td>BLR</td>\n",
       "      <td>2024-06-30</td>\n",
       "      <td>2024-06-30 10:19:00</td>\n",
       "      <td>2024-06-30 21:50:00</td>\n",
       "      <td>2024-06-30 04:49:00</td>\n",
       "      <td>2024-06-30 16:20:00</td>\n",
       "      <td>1300</td>\n",
       "    </tr>\n",
       "  </tbody>\n",
       "</table>\n",
       "<p>78184 rows × 18 columns</p>\n",
       "</div>"
      ],
      "text/plain": [
       "       RECLOC        CREATION_DTZ               DEP_KEY ACTION_CD  \\\n",
       "0      DRGS80 2024-03-02 16:35:00  ZZ20240403BLRCCU2504        GN   \n",
       "1      YEZQ47 2024-03-02 16:35:00  ZZ20240403BLRCCU2504        GN   \n",
       "2      JDDM40 2024-03-02 16:35:00  ZZ20240403BLRCCU2504        GN   \n",
       "3      AVFF16 2024-03-02 16:35:00  ZZ20240403BLRCCU2504        GN   \n",
       "4      DBLE79 2024-03-02 16:35:00  ZZ20240403BLRCCU2504        GN   \n",
       "...       ...                 ...                   ...       ...   \n",
       "78179  CJEL38 2023-08-20 13:28:00  ZZ20240630AMDBLR4957        HL   \n",
       "78180  NDXM23 2023-08-20 13:28:00  ZZ20240630AMDBLR4957        HL   \n",
       "78181  RIUQ17 2023-08-20 13:28:00  ZZ20240630AMDBLR4957        HL   \n",
       "78182  QLFS50 2023-08-20 13:28:00  ZZ20240630AMDBLR4957        HL   \n",
       "78183  RSMB57 2023-08-20 13:28:00  ZZ20240630AMDBLR4957        HL   \n",
       "\n",
       "             COS_CD  SEG_SEQ  SEG_TOTAL  PAX_CNT CARRIER_CD  FLT_NUM ORIG_CD  \\\n",
       "0        FirstClass        1          4        3         ZZ     2504     BLR   \n",
       "1        FirstClass        1          2        4         ZZ     2504     BLR   \n",
       "2        FirstClass        1          3        2         ZZ     2504     BLR   \n",
       "3        FirstClass        1          4        1         ZZ     2504     BLR   \n",
       "4        FirstClass        1          2        2         ZZ     2504     BLR   \n",
       "...             ...      ...        ...      ...        ...      ...     ...   \n",
       "78179  EconomyClass        1          4        7         ZZ     4957     AMD   \n",
       "78180  EconomyClass        1          1        9         ZZ     4957     AMD   \n",
       "78181  EconomyClass        1          4        5         ZZ     4957     AMD   \n",
       "78182  EconomyClass        1          2        1         ZZ     4957     AMD   \n",
       "78183  EconomyClass        1          3        1         ZZ     4957     AMD   \n",
       "\n",
       "      DEST_CD     DEP_DT            DEP_DTML            ARR_DTML  \\\n",
       "0         CCU 2024-04-03 2024-04-03 15:35:00 2024-04-03 18:17:00   \n",
       "1         CCU 2024-04-03 2024-04-03 15:35:00 2024-04-03 18:17:00   \n",
       "2         CCU 2024-04-03 2024-04-03 15:35:00 2024-04-03 18:17:00   \n",
       "3         CCU 2024-04-03 2024-04-03 15:35:00 2024-04-03 18:17:00   \n",
       "4         CCU 2024-04-03 2024-04-03 15:35:00 2024-04-03 18:17:00   \n",
       "...       ...        ...                 ...                 ...   \n",
       "78179     BLR 2024-06-30 2024-06-30 10:19:00 2024-06-30 21:50:00   \n",
       "78180     BLR 2024-06-30 2024-06-30 10:19:00 2024-06-30 21:50:00   \n",
       "78181     BLR 2024-06-30 2024-06-30 10:19:00 2024-06-30 21:50:00   \n",
       "78182     BLR 2024-06-30 2024-06-30 10:19:00 2024-06-30 21:50:00   \n",
       "78183     BLR 2024-06-30 2024-06-30 10:19:00 2024-06-30 21:50:00   \n",
       "\n",
       "                 DEP_DTMZ            ARR_DTMZ  RECLOC_SCORE  \n",
       "0     2024-04-03 10:05:00 2024-04-03 12:47:00          2150  \n",
       "1     2024-04-03 10:05:00 2024-04-03 12:47:00          2200  \n",
       "2     2024-04-03 10:05:00 2024-04-03 12:47:00          2100  \n",
       "3     2024-04-03 10:05:00 2024-04-03 12:47:00          2050  \n",
       "4     2024-04-03 10:05:00 2024-04-03 12:47:00          2100  \n",
       "...                   ...                 ...           ...  \n",
       "78179 2024-06-30 04:49:00 2024-06-30 16:20:00          2100  \n",
       "78180 2024-06-30 04:49:00 2024-06-30 16:20:00          2200  \n",
       "78181 2024-06-30 04:49:00 2024-06-30 16:20:00          1500  \n",
       "78182 2024-06-30 04:49:00 2024-06-30 16:20:00          1300  \n",
       "78183 2024-06-30 04:49:00 2024-06-30 16:20:00          1300  \n",
       "\n",
       "[78184 rows x 18 columns]"
      ]
     },
     "execution_count": 413,
     "metadata": {},
     "output_type": "execute_result"
    }
   ],
   "source": [
    "get_recloc_score(PNR_DF)"
   ]
  },
  {
   "cell_type": "code",
   "execution_count": 414,
   "id": "db520b74-7109-4966-be1c-13ea569ea8a0",
   "metadata": {},
   "outputs": [],
   "source": [
    "recloc_dict = {PNR_DF['RECLOC'][i] : PNR_DF['RECLOC_SCORE'][i] for i in range(len(PNR_DF['RECLOC']))}"
   ]
  },
  {
   "cell_type": "code",
   "execution_count": 415,
   "id": "89b07d27-4955-43b5-920e-1689375fcc67",
   "metadata": {},
   "outputs": [],
   "source": [
    "loyalty_dict = {'Platinum' : 1800, 'Gold' : 1600, 'Silver' : 1500, 0 : 0}\n",
    "ssr_wt = 200"
   ]
  },
  {
   "cell_type": "code",
   "execution_count": 416,
   "id": "59f39c7b-f0dc-4d8a-bf49-a2a84cbdb8ce",
   "metadata": {},
   "outputs": [],
   "source": [
    "def get_pnr_score(df):\n",
    "    pnr_sclist = []\n",
    "    pnr_score = 0\n",
    "    for i in range(len(df['RECLOC'])):\n",
    "        pnr_score += recloc_dict[df['RECLOC'][i]] + loyalty_dict[df['TierLevel'][i]]\n",
    "        if df['SSR_CODE_CD1'][i] != 0:\n",
    "            pnr_score += ssr_wt\n",
    "        \n",
    "        pnr_sclist.append(pnr_score)\n",
    "        pnr_score = 0\n",
    "\n",
    "    df['PNR_SCORE'] = pnr_sclist\n",
    "\n",
    "    return df   "
   ]
  },
  {
   "cell_type": "code",
   "execution_count": 417,
   "id": "807194ea-3f97-4898-aa47-86b5ccadde7b",
   "metadata": {},
   "outputs": [
    {
     "data": {
      "text/html": [
       "<div>\n",
       "<style scoped>\n",
       "    .dataframe tbody tr th:only-of-type {\n",
       "        vertical-align: middle;\n",
       "    }\n",
       "\n",
       "    .dataframe tbody tr th {\n",
       "        vertical-align: top;\n",
       "    }\n",
       "\n",
       "    .dataframe thead th {\n",
       "        text-align: right;\n",
       "    }\n",
       "</style>\n",
       "<table border=\"1\" class=\"dataframe\">\n",
       "  <thead>\n",
       "    <tr style=\"text-align: right;\">\n",
       "      <th></th>\n",
       "      <th>RECLOC</th>\n",
       "      <th>CREATION_DTZ</th>\n",
       "      <th>CUSTOMER_ID</th>\n",
       "      <th>LAST_NAME</th>\n",
       "      <th>FIRST_NAME</th>\n",
       "      <th>NATIONALITY</th>\n",
       "      <th>DOB</th>\n",
       "      <th>CONTACT_PH_NUM</th>\n",
       "      <th>CONTACT_EMAIL</th>\n",
       "      <th>DOC_TYPE</th>\n",
       "      <th>DOC_ID</th>\n",
       "      <th>SPECIAL_NAME_CD2</th>\n",
       "      <th>SSR_CODE_CD1</th>\n",
       "      <th>SPECIAL_NAME_CD1</th>\n",
       "      <th>FF_NUM</th>\n",
       "      <th>TierLevel</th>\n",
       "      <th>PNR_SCORE</th>\n",
       "    </tr>\n",
       "  </thead>\n",
       "  <tbody>\n",
       "    <tr>\n",
       "      <th>0</th>\n",
       "      <td>DRGS80</td>\n",
       "      <td>2024-03-02 16:35:00</td>\n",
       "      <td>VNQ9748</td>\n",
       "      <td>Mitchell</td>\n",
       "      <td>Christina</td>\n",
       "      <td>CA</td>\n",
       "      <td>2003-06-01</td>\n",
       "      <td>1-769-506-8397</td>\n",
       "      <td>christinamitchell1@example.com</td>\n",
       "      <td>Driving License</td>\n",
       "      <td>299196000000</td>\n",
       "      <td>NaN</td>\n",
       "      <td>0</td>\n",
       "      <td>ADT</td>\n",
       "      <td>4.276771e+09</td>\n",
       "      <td>Gold</td>\n",
       "      <td>3750</td>\n",
       "    </tr>\n",
       "    <tr>\n",
       "      <th>1</th>\n",
       "      <td>DRGS80</td>\n",
       "      <td>2024-03-02 16:35:00</td>\n",
       "      <td>BAP1926</td>\n",
       "      <td>Parker</td>\n",
       "      <td>Rebecca</td>\n",
       "      <td>CA</td>\n",
       "      <td>2015-08-18</td>\n",
       "      <td>1-947-699-5143</td>\n",
       "      <td>rebeccaparker2@example.com</td>\n",
       "      <td>Passport</td>\n",
       "      <td>11901984430</td>\n",
       "      <td>NaN</td>\n",
       "      <td>0</td>\n",
       "      <td>CHD</td>\n",
       "      <td>8.493470e+09</td>\n",
       "      <td>Platinum</td>\n",
       "      <td>3950</td>\n",
       "    </tr>\n",
       "    <tr>\n",
       "      <th>2</th>\n",
       "      <td>DRGS80</td>\n",
       "      <td>2024-03-02 16:35:00</td>\n",
       "      <td>ALV9938</td>\n",
       "      <td>Swamy</td>\n",
       "      <td>Vardaniya</td>\n",
       "      <td>IN</td>\n",
       "      <td>1945-02-23</td>\n",
       "      <td>6102977873</td>\n",
       "      <td>vardaniyaswamy3@example.com</td>\n",
       "      <td>Govt-Id</td>\n",
       "      <td>4283733463</td>\n",
       "      <td>NaN</td>\n",
       "      <td>0</td>\n",
       "      <td>S65</td>\n",
       "      <td>6.731611e+09</td>\n",
       "      <td>Platinum</td>\n",
       "      <td>3950</td>\n",
       "    </tr>\n",
       "    <tr>\n",
       "      <th>3</th>\n",
       "      <td>YEZQ47</td>\n",
       "      <td>2024-03-02 16:35:00</td>\n",
       "      <td>CEU7075</td>\n",
       "      <td>Edwin</td>\n",
       "      <td>Stuvan</td>\n",
       "      <td>IN</td>\n",
       "      <td>2003-06-18</td>\n",
       "      <td>5791967032</td>\n",
       "      <td>stuvanedwin1@example.com</td>\n",
       "      <td>Passport</td>\n",
       "      <td>139267560</td>\n",
       "      <td>NaN</td>\n",
       "      <td>0</td>\n",
       "      <td>ADT</td>\n",
       "      <td>7.214819e+09</td>\n",
       "      <td>Platinum</td>\n",
       "      <td>4000</td>\n",
       "    </tr>\n",
       "    <tr>\n",
       "      <th>4</th>\n",
       "      <td>YEZQ47</td>\n",
       "      <td>2024-03-02 16:35:00</td>\n",
       "      <td>WFG9647</td>\n",
       "      <td>Hernandez</td>\n",
       "      <td>Andrea</td>\n",
       "      <td>CA</td>\n",
       "      <td>1969-07-03</td>\n",
       "      <td>+1 (378) 291-0325</td>\n",
       "      <td>andreahernandez2@example.com</td>\n",
       "      <td>Govt-Id</td>\n",
       "      <td>5459762750</td>\n",
       "      <td>NaN</td>\n",
       "      <td>0</td>\n",
       "      <td>ADT</td>\n",
       "      <td>NaN</td>\n",
       "      <td>0</td>\n",
       "      <td>2200</td>\n",
       "    </tr>\n",
       "    <tr>\n",
       "      <th>...</th>\n",
       "      <td>...</td>\n",
       "      <td>...</td>\n",
       "      <td>...</td>\n",
       "      <td>...</td>\n",
       "      <td>...</td>\n",
       "      <td>...</td>\n",
       "      <td>...</td>\n",
       "      <td>...</td>\n",
       "      <td>...</td>\n",
       "      <td>...</td>\n",
       "      <td>...</td>\n",
       "      <td>...</td>\n",
       "      <td>...</td>\n",
       "      <td>...</td>\n",
       "      <td>...</td>\n",
       "      <td>...</td>\n",
       "      <td>...</td>\n",
       "    </tr>\n",
       "    <tr>\n",
       "      <th>152508</th>\n",
       "      <td>RIUQ17</td>\n",
       "      <td>2023-08-20 13:28:00</td>\n",
       "      <td>NQF8798</td>\n",
       "      <td>Shankar</td>\n",
       "      <td>Divit</td>\n",
       "      <td>IN</td>\n",
       "      <td>1981-08-22</td>\n",
       "      <td>(347) 703-8971</td>\n",
       "      <td>divitshankar3@example.com</td>\n",
       "      <td>Driving License</td>\n",
       "      <td>169860000000</td>\n",
       "      <td>NaN</td>\n",
       "      <td>0</td>\n",
       "      <td>ADT</td>\n",
       "      <td>NaN</td>\n",
       "      <td>0</td>\n",
       "      <td>1500</td>\n",
       "    </tr>\n",
       "    <tr>\n",
       "      <th>152509</th>\n",
       "      <td>RIUQ17</td>\n",
       "      <td>2023-08-20 13:28:00</td>\n",
       "      <td>RJI4602</td>\n",
       "      <td>Henderson</td>\n",
       "      <td>Autumn</td>\n",
       "      <td>US</td>\n",
       "      <td>2013-09-14</td>\n",
       "      <td>(371) 218-4438</td>\n",
       "      <td>autumnhenderson4@example.com</td>\n",
       "      <td>Govt-Id</td>\n",
       "      <td>7100653216</td>\n",
       "      <td>NaN</td>\n",
       "      <td>0</td>\n",
       "      <td>CHD</td>\n",
       "      <td>5.882689e+09</td>\n",
       "      <td>Gold</td>\n",
       "      <td>3100</td>\n",
       "    </tr>\n",
       "    <tr>\n",
       "      <th>152510</th>\n",
       "      <td>RIUQ17</td>\n",
       "      <td>2023-08-20 13:28:00</td>\n",
       "      <td>VPC0920</td>\n",
       "      <td>Ramanathan</td>\n",
       "      <td>Hridaan</td>\n",
       "      <td>IN</td>\n",
       "      <td>1944-09-06</td>\n",
       "      <td>(437) 839-4309</td>\n",
       "      <td>hridaanramanathan5@example.com</td>\n",
       "      <td>Driving License</td>\n",
       "      <td>715385534</td>\n",
       "      <td>NaN</td>\n",
       "      <td>0</td>\n",
       "      <td>S65</td>\n",
       "      <td>NaN</td>\n",
       "      <td>0</td>\n",
       "      <td>1500</td>\n",
       "    </tr>\n",
       "    <tr>\n",
       "      <th>152511</th>\n",
       "      <td>QLFS50</td>\n",
       "      <td>2023-08-20 13:28:00</td>\n",
       "      <td>BIB2224</td>\n",
       "      <td>Baria</td>\n",
       "      <td>Taimur</td>\n",
       "      <td>IN</td>\n",
       "      <td>2010-06-19</td>\n",
       "      <td>(771) 284-3525</td>\n",
       "      <td>taimurbaria1@example.com</td>\n",
       "      <td>Govt-Id</td>\n",
       "      <td>4431751697</td>\n",
       "      <td>NaN</td>\n",
       "      <td>0</td>\n",
       "      <td>CHD</td>\n",
       "      <td>3.701390e+09</td>\n",
       "      <td>Gold</td>\n",
       "      <td>2900</td>\n",
       "    </tr>\n",
       "    <tr>\n",
       "      <th>152512</th>\n",
       "      <td>RSMB57</td>\n",
       "      <td>2023-08-20 13:28:00</td>\n",
       "      <td>WWZ4650</td>\n",
       "      <td>Swanson</td>\n",
       "      <td>Michael</td>\n",
       "      <td>US</td>\n",
       "      <td>1985-04-05</td>\n",
       "      <td>(945) 565-9777</td>\n",
       "      <td>michaelswanson1@example.com</td>\n",
       "      <td>Govt-Id</td>\n",
       "      <td>1966570122</td>\n",
       "      <td>NRSA</td>\n",
       "      <td>0</td>\n",
       "      <td>ADT</td>\n",
       "      <td>4.330241e+09</td>\n",
       "      <td>Platinum</td>\n",
       "      <td>3100</td>\n",
       "    </tr>\n",
       "  </tbody>\n",
       "</table>\n",
       "<p>152513 rows × 17 columns</p>\n",
       "</div>"
      ],
      "text/plain": [
       "        RECLOC        CREATION_DTZ CUSTOMER_ID   LAST_NAME FIRST_NAME  \\\n",
       "0       DRGS80 2024-03-02 16:35:00     VNQ9748    Mitchell  Christina   \n",
       "1       DRGS80 2024-03-02 16:35:00     BAP1926      Parker    Rebecca   \n",
       "2       DRGS80 2024-03-02 16:35:00     ALV9938       Swamy  Vardaniya   \n",
       "3       YEZQ47 2024-03-02 16:35:00     CEU7075       Edwin     Stuvan   \n",
       "4       YEZQ47 2024-03-02 16:35:00     WFG9647   Hernandez     Andrea   \n",
       "...        ...                 ...         ...         ...        ...   \n",
       "152508  RIUQ17 2023-08-20 13:28:00     NQF8798     Shankar      Divit   \n",
       "152509  RIUQ17 2023-08-20 13:28:00     RJI4602   Henderson     Autumn   \n",
       "152510  RIUQ17 2023-08-20 13:28:00     VPC0920  Ramanathan    Hridaan   \n",
       "152511  QLFS50 2023-08-20 13:28:00     BIB2224       Baria     Taimur   \n",
       "152512  RSMB57 2023-08-20 13:28:00     WWZ4650     Swanson    Michael   \n",
       "\n",
       "       NATIONALITY        DOB     CONTACT_PH_NUM  \\\n",
       "0               CA 2003-06-01     1-769-506-8397   \n",
       "1               CA 2015-08-18     1-947-699-5143   \n",
       "2               IN 1945-02-23         6102977873   \n",
       "3               IN 2003-06-18         5791967032   \n",
       "4               CA 1969-07-03  +1 (378) 291-0325   \n",
       "...            ...        ...                ...   \n",
       "152508          IN 1981-08-22     (347) 703-8971   \n",
       "152509          US 2013-09-14     (371) 218-4438   \n",
       "152510          IN 1944-09-06     (437) 839-4309   \n",
       "152511          IN 2010-06-19     (771) 284-3525   \n",
       "152512          US 1985-04-05     (945) 565-9777   \n",
       "\n",
       "                         CONTACT_EMAIL         DOC_TYPE        DOC_ID  \\\n",
       "0       christinamitchell1@example.com  Driving License  299196000000   \n",
       "1           rebeccaparker2@example.com         Passport   11901984430   \n",
       "2          vardaniyaswamy3@example.com          Govt-Id    4283733463   \n",
       "3             stuvanedwin1@example.com         Passport     139267560   \n",
       "4         andreahernandez2@example.com          Govt-Id    5459762750   \n",
       "...                                ...              ...           ...   \n",
       "152508       divitshankar3@example.com  Driving License  169860000000   \n",
       "152509    autumnhenderson4@example.com          Govt-Id    7100653216   \n",
       "152510  hridaanramanathan5@example.com  Driving License     715385534   \n",
       "152511        taimurbaria1@example.com          Govt-Id    4431751697   \n",
       "152512     michaelswanson1@example.com          Govt-Id    1966570122   \n",
       "\n",
       "       SPECIAL_NAME_CD2 SSR_CODE_CD1 SPECIAL_NAME_CD1        FF_NUM TierLevel  \\\n",
       "0                   NaN            0              ADT  4.276771e+09      Gold   \n",
       "1                   NaN            0              CHD  8.493470e+09  Platinum   \n",
       "2                   NaN            0              S65  6.731611e+09  Platinum   \n",
       "3                   NaN            0              ADT  7.214819e+09  Platinum   \n",
       "4                   NaN            0              ADT           NaN         0   \n",
       "...                 ...          ...              ...           ...       ...   \n",
       "152508              NaN            0              ADT           NaN         0   \n",
       "152509              NaN            0              CHD  5.882689e+09      Gold   \n",
       "152510              NaN            0              S65           NaN         0   \n",
       "152511              NaN            0              CHD  3.701390e+09      Gold   \n",
       "152512             NRSA            0              ADT  4.330241e+09  Platinum   \n",
       "\n",
       "        PNR_SCORE  \n",
       "0            3750  \n",
       "1            3950  \n",
       "2            3950  \n",
       "3            4000  \n",
       "4            2200  \n",
       "...           ...  \n",
       "152508       1500  \n",
       "152509       3100  \n",
       "152510       1500  \n",
       "152511       2900  \n",
       "152512       3100  \n",
       "\n",
       "[152513 rows x 17 columns]"
      ]
     },
     "execution_count": 417,
     "metadata": {},
     "output_type": "execute_result"
    }
   ],
   "source": [
    "get_pnr_score(Pass_DF)"
   ]
  },
  {
   "cell_type": "code",
   "execution_count": 418,
   "id": "c9675ac9-751c-4c77-8391-13bce0f4a21a",
   "metadata": {},
   "outputs": [],
   "source": [
    "#Function that returns the PNRs that are affected based on flight no., and departure date of the cancelled flight\n",
    "def Affected_PNR(FLT_NUM, DEP_DATE, PNR_DF):\n",
    "    AffectedPNR = PNR_DF.loc[(PNR_DF['FLT_NUM'] == FLT_NUM) & (PNR_DF['DEP_DT']==DEP_DATE)]\n",
    "    return AffectedPNR"
   ]
  },
  {
   "cell_type": "code",
   "execution_count": 419,
   "id": "ff5409f0-3386-4cb2-82ac-4cf5ac6f6242",
   "metadata": {},
   "outputs": [],
   "source": [
    "#Dataframe consisting of affected PNRs\n",
    "aff = Affected_PNR(df2.loc[cancelled_flights[0],'FlightNumber'], df2.loc[cancelled_flights[0],'DepartureDate'], PNR_DF)"
   ]
  },
  {
   "cell_type": "code",
   "execution_count": 420,
   "id": "d4cc940b-82ce-43eb-8329-dab95f840bbf",
   "metadata": {},
   "outputs": [],
   "source": [
    "#Dataframe consisting of affected passengers\n",
    "total = pd.merge(Pass_DF, aff[['RECLOC']], on='RECLOC', how='inner')"
   ]
  },
  {
   "cell_type": "code",
   "execution_count": 421,
   "id": "ec3b5772-e11c-498e-b873-9a91c28accd9",
   "metadata": {},
   "outputs": [
    {
     "data": {
      "text/plain": [
       "225"
      ]
     },
     "execution_count": 421,
     "metadata": {},
     "output_type": "execute_result"
    }
   ],
   "source": [
    "len(total) #No. of passengers initially traveling in the affected flight"
   ]
  },
  {
   "cell_type": "code",
   "execution_count": 422,
   "id": "01e5d12e-ee3a-4013-b25a-c538490327d5",
   "metadata": {},
   "outputs": [],
   "source": [
    "num_affected_pax = len(total) - df2.loc[b, 'TotalCapacity']"
   ]
  },
  {
   "cell_type": "code",
   "execution_count": 423,
   "id": "9ce6def9-3c9a-44a0-81b8-4e4fe0d310d1",
   "metadata": {},
   "outputs": [
    {
     "name": "stdout",
     "output_type": "stream",
     "text": [
      "125\n"
     ]
    }
   ],
   "source": [
    "print(num_affected_pax)"
   ]
  },
  {
   "cell_type": "code",
   "execution_count": null,
   "id": "5d73f7a1-c708-4faf-98d6-b52ee6841fa0",
   "metadata": {},
   "outputs": [],
   "source": [
    "#num_affected_pax no. of affected passengers need to be identified \n",
    "#We will do this based on PNR score assigned"
   ]
  },
  {
   "cell_type": "code",
   "execution_count": 424,
   "id": "a8fff098-5d33-4593-aaed-db4bceae6b59",
   "metadata": {},
   "outputs": [],
   "source": [
    "#Importing class from PNR Data to Passenger Data\n",
    "aff_pax['Class'] = 'NaN'\n",
    "\n",
    "for i in range(len(aff)):\n",
    "    recloc_aff = aff.loc[aff.index[i], 'RECLOC']\n",
    "    class_aff = aff.loc[aff.index[i], 'COS_CD']\n",
    "\n",
    "    aff_pax.loc[aff_pax['RECLOC'] == recloc_aff, 'Class'] = class_aff"
   ]
  },
  {
   "cell_type": "code",
   "execution_count": 425,
   "id": "ef89a18e-a905-4133-a49b-35346df7a3cc",
   "metadata": {},
   "outputs": [],
   "source": [
    "total = total.sort_values(by='PNR_SCORE', ascending=True)   #Sorting passengers from low to high PNR Score"
   ]
  },
  {
   "cell_type": "code",
   "execution_count": 426,
   "id": "a11e3f01-8940-45fb-b88b-1b1dd7053aeb",
   "metadata": {},
   "outputs": [],
   "source": [
    "aff_pax = pd.DataFrame(total.head(num_affected_pax))"
   ]
  },
  {
   "cell_type": "code",
   "execution_count": 428,
   "id": "755fc5a8-9614-4d7f-9617-4aa1819315ce",
   "metadata": {},
   "outputs": [],
   "source": [
    "#Grouping passengers based on PNR_Score\n",
    "for i in range(len(aff_pax)):\n",
    "    score = aff_pax.loc[aff_pax.index[i], 'PNR_SCORE']\n",
    "    \n",
    "    if score >= 3500:\n",
    "        aff_pax.loc[aff_pax.index[i], 'PNR_SCORE'] = 5\n",
    "    elif score >= 3000:\n",
    "        aff_pax.loc[aff_pax.index[i], 'PNR_SCORE'] = 4\n",
    "    elif score >= 2500:\n",
    "        aff_pax.loc[aff_pax.index[i], 'PNR_SCORE'] = 3\n",
    "    elif score >= 2000:\n",
    "        aff_pax.loc[aff_pax.index[i], 'PNR_SCORE'] = 2\n",
    "    else:\n",
    "        aff_pax.loc[aff_pax.index[i], 'PNR_SCORE'] = 1"
   ]
  },
  {
   "cell_type": "code",
   "execution_count": 429,
   "id": "417749c3-4402-4993-9b43-6d38aa2dea80",
   "metadata": {},
   "outputs": [
    {
     "data": {
      "text/plain": [
       "PNR_SCORE\n",
       "2    43\n",
       "1    41\n",
       "4    32\n",
       "3     9\n",
       "Name: count, dtype: int64"
      ]
     },
     "execution_count": 429,
     "metadata": {},
     "output_type": "execute_result"
    }
   ],
   "source": [
    "aff_pax['PNR_SCORE'].value_counts()"
   ]
  },
  {
   "cell_type": "code",
   "execution_count": 430,
   "id": "68c2962c-070e-49e6-a29f-d316014751de",
   "metadata": {},
   "outputs": [],
   "source": [
    "value_counts = aff_pax['PNR_SCORE'].value_counts()"
   ]
  },
  {
   "cell_type": "code",
   "execution_count": 431,
   "id": "9e034f5b-aba2-46df-aeeb-2a1473475328",
   "metadata": {},
   "outputs": [],
   "source": [
    "# Convert the Series to a DataFrame\n",
    "freq_df = pd.DataFrame({'PNR_SCORE': value_counts.index, 'Frequency': value_counts.values})"
   ]
  },
  {
   "cell_type": "code",
   "execution_count": 432,
   "id": "ad6b776b-ec1f-48b5-bd32-0abe34ba6a70",
   "metadata": {},
   "outputs": [
    {
     "data": {
      "text/html": [
       "<div>\n",
       "<style scoped>\n",
       "    .dataframe tbody tr th:only-of-type {\n",
       "        vertical-align: middle;\n",
       "    }\n",
       "\n",
       "    .dataframe tbody tr th {\n",
       "        vertical-align: top;\n",
       "    }\n",
       "\n",
       "    .dataframe thead th {\n",
       "        text-align: right;\n",
       "    }\n",
       "</style>\n",
       "<table border=\"1\" class=\"dataframe\">\n",
       "  <thead>\n",
       "    <tr style=\"text-align: right;\">\n",
       "      <th></th>\n",
       "      <th>PNR_SCORE</th>\n",
       "      <th>Frequency</th>\n",
       "    </tr>\n",
       "  </thead>\n",
       "  <tbody>\n",
       "    <tr>\n",
       "      <th>0</th>\n",
       "      <td>2</td>\n",
       "      <td>43</td>\n",
       "    </tr>\n",
       "    <tr>\n",
       "      <th>1</th>\n",
       "      <td>1</td>\n",
       "      <td>41</td>\n",
       "    </tr>\n",
       "    <tr>\n",
       "      <th>2</th>\n",
       "      <td>4</td>\n",
       "      <td>32</td>\n",
       "    </tr>\n",
       "    <tr>\n",
       "      <th>3</th>\n",
       "      <td>3</td>\n",
       "      <td>9</td>\n",
       "    </tr>\n",
       "  </tbody>\n",
       "</table>\n",
       "</div>"
      ],
      "text/plain": [
       "   PNR_SCORE  Frequency\n",
       "0          2         43\n",
       "1          1         41\n",
       "2          4         32\n",
       "3          3          9"
      ]
     },
     "execution_count": 432,
     "metadata": {},
     "output_type": "execute_result"
    }
   ],
   "source": [
    "freq_df"
   ]
  },
  {
   "cell_type": "code",
   "execution_count": 433,
   "id": "28636190-eea1-4e11-8dd9-5c80e76e2466",
   "metadata": {},
   "outputs": [
    {
     "name": "stdout",
     "output_type": "stream",
     "text": [
      "[2, 1, 4, 3]\n",
      "[43, 41, 32, 9]\n"
     ]
    }
   ],
   "source": [
    "Score = []         #Array for storing PNR scores\n",
    "G = []             #Array for storing number of passengers \n",
    "                   #corresponding to the PNR Score\n",
    "for i in range(len(freq_df)):\n",
    "    Score.append(freq_df.loc[i, 'PNR_SCORE'])\n",
    "    G.append(freq_df.loc[i, 'Frequency'])\n",
    "print(Score)\n",
    "print(G)"
   ]
  },
  {
   "cell_type": "code",
   "execution_count": 434,
   "id": "c82452f1-68a5-4d4f-bdab-4b7310054628",
   "metadata": {},
   "outputs": [
    {
     "name": "stdout",
     "output_type": "stream",
     "text": [
      "[5.0, 5.0, 4.0, 1.0]\n"
     ]
    }
   ],
   "source": [
    "#Scaling down the values in G\n",
    "for i in range(len(G)):\n",
    "    G[i] = G[i]/10\n",
    "    G[i] = np.ceil(G[i])   #Ceil value so that number of passengers accommodated in\n",
    "                           #a flight is always less than than the flight's capacity\n",
    "print(G)"
   ]
  },
  {
   "cell_type": "code",
   "execution_count": 435,
   "id": "c1ccc4a5-0eb4-480c-ab67-38eb20eb0113",
   "metadata": {},
   "outputs": [],
   "source": [
    "from qiskit_algorithms import QAOA, NumPyMinimumEigensolver\n",
    "from qiskit_algorithms.optimizers import COBYLA, SPSA\n",
    "from qiskit.primitives import Sampler\n",
    "from qiskit_optimization.algorithms import (\n",
    "    MinimumEigenOptimizer,\n",
    "    SolutionSample,\n",
    "    OptimizationResultStatus,\n",
    ")\n",
    "from qiskit_optimization import QuadraticProgram\n",
    "from qiskit.visualization import plot_histogram\n",
    "from typing import List, Tuple\n",
    "import numpy as np\n",
    "from qiskit_optimization.translators import from_docplex_mp\n",
    "from qiskit_optimization.converters import LinearInequalityToPenalty, QuadraticProgramToQubo"
   ]
  },
  {
   "cell_type": "code",
   "execution_count": 436,
   "id": "779ff343-fa90-4f95-a982-f8d4af7db2cd",
   "metadata": {},
   "outputs": [
    {
     "name": "stdout",
     "output_type": "stream",
     "text": [
      "Problem name: \n",
      "\n",
      "Maximize\n",
      "  4*x_0_0 + 4*x_0_1 + 2*x_1_0 + 2*x_1_1 + 8*x_2_0 + 8*x_2_1 + 6*x_3_0 + 6*x_3_1\n",
      "\n",
      "Subject to\n",
      "  Linear constraints (6)\n",
      "    x_0_0 + x_0_1 <= 1  'c0'\n",
      "    x_1_0 + x_1_1 <= 1  'c1'\n",
      "    x_2_0 + x_2_1 <= 1  'c2'\n",
      "    x_3_0 + x_3_1 <= 1  'c3'\n",
      "    5*x_0_0 + 5*x_1_0 + 4*x_2_0 + x_3_0 <= 13  'c4'\n",
      "    5*x_0_1 + 5*x_1_1 + 4*x_2_1 + x_3_1 <= 13  'c5'\n",
      "\n",
      "  Binary variables (8)\n",
      "    x_0_0 x_1_0 x_2_0 x_3_0 x_0_1 x_1_1 x_2_1 x_3_1\n",
      "\n"
     ]
    }
   ],
   "source": [
    "#Formulating the problem\n",
    "qp = QuadraticProgram()\n",
    "\n",
    "#Defining variables\n",
    "for j in range(len(F)):\n",
    "    for i in range(len(Score)):\n",
    "        qp.binary_var(name=f'x_{i}_{j}')\n",
    "\n",
    "#Objective function\n",
    "linear_dict = {f'x_{i}_{j}': F[j] * Score[i] for i in range(len(Score)) for j in range(len(F))}\n",
    "qp.maximize(linear=linear_dict)\n",
    "\n",
    "#Add constraints\n",
    "#Passenger Constraint (Each passenger(group here) is assigned one flight)\n",
    "for k in range(len(Score)):\n",
    "    constraint1 = {f'x_{k}_{j}': 1 for j in range(len(F))}\n",
    "    qp.linear_constraint(linear=constraint1, sense='<=', rhs=1)\n",
    "\n",
    "#Flight Constraint (Flights shouldn't accommodate more than it can carry/fly)\n",
    "for k in range(len(F)):\n",
    "    constraint2 = {f'x_{i}_{k}': G[i] for i in range(len(Score))}\n",
    "    qp.linear_constraint(linear=constraint2, sense='<=', rhs=V_S[k])\n",
    "\n",
    "print(qp.prettyprint())"
   ]
  },
  {
   "cell_type": "code",
   "execution_count": 437,
   "id": "f813cb63-8c66-468d-a403-d5e319d0edea",
   "metadata": {},
   "outputs": [
    {
     "name": "stdout",
     "output_type": "stream",
     "text": [
      "Problem name: \n",
      "\n",
      "Minimize\n",
      "  205*c4@int_slack@0^2 + 820*c4@int_slack@0*c4@int_slack@1\n",
      "  + 1640*c4@int_slack@0*c4@int_slack@2 + 2460*c4@int_slack@0*c4@int_slack@3\n",
      "  + 820*c4@int_slack@1^2 + 3280*c4@int_slack@1*c4@int_slack@2\n",
      "  + 4920*c4@int_slack@1*c4@int_slack@3 + 3280*c4@int_slack@2^2\n",
      "  + 9840*c4@int_slack@2*c4@int_slack@3 + 7380*c4@int_slack@3^2\n",
      "  + 205*c5@int_slack@0^2 + 820*c5@int_slack@0*c5@int_slack@1\n",
      "  + 1640*c5@int_slack@0*c5@int_slack@2 + 2460*c5@int_slack@0*c5@int_slack@3\n",
      "  + 820*c5@int_slack@1^2 + 3280*c5@int_slack@1*c5@int_slack@2\n",
      "  + 4920*c5@int_slack@1*c5@int_slack@3 + 3280*c5@int_slack@2^2\n",
      "  + 9840*c5@int_slack@2*c5@int_slack@3 + 7380*c5@int_slack@3^2\n",
      "  + 2050*x_0_0*c4@int_slack@0 + 4100*x_0_0*c4@int_slack@1\n",
      "  + 8200*x_0_0*c4@int_slack@2 + 12300*x_0_0*c4@int_slack@3 + 5125*x_0_0^2\n",
      "  + 41*x_0_0*x_0_1 + 10250*x_0_0*x_1_0 + 8200*x_0_0*x_2_0 + 2050*x_0_0*x_3_0\n",
      "  + 2050*x_0_1*c5@int_slack@0 + 4100*x_0_1*c5@int_slack@1\n",
      "  + 8200*x_0_1*c5@int_slack@2 + 12300*x_0_1*c5@int_slack@3 + 5125*x_0_1^2\n",
      "  + 10250*x_0_1*x_1_1 + 8200*x_0_1*x_2_1 + 2050*x_0_1*x_3_1\n",
      "  + 2050*x_1_0*c4@int_slack@0 + 4100*x_1_0*c4@int_slack@1\n",
      "  + 8200*x_1_0*c4@int_slack@2 + 12300*x_1_0*c4@int_slack@3 + 5125*x_1_0^2\n",
      "  + 41*x_1_0*x_1_1 + 8200*x_1_0*x_2_0 + 2050*x_1_0*x_3_0\n",
      "  + 2050*x_1_1*c5@int_slack@0 + 4100*x_1_1*c5@int_slack@1\n",
      "  + 8200*x_1_1*c5@int_slack@2 + 12300*x_1_1*c5@int_slack@3 + 5125*x_1_1^2\n",
      "  + 8200*x_1_1*x_2_1 + 2050*x_1_1*x_3_1 + 1640*x_2_0*c4@int_slack@0\n",
      "  + 3280*x_2_0*c4@int_slack@1 + 6560*x_2_0*c4@int_slack@2\n",
      "  + 9840*x_2_0*c4@int_slack@3 + 3280*x_2_0^2 + 41*x_2_0*x_2_1 + 1640*x_2_0*x_3_0\n",
      "  + 1640*x_2_1*c5@int_slack@0 + 3280*x_2_1*c5@int_slack@1\n",
      "  + 6560*x_2_1*c5@int_slack@2 + 9840*x_2_1*c5@int_slack@3 + 3280*x_2_1^2\n",
      "  + 1640*x_2_1*x_3_1 + 410*x_3_0*c4@int_slack@0 + 820*x_3_0*c4@int_slack@1\n",
      "  + 1640*x_3_0*c4@int_slack@2 + 2460*x_3_0*c4@int_slack@3 + 205*x_3_0^2\n",
      "  + 41*x_3_0*x_3_1 + 410*x_3_1*c5@int_slack@0 + 820*x_3_1*c5@int_slack@1\n",
      "  + 1640*x_3_1*c5@int_slack@2 + 2460*x_3_1*c5@int_slack@3 + 205*x_3_1^2\n",
      "  - 5330*c4@int_slack@0 - 10660*c4@int_slack@1 - 21320*c4@int_slack@2\n",
      "  - 31980*c4@int_slack@3 - 5330*c5@int_slack@0 - 10660*c5@int_slack@1\n",
      "  - 21320*c5@int_slack@2 - 31980*c5@int_slack@3 - 26654*x_0_0 - 26654*x_0_1\n",
      "  - 26652*x_1_0 - 26652*x_1_1 - 21328*x_2_0 - 21328*x_2_1 - 5336*x_3_0\n",
      "  - 5336*x_3_1 + 69290\n",
      "\n",
      "Subject to\n",
      "  No constraints\n",
      "\n",
      "  Binary variables (16)\n",
      "    x_0_0 x_1_0 x_2_0 x_3_0 x_0_1 x_1_1 x_2_1 x_3_1 c4@int_slack@0\n",
      "    c4@int_slack@1 c4@int_slack@2 c4@int_slack@3 c5@int_slack@0 c5@int_slack@1\n",
      "    c5@int_slack@2 c5@int_slack@3\n",
      "\n"
     ]
    }
   ],
   "source": [
    "#Converting our problem to QUBO using optimization converters\n",
    "ineq2pen_2 = QuadraticProgramToQubo()\n",
    "qubo = ineq2pen_2.convert(qp)\n",
    "print(qubo.prettyprint())\n",
    "#All the constraints have been converted to penalty terms and added \n",
    "#to the objective function as well as slack variables are introduced"
   ]
  },
  {
   "cell_type": "code",
   "execution_count": 438,
   "id": "554d27ef-8bb7-4ade-abed-accc4c60c5e1",
   "metadata": {},
   "outputs": [
    {
     "name": "stdout",
     "output_type": "stream",
     "text": [
      "offset: 13141.0\n",
      "H:\n",
      "SparsePauliOp(['IIIIIIIIIIIIIIIZ', 'IIIIIIIIIIIZIIII', 'IIIIIIIIIIIIIIZI', 'IIIIIIIIIIZIIIII', 'IIIIIIIIIIIIIZII', 'IIIIIIIIIZIIIIII', 'IIIIIIIIIIIIZIII', 'IIIIIIIIZIIIIIII', 'IIIIIIIZIIIIIIII', 'IIIIIIZIIIIIIIII', 'IIIIIZIIIIIIIIII', 'IIIIZIIIIIIIIIII', 'IIIZIIIIIIIIIIII', 'IIZIIIIIIIIIIIII', 'IZIIIIIIIIIIIIII', 'ZIIIIIIIIIIIIIII', 'IIIIIIIIIIIIIIZZ', 'IIIIIIIIIIIIIZIZ', 'IIIIIIIIIIIIZIIZ', 'IIIIIIIIIIIZIIIZ', 'IIIIIIIZIIIIIIIZ', 'IIIIIIZIIIIIIIIZ', 'IIIIIZIIIIIIIIIZ', 'IIIIZIIIIIIIIIIZ', 'IIIIIIIIIIIIIZZI', 'IIIIIIIIIIIIZIZI', 'IIIIIIIIIIZIIIZI', 'IIIIIIIZIIIIIIZI', 'IIIIIIZIIIIIIIZI', 'IIIIIZIIIIIIIIZI', 'IIIIZIIIIIIIIIZI', 'IIIIIIIIIIIIZZII', 'IIIIIIIIIZIIIZII', 'IIIIIIIZIIIIIZII', 'IIIIIIZIIIIIIZII', 'IIIIIZIIIIIIIZII', 'IIIIZIIIIIIIIZII', 'IIIIIIIIZIIIZIII', 'IIIIIIIZIIIIZIII', 'IIIIIIZIIIIIZIII', 'IIIIIZIIIIIIZIII', 'IIIIZIIIIIIIZIII', 'IIIIIIIIIIZZIIII', 'IIIIIIIIIZIZIIII', 'IIIIIIIIZIIZIIII', 'IIIZIIIIIIIZIIII', 'IIZIIIIIIIIZIIII', 'IZIIIIIIIIIZIIII', 'ZIIIIIIIIIIZIIII', 'IIIIIIIIIZZIIIII', 'IIIIIIIIZIZIIIII', 'IIIZIIIIIIZIIIII', 'IIZIIIIIIIZIIIII', 'IZIIIIIIIIZIIIII', 'ZIIIIIIIIIZIIIII', 'IIIIIIIIZZIIIIII', 'IIIZIIIIIZIIIIII', 'IIZIIIIIIZIIIIII', 'IZIIIIIIIZIIIIII', 'ZIIIIIIIIZIIIIII', 'IIIZIIIIZIIIIIII', 'IIZIIIIIZIIIIIII', 'IZIIIIIIZIIIIIII', 'ZIIIIIIIZIIIIIII', 'IIIIIIZZIIIIIIII', 'IIIIIZIZIIIIIIII', 'IIIIZIIZIIIIIIII', 'IIIIIZZIIIIIIIII', 'IIIIZIZIIIIIIIII', 'IIIIZZIIIIIIIIII', 'IIZZIIIIIIIIIIII', 'IZIZIIIIIIIIIIII', 'ZIIZIIIIIIIIIIII', 'IZZIIIIIIIIIIIII', 'ZIZIIIIIIIIIIIII', 'ZZIIIIIIIIIIIIII'],\n",
      "              coeffs=[-1033.25+0.j, -1033.25+0.j, -1034.25+0.j, -1034.25+0.j,  -826.25+0.j,\n",
      "  -826.25+0.j,  -212.25+0.j,  -212.25+0.j,  -205.  +0.j,  -410.  +0.j,\n",
      "  -820.  +0.j, -1230.  +0.j,  -205.  +0.j,  -410.  +0.j,  -820.  +0.j,\n",
      " -1230.  +0.j,  2562.5 +0.j,  2050.  +0.j,   512.5 +0.j,    10.25+0.j,\n",
      "   512.5 +0.j,  1025.  +0.j,  2050.  +0.j,  3075.  +0.j,  2050.  +0.j,\n",
      "   512.5 +0.j,    10.25+0.j,   512.5 +0.j,  1025.  +0.j,  2050.  +0.j,\n",
      "  3075.  +0.j,   410.  +0.j,    10.25+0.j,   410.  +0.j,   820.  +0.j,\n",
      "  1640.  +0.j,  2460.  +0.j,    10.25+0.j,   102.5 +0.j,   205.  +0.j,\n",
      "   410.  +0.j,   615.  +0.j,  2562.5 +0.j,  2050.  +0.j,   512.5 +0.j,\n",
      "   512.5 +0.j,  1025.  +0.j,  2050.  +0.j,  3075.  +0.j,  2050.  +0.j,\n",
      "   512.5 +0.j,   512.5 +0.j,  1025.  +0.j,  2050.  +0.j,  3075.  +0.j,\n",
      "   410.  +0.j,   410.  +0.j,   820.  +0.j,  1640.  +0.j,  2460.  +0.j,\n",
      "   102.5 +0.j,   205.  +0.j,   410.  +0.j,   615.  +0.j,   205.  +0.j,\n",
      "   410.  +0.j,   615.  +0.j,   820.  +0.j,  1230.  +0.j,  2460.  +0.j,\n",
      "   205.  +0.j,   410.  +0.j,   615.  +0.j,   820.  +0.j,  1230.  +0.j,\n",
      "  2460.  +0.j])\n"
     ]
    }
   ],
   "source": [
    "#Converting our QUBO problem to Ising Model \n",
    "H, offset = qubo.to_ising()\n",
    "print(\"offset: {}\".format(offset))\n",
    "print(\"H:\")\n",
    "print(H)    #The Hamiltonian for our problem"
   ]
  },
  {
   "cell_type": "code",
   "execution_count": 439,
   "id": "2d62547d-acdb-42d0-b9df-18468ab586d6",
   "metadata": {},
   "outputs": [],
   "source": [
    "qaoa_mes = QAOA(sampler=Sampler(), optimizer=COBYLA(),reps=1)"
   ]
  },
  {
   "cell_type": "code",
   "execution_count": 440,
   "id": "ece4be4c-c621-4fc2-ae2b-425b2761a1b8",
   "metadata": {},
   "outputs": [],
   "source": [
    "qaoa = MinimumEigenOptimizer(qaoa_mes)  # using QAOA"
   ]
  },
  {
   "cell_type": "code",
   "execution_count": 441,
   "id": "a786d3b0-96a2-46e1-8808-6e3b3bedc435",
   "metadata": {},
   "outputs": [
    {
     "name": "stdout",
     "output_type": "stream",
     "text": [
      "objective function value: -20.0\n",
      "variable values: x_0_0=0.0, x_1_0=0.0, x_2_0=1.0, x_3_0=0.0, x_0_1=1.0, x_1_1=1.0, x_2_1=0.0, x_3_1=1.0, c4@int_slack@0=1.0, c4@int_slack@1=1.0, c4@int_slack@2=0.0, c4@int_slack@3=1.0, c5@int_slack@0=0.0, c5@int_slack@1=1.0, c5@int_slack@2=0.0, c5@int_slack@3=0.0\n",
      "status: SUCCESS\n"
     ]
    }
   ],
   "source": [
    "qubo_result = qaoa.solve(qubo)\n",
    "print(qubo_result.prettyprint())"
   ]
  },
  {
   "cell_type": "code",
   "execution_count": 444,
   "id": "c7ea14bb-1394-419b-aa21-917dca94983d",
   "metadata": {},
   "outputs": [
    {
     "name": "stdout",
     "output_type": "stream",
     "text": [
      "variable order: ['x_0_0', 'x_1_0', 'x_2_0', 'x_3_0', 'x_0_1', 'x_1_1', 'x_2_1', 'x_3_1', 'c4@int_slack@0', 'c4@int_slack@1', 'c4@int_slack@2', 'c4@int_slack@3', 'c5@int_slack@0', 'c5@int_slack@1', 'c5@int_slack@2', 'c5@int_slack@3']\n"
     ]
    }
   ],
   "source": [
    "print(\"variable order:\", [var.name for var in qubo_result.variables])\n",
    "X = []\n",
    "for i in range(min(4, len(qubo_result.samples))):\n",
    "    sample = qubo_result.samples[i]\n",
    "\n",
    "    # Extract 'x' array from the sample\n",
    "    x_array = sample.x\n",
    "    X.append(x_array[:len(Score) * len(F)])   #Omitting the slack variables"
   ]
  },
  {
   "cell_type": "code",
   "execution_count": 445,
   "id": "371c7ec2-d703-4c84-827a-589839556c18",
   "metadata": {},
   "outputs": [
    {
     "data": {
      "text/plain": [
       "[array([0., 0., 1., 0., 1., 1., 0., 1.]),\n",
       " array([0., 0., 1., 1., 1., 1., 0., 0.]),\n",
       " array([0., 1., 0., 0., 1., 0., 1., 1.]),\n",
       " array([1., 0., 0., 0., 0., 1., 1., 1.])]"
      ]
     },
     "execution_count": 445,
     "metadata": {},
     "output_type": "execute_result"
    }
   ],
   "source": [
    "X #List that contains the first 4 optimal solutions"
   ]
  },
  {
   "cell_type": "code",
   "execution_count": 446,
   "id": "8d1f40a2-2be3-4256-af15-fbe893445cac",
   "metadata": {},
   "outputs": [
    {
     "data": {
      "text/plain": [
       "array([0., 0., 1., 0., 1., 1., 0., 1.])"
      ]
     },
     "execution_count": 446,
     "metadata": {},
     "output_type": "execute_result"
    }
   ],
   "source": [
    "#Anslyzing first solution\n",
    "n=1\n",
    "X[n-1]"
   ]
  },
  {
   "cell_type": "code",
   "execution_count": 447,
   "id": "38ebe4b1-60b0-44ef-b4fb-25401740ffc5",
   "metadata": {},
   "outputs": [],
   "source": [
    "aff_pax['Alt_Fli'] = 'NaN'      #New column for storing the assigned alternate flight to passengers"
   ]
  },
  {
   "cell_type": "code",
   "execution_count": 448,
   "id": "2e3bcceb-49b7-49c7-b7ff-5141bb596f18",
   "metadata": {},
   "outputs": [
    {
     "name": "stdout",
     "output_type": "stream",
     "text": [
      "Group 3 is assigned to Flight 1\n",
      "Group 1 is assigned to Flight 2\n",
      "Group 2 is assigned to Flight 2\n",
      "Group 4 is assigned to Flight 2\n"
     ]
    }
   ],
   "source": [
    "for i in range(len(X[n-1])):\n",
    "    if X[n-1][i] == 1:\n",
    "        alt_flight_number = (i // len(Score)) + 1\n",
    "        group_index = (i % len(Score)) + 1\n",
    "        assignment_info = f\"Group {group_index} is assigned to Flight {alt_flight_number}\" \n",
    "        print(assignment_info)\n",
    "        condition = aff_pax['PNR_SCORE'] == Score[group_index - 1]\n",
    "        aff_pax.loc[condition, 'Alt_Fli'] = Av_Fl[alt_flight_number - 1]       "
   ]
  },
  {
   "cell_type": "code",
   "execution_count": 282,
   "id": "3d06a9ed-956d-4d0a-a2ed-783866cf36a4",
   "metadata": {},
   "outputs": [
    {
     "data": {
      "text/plain": [
       "Alt_Fli\n",
       "295    85\n",
       "294    35\n",
       "Name: count, dtype: int64"
      ]
     },
     "execution_count": 282,
     "metadata": {},
     "output_type": "execute_result"
    }
   ],
   "source": [
    "aff_pax['Alt_Fli'].value_counts()  #No. of passengers in each flight"
   ]
  },
  {
   "cell_type": "code",
   "execution_count": 283,
   "id": "1a34eff9-0353-49ba-acab-908ea52a2e3f",
   "metadata": {},
   "outputs": [],
   "source": [
    "filt = (aff_pax['Alt_Fli'] != 'NaN')\n",
    "Reaccommodated_List_df = aff_pax.loc[filt] #Dataframe that contains the passengers who were rescheduled"
   ]
  },
  {
   "cell_type": "code",
   "execution_count": 284,
   "id": "380a686b-e704-4225-8c29-51424fd8198b",
   "metadata": {},
   "outputs": [
    {
     "data": {
      "text/html": [
       "<div>\n",
       "<style scoped>\n",
       "    .dataframe tbody tr th:only-of-type {\n",
       "        vertical-align: middle;\n",
       "    }\n",
       "\n",
       "    .dataframe tbody tr th {\n",
       "        vertical-align: top;\n",
       "    }\n",
       "\n",
       "    .dataframe thead th {\n",
       "        text-align: right;\n",
       "    }\n",
       "</style>\n",
       "<table border=\"1\" class=\"dataframe\">\n",
       "  <thead>\n",
       "    <tr style=\"text-align: right;\">\n",
       "      <th></th>\n",
       "      <th>RECLOC</th>\n",
       "      <th>CREATION_DTZ</th>\n",
       "      <th>CUSTOMER_ID</th>\n",
       "      <th>LAST_NAME</th>\n",
       "      <th>FIRST_NAME</th>\n",
       "      <th>NATIONALITY</th>\n",
       "      <th>DOB</th>\n",
       "      <th>CONTACT_PH_NUM</th>\n",
       "      <th>CONTACT_EMAIL</th>\n",
       "      <th>DOC_TYPE</th>\n",
       "      <th>DOC_ID</th>\n",
       "      <th>SPECIAL_NAME_CD2</th>\n",
       "      <th>SSR_CODE_CD1</th>\n",
       "      <th>SPECIAL_NAME_CD1</th>\n",
       "      <th>FF_NUM</th>\n",
       "      <th>TierLevel</th>\n",
       "      <th>PNR_SCORE</th>\n",
       "      <th>Alt_Fli</th>\n",
       "      <th>Assigned Class</th>\n",
       "      <th>Class</th>\n",
       "    </tr>\n",
       "  </thead>\n",
       "  <tbody>\n",
       "    <tr>\n",
       "      <th>20</th>\n",
       "      <td>SNGP60</td>\n",
       "      <td>2023-12-10 12:29:00</td>\n",
       "      <td>GNG7504</td>\n",
       "      <td>Day</td>\n",
       "      <td>Mary</td>\n",
       "      <td>CA</td>\n",
       "      <td>2014-02-10</td>\n",
       "      <td>(702) 282-5040</td>\n",
       "      <td>maryday2@example.com</td>\n",
       "      <td>Govt-Id</td>\n",
       "      <td>197370551</td>\n",
       "      <td>NaN</td>\n",
       "      <td>0</td>\n",
       "      <td>CHD</td>\n",
       "      <td>NaN</td>\n",
       "      <td>0</td>\n",
       "      <td>1</td>\n",
       "      <td>295</td>\n",
       "      <td></td>\n",
       "      <td>EconomyClass</td>\n",
       "    </tr>\n",
       "    <tr>\n",
       "      <th>167</th>\n",
       "      <td>MHHC93</td>\n",
       "      <td>2024-02-23 13:58:00</td>\n",
       "      <td>YNG8686</td>\n",
       "      <td>Shenoy</td>\n",
       "      <td>Ritvik</td>\n",
       "      <td>IN</td>\n",
       "      <td>1938-06-13</td>\n",
       "      <td>(517) 600-3057</td>\n",
       "      <td>ritvikshenoy2@example.com</td>\n",
       "      <td>Driving License</td>\n",
       "      <td>952259000000</td>\n",
       "      <td>NRPS</td>\n",
       "      <td>0</td>\n",
       "      <td>S65</td>\n",
       "      <td>NaN</td>\n",
       "      <td>0</td>\n",
       "      <td>1</td>\n",
       "      <td>295</td>\n",
       "      <td></td>\n",
       "      <td>EconomyClass</td>\n",
       "    </tr>\n",
       "    <tr>\n",
       "      <th>161</th>\n",
       "      <td>HMXJ76</td>\n",
       "      <td>2024-05-01 12:25:00</td>\n",
       "      <td>WOR5921</td>\n",
       "      <td>Bhatt</td>\n",
       "      <td>Eva</td>\n",
       "      <td>IN</td>\n",
       "      <td>2006-01-08</td>\n",
       "      <td>(692) 504-1512</td>\n",
       "      <td>evabhatt2@example.com</td>\n",
       "      <td>Passport</td>\n",
       "      <td>71805514</td>\n",
       "      <td>NRPS</td>\n",
       "      <td>0</td>\n",
       "      <td>CHD</td>\n",
       "      <td>NaN</td>\n",
       "      <td>0</td>\n",
       "      <td>1</td>\n",
       "      <td>295</td>\n",
       "      <td></td>\n",
       "      <td>EconomyClass</td>\n",
       "    </tr>\n",
       "    <tr>\n",
       "      <th>23</th>\n",
       "      <td>SRHC34</td>\n",
       "      <td>2024-03-04 03:48:00</td>\n",
       "      <td>IVG6789</td>\n",
       "      <td>Roy</td>\n",
       "      <td>Shanaya</td>\n",
       "      <td>IN</td>\n",
       "      <td>1990-04-14</td>\n",
       "      <td>(693) 203-3752</td>\n",
       "      <td>shanayaroy3@example.com</td>\n",
       "      <td>Govt-Id</td>\n",
       "      <td>2625592548</td>\n",
       "      <td>NaN</td>\n",
       "      <td>0</td>\n",
       "      <td>ADT</td>\n",
       "      <td>NaN</td>\n",
       "      <td>0</td>\n",
       "      <td>1</td>\n",
       "      <td>295</td>\n",
       "      <td></td>\n",
       "      <td>EconomyClass</td>\n",
       "    </tr>\n",
       "    <tr>\n",
       "      <th>22</th>\n",
       "      <td>SRHC34</td>\n",
       "      <td>2024-03-04 03:48:00</td>\n",
       "      <td>ETD8927</td>\n",
       "      <td>Kaur</td>\n",
       "      <td>Divyansh</td>\n",
       "      <td>IN</td>\n",
       "      <td>1938-01-13</td>\n",
       "      <td>(318) 649-6156</td>\n",
       "      <td>divyanshkaur2@example.com</td>\n",
       "      <td>Passport</td>\n",
       "      <td>552492834</td>\n",
       "      <td>NRPS</td>\n",
       "      <td>0</td>\n",
       "      <td>S65</td>\n",
       "      <td>NaN</td>\n",
       "      <td>0</td>\n",
       "      <td>1</td>\n",
       "      <td>295</td>\n",
       "      <td></td>\n",
       "      <td>EconomyClass</td>\n",
       "    </tr>\n",
       "  </tbody>\n",
       "</table>\n",
       "</div>"
      ],
      "text/plain": [
       "     RECLOC        CREATION_DTZ CUSTOMER_ID LAST_NAME FIRST_NAME NATIONALITY  \\\n",
       "20   SNGP60 2023-12-10 12:29:00     GNG7504       Day       Mary          CA   \n",
       "167  MHHC93 2024-02-23 13:58:00     YNG8686    Shenoy     Ritvik          IN   \n",
       "161  HMXJ76 2024-05-01 12:25:00     WOR5921     Bhatt        Eva          IN   \n",
       "23   SRHC34 2024-03-04 03:48:00     IVG6789       Roy    Shanaya          IN   \n",
       "22   SRHC34 2024-03-04 03:48:00     ETD8927      Kaur   Divyansh          IN   \n",
       "\n",
       "           DOB  CONTACT_PH_NUM              CONTACT_EMAIL         DOC_TYPE  \\\n",
       "20  2014-02-10  (702) 282-5040       maryday2@example.com          Govt-Id   \n",
       "167 1938-06-13  (517) 600-3057  ritvikshenoy2@example.com  Driving License   \n",
       "161 2006-01-08  (692) 504-1512      evabhatt2@example.com         Passport   \n",
       "23  1990-04-14  (693) 203-3752    shanayaroy3@example.com          Govt-Id   \n",
       "22  1938-01-13  (318) 649-6156  divyanshkaur2@example.com         Passport   \n",
       "\n",
       "           DOC_ID SPECIAL_NAME_CD2 SSR_CODE_CD1 SPECIAL_NAME_CD1  FF_NUM  \\\n",
       "20      197370551              NaN            0              CHD     NaN   \n",
       "167  952259000000             NRPS            0              S65     NaN   \n",
       "161      71805514             NRPS            0              CHD     NaN   \n",
       "23     2625592548              NaN            0              ADT     NaN   \n",
       "22      552492834             NRPS            0              S65     NaN   \n",
       "\n",
       "    TierLevel  PNR_SCORE Alt_Fli Assigned Class         Class  \n",
       "20          0          1     295                 EconomyClass  \n",
       "167         0          1     295                 EconomyClass  \n",
       "161         0          1     295                 EconomyClass  \n",
       "23          0          1     295                 EconomyClass  \n",
       "22          0          1     295                 EconomyClass  "
      ]
     },
     "execution_count": 284,
     "metadata": {},
     "output_type": "execute_result"
    }
   ],
   "source": [
    "Reaccommodated_List_df.head()"
   ]
  },
  {
   "cell_type": "code",
   "execution_count": 285,
   "id": "30682413-7d22-4f8f-bf9e-c8e5221317db",
   "metadata": {},
   "outputs": [],
   "source": [
    "filt = (aff_pax['Alt_Fli'] == 'NaN')\n",
    "Exception_List_df = aff_pax.loc[filt] #Dataframe that contains the passengers who couldn't be rescheduled"
   ]
  },
  {
   "cell_type": "code",
   "execution_count": 286,
   "id": "53305d6a-87ab-4ee2-a2fe-b6cc2d8a8d39",
   "metadata": {},
   "outputs": [
    {
     "data": {
      "text/html": [
       "<div>\n",
       "<style scoped>\n",
       "    .dataframe tbody tr th:only-of-type {\n",
       "        vertical-align: middle;\n",
       "    }\n",
       "\n",
       "    .dataframe tbody tr th {\n",
       "        vertical-align: top;\n",
       "    }\n",
       "\n",
       "    .dataframe thead th {\n",
       "        text-align: right;\n",
       "    }\n",
       "</style>\n",
       "<table border=\"1\" class=\"dataframe\">\n",
       "  <thead>\n",
       "    <tr style=\"text-align: right;\">\n",
       "      <th></th>\n",
       "      <th>RECLOC</th>\n",
       "      <th>CREATION_DTZ</th>\n",
       "      <th>CUSTOMER_ID</th>\n",
       "      <th>LAST_NAME</th>\n",
       "      <th>FIRST_NAME</th>\n",
       "      <th>NATIONALITY</th>\n",
       "      <th>DOB</th>\n",
       "      <th>CONTACT_PH_NUM</th>\n",
       "      <th>CONTACT_EMAIL</th>\n",
       "      <th>DOC_TYPE</th>\n",
       "      <th>DOC_ID</th>\n",
       "      <th>SPECIAL_NAME_CD2</th>\n",
       "      <th>SSR_CODE_CD1</th>\n",
       "      <th>SPECIAL_NAME_CD1</th>\n",
       "      <th>FF_NUM</th>\n",
       "      <th>TierLevel</th>\n",
       "      <th>PNR_SCORE</th>\n",
       "      <th>Alt_Fli</th>\n",
       "      <th>Assigned Class</th>\n",
       "      <th>Class</th>\n",
       "    </tr>\n",
       "  </thead>\n",
       "  <tbody>\n",
       "  </tbody>\n",
       "</table>\n",
       "</div>"
      ],
      "text/plain": [
       "Empty DataFrame\n",
       "Columns: [RECLOC, CREATION_DTZ, CUSTOMER_ID, LAST_NAME, FIRST_NAME, NATIONALITY, DOB, CONTACT_PH_NUM, CONTACT_EMAIL, DOC_TYPE, DOC_ID, SPECIAL_NAME_CD2, SSR_CODE_CD1, SPECIAL_NAME_CD1, FF_NUM, TierLevel, PNR_SCORE, Alt_Fli, Assigned Class, Class]\n",
       "Index: []"
      ]
     },
     "execution_count": 286,
     "metadata": {},
     "output_type": "execute_result"
    }
   ],
   "source": [
    "Exception_List_df.head()"
   ]
  },
  {
   "cell_type": "code",
   "execution_count": 287,
   "id": "803e19bd-6172-42de-aa36-9bf873064d0f",
   "metadata": {},
   "outputs": [
    {
     "name": "stdout",
     "output_type": "stream",
     "text": [
      "120 passengers out of 120 were reaccommodated\n"
     ]
    }
   ],
   "source": [
    "print(f'{len(Reaccommodated_List_df)} passengers out of {len(aff_pax)} were reaccommodated')"
   ]
  },
  {
   "cell_type": "code",
   "execution_count": 288,
   "id": "d0eee16f-fd07-497d-8126-2fa2e5c284f5",
   "metadata": {},
   "outputs": [],
   "source": [
    "#Importing class from PNR Data to Passenger Data\n",
    "aff_pax['Class'] = 'NaN'\n",
    "\n",
    "for i in range(len(aff)):\n",
    "    recloc_aff = aff.loc[aff.index[i], 'RECLOC']\n",
    "    class_aff = aff.loc[aff.index[i], 'COS_CD']\n",
    "\n",
    "    aff_pax.loc[aff_pax['RECLOC'] == recloc_aff, 'Class'] = class_aff"
   ]
  },
  {
   "cell_type": "code",
   "execution_count": 289,
   "id": "0d38e9d9-e139-4cf2-b5a2-3e9ac3ae832e",
   "metadata": {},
   "outputs": [],
   "source": [
    "aff_pax['Assigned Class'] = ''     #New column for storing the newly assigned class in alternate flights"
   ]
  },
  {
   "cell_type": "code",
   "execution_count": 290,
   "id": "95502de5-b7ad-4541-bddb-e96c93e922b8",
   "metadata": {},
   "outputs": [],
   "source": [
    "#Alternate flight 1\n",
    "f = 1\n",
    "filt = (aff_pax['Alt_Fli'] == Av_Fl[f-1])\n",
    "filtered = aff_pax.loc[filt]"
   ]
  },
  {
   "cell_type": "code",
   "execution_count": 291,
   "id": "0eba8e16-5e09-4ebe-9a6a-60a03d5c780a",
   "metadata": {},
   "outputs": [],
   "source": [
    "filt = (aff_pax['Alt_Fli'] == Av_Fl[f-1])\n",
    "filtered_pass_data_1 = aff_pax.loc[filt]"
   ]
  },
  {
   "cell_type": "code",
   "execution_count": 292,
   "id": "aaa7b4ae-f09b-4a6e-8ec3-53e11f7b6bfc",
   "metadata": {},
   "outputs": [],
   "source": [
    "# Assign classes based on 'Score' and class limits\n",
    "def assign_class(row):\n",
    "     global class_count\n",
    "     for category, limit in class_limits.items():\n",
    "           if class_count[category] < limit:\n",
    "               class_count[category] += 1\n",
    "               return category\n",
    "     return None"
   ]
  },
  {
   "cell_type": "code",
   "execution_count": 293,
   "id": "73005a79-6b64-4d8a-b5a0-8be9ec3d2d63",
   "metadata": {},
   "outputs": [],
   "source": [
    "#Assigning class based on PNR scores\n",
    "filt_sorted_1 = filtered_pass_data_1.copy()  # Making a copy to avoid modifying the original DataFrame\n",
    "\n",
    "# Sort the DataFrame based on 'Score' in descending order\n",
    "filt_sorted_1 = filt_sorted_1.sort_values(by='PNR_SCORE', ascending=False)\n",
    "\n",
    "# Define class categories and corresponding limits\n",
    "class_categories = ['FirstClass', 'BusinessClass', 'PremiumEconomyClass', 'EconomyClass']\n",
    "class_limits = {'FirstClass': df2.loc[Av_Fl[f-1], 'FC_Oversold'], 'BusinessClass': df2.loc[Av_Fl[f-1], 'BC_Oversold'], 'PremiumEconomyClass': df2.loc[Av_Fl[f-1], 'PC_Oversold'], 'EconomyClass': df2.loc[Av_Fl[f-1], 'EC_Oversold']} \n",
    "\n",
    "# Initialize count for each class\n",
    "class_count = {category: 0 for category in class_categories}\n",
    "\n",
    "# Create a new column 'Assigned Class'\n",
    "filt_sorted_1['Assigned Class'] = filt_sorted_1.apply(assign_class, axis=1)"
   ]
  },
  {
   "cell_type": "code",
   "execution_count": 294,
   "id": "5f93edd6-1ec1-4c91-a7a1-b599403dfdee",
   "metadata": {},
   "outputs": [],
   "source": [
    "#Alternate flight 2\n",
    "f = 2\n",
    "filt = (aff_pax['Alt_Fli'] == Av_Fl[f-1])\n",
    "filtered = aff_pax.loc[filt]"
   ]
  },
  {
   "cell_type": "code",
   "execution_count": 295,
   "id": "b08baacd-cd46-4e49-a2bd-08940783d244",
   "metadata": {},
   "outputs": [],
   "source": [
    "filt = (aff_pax['Alt_Fli'] == Av_Fl[f-1])\n",
    "filtered_pass_data_2 = aff_pax.loc[filt]"
   ]
  },
  {
   "cell_type": "code",
   "execution_count": 296,
   "id": "58615cca-e7d9-47ed-8958-73532a6d4fe3",
   "metadata": {},
   "outputs": [],
   "source": [
    "filt_sorted_2 = filtered_pass_data_2.copy()  # Making a copy to avoid modifying the original DataFrame\n",
    "\n",
    "# Sort the DataFrame based on 'Score' in descending order\n",
    "filt_sorted_2 = filt_sorted_2.sort_values(by='PNR_SCORE', ascending=False)\n",
    "\n",
    "# Define class categories and corresponding limits\n",
    "class_categories = ['FirstClass', 'BusinessClass', 'PremiumEconomyClass', 'EconomyClass']\n",
    "class_limits = {'FirstClass': df2.loc[Av_Fl[f-1], 'FC_Oversold'], 'BusinessClass': df2.loc[Av_Fl[f-1], 'BC_Oversold'], 'PremiumEconomyClass': df2.loc[Av_Fl[f-1], 'PC_Oversold'], 'EconomyClass': df2.loc[Av_Fl[f-1], 'EC_Oversold']}  \n",
    "\n",
    "# Initialize count for each class\n",
    "class_count = {category: 0 for category in class_categories}\n",
    "\n",
    "# Create a new column 'Assigned Class'\n",
    "filt_sorted_2['Assigned Class'] = filt_sorted_2.apply(assign_class, axis=1)"
   ]
  },
  {
   "cell_type": "code",
   "execution_count": null,
   "id": "6fc6f3d1-2423-432f-93e7-899d2b82bb64",
   "metadata": {},
   "outputs": [],
   "source": []
  },
  {
   "cell_type": "code",
   "execution_count": 297,
   "id": "bf3db7ad-8f28-4417-b2d3-f5174645258b",
   "metadata": {},
   "outputs": [],
   "source": [
    "#Passengers who were alloted the same class in flight 1\n",
    "filt = (filt_sorted_1['Class'] == filt_sorted_1['Assigned Class'])\n",
    "same_allotment_1 = filt_sorted_1.loc[filt]   "
   ]
  },
  {
   "cell_type": "code",
   "execution_count": 298,
   "id": "dac04dcd-9a20-40d3-96f4-a6438c1e6725",
   "metadata": {},
   "outputs": [],
   "source": [
    "#Passengers who were alloted the same class in flight 2\n",
    "filt = (filt_sorted_2['Class'] == filt_sorted_2['Assigned Class'])\n",
    "same_allotment_2 = filt_sorted_2.loc[filt]"
   ]
  },
  {
   "cell_type": "code",
   "execution_count": 299,
   "id": "173f71c0-5de8-45a4-8a22-77ec60f66b38",
   "metadata": {},
   "outputs": [],
   "source": [
    "#Passengers who were downgraded "
   ]
  },
  {
   "cell_type": "code",
   "execution_count": 300,
   "id": "2d8684ca-8001-40a3-830b-5a518cf29971",
   "metadata": {},
   "outputs": [],
   "source": [
    "#Flight 1"
   ]
  },
  {
   "cell_type": "code",
   "execution_count": 301,
   "id": "7cf2508c-d7f3-4f66-bfdd-7bdf5e93144d",
   "metadata": {},
   "outputs": [],
   "source": [
    "filt1 = (filt_sorted_1['Class'] == 'FirstClass')\n",
    "filt2 = (filt_sorted_1['Assigned Class'] == 'BusinessClass')\n",
    "filt3 = (filt_sorted_1['Assigned Class'] == 'PremiumEconomyClass')\n",
    "filt4 = (filt_sorted_1['Assigned Class'] == 'EconomyClass')\n",
    "FC_dn1 = filt_sorted_1.loc[filt1 & (filt2 | filt3| filt4)]"
   ]
  },
  {
   "cell_type": "code",
   "execution_count": 302,
   "id": "a2df539a-d805-47c2-a6b2-244f6b5ff29b",
   "metadata": {},
   "outputs": [],
   "source": [
    "filt2 = (filt_sorted_1['Class'] == 'BusinessClass')\n",
    "filt3 = (filt_sorted_1['Assigned Class'] == 'PremiumEconomyClass')\n",
    "filt4 = (filt_sorted_1['Assigned Class'] == 'EconomyClass')\n",
    "BC_dn1 = filt_sorted_1.loc[filt2 & (filt3 | filt4)]"
   ]
  },
  {
   "cell_type": "code",
   "execution_count": 303,
   "id": "b514ceb9-7880-4dda-86d8-64de0726a08c",
   "metadata": {},
   "outputs": [],
   "source": [
    "filt3 = (filt_sorted_1['Class'] == 'PremiumEconomyClass')\n",
    "filt4 = (filt_sorted_1['Assigned Class'] == 'EconomyClass')\n",
    "PC_dn1 = filt_sorted_1.loc[filt3 & (filt4)]"
   ]
  },
  {
   "cell_type": "code",
   "execution_count": 304,
   "id": "38bd931c-32ab-4ed9-a3fd-361352e15cf9",
   "metadata": {},
   "outputs": [],
   "source": [
    "#Flight 2"
   ]
  },
  {
   "cell_type": "code",
   "execution_count": 305,
   "id": "6ad910b3-c19c-4576-b2e0-f6b15b276ad5",
   "metadata": {},
   "outputs": [],
   "source": [
    "filt1 = (filt_sorted_2['Class'] == 'FirstClass')\n",
    "filt2 = (filt_sorted_2['Assigned Class'] == 'BusinessClass')\n",
    "filt3 = (filt_sorted_2['Assigned Class'] == 'PremiumEconomyClass')\n",
    "filt4 = (filt_sorted_2['Assigned Class'] == 'EconomyClass')\n",
    "FC_dn2 = filt_sorted_2.loc[filt1 & (filt2 | filt3| filt4)]"
   ]
  },
  {
   "cell_type": "code",
   "execution_count": 306,
   "id": "18eb348d-5adb-41d3-9beb-0fadb80fd221",
   "metadata": {},
   "outputs": [],
   "source": [
    "filt2 = (filt_sorted_2['Class'] == 'BusinessClass')\n",
    "filt3 = (filt_sorted_2['Assigned Class'] == 'PremiumEconomyClass')\n",
    "filt4 = (filt_sorted_2['Assigned Class'] == 'EconomyClass')\n",
    "BC_dn2 = filt_sorted_2.loc[filt2 & (filt3 | filt4)]"
   ]
  },
  {
   "cell_type": "code",
   "execution_count": 307,
   "id": "2c4103f3-b225-4ab0-81a9-c0f6b9e7d9be",
   "metadata": {},
   "outputs": [],
   "source": [
    "filt3 = (filt_sorted_2['Class'] == 'PremiumEconomyClass')\n",
    "filt4 = (filt_sorted_2['Assigned Class'] == 'EconomyClass')\n",
    "PC_dn2 = filt_sorted_2.loc[filt3 & (filt4)]"
   ]
  },
  {
   "cell_type": "code",
   "execution_count": 308,
   "id": "ccc779bb-ef63-4d21-a077-b720ac267d7f",
   "metadata": {},
   "outputs": [],
   "source": [
    "#Passengers who were upgraded "
   ]
  },
  {
   "cell_type": "code",
   "execution_count": 309,
   "id": "9578df47-40ef-4379-a991-3cf53af5270a",
   "metadata": {},
   "outputs": [],
   "source": [
    "#Flight 1"
   ]
  },
  {
   "cell_type": "code",
   "execution_count": 310,
   "id": "b9a765a3-6378-497d-aa60-5bfecb7fc7fb",
   "metadata": {},
   "outputs": [],
   "source": [
    "filt1 = (filt_sorted_1['Assigned Class'] == 'FirstClass')\n",
    "filt2 = (filt_sorted_1['Assigned Class'] == 'BusinessClass')\n",
    "filt3 = (filt_sorted_1['Assigned Class'] == 'PremiumEconomyClass')\n",
    "filt4 = (filt_sorted_1['Class'] == 'EconomyClass')\n",
    "EC_up1 = filt_sorted_1.loc[filt4 & (filt1 | filt2| filt3)]"
   ]
  },
  {
   "cell_type": "code",
   "execution_count": 311,
   "id": "e7f4a75b-af26-4575-b97a-66f3e28aebed",
   "metadata": {},
   "outputs": [],
   "source": [
    "filt1 = (filt_sorted_1['Assigned Class'] == 'FirstClass')\n",
    "filt2 = (filt_sorted_1['Assigned Class'] == 'BusinessClass')\n",
    "filt3 = (filt_sorted_1['Class'] == 'PremiumEconomyClass')\n",
    "PC_up1 = filt_sorted_1.loc[filt3 & (filt1 | filt2)]"
   ]
  },
  {
   "cell_type": "code",
   "execution_count": 312,
   "id": "d71c670c-616e-4407-9685-50c31f31be4c",
   "metadata": {},
   "outputs": [],
   "source": [
    "filt1 = (filt_sorted_1['Assigned Class'] == 'FirstClass')\n",
    "filt2 = (filt_sorted_1['Class'] == 'BusinessClass')\n",
    "BC_up1 = filt_sorted_1.loc[filt2 & filt1]"
   ]
  },
  {
   "cell_type": "code",
   "execution_count": 313,
   "id": "4651fe82-b4b0-446c-97b9-1425fa9348f1",
   "metadata": {},
   "outputs": [],
   "source": [
    "#Flight 2"
   ]
  },
  {
   "cell_type": "code",
   "execution_count": 314,
   "id": "76912ec3-d28f-483e-9502-f56d2eff7561",
   "metadata": {},
   "outputs": [],
   "source": [
    "filt1 = (filt_sorted_2['Assigned Class'] == 'FirstClass')\n",
    "filt2 = (filt_sorted_2['Assigned Class'] == 'BusinessClass')\n",
    "filt3 = (filt_sorted_2['Assigned Class'] == 'PremiumEconomyClass')\n",
    "filt4 = (filt_sorted_2['Class'] == 'EconomyClass')\n",
    "EC_up2 = filt_sorted_2.loc[filt4 & (filt1 | filt2| filt3)]"
   ]
  },
  {
   "cell_type": "code",
   "execution_count": 315,
   "id": "19562a46-1bb3-4ba8-a83b-2950d8be8ed5",
   "metadata": {},
   "outputs": [],
   "source": [
    "filt1 = (filt_sorted_2['Assigned Class'] == 'FirstClass')\n",
    "filt2 = (filt_sorted_2['Assigned Class'] == 'BusinessClass')\n",
    "filt3 = (filt_sorted_2['Class'] == 'PremiumEconomyClass')\n",
    "PC_up2 = filt_sorted_2.loc[filt3 & (filt1 | filt2)]"
   ]
  },
  {
   "cell_type": "code",
   "execution_count": 316,
   "id": "53206af9-5d49-4423-befc-314d93926e3f",
   "metadata": {},
   "outputs": [],
   "source": [
    "filt1 = (filt_sorted_2['Assigned Class'] == 'FirstClass')\n",
    "filt2 = (filt_sorted_2['Class'] == 'BusinessClass')\n",
    "BC_up2 = filt_sorted_2.loc[filt2 & filt1]"
   ]
  },
  {
   "cell_type": "code",
   "execution_count": 317,
   "id": "bf936540-1b9c-4136-ab8b-74531567ce9b",
   "metadata": {},
   "outputs": [
    {
     "name": "stdout",
     "output_type": "stream",
     "text": [
      "18 passengers were allotted the same class they applied for\n",
      "28 passengers were downgraded\n",
      "74 passengers were upgraded\n"
     ]
    }
   ],
   "source": [
    "print(f\"{len(same_allotment_1) + len(same_allotment_2)} passengers were allotted the same class they applied for\")\n",
    "print(f\"{len(FC_dn1) + len(BC_dn1) + len(PC_dn1) + len(FC_dn2) + len(BC_dn2) + len(PC_dn2)} passengers were downgraded\")\n",
    "print(f\"{len(EC_up1) + len(PC_up1) + len(BC_up1) + len(EC_up2) + len(PC_up2) + len(BC_up2)} passengers were upgraded\")"
   ]
  },
  {
   "cell_type": "code",
   "execution_count": null,
   "id": "b4edd5cb-3cdd-4e31-ab25-c82a4fb20730",
   "metadata": {},
   "outputs": [],
   "source": []
  },
  {
   "cell_type": "code",
   "execution_count": null,
   "id": "2a08183a-f50c-4e88-849a-f7eb03ea927c",
   "metadata": {},
   "outputs": [],
   "source": []
  }
 ],
 "metadata": {
  "kernelspec": {
   "display_name": "Python 3 (ipykernel)",
   "language": "python",
   "name": "python3"
  },
  "language_info": {
   "codemirror_mode": {
    "name": "ipython",
    "version": 3
   },
   "file_extension": ".py",
   "mimetype": "text/x-python",
   "name": "python",
   "nbconvert_exporter": "python",
   "pygments_lexer": "ipython3",
   "version": "3.11.5"
  }
 },
 "nbformat": 4,
 "nbformat_minor": 5
}
