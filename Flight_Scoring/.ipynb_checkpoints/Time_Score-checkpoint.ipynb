{
 "cells": [
  {
   "cell_type": "code",
   "execution_count": 21,
   "id": "6e29d425-eae0-4808-8320-dceb98edaf9d",
   "metadata": {},
   "outputs": [],
   "source": [
    "df2['Bool'] = 1"
   ]
  },
  {
   "cell_type": "code",
   "execution_count": 22,
   "id": "2510b776-8c38-4769-93a3-cc3d54fe70fd",
   "metadata": {},
   "outputs": [],
   "source": [
    "import numpy as np\n",
    "import random\n",
    "cancelled_flights = []\n",
    "for i in range(random.randrange(25)):\n",
    "    cancelled_flight = random.randrange(len(df2))\n",
    "    cancelled_flights.append(cancelled_flight)"
   ]
  },
  {
   "cell_type": "code",
   "execution_count": 23,
   "id": "3cc631cb-e1bf-4592-b4bd-36a9e2649682",
   "metadata": {},
   "outputs": [
    {
     "name": "stdout",
     "output_type": "stream",
     "text": [
      "[  3  36  81 156 165 194 223 267 329 353 408 419 421 483 519 524 535 555\n",
      " 586]\n"
     ]
    }
   ],
   "source": [
    "cancelled_flights = np.unique(cancelled_flights)\n",
    "for i in cancelled_flights:\n",
    "    df2.at[i, 'Bool'] = 0\n",
    "print(cancelled_flights)"
   ]
  },
  {
   "cell_type": "code",
   "execution_count": 24,
   "id": "1a09d3fb-ebb5-42e6-80d1-782bddcc04ed",
   "metadata": {},
   "outputs": [],
   "source": [
    "threshold1 = pd.Timedelta(hours=6)\n",
    "threshold2 = pd.Timedelta(hours=12)\n",
    "threshold3 = pd.Timedelta(hours=24)\n",
    "threshold4 = pd.Timedelta(hours=48)\n",
    "zero_time = pd.Timedelta(hours=0)"
   ]
  },
  {
   "cell_type": "code",
   "execution_count": 25,
   "id": "a1aa05f4-f38c-4531-b09c-76b8779c9c35",
   "metadata": {},
   "outputs": [],
   "source": [
    "for j in range(len(cancelled_flights)):\n",
    "    new_col = f'Flight_Score_{cancelled_flights[j]}'\n",
    "    df2[new_col] = 0\n",
    "    \n",
    "    for i in range(len(df2)):\n",
    "        if df2.loc[i, 'Bool'] == 1:\n",
    "            if df2.loc[i, 'DepartureAirport'] == df2.loc[cancelled_flights[j], \n",
    "            'DepartureAirport'] and df2.loc[i, 'ArrivalAirport'] == df2.loc[cancelled_flights[j], 'ArrivalAirport']:\n",
    "                diff = df2.loc[i, 'Departure'] - df2.loc[cancelled_flights[j], 'Departure']\n",
    "                if((diff <= threshold4) and (diff >= zero_time)):                            #Time difference between rescheduling flight and the \n",
    "                    df2.loc[i, new_col] = 30                                                 #cancelled flight should be positive since rescheduling flight \n",
    "                    if((diff <= threshold3) and (diff >= zero_time)):                        #can only operate after the cancelled flight\n",
    "                        df2.loc[i, new_col] = 40\n",
    "                        if((diff <= threshold2) and (diff >= zero_time)):\n",
    "                            df2.loc[i, new_col] = 50\n",
    "                            if((diff <= threshold1) and (diff >= zero_time)):\n",
    "                                df2.loc[i, new_col] = 70\n",
    "df2 = pd.concat([df2], axis=1)"
   ]
  },
  {
   "cell_type": "code",
   "execution_count": null,
   "id": "5b0ed24b-3568-4dd2-a5a9-316850cf4eb1",
   "metadata": {},
   "outputs": [],
   "source": []
  }
 ],
 "metadata": {
  "kernelspec": {
   "display_name": "Python 3 (ipykernel)",
   "language": "python",
   "name": "python3"
  },
  "language_info": {
   "codemirror_mode": {
    "name": "ipython",
    "version": 3
   },
   "file_extension": ".py",
   "mimetype": "text/x-python",
   "name": "python",
   "nbconvert_exporter": "python",
   "pygments_lexer": "ipython3",
   "version": "3.11.5"
  }
 },
 "nbformat": 4,
 "nbformat_minor": 5
}
