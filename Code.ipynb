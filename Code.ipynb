{
 "cells": [
  {
   "cell_type": "markdown",
   "id": "ed7604ab",
   "metadata": {},
   "source": [
    "One Flight cancel"
   ]
  },
  {
   "cell_type": "markdown",
   "id": "63160bee",
   "metadata": {},
   "source": []
  },
  {
   "cell_type": "code",
   "execution_count": null,
   "id": "957a0ae8",
   "metadata": {
    "vscode": {
     "languageId": "plaintext"
    }
   },
   "outputs": [],
   "source": [
    "#!pip install pandas"
   ]
  },
  {
   "cell_type": "code",
   "execution_count": 810,
   "id": "6e30f923-08cf-4d2d-9adf-8c97321d31f6",
   "metadata": {},
   "outputs": [],
   "source": [
    "import pandas as pd"
   ]
  },
  {
   "cell_type": "code",
   "execution_count": 719,
   "id": "82ebbc32-701b-4e36-ab7c-b688f28bcde1",
   "metadata": {},
   "outputs": [],
   "source": [
    "sch_data = 'SCH-ZZ-20231208_035117.xlsx'      #Importing schedule data\n",
    "inv_data = 'INV-ZZ-20231208_041852.xlsx'      #Importing inventory data"
   ]
  },
  {
   "cell_type": "code",
   "execution_count": 720,
   "id": "86ec6fa6-61ff-46f4-8466-27adc10201b6",
   "metadata": {},
   "outputs": [],
   "source": [
    "sch = pd.read_excel(sch_data)\n",
    "inv = pd.read_excel(inv_data)"
   ]
  },
  {
   "cell_type": "code",
   "execution_count": 811,
   "id": "6aafaaf6-a161-4a88-b2aa-c7a132bfe577",
   "metadata": {},
   "outputs": [],
   "source": [
    "df1 = pd.DataFrame(sch)         #Converting excel data into dataframe\n",
    "df2 = pd.DataFrame(inv)         "
   ]
  },
  {
   "cell_type": "code",
   "execution_count": 28,
   "id": "177c260e-3ad8-4c5d-b661-eb3625758b94",
   "metadata": {},
   "outputs": [],
   "source": [
    "df2['Bool'] = 1   #Creating a new column in df2 and naming it as Bool and assigning all values as 1\n",
    "                  #Bool value will be 0 for the flights which are cancelled"
   ]
  },
  {
   "cell_type": "markdown",
   "id": "ce63dcae",
   "metadata": {},
   "source": [
    "Selecting which flights to cancel"
   ]
  },
  {
   "cell_type": "code",
   "execution_count": 29,
   "id": "63cba78a-ad94-491f-9460-629f8a575fe4",
   "metadata": {},
   "outputs": [],
   "source": [
    "import numpy as np\n",
    "cancelled_flights = [0]       #If the first flight is cancelled"
   ]
  },
  {
   "cell_type": "code",
   "execution_count": 30,
   "id": "63cb4d2b-a4a7-40a6-a9f0-417f34040bf5",
   "metadata": {},
   "outputs": [
    {
     "name": "stdout",
     "output_type": "stream",
     "text": [
      "[0]\n"
     ]
    }
   ],
   "source": [
    "for i in cancelled_flights:\n",
    "    df2.at[i, 'Bool'] = 0     #Assigning a bool value of 0 to the cancelled flights\n",
    "print(cancelled_flights)"
   ]
  },
  {
   "cell_type": "markdown",
   "id": "2c170b99",
   "metadata": {},
   "source": [
    "Flight Scoring"
   ]
  },
  {
   "cell_type": "code",
   "execution_count": 31,
   "id": "675ae20c-2726-4d35-b166-434ab9ee6941",
   "metadata": {},
   "outputs": [],
   "source": [
    "threshold1 = pd.Timedelta(hours=6)\n",
    "threshold2 = pd.Timedelta(hours=12)\n",
    "threshold3 = pd.Timedelta(hours=24)\n",
    "threshold4 = pd.Timedelta(hours=48)\n",
    "threshold5 = pd.Timedelta(hours=72)\n",
    "zero_time = pd.Timedelta(hours=0)\n",
    "inf_time = pd.Timedelta(weeks=52)"
   ]
  },
  {
   "cell_type": "code",
   "execution_count": 32,
   "id": "1781dd1a-dac4-4a2f-8a8d-3234a23bb0a1",
   "metadata": {},
   "outputs": [],
   "source": [
    "#Algorithm for flight scoring based on arrival, departure time, arrival, departure time etc. \n",
    "for j in range(len(cancelled_flights)):\n",
    "    new_col = f'Flight_Score_{cancelled_flights[j]}'\n",
    "    new_col2 = f'Quality Score Grade_{cancelled_flights[j]}'\n",
    "    df2[new_col] = 0                 #New column in the dataframe for scoring cancelled flights\n",
    "    df2[new_col2] = 'NaN'            #Each flights having a bool value of 1 will have a score \n",
    "                                     #corresponding to each cancelled flight\n",
    "    \n",
    "    for i in range(len(df2)):\n",
    "        if df2.loc[i, 'Bool'] == 1:  #Only scoring non-cancelled flights\n",
    "            if df2.loc[i, 'DepartureAirport'] == df2.loc[cancelled_flights[j], \n",
    "            'DepartureAirport'] and df2.loc[i, 'ArrivalAirport'] == df2.loc[cancelled_flights[j], 'ArrivalAirport']:\n",
    "               df2.loc[i, new_col] = 40 \n",
    "               diff_dep = df2.loc[i, 'DepartureDateTime'] - df2.loc[cancelled_flights[j], 'DepartureDateTime']\n",
    "               diff_arr = df2.loc[i, 'ArrivalDateTime'] - df2.loc[cancelled_flights[j], 'ArrivalDateTime']\n",
    "               if((diff_dep <= threshold4) and (diff_dep >= zero_time)):                            \n",
    "                    df2.loc[i, new_col] = df2.loc[i, new_col] + 30                                  \n",
    "                    if((diff_dep <= threshold3) and (diff_dep >= zero_time)):                       \n",
    "                        df2.loc[i, new_col] = df2.loc[i, new_col] + 10   #Adding only 10 because there is a nested-if \n",
    "                        if((diff_dep <= threshold2) and (diff_dep >= zero_time)):\n",
    "                            df2.loc[i, new_col] = df2.loc[i, new_col] + 10\n",
    "                            if((diff_dep <= threshold1) and (diff_dep >= zero_time)):\n",
    "                                df2.loc[i, new_col] = df2.loc[i, new_col] + 20\n",
    "               if((diff_arr <= threshold4) and (diff_arr >= zero_time)):                            \n",
    "                    df2.loc[i, new_col] = df2.loc[i, new_col] + 30                                    \n",
    "                    if((diff_arr <= threshold3) and (diff_arr >= zero_time)):                        \n",
    "                        df2.loc[i, new_col] = df2.loc[i, new_col] + 10\n",
    "                        if((diff_arr <= threshold2) and (diff_arr >= zero_time)):\n",
    "                            df2.loc[i, new_col] = df2.loc[i, new_col] + 10\n",
    "                            if((diff_arr <= threshold1) and (diff_arr >= zero_time)):\n",
    "                                df2.loc[i, new_col] = df2.loc[i, new_col] + 20\n",
    "               for k in range(len(df1)):\n",
    "                    if (df2.loc[i, 'ScheduleId'] == df1.loc[k, 'ScheduleID']):\n",
    "                        tail_number = df1.loc[k, 'AircraftTailNumber']\n",
    "               for k in range(len(df1)):\n",
    "                    if (df2.loc[cancelled_flights[j], 'ScheduleId'] == df1.loc[k, 'ScheduleID']):\n",
    "                        if (df1.loc[k, 'AircraftTailNumber'] == tail_number):\n",
    "                            df2.loc[i, new_col] = df2.loc[i, new_col] + 50\n",
    "\n",
    "            #Quality grading of flights acc. to ruleset provided\n",
    "            if(df2.loc[i, new_col] < 150 and df2.loc[i, new_col] > 0):\n",
    "                df2.loc[i, new_col2] = 'D'\n",
    "            if(df2.loc[i, new_col] >= 150):\n",
    "                df2.loc[i, new_col2] = 'C'\n",
    "            if(df2.loc[i, new_col] >= 180):\n",
    "                df2.loc[i, new_col2] = 'B'\n",
    "            if(df2.loc[i, new_col] >= 200):\n",
    "                df2.loc[i, new_col2] = 'A'\n",
    "\n",
    "df2 = pd.concat([df2], axis=1)"
   ]
  },
  {
   "cell_type": "markdown",
   "id": "8b7ec667",
   "metadata": {},
   "source": [
    "Viewing Alternate flights available"
   ]
  },
  {
   "cell_type": "code",
   "execution_count": 542,
   "id": "0f183b5f-85bb-444f-8eb6-b3731ae69bc6",
   "metadata": {},
   "outputs": [],
   "source": [
    "filt1 = (df2[f'Quality Score Grade_{cancelled_flights[0]}'] == 'A')\n",
    "filt2 = (df2[f'Quality Score Grade_{cancelled_flights[0]}'] == 'B')\n",
    "filt3 = (df2[f'Quality Score Grade_{cancelled_flights[0]}'] == 'C')\n",
    "filt4 = (df2['Oversold'] < 0)       #Considering only those flights which have vacant seats\n",
    "Available_flights = df2.loc[(filt1 | filt2 | filt3) & filt4]"
   ]
  },
  {
   "cell_type": "code",
   "execution_count": 543,
   "id": "904115d0-2dc4-4a68-9cd5-7216d3e9e157",
   "metadata": {},
   "outputs": [
    {
     "data": {
      "text/html": [
       "<div>\n",
       "<style scoped>\n",
       "    .dataframe tbody tr th:only-of-type {\n",
       "        vertical-align: middle;\n",
       "    }\n",
       "\n",
       "    .dataframe tbody tr th {\n",
       "        vertical-align: top;\n",
       "    }\n",
       "\n",
       "    .dataframe thead th {\n",
       "        text-align: right;\n",
       "    }\n",
       "</style>\n",
       "<table border=\"1\" class=\"dataframe\">\n",
       "  <thead>\n",
       "    <tr style=\"text-align: right;\">\n",
       "      <th></th>\n",
       "      <th>InventoryId</th>\n",
       "      <th>ScheduleId</th>\n",
       "      <th>CarrierCode</th>\n",
       "      <th>Dep_Key</th>\n",
       "      <th>FlightNumber</th>\n",
       "      <th>AircraftType</th>\n",
       "      <th>DepartureDate</th>\n",
       "      <th>DepartureDateTime</th>\n",
       "      <th>ArrivalDateTime</th>\n",
       "      <th>DepartureAirport</th>\n",
       "      <th>...</th>\n",
       "      <th>EC_BookedInventory</th>\n",
       "      <th>EC_Oversold</th>\n",
       "      <th>EC_AvailableInventory</th>\n",
       "      <th>FC_CD</th>\n",
       "      <th>BC_CD</th>\n",
       "      <th>PC_CD</th>\n",
       "      <th>EC_CD</th>\n",
       "      <th>Bool</th>\n",
       "      <th>Flight_Score_0</th>\n",
       "      <th>Quality Score Grade_0</th>\n",
       "    </tr>\n",
       "  </thead>\n",
       "  <tbody>\n",
       "    <tr>\n",
       "      <th>1</th>\n",
       "      <td>INV-ZZ-8029879</td>\n",
       "      <td>SCH-ZZ-3400127</td>\n",
       "      <td>ZZ</td>\n",
       "      <td>ZZ20240506AMDHYD2223.0</td>\n",
       "      <td>2223</td>\n",
       "      <td>Boeing 777</td>\n",
       "      <td>2024-05-06</td>\n",
       "      <td>2024-05-06 10:52:00</td>\n",
       "      <td>2024-05-06 19:30:00</td>\n",
       "      <td>AMD</td>\n",
       "      <td>...</td>\n",
       "      <td>106</td>\n",
       "      <td>64</td>\n",
       "      <td>96</td>\n",
       "      <td>{'F': 25, 'P': 17}</td>\n",
       "      <td>{'C': 34, 'J': 26, 'Z': 26}</td>\n",
       "      <td>{'Q': 38, 'R': 25, 'S': 13, 'T': 13, 'H': 25, ...</td>\n",
       "      <td>{'Y': 13, 'A': 13, 'B': 6, 'D': 6, 'E': 6, 'G'...</td>\n",
       "      <td>1</td>\n",
       "      <td>170</td>\n",
       "      <td>C</td>\n",
       "    </tr>\n",
       "    <tr>\n",
       "      <th>2</th>\n",
       "      <td>INV-ZZ-6852033</td>\n",
       "      <td>SCH-ZZ-3400127</td>\n",
       "      <td>ZZ</td>\n",
       "      <td>ZZ20240507AMDHYD2223.0</td>\n",
       "      <td>2223</td>\n",
       "      <td>Boeing 777</td>\n",
       "      <td>2024-05-07</td>\n",
       "      <td>2024-05-07 10:52:00</td>\n",
       "      <td>2024-05-07 19:30:00</td>\n",
       "      <td>AMD</td>\n",
       "      <td>...</td>\n",
       "      <td>114</td>\n",
       "      <td>56</td>\n",
       "      <td>83</td>\n",
       "      <td>{'F': 25, 'P': 17}</td>\n",
       "      <td>{'C': 34, 'J': 26, 'Z': 26}</td>\n",
       "      <td>{'Q': 38, 'R': 25, 'S': 13, 'T': 13, 'H': 25, ...</td>\n",
       "      <td>{'Y': 13, 'A': 13, 'B': 6, 'D': 6, 'E': 6, 'G'...</td>\n",
       "      <td>1</td>\n",
       "      <td>150</td>\n",
       "      <td>C</td>\n",
       "    </tr>\n",
       "  </tbody>\n",
       "</table>\n",
       "<p>2 rows � 43 columns</p>\n",
       "</div>"
      ],
      "text/plain": [
       "      InventoryId      ScheduleId CarrierCode                 Dep_Key  \\\n",
       "1  INV-ZZ-8029879  SCH-ZZ-3400127          ZZ  ZZ20240506AMDHYD2223.0   \n",
       "2  INV-ZZ-6852033  SCH-ZZ-3400127          ZZ  ZZ20240507AMDHYD2223.0   \n",
       "\n",
       "   FlightNumber AircraftType DepartureDate   DepartureDateTime  \\\n",
       "1          2223   Boeing 777    2024-05-06 2024-05-06 10:52:00   \n",
       "2          2223   Boeing 777    2024-05-07 2024-05-07 10:52:00   \n",
       "\n",
       "      ArrivalDateTime DepartureAirport  ... EC_BookedInventory  EC_Oversold  \\\n",
       "1 2024-05-06 19:30:00              AMD  ...                106           64   \n",
       "2 2024-05-07 19:30:00              AMD  ...                114           56   \n",
       "\n",
       "   EC_AvailableInventory               FC_CD                        BC_CD  \\\n",
       "1                     96  {'F': 25, 'P': 17}  {'C': 34, 'J': 26, 'Z': 26}   \n",
       "2                     83  {'F': 25, 'P': 17}  {'C': 34, 'J': 26, 'Z': 26}   \n",
       "\n",
       "                                               PC_CD  \\\n",
       "1  {'Q': 38, 'R': 25, 'S': 13, 'T': 13, 'H': 25, ...   \n",
       "2  {'Q': 38, 'R': 25, 'S': 13, 'T': 13, 'H': 25, ...   \n",
       "\n",
       "                                               EC_CD  Bool  Flight_Score_0  \\\n",
       "1  {'Y': 13, 'A': 13, 'B': 6, 'D': 6, 'E': 6, 'G'...     1             170   \n",
       "2  {'Y': 13, 'A': 13, 'B': 6, 'D': 6, 'E': 6, 'G'...     1             150   \n",
       "\n",
       "   Quality Score Grade_0  \n",
       "1                      C  \n",
       "2                      C  \n",
       "\n",
       "[2 rows x 43 columns]"
      ]
     },
     "execution_count": 543,
     "metadata": {},
     "output_type": "execute_result"
    }
   ],
   "source": [
    "Available_flights"
   ]
  },
  {
   "cell_type": "code",
   "execution_count": 520,
   "id": "f856aab7-469d-441a-b13a-0ee83af2a15e",
   "metadata": {},
   "outputs": [],
   "source": [
    "#Converting Quality Score to numberical values\n",
    "\n",
    "F = []          #Array for storing score for each alternate flight\n",
    "Av_Fl = []      #Array for storing index of each alternate flight in the inventory dataframe\n",
    "for i in range(len(Available_flights)):\n",
    "    ix = Available_flights.index[i]\n",
    "    Av_Fl.append(ix)\n",
    "    F.append(df2.loc[ix, f'Quality Score Grade_{cancelled_flights[0]}'])     \n",
    "    #Change the index based on the index of the flight cancelled\n",
    "\n",
    "#Converting Quality Score into numerical scores\n",
    "for i in range(len(F)):\n",
    "    if F[i] == 'A':\n",
    "        F[i] = 4     \n",
    "    if F[i] == 'B':\n",
    "        F[i] = 3\n",
    "    if F[i] == 'C':\n",
    "        F[i] = 2\n",
    "    if F[i] == 'D': \n",
    "        F[i] = 1\n",
    "        \n",
    "V_S = []       #Array for storing number of available seats in each alternating flight\n",
    "for i in range(len(Available_flights)):\n",
    "    ix = Available_flights.index[i]\n",
    "    V_S.append(-df2.loc[ix, 'Oversold'])"
   ]
  },
  {
   "cell_type": "code",
   "execution_count": 528,
   "id": "b6fa3189-64bb-4339-9263-bb3187a9e69a",
   "metadata": {},
   "outputs": [
    {
     "name": "stdout",
     "output_type": "stream",
     "text": [
      "[15.0, 14.0]\n"
     ]
    }
   ],
   "source": [
    "#Scaling down the values in V_S \n",
    "for i in range(len(V_S)):\n",
    "    V_S[i] = V_S[i]/10\n",
    "    V_S[i] = np.floor(V_S[i])   #Floor value so that no. of passengers accommodated\n",
    "print(V_S)                      #in each flight is less than the flight's capacity"
   ]
  },
  {
   "cell_type": "code",
   "execution_count": null,
   "id": "167d265d-416c-4520-99d4-74b075da16e4",
   "metadata": {},
   "outputs": [],
   "source": [
    "#We have:\n",
    "#F containing the scores for each alternate flight\n",
    "#Av_Fl containing the index of each alternate flight in the inventory dataframe\n",
    "#V_S containing the number of available seats in each alternating flight\n",
    "#All the above 3 arrays have the same length. The corresponding indices represent the same flights"
   ]
  },
  {
   "cell_type": "code",
   "execution_count": 320,
   "id": "a3c6a2ee-1765-467b-96a3-90e5596f260c",
   "metadata": {},
   "outputs": [],
   "source": [
    "PNR = 'PNRB-ZZ-20231208_062017.xlsx'     #Importing the PNR Data\n",
    "Pass = 'PNRP-ZZ-20231208_111136.xlsx'    #Importing the Passenger Data"
   ]
  },
  {
   "cell_type": "code",
   "execution_count": 321,
   "id": "3258819c-60f6-4a6f-9cd6-1634fd790215",
   "metadata": {},
   "outputs": [],
   "source": [
    "PNR1 = pd.read_excel(PNR)          \n",
    "Pass1 = pd.read_excel(Pass)"
   ]
  },
  {
   "cell_type": "code",
   "execution_count": 322,
   "id": "cb94799b-7ab9-487d-853b-acaabab02274",
   "metadata": {},
   "outputs": [],
   "source": [
    "PNR_DF = pd.DataFrame(PNR1)             #Converting excel data into dataframe\n",
    "Pass_DF = pd.DataFrame(Pass1)"
   ]
  },
  {
   "cell_type": "code",
   "execution_count": 323,
   "id": "abc29bc2-f513-4dec-ac57-e11022677c2e",
   "metadata": {},
   "outputs": [],
   "source": [
    "Pass_DF['SSR_CODE_CD1'] = Pass_DF['SSR_CODE_CD1'].fillna(0)\n",
    "Pass_DF['TierLevel'] = Pass_DF['TierLevel'].fillna(0)"
   ]
  },
  {
   "cell_type": "markdown",
   "id": "d83da2d0",
   "metadata": {},
   "source": [
    "Affected PNRs"
   ]
  },
  {
   "cell_type": "code",
   "execution_count": 324,
   "id": "a32918bd-bead-4aec-b5e5-08b9091a8cb2",
   "metadata": {},
   "outputs": [],
   "source": [
    "#Function that returns the PNRs that are affected based on flight no., and departure date of the cancelled flight\n",
    "def Affected_PNR(FLT_NUM, DEP_DATE, PNR_DF):\n",
    "    AffectedPNR = PNR_DF.loc[(PNR_DF['FLT_NUM'] == FLT_NUM) & (PNR_DF['DEP_DT']==DEP_DATE)]\n",
    "    return AffectedPNR"
   ]
  },
  {
   "cell_type": "code",
   "execution_count": 693,
   "id": "07a5b784-52da-473d-ae85-5cddb117df9c",
   "metadata": {},
   "outputs": [],
   "source": [
    "#Dataframe consisting of affected PNRs\n",
    "aff = Affected_PNR(df2.loc[cancelled_flights[0],'FlightNumber'], df2.loc[cancelled_flights[0],'DepartureDate'], PNR_DF)"
   ]
  },
  {
   "cell_type": "markdown",
   "id": "a69f7a40",
   "metadata": {},
   "source": [
    "Passenger Scoring"
   ]
  },
  {
   "cell_type": "code",
   "execution_count": 327,
   "id": "837d4bbc-de1f-4ac8-b124-ed4ff6fb58c4",
   "metadata": {},
   "outputs": [],
   "source": [
    "departure_list = PNR_DF['ORIG_CD'].to_list()\n",
    "arrival_list = PNR_DF['DEST_CD'].to_list()\n",
    "\n",
    "city_pairs = [tuple([departure_list[i], arrival_list[i]]) for i in range(len(departure_list))]\n",
    "\n",
    "fltnum_list = PNR_DF[\"FLT_NUM\"].to_list()\n",
    "\n",
    "citypair_dict = {fltnum_list[i] : city_pairs[i] for i in range(len(city_pairs))}"
   ]
  },
  {
   "cell_type": "code",
   "execution_count": 329,
   "id": "205e8e78-e4cf-4c2c-b79e-3e63ff4daede",
   "metadata": {},
   "outputs": [],
   "source": [
    "paxcnt_wt = 50\n",
    "connect_wt = 100\n",
    "grp_threshold = 7\n",
    "grp_wt = 500\n",
    "class_wt = {\n",
    "    'FirstClass' : 2000, 'BusinessClass' : 1750, \n",
    "    'PremiumEconomyClass' : 1500, 'EconomyClass' : 1250\n",
    "}\n",
    "# The airlines can vary the weights as per their rules set and have the choice to disregard certain factors as per their choice."
   ]
  },
  {
   "cell_type": "code",
   "execution_count": 330,
   "id": "053915ee-0a25-4565-9d71-549ffbba6b89",
   "metadata": {},
   "outputs": [],
   "source": [
    "def get_recloc_score(df):\n",
    "    recloc_sclist = []\n",
    "    recloc_score = 0\n",
    "    for i in range(len(df['RECLOC'])):\n",
    "        recloc_score += df['PAX_CNT'][i]*paxcnt_wt + class_wt[df['COS_CD'][i]]\n",
    "        if df['PAX_CNT'][i] >= grp_threshold:\n",
    "            recloc_score += grp_wt\n",
    "        recloc_sclist.append(recloc_score)\n",
    "        recloc_score = 0\n",
    "\n",
    "    df['RECLOC_SCORE'] = recloc_sclist\n",
    "\n",
    "    return df    \n",
    "\n",
    "#Due to multiple passengers having the same recloc, We have split calculating passenger \n",
    "#score into two parts : recloc_Score and passenger_score. The recloc score will initialise\n",
    "#the pax_score variable and build up from there."
   ]
  },
  {
   "cell_type": "code",
   "execution_count": 331,
   "id": "fe759c20-9d9f-4d45-8373-2d6b42f18664",
   "metadata": {},
   "outputs": [
    {
     "data": {
      "text/html": [
       "<div>\n",
       "<style scoped>\n",
       "    .dataframe tbody tr th:only-of-type {\n",
       "        vertical-align: middle;\n",
       "    }\n",
       "\n",
       "    .dataframe tbody tr th {\n",
       "        vertical-align: top;\n",
       "    }\n",
       "\n",
       "    .dataframe thead th {\n",
       "        text-align: right;\n",
       "    }\n",
       "</style>\n",
       "<table border=\"1\" class=\"dataframe\">\n",
       "  <thead>\n",
       "    <tr style=\"text-align: right;\">\n",
       "      <th></th>\n",
       "      <th>RECLOC</th>\n",
       "      <th>CREATION_DTZ</th>\n",
       "      <th>DEP_KEY</th>\n",
       "      <th>ACTION_CD</th>\n",
       "      <th>COS_CD</th>\n",
       "      <th>SEG_SEQ</th>\n",
       "      <th>SEG_TOTAL</th>\n",
       "      <th>PAX_CNT</th>\n",
       "      <th>CARRIER_CD</th>\n",
       "      <th>FLT_NUM</th>\n",
       "      <th>ORIG_CD</th>\n",
       "      <th>DEST_CD</th>\n",
       "      <th>DEP_DT</th>\n",
       "      <th>DEP_DTML</th>\n",
       "      <th>ARR_DTML</th>\n",
       "      <th>DEP_DTMZ</th>\n",
       "      <th>ARR_DTMZ</th>\n",
       "      <th>RECLOC_SCORE</th>\n",
       "    </tr>\n",
       "  </thead>\n",
       "  <tbody>\n",
       "    <tr>\n",
       "      <th>0</th>\n",
       "      <td>DRGS80</td>\n",
       "      <td>2024-03-02 16:35:00</td>\n",
       "      <td>ZZ20240403BLRCCU2504</td>\n",
       "      <td>GN</td>\n",
       "      <td>FirstClass</td>\n",
       "      <td>1</td>\n",
       "      <td>4</td>\n",
       "      <td>3</td>\n",
       "      <td>ZZ</td>\n",
       "      <td>2504</td>\n",
       "      <td>BLR</td>\n",
       "      <td>CCU</td>\n",
       "      <td>2024-04-03</td>\n",
       "      <td>2024-04-03 15:35:00</td>\n",
       "      <td>2024-04-03 18:17:00</td>\n",
       "      <td>2024-04-03 10:05:00</td>\n",
       "      <td>2024-04-03 12:47:00</td>\n",
       "      <td>2150</td>\n",
       "    </tr>\n",
       "    <tr>\n",
       "      <th>1</th>\n",
       "      <td>YEZQ47</td>\n",
       "      <td>2024-03-02 16:35:00</td>\n",
       "      <td>ZZ20240403BLRCCU2504</td>\n",
       "      <td>GN</td>\n",
       "      <td>FirstClass</td>\n",
       "      <td>1</td>\n",
       "      <td>2</td>\n",
       "      <td>4</td>\n",
       "      <td>ZZ</td>\n",
       "      <td>2504</td>\n",
       "      <td>BLR</td>\n",
       "      <td>CCU</td>\n",
       "      <td>2024-04-03</td>\n",
       "      <td>2024-04-03 15:35:00</td>\n",
       "      <td>2024-04-03 18:17:00</td>\n",
       "      <td>2024-04-03 10:05:00</td>\n",
       "      <td>2024-04-03 12:47:00</td>\n",
       "      <td>2200</td>\n",
       "    </tr>\n",
       "    <tr>\n",
       "      <th>2</th>\n",
       "      <td>JDDM40</td>\n",
       "      <td>2024-03-02 16:35:00</td>\n",
       "      <td>ZZ20240403BLRCCU2504</td>\n",
       "      <td>GN</td>\n",
       "      <td>FirstClass</td>\n",
       "      <td>1</td>\n",
       "      <td>3</td>\n",
       "      <td>2</td>\n",
       "      <td>ZZ</td>\n",
       "      <td>2504</td>\n",
       "      <td>BLR</td>\n",
       "      <td>CCU</td>\n",
       "      <td>2024-04-03</td>\n",
       "      <td>2024-04-03 15:35:00</td>\n",
       "      <td>2024-04-03 18:17:00</td>\n",
       "      <td>2024-04-03 10:05:00</td>\n",
       "      <td>2024-04-03 12:47:00</td>\n",
       "      <td>2100</td>\n",
       "    </tr>\n",
       "    <tr>\n",
       "      <th>3</th>\n",
       "      <td>AVFF16</td>\n",
       "      <td>2024-03-02 16:35:00</td>\n",
       "      <td>ZZ20240403BLRCCU2504</td>\n",
       "      <td>GN</td>\n",
       "      <td>FirstClass</td>\n",
       "      <td>1</td>\n",
       "      <td>4</td>\n",
       "      <td>1</td>\n",
       "      <td>ZZ</td>\n",
       "      <td>2504</td>\n",
       "      <td>BLR</td>\n",
       "      <td>CCU</td>\n",
       "      <td>2024-04-03</td>\n",
       "      <td>2024-04-03 15:35:00</td>\n",
       "      <td>2024-04-03 18:17:00</td>\n",
       "      <td>2024-04-03 10:05:00</td>\n",
       "      <td>2024-04-03 12:47:00</td>\n",
       "      <td>2050</td>\n",
       "    </tr>\n",
       "    <tr>\n",
       "      <th>4</th>\n",
       "      <td>DBLE79</td>\n",
       "      <td>2024-03-02 16:35:00</td>\n",
       "      <td>ZZ20240403BLRCCU2504</td>\n",
       "      <td>GN</td>\n",
       "      <td>FirstClass</td>\n",
       "      <td>1</td>\n",
       "      <td>2</td>\n",
       "      <td>2</td>\n",
       "      <td>ZZ</td>\n",
       "      <td>2504</td>\n",
       "      <td>BLR</td>\n",
       "      <td>CCU</td>\n",
       "      <td>2024-04-03</td>\n",
       "      <td>2024-04-03 15:35:00</td>\n",
       "      <td>2024-04-03 18:17:00</td>\n",
       "      <td>2024-04-03 10:05:00</td>\n",
       "      <td>2024-04-03 12:47:00</td>\n",
       "      <td>2100</td>\n",
       "    </tr>\n",
       "    <tr>\n",
       "      <th>...</th>\n",
       "      <td>...</td>\n",
       "      <td>...</td>\n",
       "      <td>...</td>\n",
       "      <td>...</td>\n",
       "      <td>...</td>\n",
       "      <td>...</td>\n",
       "      <td>...</td>\n",
       "      <td>...</td>\n",
       "      <td>...</td>\n",
       "      <td>...</td>\n",
       "      <td>...</td>\n",
       "      <td>...</td>\n",
       "      <td>...</td>\n",
       "      <td>...</td>\n",
       "      <td>...</td>\n",
       "      <td>...</td>\n",
       "      <td>...</td>\n",
       "      <td>...</td>\n",
       "    </tr>\n",
       "    <tr>\n",
       "      <th>78179</th>\n",
       "      <td>CJEL38</td>\n",
       "      <td>2023-08-20 13:28:00</td>\n",
       "      <td>ZZ20240630AMDBLR4957</td>\n",
       "      <td>HL</td>\n",
       "      <td>EconomyClass</td>\n",
       "      <td>1</td>\n",
       "      <td>4</td>\n",
       "      <td>7</td>\n",
       "      <td>ZZ</td>\n",
       "      <td>4957</td>\n",
       "      <td>AMD</td>\n",
       "      <td>BLR</td>\n",
       "      <td>2024-06-30</td>\n",
       "      <td>2024-06-30 10:19:00</td>\n",
       "      <td>2024-06-30 21:50:00</td>\n",
       "      <td>2024-06-30 04:49:00</td>\n",
       "      <td>2024-06-30 16:20:00</td>\n",
       "      <td>2100</td>\n",
       "    </tr>\n",
       "    <tr>\n",
       "      <th>78180</th>\n",
       "      <td>NDXM23</td>\n",
       "      <td>2023-08-20 13:28:00</td>\n",
       "      <td>ZZ20240630AMDBLR4957</td>\n",
       "      <td>HL</td>\n",
       "      <td>EconomyClass</td>\n",
       "      <td>1</td>\n",
       "      <td>1</td>\n",
       "      <td>9</td>\n",
       "      <td>ZZ</td>\n",
       "      <td>4957</td>\n",
       "      <td>AMD</td>\n",
       "      <td>BLR</td>\n",
       "      <td>2024-06-30</td>\n",
       "      <td>2024-06-30 10:19:00</td>\n",
       "      <td>2024-06-30 21:50:00</td>\n",
       "      <td>2024-06-30 04:49:00</td>\n",
       "      <td>2024-06-30 16:20:00</td>\n",
       "      <td>2200</td>\n",
       "    </tr>\n",
       "    <tr>\n",
       "      <th>78181</th>\n",
       "      <td>RIUQ17</td>\n",
       "      <td>2023-08-20 13:28:00</td>\n",
       "      <td>ZZ20240630AMDBLR4957</td>\n",
       "      <td>HL</td>\n",
       "      <td>EconomyClass</td>\n",
       "      <td>1</td>\n",
       "      <td>4</td>\n",
       "      <td>5</td>\n",
       "      <td>ZZ</td>\n",
       "      <td>4957</td>\n",
       "      <td>AMD</td>\n",
       "      <td>BLR</td>\n",
       "      <td>2024-06-30</td>\n",
       "      <td>2024-06-30 10:19:00</td>\n",
       "      <td>2024-06-30 21:50:00</td>\n",
       "      <td>2024-06-30 04:49:00</td>\n",
       "      <td>2024-06-30 16:20:00</td>\n",
       "      <td>1500</td>\n",
       "    </tr>\n",
       "    <tr>\n",
       "      <th>78182</th>\n",
       "      <td>QLFS50</td>\n",
       "      <td>2023-08-20 13:28:00</td>\n",
       "      <td>ZZ20240630AMDBLR4957</td>\n",
       "      <td>HL</td>\n",
       "      <td>EconomyClass</td>\n",
       "      <td>1</td>\n",
       "      <td>2</td>\n",
       "      <td>1</td>\n",
       "      <td>ZZ</td>\n",
       "      <td>4957</td>\n",
       "      <td>AMD</td>\n",
       "      <td>BLR</td>\n",
       "      <td>2024-06-30</td>\n",
       "      <td>2024-06-30 10:19:00</td>\n",
       "      <td>2024-06-30 21:50:00</td>\n",
       "      <td>2024-06-30 04:49:00</td>\n",
       "      <td>2024-06-30 16:20:00</td>\n",
       "      <td>1300</td>\n",
       "    </tr>\n",
       "    <tr>\n",
       "      <th>78183</th>\n",
       "      <td>RSMB57</td>\n",
       "      <td>2023-08-20 13:28:00</td>\n",
       "      <td>ZZ20240630AMDBLR4957</td>\n",
       "      <td>HL</td>\n",
       "      <td>EconomyClass</td>\n",
       "      <td>1</td>\n",
       "      <td>3</td>\n",
       "      <td>1</td>\n",
       "      <td>ZZ</td>\n",
       "      <td>4957</td>\n",
       "      <td>AMD</td>\n",
       "      <td>BLR</td>\n",
       "      <td>2024-06-30</td>\n",
       "      <td>2024-06-30 10:19:00</td>\n",
       "      <td>2024-06-30 21:50:00</td>\n",
       "      <td>2024-06-30 04:49:00</td>\n",
       "      <td>2024-06-30 16:20:00</td>\n",
       "      <td>1300</td>\n",
       "    </tr>\n",
       "  </tbody>\n",
       "</table>\n",
       "<p>78184 rows � 18 columns</p>\n",
       "</div>"
      ],
      "text/plain": [
       "       RECLOC        CREATION_DTZ               DEP_KEY ACTION_CD  \\\n",
       "0      DRGS80 2024-03-02 16:35:00  ZZ20240403BLRCCU2504        GN   \n",
       "1      YEZQ47 2024-03-02 16:35:00  ZZ20240403BLRCCU2504        GN   \n",
       "2      JDDM40 2024-03-02 16:35:00  ZZ20240403BLRCCU2504        GN   \n",
       "3      AVFF16 2024-03-02 16:35:00  ZZ20240403BLRCCU2504        GN   \n",
       "4      DBLE79 2024-03-02 16:35:00  ZZ20240403BLRCCU2504        GN   \n",
       "...       ...                 ...                   ...       ...   \n",
       "78179  CJEL38 2023-08-20 13:28:00  ZZ20240630AMDBLR4957        HL   \n",
       "78180  NDXM23 2023-08-20 13:28:00  ZZ20240630AMDBLR4957        HL   \n",
       "78181  RIUQ17 2023-08-20 13:28:00  ZZ20240630AMDBLR4957        HL   \n",
       "78182  QLFS50 2023-08-20 13:28:00  ZZ20240630AMDBLR4957        HL   \n",
       "78183  RSMB57 2023-08-20 13:28:00  ZZ20240630AMDBLR4957        HL   \n",
       "\n",
       "             COS_CD  SEG_SEQ  SEG_TOTAL  PAX_CNT CARRIER_CD  FLT_NUM ORIG_CD  \\\n",
       "0        FirstClass        1          4        3         ZZ     2504     BLR   \n",
       "1        FirstClass        1          2        4         ZZ     2504     BLR   \n",
       "2        FirstClass        1          3        2         ZZ     2504     BLR   \n",
       "3        FirstClass        1          4        1         ZZ     2504     BLR   \n",
       "4        FirstClass        1          2        2         ZZ     2504     BLR   \n",
       "...             ...      ...        ...      ...        ...      ...     ...   \n",
       "78179  EconomyClass        1          4        7         ZZ     4957     AMD   \n",
       "78180  EconomyClass        1          1        9         ZZ     4957     AMD   \n",
       "78181  EconomyClass        1          4        5         ZZ     4957     AMD   \n",
       "78182  EconomyClass        1          2        1         ZZ     4957     AMD   \n",
       "78183  EconomyClass        1          3        1         ZZ     4957     AMD   \n",
       "\n",
       "      DEST_CD     DEP_DT            DEP_DTML            ARR_DTML  \\\n",
       "0         CCU 2024-04-03 2024-04-03 15:35:00 2024-04-03 18:17:00   \n",
       "1         CCU 2024-04-03 2024-04-03 15:35:00 2024-04-03 18:17:00   \n",
       "2         CCU 2024-04-03 2024-04-03 15:35:00 2024-04-03 18:17:00   \n",
       "3         CCU 2024-04-03 2024-04-03 15:35:00 2024-04-03 18:17:00   \n",
       "4         CCU 2024-04-03 2024-04-03 15:35:00 2024-04-03 18:17:00   \n",
       "...       ...        ...                 ...                 ...   \n",
       "78179     BLR 2024-06-30 2024-06-30 10:19:00 2024-06-30 21:50:00   \n",
       "78180     BLR 2024-06-30 2024-06-30 10:19:00 2024-06-30 21:50:00   \n",
       "78181     BLR 2024-06-30 2024-06-30 10:19:00 2024-06-30 21:50:00   \n",
       "78182     BLR 2024-06-30 2024-06-30 10:19:00 2024-06-30 21:50:00   \n",
       "78183     BLR 2024-06-30 2024-06-30 10:19:00 2024-06-30 21:50:00   \n",
       "\n",
       "                 DEP_DTMZ            ARR_DTMZ  RECLOC_SCORE  \n",
       "0     2024-04-03 10:05:00 2024-04-03 12:47:00          2150  \n",
       "1     2024-04-03 10:05:00 2024-04-03 12:47:00          2200  \n",
       "2     2024-04-03 10:05:00 2024-04-03 12:47:00          2100  \n",
       "3     2024-04-03 10:05:00 2024-04-03 12:47:00          2050  \n",
       "4     2024-04-03 10:05:00 2024-04-03 12:47:00          2100  \n",
       "...                   ...                 ...           ...  \n",
       "78179 2024-06-30 04:49:00 2024-06-30 16:20:00          2100  \n",
       "78180 2024-06-30 04:49:00 2024-06-30 16:20:00          2200  \n",
       "78181 2024-06-30 04:49:00 2024-06-30 16:20:00          1500  \n",
       "78182 2024-06-30 04:49:00 2024-06-30 16:20:00          1300  \n",
       "78183 2024-06-30 04:49:00 2024-06-30 16:20:00          1300  \n",
       "\n",
       "[78184 rows x 18 columns]"
      ]
     },
     "execution_count": 331,
     "metadata": {},
     "output_type": "execute_result"
    }
   ],
   "source": [
    "get_recloc_score(PNR_DF)"
   ]
  },
  {
   "cell_type": "code",
   "execution_count": 332,
   "id": "4ea06390-65e2-4dfd-9bc9-af09c8dc37d5",
   "metadata": {},
   "outputs": [],
   "source": [
    "recloc_dict = {PNR_DF['RECLOC'][i] : PNR_DF['RECLOC_SCORE'][i] for i in range(len(PNR_DF['RECLOC']))}"
   ]
  },
  {
   "cell_type": "code",
   "execution_count": 333,
   "id": "00804c7e-6f5b-488e-ae9d-a3ccfaca2336",
   "metadata": {},
   "outputs": [],
   "source": [
    "loyalty_dict = {'Platinum' : 1800, 'Gold' : 1600, 'Silver' : 1500, 0 : 0}\n",
    "ssr_wt = 200\n",
    "# The airlines can vary the weights as per their rules set and have the choice to disregard certain factors as per their choice."
   ]
  },
  {
   "cell_type": "code",
   "execution_count": 334,
   "id": "fd37c263-e4ae-4558-ab4b-fc639a343400",
   "metadata": {},
   "outputs": [],
   "source": [
    "def get_pnr_score(df):\n",
    "    pnr_sclist = []\n",
    "    pnr_score = 0\n",
    "    for i in range(len(df['RECLOC'])):\n",
    "        pnr_score += recloc_dict[df['RECLOC'][i]] + loyalty_dict[df['TierLevel'][i]]\n",
    "        if df['SSR_CODE_CD1'][i] != 0:\n",
    "            pnr_score += ssr_wt\n",
    "        \n",
    "        pnr_sclist.append(pnr_score)\n",
    "        pnr_score = 0\n",
    "\n",
    "    df['PNR_SCORE'] = pnr_sclist\n",
    "\n",
    "    return df    \n",
    "    "
   ]
  },
  {
   "cell_type": "code",
   "execution_count": 335,
   "id": "6cc3482b-88c3-4b89-ad71-25b69a12adf6",
   "metadata": {},
   "outputs": [
    {
     "data": {
      "text/html": [
       "<div>\n",
       "<style scoped>\n",
       "    .dataframe tbody tr th:only-of-type {\n",
       "        vertical-align: middle;\n",
       "    }\n",
       "\n",
       "    .dataframe tbody tr th {\n",
       "        vertical-align: top;\n",
       "    }\n",
       "\n",
       "    .dataframe thead th {\n",
       "        text-align: right;\n",
       "    }\n",
       "</style>\n",
       "<table border=\"1\" class=\"dataframe\">\n",
       "  <thead>\n",
       "    <tr style=\"text-align: right;\">\n",
       "      <th></th>\n",
       "      <th>RECLOC</th>\n",
       "      <th>CREATION_DTZ</th>\n",
       "      <th>CUSTOMER_ID</th>\n",
       "      <th>LAST_NAME</th>\n",
       "      <th>FIRST_NAME</th>\n",
       "      <th>NATIONALITY</th>\n",
       "      <th>DOB</th>\n",
       "      <th>CONTACT_PH_NUM</th>\n",
       "      <th>CONTACT_EMAIL</th>\n",
       "      <th>DOC_TYPE</th>\n",
       "      <th>DOC_ID</th>\n",
       "      <th>SPECIAL_NAME_CD2</th>\n",
       "      <th>SSR_CODE_CD1</th>\n",
       "      <th>SPECIAL_NAME_CD1</th>\n",
       "      <th>FF_NUM</th>\n",
       "      <th>TierLevel</th>\n",
       "      <th>PNR_SCORE</th>\n",
       "    </tr>\n",
       "  </thead>\n",
       "  <tbody>\n",
       "    <tr>\n",
       "      <th>0</th>\n",
       "      <td>DRGS80</td>\n",
       "      <td>2024-03-02 16:35:00</td>\n",
       "      <td>VNQ9748</td>\n",
       "      <td>Mitchell</td>\n",
       "      <td>Christina</td>\n",
       "      <td>CA</td>\n",
       "      <td>2003-06-01</td>\n",
       "      <td>1-769-506-8397</td>\n",
       "      <td>christinamitchell1@example.com</td>\n",
       "      <td>Driving License</td>\n",
       "      <td>299196000000</td>\n",
       "      <td>NaN</td>\n",
       "      <td>0</td>\n",
       "      <td>ADT</td>\n",
       "      <td>4.276771e+09</td>\n",
       "      <td>Gold</td>\n",
       "      <td>3750</td>\n",
       "    </tr>\n",
       "    <tr>\n",
       "      <th>1</th>\n",
       "      <td>DRGS80</td>\n",
       "      <td>2024-03-02 16:35:00</td>\n",
       "      <td>BAP1926</td>\n",
       "      <td>Parker</td>\n",
       "      <td>Rebecca</td>\n",
       "      <td>CA</td>\n",
       "      <td>2015-08-18</td>\n",
       "      <td>1-947-699-5143</td>\n",
       "      <td>rebeccaparker2@example.com</td>\n",
       "      <td>Passport</td>\n",
       "      <td>11901984430</td>\n",
       "      <td>NaN</td>\n",
       "      <td>0</td>\n",
       "      <td>CHD</td>\n",
       "      <td>8.493470e+09</td>\n",
       "      <td>Platinum</td>\n",
       "      <td>3950</td>\n",
       "    </tr>\n",
       "    <tr>\n",
       "      <th>2</th>\n",
       "      <td>DRGS80</td>\n",
       "      <td>2024-03-02 16:35:00</td>\n",
       "      <td>ALV9938</td>\n",
       "      <td>Swamy</td>\n",
       "      <td>Vardaniya</td>\n",
       "      <td>IN</td>\n",
       "      <td>1945-02-23</td>\n",
       "      <td>6102977873</td>\n",
       "      <td>vardaniyaswamy3@example.com</td>\n",
       "      <td>Govt-Id</td>\n",
       "      <td>4283733463</td>\n",
       "      <td>NaN</td>\n",
       "      <td>0</td>\n",
       "      <td>S65</td>\n",
       "      <td>6.731611e+09</td>\n",
       "      <td>Platinum</td>\n",
       "      <td>3950</td>\n",
       "    </tr>\n",
       "    <tr>\n",
       "      <th>3</th>\n",
       "      <td>YEZQ47</td>\n",
       "      <td>2024-03-02 16:35:00</td>\n",
       "      <td>CEU7075</td>\n",
       "      <td>Edwin</td>\n",
       "      <td>Stuvan</td>\n",
       "      <td>IN</td>\n",
       "      <td>2003-06-18</td>\n",
       "      <td>5791967032</td>\n",
       "      <td>stuvanedwin1@example.com</td>\n",
       "      <td>Passport</td>\n",
       "      <td>139267560</td>\n",
       "      <td>NaN</td>\n",
       "      <td>0</td>\n",
       "      <td>ADT</td>\n",
       "      <td>7.214819e+09</td>\n",
       "      <td>Platinum</td>\n",
       "      <td>4000</td>\n",
       "    </tr>\n",
       "    <tr>\n",
       "      <th>4</th>\n",
       "      <td>YEZQ47</td>\n",
       "      <td>2024-03-02 16:35:00</td>\n",
       "      <td>WFG9647</td>\n",
       "      <td>Hernandez</td>\n",
       "      <td>Andrea</td>\n",
       "      <td>CA</td>\n",
       "      <td>1969-07-03</td>\n",
       "      <td>+1 (378) 291-0325</td>\n",
       "      <td>andreahernandez2@example.com</td>\n",
       "      <td>Govt-Id</td>\n",
       "      <td>5459762750</td>\n",
       "      <td>NaN</td>\n",
       "      <td>0</td>\n",
       "      <td>ADT</td>\n",
       "      <td>NaN</td>\n",
       "      <td>0</td>\n",
       "      <td>2200</td>\n",
       "    </tr>\n",
       "    <tr>\n",
       "      <th>...</th>\n",
       "      <td>...</td>\n",
       "      <td>...</td>\n",
       "      <td>...</td>\n",
       "      <td>...</td>\n",
       "      <td>...</td>\n",
       "      <td>...</td>\n",
       "      <td>...</td>\n",
       "      <td>...</td>\n",
       "      <td>...</td>\n",
       "      <td>...</td>\n",
       "      <td>...</td>\n",
       "      <td>...</td>\n",
       "      <td>...</td>\n",
       "      <td>...</td>\n",
       "      <td>...</td>\n",
       "      <td>...</td>\n",
       "      <td>...</td>\n",
       "    </tr>\n",
       "    <tr>\n",
       "      <th>152508</th>\n",
       "      <td>RIUQ17</td>\n",
       "      <td>2023-08-20 13:28:00</td>\n",
       "      <td>NQF8798</td>\n",
       "      <td>Shankar</td>\n",
       "      <td>Divit</td>\n",
       "      <td>IN</td>\n",
       "      <td>1981-08-22</td>\n",
       "      <td>(347) 703-8971</td>\n",
       "      <td>divitshankar3@example.com</td>\n",
       "      <td>Driving License</td>\n",
       "      <td>169860000000</td>\n",
       "      <td>NaN</td>\n",
       "      <td>0</td>\n",
       "      <td>ADT</td>\n",
       "      <td>NaN</td>\n",
       "      <td>0</td>\n",
       "      <td>1500</td>\n",
       "    </tr>\n",
       "    <tr>\n",
       "      <th>152509</th>\n",
       "      <td>RIUQ17</td>\n",
       "      <td>2023-08-20 13:28:00</td>\n",
       "      <td>RJI4602</td>\n",
       "      <td>Henderson</td>\n",
       "      <td>Autumn</td>\n",
       "      <td>US</td>\n",
       "      <td>2013-09-14</td>\n",
       "      <td>(371) 218-4438</td>\n",
       "      <td>autumnhenderson4@example.com</td>\n",
       "      <td>Govt-Id</td>\n",
       "      <td>7100653216</td>\n",
       "      <td>NaN</td>\n",
       "      <td>0</td>\n",
       "      <td>CHD</td>\n",
       "      <td>5.882689e+09</td>\n",
       "      <td>Gold</td>\n",
       "      <td>3100</td>\n",
       "    </tr>\n",
       "    <tr>\n",
       "      <th>152510</th>\n",
       "      <td>RIUQ17</td>\n",
       "      <td>2023-08-20 13:28:00</td>\n",
       "      <td>VPC0920</td>\n",
       "      <td>Ramanathan</td>\n",
       "      <td>Hridaan</td>\n",
       "      <td>IN</td>\n",
       "      <td>1944-09-06</td>\n",
       "      <td>(437) 839-4309</td>\n",
       "      <td>hridaanramanathan5@example.com</td>\n",
       "      <td>Driving License</td>\n",
       "      <td>715385534</td>\n",
       "      <td>NaN</td>\n",
       "      <td>0</td>\n",
       "      <td>S65</td>\n",
       "      <td>NaN</td>\n",
       "      <td>0</td>\n",
       "      <td>1500</td>\n",
       "    </tr>\n",
       "    <tr>\n",
       "      <th>152511</th>\n",
       "      <td>QLFS50</td>\n",
       "      <td>2023-08-20 13:28:00</td>\n",
       "      <td>BIB2224</td>\n",
       "      <td>Baria</td>\n",
       "      <td>Taimur</td>\n",
       "      <td>IN</td>\n",
       "      <td>2010-06-19</td>\n",
       "      <td>(771) 284-3525</td>\n",
       "      <td>taimurbaria1@example.com</td>\n",
       "      <td>Govt-Id</td>\n",
       "      <td>4431751697</td>\n",
       "      <td>NaN</td>\n",
       "      <td>0</td>\n",
       "      <td>CHD</td>\n",
       "      <td>3.701390e+09</td>\n",
       "      <td>Gold</td>\n",
       "      <td>2900</td>\n",
       "    </tr>\n",
       "    <tr>\n",
       "      <th>152512</th>\n",
       "      <td>RSMB57</td>\n",
       "      <td>2023-08-20 13:28:00</td>\n",
       "      <td>WWZ4650</td>\n",
       "      <td>Swanson</td>\n",
       "      <td>Michael</td>\n",
       "      <td>US</td>\n",
       "      <td>1985-04-05</td>\n",
       "      <td>(945) 565-9777</td>\n",
       "      <td>michaelswanson1@example.com</td>\n",
       "      <td>Govt-Id</td>\n",
       "      <td>1966570122</td>\n",
       "      <td>NRSA</td>\n",
       "      <td>0</td>\n",
       "      <td>ADT</td>\n",
       "      <td>4.330241e+09</td>\n",
       "      <td>Platinum</td>\n",
       "      <td>3100</td>\n",
       "    </tr>\n",
       "  </tbody>\n",
       "</table>\n",
       "<p>152513 rows � 17 columns</p>\n",
       "</div>"
      ],
      "text/plain": [
       "        RECLOC        CREATION_DTZ CUSTOMER_ID   LAST_NAME FIRST_NAME  \\\n",
       "0       DRGS80 2024-03-02 16:35:00     VNQ9748    Mitchell  Christina   \n",
       "1       DRGS80 2024-03-02 16:35:00     BAP1926      Parker    Rebecca   \n",
       "2       DRGS80 2024-03-02 16:35:00     ALV9938       Swamy  Vardaniya   \n",
       "3       YEZQ47 2024-03-02 16:35:00     CEU7075       Edwin     Stuvan   \n",
       "4       YEZQ47 2024-03-02 16:35:00     WFG9647   Hernandez     Andrea   \n",
       "...        ...                 ...         ...         ...        ...   \n",
       "152508  RIUQ17 2023-08-20 13:28:00     NQF8798     Shankar      Divit   \n",
       "152509  RIUQ17 2023-08-20 13:28:00     RJI4602   Henderson     Autumn   \n",
       "152510  RIUQ17 2023-08-20 13:28:00     VPC0920  Ramanathan    Hridaan   \n",
       "152511  QLFS50 2023-08-20 13:28:00     BIB2224       Baria     Taimur   \n",
       "152512  RSMB57 2023-08-20 13:28:00     WWZ4650     Swanson    Michael   \n",
       "\n",
       "       NATIONALITY        DOB     CONTACT_PH_NUM  \\\n",
       "0               CA 2003-06-01     1-769-506-8397   \n",
       "1               CA 2015-08-18     1-947-699-5143   \n",
       "2               IN 1945-02-23         6102977873   \n",
       "3               IN 2003-06-18         5791967032   \n",
       "4               CA 1969-07-03  +1 (378) 291-0325   \n",
       "...            ...        ...                ...   \n",
       "152508          IN 1981-08-22     (347) 703-8971   \n",
       "152509          US 2013-09-14     (371) 218-4438   \n",
       "152510          IN 1944-09-06     (437) 839-4309   \n",
       "152511          IN 2010-06-19     (771) 284-3525   \n",
       "152512          US 1985-04-05     (945) 565-9777   \n",
       "\n",
       "                         CONTACT_EMAIL         DOC_TYPE        DOC_ID  \\\n",
       "0       christinamitchell1@example.com  Driving License  299196000000   \n",
       "1           rebeccaparker2@example.com         Passport   11901984430   \n",
       "2          vardaniyaswamy3@example.com          Govt-Id    4283733463   \n",
       "3             stuvanedwin1@example.com         Passport     139267560   \n",
       "4         andreahernandez2@example.com          Govt-Id    5459762750   \n",
       "...                                ...              ...           ...   \n",
       "152508       divitshankar3@example.com  Driving License  169860000000   \n",
       "152509    autumnhenderson4@example.com          Govt-Id    7100653216   \n",
       "152510  hridaanramanathan5@example.com  Driving License     715385534   \n",
       "152511        taimurbaria1@example.com          Govt-Id    4431751697   \n",
       "152512     michaelswanson1@example.com          Govt-Id    1966570122   \n",
       "\n",
       "       SPECIAL_NAME_CD2 SSR_CODE_CD1 SPECIAL_NAME_CD1        FF_NUM TierLevel  \\\n",
       "0                   NaN            0              ADT  4.276771e+09      Gold   \n",
       "1                   NaN            0              CHD  8.493470e+09  Platinum   \n",
       "2                   NaN            0              S65  6.731611e+09  Platinum   \n",
       "3                   NaN            0              ADT  7.214819e+09  Platinum   \n",
       "4                   NaN            0              ADT           NaN         0   \n",
       "...                 ...          ...              ...           ...       ...   \n",
       "152508              NaN            0              ADT           NaN         0   \n",
       "152509              NaN            0              CHD  5.882689e+09      Gold   \n",
       "152510              NaN            0              S65           NaN         0   \n",
       "152511              NaN            0              CHD  3.701390e+09      Gold   \n",
       "152512             NRSA            0              ADT  4.330241e+09  Platinum   \n",
       "\n",
       "        PNR_SCORE  \n",
       "0            3750  \n",
       "1            3950  \n",
       "2            3950  \n",
       "3            4000  \n",
       "4            2200  \n",
       "...           ...  \n",
       "152508       1500  \n",
       "152509       3100  \n",
       "152510       1500  \n",
       "152511       2900  \n",
       "152512       3100  \n",
       "\n",
       "[152513 rows x 17 columns]"
      ]
     },
     "execution_count": 335,
     "metadata": {},
     "output_type": "execute_result"
    }
   ],
   "source": [
    "get_pnr_score(Pass_DF)"
   ]
  },
  {
   "cell_type": "markdown",
   "id": "83c371fb",
   "metadata": {},
   "source": [
    "Affected Passengers"
   ]
  },
  {
   "cell_type": "code",
   "execution_count": 377,
   "id": "b8975f86-bbe2-4fb3-9507-4bbdadbd947e",
   "metadata": {},
   "outputs": [],
   "source": [
    "aff = Affected_PNR(df2.loc[cancelled_flights[0],'FlightNumber'], df2.loc[cancelled_flights[0],'DepartureDate'], PNR_DF)"
   ]
  },
  {
   "cell_type": "code",
   "execution_count": 378,
   "id": "bace473d-78e2-4162-9440-87cfbc4663a7",
   "metadata": {},
   "outputs": [],
   "source": [
    "#Dataframe consisting of affected passengers\n",
    "aff_pax = pd.merge(Pass_DF, aff[['RECLOC']], on='RECLOC', how='inner')"
   ]
  },
  {
   "cell_type": "markdown",
   "id": "29777228",
   "metadata": {},
   "source": [
    "Grouping affected passengers based on PNR Score"
   ]
  },
  {
   "cell_type": "code",
   "execution_count": 379,
   "id": "d50fa95c-2d81-4e7d-bd48-8704a6f0dffb",
   "metadata": {},
   "outputs": [],
   "source": [
    "#Grouping passengers based on PNR_Score\n",
    "for i in range(len(aff_pax)):\n",
    "    score = aff_pax.loc[i, 'PNR_SCORE']\n",
    "    \n",
    "    if score >= 3500:\n",
    "        aff_pax.loc[i, 'PNR_SCORE'] = 5\n",
    "    elif score >= 3000:\n",
    "        aff_pax.loc[i, 'PNR_SCORE'] = 4\n",
    "    elif score >= 2500:\n",
    "        aff_pax.loc[i, 'PNR_SCORE'] = 3\n",
    "    elif score >= 2000:\n",
    "        aff_pax.loc[i, 'PNR_SCORE'] = 2\n",
    "    else:\n",
    "        aff_pax.loc[i, 'PNR_SCORE'] = 1\n"
   ]
  },
  {
   "cell_type": "code",
   "execution_count": 383,
   "id": "991bf80e-78a0-4498-a049-6983adf5277f",
   "metadata": {},
   "outputs": [],
   "source": [
    "value_counts = aff_pax['PNR_SCORE'].value_counts()"
   ]
  },
  {
   "cell_type": "code",
   "execution_count": 384,
   "id": "a36d4d23-3062-437a-927c-e921e3ea3c05",
   "metadata": {},
   "outputs": [],
   "source": [
    "# Convert the Series to a DataFrame\n",
    "freq_df = pd.DataFrame({'PNR_SCORE': value_counts.index, 'Frequency': value_counts.values})"
   ]
  },
  {
   "cell_type": "code",
   "execution_count": 385,
   "id": "953560a9-852b-4db5-bd32-943f13eaaa83",
   "metadata": {},
   "outputs": [
    {
     "data": {
      "text/html": [
       "<div>\n",
       "<style scoped>\n",
       "    .dataframe tbody tr th:only-of-type {\n",
       "        vertical-align: middle;\n",
       "    }\n",
       "\n",
       "    .dataframe tbody tr th {\n",
       "        vertical-align: top;\n",
       "    }\n",
       "\n",
       "    .dataframe thead th {\n",
       "        text-align: right;\n",
       "    }\n",
       "</style>\n",
       "<table border=\"1\" class=\"dataframe\">\n",
       "  <thead>\n",
       "    <tr style=\"text-align: right;\">\n",
       "      <th></th>\n",
       "      <th>PNR_SCORE</th>\n",
       "      <th>Frequency</th>\n",
       "    </tr>\n",
       "  </thead>\n",
       "  <tbody>\n",
       "    <tr>\n",
       "      <th>0</th>\n",
       "      <td>5</td>\n",
       "      <td>90</td>\n",
       "    </tr>\n",
       "    <tr>\n",
       "      <th>1</th>\n",
       "      <td>4</td>\n",
       "      <td>64</td>\n",
       "    </tr>\n",
       "    <tr>\n",
       "      <th>2</th>\n",
       "      <td>1</td>\n",
       "      <td>50</td>\n",
       "    </tr>\n",
       "    <tr>\n",
       "      <th>3</th>\n",
       "      <td>2</td>\n",
       "      <td>48</td>\n",
       "    </tr>\n",
       "    <tr>\n",
       "      <th>4</th>\n",
       "      <td>3</td>\n",
       "      <td>3</td>\n",
       "    </tr>\n",
       "  </tbody>\n",
       "</table>\n",
       "</div>"
      ],
      "text/plain": [
       "   PNR_SCORE  Frequency\n",
       "0          5         90\n",
       "1          4         64\n",
       "2          1         50\n",
       "3          2         48\n",
       "4          3          3"
      ]
     },
     "execution_count": 385,
     "metadata": {},
     "output_type": "execute_result"
    }
   ],
   "source": [
    "freq_df"
   ]
  },
  {
   "cell_type": "code",
   "execution_count": 533,
   "id": "662c20b7-cfa0-460b-b567-125c3129dfbc",
   "metadata": {},
   "outputs": [
    {
     "name": "stdout",
     "output_type": "stream",
     "text": [
      "[5, 4, 1, 2, 3]\n",
      "[90, 64, 50, 48, 3]\n"
     ]
    }
   ],
   "source": [
    "Score = []         #Array for storing PNR scores\n",
    "G = []             #Array for storing number of passengers \n",
    "                   #corresponding to the PNR Score\n",
    "for i in range(len(freq_df)):\n",
    "    Score.append(freq_df.loc[i, 'PNR_SCORE'])\n",
    "    G.append(freq_df.loc[i, 'Frequency'])\n",
    "print(Score)\n",
    "print(G)"
   ]
  },
  {
   "cell_type": "code",
   "execution_count": 534,
   "id": "744c753a-e24d-4631-8cf7-dca7dec205cb",
   "metadata": {},
   "outputs": [
    {
     "name": "stdout",
     "output_type": "stream",
     "text": [
      "[9.0, 7.0, 5.0, 5.0, 1.0]\n"
     ]
    }
   ],
   "source": [
    "#Scaling down the values in G\n",
    "for i in range(len(G)):\n",
    "    G[i] = G[i]/10\n",
    "    G[i] = np.ceil(G[i])   #Ceil value so that number of passengers accommodated in\n",
    "                           #a flight is always less than than the flight's capacity\n",
    "print(G)"
   ]
  },
  {
   "cell_type": "code",
   "execution_count": 389,
   "id": "02f61c06-a980-4d2c-bce4-c13de51517d7",
   "metadata": {},
   "outputs": [],
   "source": [
    "#Importing class from PNR Data to Passenger Data\n",
    "aff_pax['Class'] = 'NaN'\n",
    "\n",
    "for i in range(len(aff)):\n",
    "    recloc_aff = aff.loc[aff.index[i], 'RECLOC']\n",
    "    class_aff = aff.loc[aff.index[i], 'COS_CD']\n",
    "\n",
    "    aff_pax.loc[aff_pax['RECLOC'] == recloc_aff, 'Class'] = class_aff"
   ]
  },
  {
   "cell_type": "markdown",
   "id": "0789592c",
   "metadata": {},
   "source": [
    "Solving our problem in quantum solver"
   ]
  },
  {
   "cell_type": "code",
   "execution_count": null,
   "id": "a87c9952-1c9e-4ea5-bfbb-50c83d6aaaec",
   "metadata": {},
   "outputs": [],
   "source": [
    "#Solving our QUBO problem using Quantum Solvers"
   ]
  },
  {
   "cell_type": "code",
   "execution_count": null,
   "id": "f91b7150-cc6b-406f-848f-67a026e5d5d3",
   "metadata": {},
   "outputs": [],
   "source": [
    "#!pip install qiskit\n",
    "#!pip install qiskit_algorithms\n",
    "#!pip install qiskit_optimization"
   ]
  },
  {
   "cell_type": "code",
   "execution_count": 404,
   "id": "146bae81-12a2-4502-9bb6-fb963ea812f8",
   "metadata": {},
   "outputs": [],
   "source": [
    "from qiskit_algorithms import QAOA, NumPyMinimumEigensolver\n",
    "from qiskit_algorithms.optimizers import COBYLA, SPSA\n",
    "from qiskit.primitives import Sampler\n",
    "from qiskit_optimization.algorithms import (\n",
    "    MinimumEigenOptimizer,\n",
    "    SolutionSample,\n",
    "    OptimizationResultStatus,\n",
    ")\n",
    "from qiskit_optimization import QuadraticProgram\n",
    "from qiskit.visualization import plot_histogram\n",
    "from typing import List, Tuple\n",
    "import numpy as np\n",
    "from qiskit_optimization.translators import from_docplex_mp\n",
    "from qiskit_optimization.converters import LinearInequalityToPenalty, QuadraticProgramToQubo"
   ]
  },
  {
   "cell_type": "markdown",
   "id": "7f9a9852",
   "metadata": {},
   "source": [
    "Formulating our problem"
   ]
  },
  {
   "cell_type": "code",
   "execution_count": 536,
   "id": "613f5b10-9ff7-4557-a1c8-616442daaa96",
   "metadata": {},
   "outputs": [
    {
     "name": "stdout",
     "output_type": "stream",
     "text": [
      "Problem name: \n",
      "\n",
      "Maximize\n",
      "  10*x_0_0 + 10*x_0_1 + 8*x_1_0 + 8*x_1_1 + 2*x_2_0 + 2*x_2_1 + 4*x_3_0\n",
      "  + 4*x_3_1 + 6*x_4_0 + 6*x_4_1\n",
      "\n",
      "Subject to\n",
      "  Linear constraints (7)\n",
      "    x_0_0 + x_0_1 <= 1  'c0'\n",
      "    x_1_0 + x_1_1 <= 1  'c1'\n",
      "    x_2_0 + x_2_1 <= 1  'c2'\n",
      "    x_3_0 + x_3_1 <= 1  'c3'\n",
      "    x_4_0 + x_4_1 <= 1  'c4'\n",
      "    9*x_0_0 + 7*x_1_0 + 5*x_2_0 + 5*x_3_0 + x_4_0 <= 15  'c5'\n",
      "    9*x_0_1 + 7*x_1_1 + 5*x_2_1 + 5*x_3_1 + x_4_1 <= 14  'c6'\n",
      "\n",
      "  Binary variables (10)\n",
      "    x_0_0 x_1_0 x_2_0 x_3_0 x_4_0 x_0_1 x_1_1 x_2_1 x_3_1 x_4_1\n",
      "\n"
     ]
    }
   ],
   "source": [
    "#Formulating the problem\n",
    "qp = QuadraticProgram()\n",
    "\n",
    "#Defining variables\n",
    "for j in range(len(F)):\n",
    "    for i in range(len(Score)):\n",
    "        qp.binary_var(name=f'x_{i}_{j}')\n",
    "\n",
    "#Objective function\n",
    "linear_dict = {f'x_{i}_{j}': F[j] * Score[i] for i in range(len(Score)) for j in range(len(F))}\n",
    "qp.maximize(linear=linear_dict)\n",
    "\n",
    "#Add constraints\n",
    "#Passenger Constraint (Each passenger(group here) is assigned one flight)\n",
    "for k in range(len(Score)):\n",
    "    constraint1 = {f'x_{k}_{j}': 1 for j in range(len(F))}\n",
    "    qp.linear_constraint(linear=constraint1, sense='<=', rhs=1)\n",
    "\n",
    "#Flight Constraint (Flights shouldn't accommodate more than it can carry/fly)\n",
    "for k in range(len(F)):\n",
    "    constraint2 = {f'x_{i}_{k}': G[i] for i in range(len(Score))}\n",
    "    qp.linear_constraint(linear=constraint2, sense='<=', rhs=V_S[k])\n",
    "\n",
    "print(qp.prettyprint())"
   ]
  },
  {
   "cell_type": "markdown",
   "id": "546582cd",
   "metadata": {},
   "source": [
    "Converting to QUBO"
   ]
  },
  {
   "cell_type": "code",
   "execution_count": 537,
   "id": "841d02b0-7439-46de-b3c5-95551a263eb7",
   "metadata": {},
   "outputs": [
    {
     "name": "stdout",
     "output_type": "stream",
     "text": [
      "Problem name: \n",
      "\n",
      "Minimize\n",
      "  366*c5@int_slack@0^2 + 1464*c5@int_slack@0*c5@int_slack@1\n",
      "  + 2928*c5@int_slack@0*c5@int_slack@2 + 5856*c5@int_slack@0*c5@int_slack@3\n",
      "  + 1464*c5@int_slack@1^2 + 5856*c5@int_slack@1*c5@int_slack@2\n",
      "  + 11712*c5@int_slack@1*c5@int_slack@3 + 5856*c5@int_slack@2^2\n",
      "  + 23424*c5@int_slack@2*c5@int_slack@3 + 23424*c5@int_slack@3^2\n",
      "  + 366*c6@int_slack@0^2 + 1464*c6@int_slack@0*c6@int_slack@1\n",
      "  + 2928*c6@int_slack@0*c6@int_slack@2 + 5124*c6@int_slack@0*c6@int_slack@3\n",
      "  + 1464*c6@int_slack@1^2 + 5856*c6@int_slack@1*c6@int_slack@2\n",
      "  + 10248*c6@int_slack@1*c6@int_slack@3 + 5856*c6@int_slack@2^2\n",
      "  + 20496*c6@int_slack@2*c6@int_slack@3 + 17934*c6@int_slack@3^2\n",
      "  + 6588*x_0_0*c5@int_slack@0 + 13176*x_0_0*c5@int_slack@1\n",
      "  + 26352*x_0_0*c5@int_slack@2 + 52704*x_0_0*c5@int_slack@3 + 29646*x_0_0^2\n",
      "  + 61*x_0_0*x_0_1 + 46116*x_0_0*x_1_0 + 32940*x_0_0*x_2_0 + 32940*x_0_0*x_3_0\n",
      "  + 6588*x_0_0*x_4_0 + 6588*x_0_1*c6@int_slack@0 + 13176*x_0_1*c6@int_slack@1\n",
      "  + 26352*x_0_1*c6@int_slack@2 + 46116*x_0_1*c6@int_slack@3 + 29646*x_0_1^2\n",
      "  + 46116*x_0_1*x_1_1 + 32940*x_0_1*x_2_1 + 32940*x_0_1*x_3_1 + 6588*x_0_1*x_4_1\n",
      "  + 5124*x_1_0*c5@int_slack@0 + 10248*x_1_0*c5@int_slack@1\n",
      "  + 20496*x_1_0*c5@int_slack@2 + 40992*x_1_0*c5@int_slack@3 + 17934*x_1_0^2\n",
      "  + 61*x_1_0*x_1_1 + 25620*x_1_0*x_2_0 + 25620*x_1_0*x_3_0 + 5124*x_1_0*x_4_0\n",
      "  + 5124*x_1_1*c6@int_slack@0 + 10248*x_1_1*c6@int_slack@1\n",
      "  + 20496*x_1_1*c6@int_slack@2 + 35868*x_1_1*c6@int_slack@3 + 17934*x_1_1^2\n",
      "  + 25620*x_1_1*x_2_1 + 25620*x_1_1*x_3_1 + 5124*x_1_1*x_4_1\n",
      "  + 3660*x_2_0*c5@int_slack@0 + 7320*x_2_0*c5@int_slack@1\n",
      "  + 14640*x_2_0*c5@int_slack@2 + 29280*x_2_0*c5@int_slack@3 + 9150*x_2_0^2\n",
      "  + 61*x_2_0*x_2_1 + 18300*x_2_0*x_3_0 + 3660*x_2_0*x_4_0\n",
      "  + 3660*x_2_1*c6@int_slack@0 + 7320*x_2_1*c6@int_slack@1\n",
      "  + 14640*x_2_1*c6@int_slack@2 + 25620*x_2_1*c6@int_slack@3 + 9150*x_2_1^2\n",
      "  + 18300*x_2_1*x_3_1 + 3660*x_2_1*x_4_1 + 3660*x_3_0*c5@int_slack@0\n",
      "  + 7320*x_3_0*c5@int_slack@1 + 14640*x_3_0*c5@int_slack@2\n",
      "  + 29280*x_3_0*c5@int_slack@3 + 9150*x_3_0^2 + 61*x_3_0*x_3_1\n",
      "  + 3660*x_3_0*x_4_0 + 3660*x_3_1*c6@int_slack@0 + 7320*x_3_1*c6@int_slack@1\n",
      "  + 14640*x_3_1*c6@int_slack@2 + 25620*x_3_1*c6@int_slack@3 + 9150*x_3_1^2\n",
      "  + 3660*x_3_1*x_4_1 + 732*x_4_0*c5@int_slack@0 + 1464*x_4_0*c5@int_slack@1\n",
      "  + 2928*x_4_0*c5@int_slack@2 + 5856*x_4_0*c5@int_slack@3 + 366*x_4_0^2\n",
      "  + 61*x_4_0*x_4_1 + 732*x_4_1*c6@int_slack@0 + 1464*x_4_1*c6@int_slack@1\n",
      "  + 2928*x_4_1*c6@int_slack@2 + 5124*x_4_1*c6@int_slack@3 + 366*x_4_1^2\n",
      "  - 10980*c5@int_slack@0 - 21960*c5@int_slack@1 - 43920*c5@int_slack@2\n",
      "  - 87840*c5@int_slack@3 - 10248*c6@int_slack@0 - 20496*c6@int_slack@1\n",
      "  - 40992*c6@int_slack@2 - 71736*c6@int_slack@3 - 98830*x_0_0 - 92242*x_0_1\n",
      "  - 76868*x_1_0 - 71744*x_1_1 - 54902*x_2_0 - 51242*x_2_1 - 54904*x_3_0\n",
      "  - 51244*x_3_1 - 10986*x_4_0 - 10254*x_4_1 + 154086\n",
      "\n",
      "Subject to\n",
      "  No constraints\n",
      "\n",
      "  Binary variables (18)\n",
      "    x_0_0 x_1_0 x_2_0 x_3_0 x_4_0 x_0_1 x_1_1 x_2_1 x_3_1 x_4_1 c5@int_slack@0\n",
      "    c5@int_slack@1 c5@int_slack@2 c5@int_slack@3 c6@int_slack@0 c6@int_slack@1\n",
      "    c6@int_slack@2 c6@int_slack@3\n",
      "\n"
     ]
    }
   ],
   "source": [
    "#Converting our problem to QUBO using optimization converters\n",
    "ineq2pen_2 = QuadraticProgramToQubo()\n",
    "qubo = ineq2pen_2.convert(qp)\n",
    "print(qubo.prettyprint())\n",
    "#All the constraints have been converted to penalty terms and added \n",
    "#to the objective function as well as slack variables are introduced"
   ]
  },
  {
   "cell_type": "markdown",
   "id": "313a887e",
   "metadata": {},
   "source": [
    "QUBO to Ising Hamiltonian"
   ]
  },
  {
   "cell_type": "code",
   "execution_count": 538,
   "id": "18bb02b4-f422-4242-baca-3c78406d764b",
   "metadata": {},
   "outputs": [
    {
     "name": "stdout",
     "output_type": "stream",
     "text": [
      "offset: 75991.25\n",
      "H:\n",
      "SparsePauliOp(['IIIIIIIIIIIIIIIIIZ', 'IIIIIIIIIIIIZIIIII', 'IIIIIIIIIIIIIIIIZI', 'IIIIIIIIIIIZIIIIII', 'IIIIIIIIIIIIIIIZII', 'IIIIIIIIIIZIIIIIII', 'IIIIIIIIIIIIIIZIII', 'IIIIIIIIIZIIIIIIII', 'IIIIIIIIIIIIIZIIII', 'IIIIIIIIZIIIIIIIII', 'IIIIIIIZIIIIIIIIII', 'IIIIIIZIIIIIIIIIII', 'IIIIIZIIIIIIIIIIII', 'IIIIZIIIIIIIIIIIII', 'IIIZIIIIIIIIIIIIII', 'IIZIIIIIIIIIIIIIII', 'IZIIIIIIIIIIIIIIII', 'ZIIIIIIIIIIIIIIIII', 'IIIIIIIIIIIIIIIIZZ', 'IIIIIIIIIIIIIIIZIZ', 'IIIIIIIIIIIIIIZIIZ', 'IIIIIIIIIIIIIZIIIZ', 'IIIIIIIIIIIIZIIIIZ', 'IIIIIIIZIIIIIIIIIZ', 'IIIIIIZIIIIIIIIIIZ', 'IIIIIZIIIIIIIIIIIZ', 'IIIIZIIIIIIIIIIIIZ', 'IIIIIIIIIIIIIIIZZI', 'IIIIIIIIIIIIIIZIZI', 'IIIIIIIIIIIIIZIIZI', 'IIIIIIIIIIIZIIIIZI', 'IIIIIIIZIIIIIIIIZI', 'IIIIIIZIIIIIIIIIZI', 'IIIIIZIIIIIIIIIIZI', 'IIIIZIIIIIIIIIIIZI', 'IIIIIIIIIIIIIIZZII', 'IIIIIIIIIIIIIZIZII', 'IIIIIIIIIIZIIIIZII', 'IIIIIIIZIIIIIIIZII', 'IIIIIIZIIIIIIIIZII', 'IIIIIZIIIIIIIIIZII', 'IIIIZIIIIIIIIIIZII', 'IIIIIIIIIIIIIZZIII', 'IIIIIIIIIZIIIIZIII', 'IIIIIIIZIIIIIIZIII', 'IIIIIIZIIIIIIIZIII', 'IIIIIZIIIIIIIIZIII', 'IIIIZIIIIIIIIIZIII', 'IIIIIIIIZIIIIZIIII', 'IIIIIIIZIIIIIZIIII', 'IIIIIIZIIIIIIZIIII', 'IIIIIZIIIIIIIZIIII', 'IIIIZIIIIIIIIZIIII', 'IIIIIIIIIIIZZIIIII', 'IIIIIIIIIIZIZIIIII', 'IIIIIIIIIZIIZIIIII', 'IIIIIIIIZIIIZIIIII', 'IIIZIIIIIIIIZIIIII', 'IIZIIIIIIIIIZIIIII', 'IZIIIIIIIIIIZIIIII', 'ZIIIIIIIIIIIZIIIII', 'IIIIIIIIIIZZIIIIII', 'IIIIIIIIIZIZIIIIII', 'IIIIIIIIZIIZIIIIII', 'IIIZIIIIIIIZIIIIII', 'IIZIIIIIIIIZIIIIII', 'IZIIIIIIIIIZIIIIII', 'ZIIIIIIIIIIZIIIIII', 'IIIIIIIIIZZIIIIIII', 'IIIIIIIIZIZIIIIIII', 'IIIZIIIIIIZIIIIIII', 'IIZIIIIIIIZIIIIIII', 'IZIIIIIIIIZIIIIIII', 'ZIIIIIIIIIZIIIIIII', 'IIIIIIIIZZIIIIIIII', 'IIIZIIIIIZIIIIIIII', 'IIZIIIIIIZIIIIIIII', 'IZIIIIIIIZIIIIIIII', 'ZIIIIIIIIZIIIIIIII', 'IIIZIIIIZIIIIIIIII', 'IIZIIIIIZIIIIIIIII', 'IZIIIIIIZIIIIIIIII', 'ZIIIIIIIZIIIIIIIII', 'IIIIIIZZIIIIIIIIII', 'IIIIIZIZIIIIIIIIII', 'IIIIZIIZIIIIIIIIII', 'IIIIIZZIIIIIIIIIII', 'IIIIZIZIIIIIIIIIII', 'IIIIZZIIIIIIIIIIII', 'IIZZIIIIIIIIIIIIII', 'IZIZIIIIIIIIIIIIII', 'ZIIZIIIIIIIIIIIIII', 'IZZIIIIIIIIIIIIIII', 'ZIZIIIIIIIIIIIIIII', 'ZZIIIIIIIIIIIIIIII'],\n",
      "              coeffs=[-1.977425e+04+0.j, -2.142125e+04+0.j, -1.538325e+04+0.j,\n",
      " -1.666425e+04+0.j, -1.099425e+04+0.j, -1.190925e+04+0.j,\n",
      " -1.099325e+04+0.j, -1.190825e+04+0.j, -2.208250e+03+0.j,\n",
      " -2.391250e+03+0.j, -2.196000e+03+0.j, -4.392000e+03+0.j,\n",
      " -8.784000e+03+0.j, -1.756800e+04+0.j, -2.379000e+03+0.j,\n",
      " -4.758000e+03+0.j, -9.516000e+03+0.j, -1.665300e+04+0.j,\n",
      "  1.152900e+04+0.j,  8.235000e+03+0.j,  8.235000e+03+0.j,\n",
      "  1.647000e+03+0.j,  1.525000e+01+0.j,  1.647000e+03+0.j,\n",
      "  3.294000e+03+0.j,  6.588000e+03+0.j,  1.317600e+04+0.j,\n",
      "  6.405000e+03+0.j,  6.405000e+03+0.j,  1.281000e+03+0.j,\n",
      "  1.525000e+01+0.j,  1.281000e+03+0.j,  2.562000e+03+0.j,\n",
      "  5.124000e+03+0.j,  1.024800e+04+0.j,  4.575000e+03+0.j,\n",
      "  9.150000e+02+0.j,  1.525000e+01+0.j,  9.150000e+02+0.j,\n",
      "  1.830000e+03+0.j,  3.660000e+03+0.j,  7.320000e+03+0.j,\n",
      "  9.150000e+02+0.j,  1.525000e+01+0.j,  9.150000e+02+0.j,\n",
      "  1.830000e+03+0.j,  3.660000e+03+0.j,  7.320000e+03+0.j,\n",
      "  1.525000e+01+0.j,  1.830000e+02+0.j,  3.660000e+02+0.j,\n",
      "  7.320000e+02+0.j,  1.464000e+03+0.j,  1.152900e+04+0.j,\n",
      "  8.235000e+03+0.j,  8.235000e+03+0.j,  1.647000e+03+0.j,\n",
      "  1.647000e+03+0.j,  3.294000e+03+0.j,  6.588000e+03+0.j,\n",
      "  1.152900e+04+0.j,  6.405000e+03+0.j,  6.405000e+03+0.j,\n",
      "  1.281000e+03+0.j,  1.281000e+03+0.j,  2.562000e+03+0.j,\n",
      "  5.124000e+03+0.j,  8.967000e+03+0.j,  4.575000e+03+0.j,\n",
      "  9.150000e+02+0.j,  9.150000e+02+0.j,  1.830000e+03+0.j,\n",
      "  3.660000e+03+0.j,  6.405000e+03+0.j,  9.150000e+02+0.j,\n",
      "  9.150000e+02+0.j,  1.830000e+03+0.j,  3.660000e+03+0.j,\n",
      "  6.405000e+03+0.j,  1.830000e+02+0.j,  3.660000e+02+0.j,\n",
      "  7.320000e+02+0.j,  1.281000e+03+0.j,  3.660000e+02+0.j,\n",
      "  7.320000e+02+0.j,  1.464000e+03+0.j,  1.464000e+03+0.j,\n",
      "  2.928000e+03+0.j,  5.856000e+03+0.j,  3.660000e+02+0.j,\n",
      "  7.320000e+02+0.j,  1.281000e+03+0.j,  1.464000e+03+0.j,\n",
      "  2.562000e+03+0.j,  5.124000e+03+0.j])\n"
     ]
    }
   ],
   "source": [
    "#Converting our QUBO problem to Ising Model \n",
    "H, offset = qubo.to_ising()\n",
    "print(\"offset: {}\".format(offset))\n",
    "print(\"H:\")\n",
    "print(H)    #The Hamiltonian for our problem"
   ]
  },
  {
   "cell_type": "code",
   "execution_count": 539,
   "id": "98bd49cc-9f42-4dc4-8863-99a36de32b0c",
   "metadata": {},
   "outputs": [],
   "source": [
    "qaoa_mes = QAOA(sampler=Sampler(), optimizer=COBYLA(),reps=1)"
   ]
  },
  {
   "cell_type": "code",
   "execution_count": 540,
   "id": "5b401943-e049-4ba8-bc12-068194ef5a9a",
   "metadata": {},
   "outputs": [],
   "source": [
    "qaoa = MinimumEigenOptimizer(qaoa_mes)  # using QAOA"
   ]
  },
  {
   "cell_type": "markdown",
   "id": "6b4849fc",
   "metadata": {},
   "source": [
    "Solving using QAOA Solver"
   ]
  },
  {
   "cell_type": "code",
   "execution_count": 541,
   "id": "1d38685c-793f-43a1-b7a4-b3f8acae397d",
   "metadata": {},
   "outputs": [
    {
     "name": "stdout",
     "output_type": "stream",
     "text": [
      "objective function value: -30.0\n",
      "variable values: x_0_0=0.0, x_1_0=1.0, x_2_0=0.0, x_3_0=1.0, x_4_0=1.0, x_0_1=1.0, x_1_1=0.0, x_2_1=1.0, x_3_1=0.0, x_4_1=0.0, c5@int_slack@0=0.0, c5@int_slack@1=1.0, c5@int_slack@2=0.0, c5@int_slack@3=0.0, c6@int_slack@0=0.0, c6@int_slack@1=0.0, c6@int_slack@2=0.0, c6@int_slack@3=0.0\n",
      "status: SUCCESS\n"
     ]
    }
   ],
   "source": [
    "qubo_result = qaoa.solve(qubo)\n",
    "print(qubo_result.prettyprint())"
   ]
  },
  {
   "cell_type": "code",
   "execution_count": 802,
   "id": "e173d054-a266-46d7-babd-02d600febd25",
   "metadata": {},
   "outputs": [
    {
     "name": "stdout",
     "output_type": "stream",
     "text": [
      "variable order: ['x_0_0', 'x_1_0', 'x_2_0', 'x_3_0', 'x_4_0', 'x_0_1', 'x_1_1', 'x_2_1', 'x_3_1', 'x_4_1', 'c5@int_slack@0', 'c5@int_slack@1', 'c5@int_slack@2', 'c5@int_slack@3', 'c6@int_slack@0', 'c6@int_slack@1', 'c6@int_slack@2', 'c6@int_slack@3']\n"
     ]
    }
   ],
   "source": [
    "print(\"variable order:\", [var.name for var in qubo_result.variables])\n",
    "X = []\n",
    "for i in range(min(4, len(qubo_result.samples))):\n",
    "    sample = qubo_result.samples[i]\n",
    "\n",
    "    # Extract 'x' array from the sample\n",
    "    x_array = sample.x\n",
    "    X.append(x_array[:len(Score) * len(F)])   #Omitting the slack variables"
   ]
  },
  {
   "cell_type": "markdown",
   "id": "a4aef043",
   "metadata": {},
   "source": [
    "The first few solutions obtained"
   ]
  },
  {
   "cell_type": "code",
   "execution_count": 803,
   "id": "c9edb4b6-73ed-4e47-bb97-3a2913d7d9d5",
   "metadata": {},
   "outputs": [
    {
     "data": {
      "text/plain": [
       "[array([0., 1., 0., 1., 1., 1., 0., 1., 0., 0.]),\n",
       " array([0., 1., 1., 0., 1., 1., 0., 0., 1., 0.]),\n",
       " array([0., 1., 0., 0., 1., 1., 0., 0., 1., 0.]),\n",
       " array([1., 0., 0., 0., 0., 0., 1., 0., 1., 1.]),\n",
       " array([0., 1., 0., 1., 0., 1., 0., 0., 0., 1.])]"
      ]
     },
     "execution_count": 803,
     "metadata": {},
     "output_type": "execute_result"
    }
   ],
   "source": [
    "X #List that contains the first 4 optimal solutions"
   ]
  },
  {
   "cell_type": "code",
   "execution_count": 812,
   "id": "e3f4f595-840b-46f9-8a58-e7e22c7bf4ad",
   "metadata": {},
   "outputs": [
    {
     "data": {
      "text/plain": [
       "array([0., 1., 0., 1., 1., 1., 0., 1., 0., 0.])"
      ]
     },
     "execution_count": 812,
     "metadata": {},
     "output_type": "execute_result"
    }
   ],
   "source": [
    "#Anslyzing first solution\n",
    "n=1\n",
    "X[n-1]"
   ]
  },
  {
   "cell_type": "code",
   "execution_count": 813,
   "id": "01eeb9b2-2752-4c34-bc9a-ed5ad753b0b5",
   "metadata": {},
   "outputs": [],
   "source": [
    "aff_pax['Alt_Fli'] = 'NaN'      #New column for storing the assigned alternate flight to passengers"
   ]
  },
  {
   "cell_type": "markdown",
   "id": "339bca99",
   "metadata": {},
   "source": [
    "Assignment of flights to passengers"
   ]
  },
  {
   "cell_type": "code",
   "execution_count": 814,
   "id": "ac9e8a5e-bc64-45f6-9274-8c97b7dd1e04",
   "metadata": {},
   "outputs": [
    {
     "name": "stdout",
     "output_type": "stream",
     "text": [
      "Group 2 is assigned to Flight 1\n",
      "Group 4 is assigned to Flight 1\n",
      "Group 5 is assigned to Flight 1\n",
      "Group 1 is assigned to Flight 2\n",
      "Group 3 is assigned to Flight 2\n"
     ]
    }
   ],
   "source": [
    "for i in range(len(X[n-1])):\n",
    "    if X[n-1][i] == 1:\n",
    "        alt_flight_number = (i // len(Score)) + 1\n",
    "        group_index = (i % len(Score)) + 1\n",
    "        assignment_info = f\"Group {group_index} is assigned to Flight {alt_flight_number}\" \n",
    "        print(assignment_info)\n",
    "        condition = aff_pax['PNR_SCORE'] == Score[group_index - 1]\n",
    "        aff_pax.loc[condition, 'Alt_Fli'] = Av_Fl[alt_flight_number - 1]       "
   ]
  },
  {
   "cell_type": "code",
   "execution_count": 815,
   "id": "df0fb600-293b-4fa9-90f8-a16a3b3c499e",
   "metadata": {},
   "outputs": [
    {
     "data": {
      "text/plain": [
       "Alt_Fli\n",
       "2    140\n",
       "1    115\n",
       "Name: count, dtype: int64"
      ]
     },
     "execution_count": 815,
     "metadata": {},
     "output_type": "execute_result"
    }
   ],
   "source": [
    "aff_pax['Alt_Fli'].value_counts()  #No. of passengers in each flight"
   ]
  },
  {
   "cell_type": "markdown",
   "id": "3dae5ed0",
   "metadata": {},
   "source": [
    "Passengers who were reaccommodated"
   ]
  },
  {
   "cell_type": "code",
   "execution_count": 816,
   "id": "efc2f070-9735-4581-a4ce-b9cf602573a6",
   "metadata": {},
   "outputs": [],
   "source": [
    "filt = (aff_pax['Alt_Fli'] != 'NaN')\n",
    "Reaccommodated_List_df = aff_pax.loc[filt] #Dataframe that contains the passengers who were rescheduled"
   ]
  },
  {
   "cell_type": "code",
   "execution_count": 817,
   "id": "45482342-279d-4aa6-ac69-ebca2860c466",
   "metadata": {},
   "outputs": [
    {
     "data": {
      "text/html": [
       "<div>\n",
       "<style scoped>\n",
       "    .dataframe tbody tr th:only-of-type {\n",
       "        vertical-align: middle;\n",
       "    }\n",
       "\n",
       "    .dataframe tbody tr th {\n",
       "        vertical-align: top;\n",
       "    }\n",
       "\n",
       "    .dataframe thead th {\n",
       "        text-align: right;\n",
       "    }\n",
       "</style>\n",
       "<table border=\"1\" class=\"dataframe\">\n",
       "  <thead>\n",
       "    <tr style=\"text-align: right;\">\n",
       "      <th></th>\n",
       "      <th>RECLOC</th>\n",
       "      <th>CREATION_DTZ</th>\n",
       "      <th>CUSTOMER_ID</th>\n",
       "      <th>LAST_NAME</th>\n",
       "      <th>FIRST_NAME</th>\n",
       "      <th>NATIONALITY</th>\n",
       "      <th>DOB</th>\n",
       "      <th>CONTACT_PH_NUM</th>\n",
       "      <th>CONTACT_EMAIL</th>\n",
       "      <th>DOC_TYPE</th>\n",
       "      <th>DOC_ID</th>\n",
       "      <th>SPECIAL_NAME_CD2</th>\n",
       "      <th>SSR_CODE_CD1</th>\n",
       "      <th>SPECIAL_NAME_CD1</th>\n",
       "      <th>FF_NUM</th>\n",
       "      <th>TierLevel</th>\n",
       "      <th>PNR_SCORE</th>\n",
       "      <th>Class</th>\n",
       "      <th>Alt_Fli</th>\n",
       "      <th>Assigned Class</th>\n",
       "    </tr>\n",
       "  </thead>\n",
       "  <tbody>\n",
       "    <tr>\n",
       "      <th>0</th>\n",
       "      <td>YFIU24</td>\n",
       "      <td>2023-07-12 18:54:00</td>\n",
       "      <td>AAJ5569</td>\n",
       "      <td>Simpson</td>\n",
       "      <td>Christine</td>\n",
       "      <td>CA</td>\n",
       "      <td>1983-05-10</td>\n",
       "      <td>(931) 805-6794</td>\n",
       "      <td>christinesimpson1@example.com</td>\n",
       "      <td>Passport</td>\n",
       "      <td>54800342</td>\n",
       "      <td>NaN</td>\n",
       "      <td>0</td>\n",
       "      <td>ADT</td>\n",
       "      <td>NaN</td>\n",
       "      <td>0</td>\n",
       "      <td>1</td>\n",
       "      <td>EconomyClass</td>\n",
       "      <td>2</td>\n",
       "      <td></td>\n",
       "    </tr>\n",
       "    <tr>\n",
       "      <th>1</th>\n",
       "      <td>YFIU24</td>\n",
       "      <td>2023-07-12 18:54:00</td>\n",
       "      <td>RWT4783</td>\n",
       "      <td>Brown</td>\n",
       "      <td>Michael</td>\n",
       "      <td>US</td>\n",
       "      <td>1937-10-01</td>\n",
       "      <td>(542) 239-1961</td>\n",
       "      <td>michaelbrown2@example.com</td>\n",
       "      <td>Passport</td>\n",
       "      <td>633725606</td>\n",
       "      <td>NaN</td>\n",
       "      <td>0</td>\n",
       "      <td>S65</td>\n",
       "      <td>9.221551e+09</td>\n",
       "      <td>Gold</td>\n",
       "      <td>4</td>\n",
       "      <td>EconomyClass</td>\n",
       "      <td>1</td>\n",
       "      <td></td>\n",
       "    </tr>\n",
       "    <tr>\n",
       "      <th>2</th>\n",
       "      <td>YFIU24</td>\n",
       "      <td>2023-07-12 18:54:00</td>\n",
       "      <td>PKA3536</td>\n",
       "      <td>Brown</td>\n",
       "      <td>Eric</td>\n",
       "      <td>US</td>\n",
       "      <td>1938-11-05</td>\n",
       "      <td>(310) 411-9646</td>\n",
       "      <td>ericbrown3@example.com</td>\n",
       "      <td>Govt-Id</td>\n",
       "      <td>1709385440</td>\n",
       "      <td>NaN</td>\n",
       "      <td>0</td>\n",
       "      <td>S65</td>\n",
       "      <td>NaN</td>\n",
       "      <td>0</td>\n",
       "      <td>1</td>\n",
       "      <td>EconomyClass</td>\n",
       "      <td>2</td>\n",
       "      <td></td>\n",
       "    </tr>\n",
       "    <tr>\n",
       "      <th>3</th>\n",
       "      <td>GDMM37</td>\n",
       "      <td>2023-04-15 09:10:00</td>\n",
       "      <td>MXI3729</td>\n",
       "      <td>Huynh</td>\n",
       "      <td>Cameron</td>\n",
       "      <td>US</td>\n",
       "      <td>1984-01-04</td>\n",
       "      <td>(994) 412-9858</td>\n",
       "      <td>cameronhuynh1@example.com</td>\n",
       "      <td>Govt-Id</td>\n",
       "      <td>4705551688</td>\n",
       "      <td>NaN</td>\n",
       "      <td>0</td>\n",
       "      <td>ADT</td>\n",
       "      <td>7.503245e+09</td>\n",
       "      <td>Silver</td>\n",
       "      <td>5</td>\n",
       "      <td>PremiumEconomyClass</td>\n",
       "      <td>2</td>\n",
       "      <td></td>\n",
       "    </tr>\n",
       "    <tr>\n",
       "      <th>4</th>\n",
       "      <td>GDMM37</td>\n",
       "      <td>2023-04-15 09:10:00</td>\n",
       "      <td>QFV7801</td>\n",
       "      <td>Compton</td>\n",
       "      <td>Steve</td>\n",
       "      <td>CA</td>\n",
       "      <td>1934-11-25</td>\n",
       "      <td>(218) 532-5335</td>\n",
       "      <td>stevecompton2@example.com</td>\n",
       "      <td>Passport</td>\n",
       "      <td>342761628</td>\n",
       "      <td>NaN</td>\n",
       "      <td>0</td>\n",
       "      <td>S65</td>\n",
       "      <td>NaN</td>\n",
       "      <td>0</td>\n",
       "      <td>2</td>\n",
       "      <td>PremiumEconomyClass</td>\n",
       "      <td>1</td>\n",
       "      <td></td>\n",
       "    </tr>\n",
       "  </tbody>\n",
       "</table>\n",
       "</div>"
      ],
      "text/plain": [
       "   RECLOC        CREATION_DTZ CUSTOMER_ID LAST_NAME FIRST_NAME NATIONALITY  \\\n",
       "0  YFIU24 2023-07-12 18:54:00     AAJ5569   Simpson  Christine          CA   \n",
       "1  YFIU24 2023-07-12 18:54:00     RWT4783     Brown    Michael          US   \n",
       "2  YFIU24 2023-07-12 18:54:00     PKA3536     Brown       Eric          US   \n",
       "3  GDMM37 2023-04-15 09:10:00     MXI3729     Huynh    Cameron          US   \n",
       "4  GDMM37 2023-04-15 09:10:00     QFV7801   Compton      Steve          CA   \n",
       "\n",
       "         DOB  CONTACT_PH_NUM                  CONTACT_EMAIL  DOC_TYPE  \\\n",
       "0 1983-05-10  (931) 805-6794  christinesimpson1@example.com  Passport   \n",
       "1 1937-10-01  (542) 239-1961      michaelbrown2@example.com  Passport   \n",
       "2 1938-11-05  (310) 411-9646         ericbrown3@example.com   Govt-Id   \n",
       "3 1984-01-04  (994) 412-9858      cameronhuynh1@example.com   Govt-Id   \n",
       "4 1934-11-25  (218) 532-5335      stevecompton2@example.com  Passport   \n",
       "\n",
       "       DOC_ID SPECIAL_NAME_CD2 SSR_CODE_CD1 SPECIAL_NAME_CD1        FF_NUM  \\\n",
       "0    54800342              NaN            0              ADT           NaN   \n",
       "1   633725606              NaN            0              S65  9.221551e+09   \n",
       "2  1709385440              NaN            0              S65           NaN   \n",
       "3  4705551688              NaN            0              ADT  7.503245e+09   \n",
       "4   342761628              NaN            0              S65           NaN   \n",
       "\n",
       "  TierLevel  PNR_SCORE                Class Alt_Fli Assigned Class  \n",
       "0         0          1         EconomyClass       2                 \n",
       "1      Gold          4         EconomyClass       1                 \n",
       "2         0          1         EconomyClass       2                 \n",
       "3    Silver          5  PremiumEconomyClass       2                 \n",
       "4         0          2  PremiumEconomyClass       1                 "
      ]
     },
     "execution_count": 817,
     "metadata": {},
     "output_type": "execute_result"
    }
   ],
   "source": [
    "Reaccommodated_List_df.head()"
   ]
  },
  {
   "cell_type": "markdown",
   "id": "93af3237",
   "metadata": {},
   "source": [
    "Passengers who couldn't be reaccommodated"
   ]
  },
  {
   "cell_type": "code",
   "execution_count": 818,
   "id": "ef1ad88e-8008-40e5-86c1-acea4cd2231d",
   "metadata": {},
   "outputs": [],
   "source": [
    "filt = (aff_pax['Alt_Fli'] == 'NaN')\n",
    "Exception_List_df = aff_pax.loc[filt] #Dataframe that contains the passengers who couldn't be rescheduled"
   ]
  },
  {
   "cell_type": "code",
   "execution_count": 819,
   "id": "d5f6efbe-1efd-4f05-b79b-58162e179e7d",
   "metadata": {},
   "outputs": [
    {
     "data": {
      "text/html": [
       "<div>\n",
       "<style scoped>\n",
       "    .dataframe tbody tr th:only-of-type {\n",
       "        vertical-align: middle;\n",
       "    }\n",
       "\n",
       "    .dataframe tbody tr th {\n",
       "        vertical-align: top;\n",
       "    }\n",
       "\n",
       "    .dataframe thead th {\n",
       "        text-align: right;\n",
       "    }\n",
       "</style>\n",
       "<table border=\"1\" class=\"dataframe\">\n",
       "  <thead>\n",
       "    <tr style=\"text-align: right;\">\n",
       "      <th></th>\n",
       "      <th>RECLOC</th>\n",
       "      <th>CREATION_DTZ</th>\n",
       "      <th>CUSTOMER_ID</th>\n",
       "      <th>LAST_NAME</th>\n",
       "      <th>FIRST_NAME</th>\n",
       "      <th>NATIONALITY</th>\n",
       "      <th>DOB</th>\n",
       "      <th>CONTACT_PH_NUM</th>\n",
       "      <th>CONTACT_EMAIL</th>\n",
       "      <th>DOC_TYPE</th>\n",
       "      <th>DOC_ID</th>\n",
       "      <th>SPECIAL_NAME_CD2</th>\n",
       "      <th>SSR_CODE_CD1</th>\n",
       "      <th>SPECIAL_NAME_CD1</th>\n",
       "      <th>FF_NUM</th>\n",
       "      <th>TierLevel</th>\n",
       "      <th>PNR_SCORE</th>\n",
       "      <th>Class</th>\n",
       "      <th>Alt_Fli</th>\n",
       "      <th>Assigned Class</th>\n",
       "    </tr>\n",
       "  </thead>\n",
       "  <tbody>\n",
       "  </tbody>\n",
       "</table>\n",
       "</div>"
      ],
      "text/plain": [
       "Empty DataFrame\n",
       "Columns: [RECLOC, CREATION_DTZ, CUSTOMER_ID, LAST_NAME, FIRST_NAME, NATIONALITY, DOB, CONTACT_PH_NUM, CONTACT_EMAIL, DOC_TYPE, DOC_ID, SPECIAL_NAME_CD2, SSR_CODE_CD1, SPECIAL_NAME_CD1, FF_NUM, TierLevel, PNR_SCORE, Class, Alt_Fli, Assigned Class]\n",
       "Index: []"
      ]
     },
     "execution_count": 819,
     "metadata": {},
     "output_type": "execute_result"
    }
   ],
   "source": [
    "Exception_List_df.head()"
   ]
  },
  {
   "cell_type": "code",
   "execution_count": 842,
   "id": "91998011-58f7-4e57-80e9-978e1aceea83",
   "metadata": {},
   "outputs": [
    {
     "name": "stdout",
     "output_type": "stream",
     "text": [
      "255 passengers out of 255 were reaccommodated\n"
     ]
    }
   ],
   "source": [
    "print(f'{len(Reaccommodated_List_df)} passengers out of {len(aff_pax)} were reaccommodated')"
   ]
  },
  {
   "cell_type": "markdown",
   "id": "aa1e96aa",
   "metadata": {},
   "source": [
    "Assigning cabin to reaccommodated passengers"
   ]
  },
  {
   "cell_type": "code",
   "execution_count": 820,
   "id": "846b6d5c-98b1-4c24-bc78-022574e1466b",
   "metadata": {},
   "outputs": [],
   "source": [
    "aff_pax['Assigned Class'] = ''     #New column for storing the newly assigned class in alternate flights"
   ]
  },
  {
   "cell_type": "code",
   "execution_count": 821,
   "id": "132ee3d9-8ee2-43fa-90ef-1ccef480c5ee",
   "metadata": {},
   "outputs": [],
   "source": [
    "#Alternate flight 1\n",
    "f = 1\n",
    "filt = (aff_pax['Alt_Fli'] == Av_Fl[f-1])\n",
    "filtered = aff_pax.loc[filt]"
   ]
  },
  {
   "cell_type": "code",
   "execution_count": 822,
   "id": "7a063d03-8448-407d-95c9-2582019351b1",
   "metadata": {},
   "outputs": [],
   "source": [
    "filt = (aff_pax['Alt_Fli'] == Av_Fl[f-1])\n",
    "filtered_pass_data_1 = aff_pax.loc[filt]"
   ]
  },
  {
   "cell_type": "code",
   "execution_count": null,
   "id": "7a8d5aee-ff03-4dcf-90ee-1242886b95a8",
   "metadata": {},
   "outputs": [],
   "source": [
    "# Assign classes based on 'Score' and class limits\n",
    "def assign_class(row):\n",
    "     global class_count\n",
    "     for category, limit in class_limits.items():\n",
    "           if class_count[category] < limit:\n",
    "               class_count[category] += 1\n",
    "               return category\n",
    "     return None"
   ]
  },
  {
   "cell_type": "code",
   "execution_count": 823,
   "id": "bed66684-483e-43ae-b754-f183a4e21080",
   "metadata": {},
   "outputs": [],
   "source": [
    "filt_sorted_1 = filtered_pass_data_1.copy()  # Making a copy to avoid modifying the original DataFrame\n",
    "\n",
    "# Sort the DataFrame based on 'Score' in descending order\n",
    "filt_sorted_1 = filt_sorted_1.sort_values(by='PNR_SCORE', ascending=False)\n",
    "\n",
    "# Define class categories and corresponding limits\n",
    "class_categories = ['FirstClass', 'BusinessClass', 'PremiumEconomyClass', 'EconomyClass']\n",
    "class_limits = {'FirstClass': df2.loc[Av_Fl[f-1], 'FC_Oversold'], 'BusinessClass': df2.loc[Av_Fl[f-1], 'BC_Oversold'], 'PremiumEconomyClass': df2.loc[Av_Fl[f-1], 'PC_Oversold'], 'EconomyClass': df2.loc[Av_Fl[f-1], 'EC_Oversold']} \n",
    "\n",
    "# Initialize count for each class\n",
    "class_count = {category: 0 for category in class_categories}\n",
    "\n",
    "# Create a new column 'Assigned Class'\n",
    "filt_sorted_1['Assigned Class'] = filt_sorted_1.apply(assign_class, axis=1)"
   ]
  },
  {
   "cell_type": "code",
   "execution_count": 824,
   "id": "6b3ee8cc-7d30-493b-b035-6c03439a2257",
   "metadata": {},
   "outputs": [],
   "source": [
    "#Alternate flight 2\n",
    "f = 2\n",
    "filt = (aff_pax['Alt_Fli'] == Av_Fl[f-1])\n",
    "filtered = aff_pax.loc[filt]"
   ]
  },
  {
   "cell_type": "code",
   "execution_count": 825,
   "id": "0a1dbd3d-77e8-45a3-8583-9dc49f5e5143",
   "metadata": {},
   "outputs": [],
   "source": [
    "filt = (aff_pax['Alt_Fli'] == Av_Fl[f-1])\n",
    "filtered_pass_data_2 = aff_pax.loc[filt]"
   ]
  },
  {
   "cell_type": "code",
   "execution_count": 826,
   "id": "3a9d87b8-a9e5-4af5-a0df-d7436f8e7b87",
   "metadata": {},
   "outputs": [],
   "source": [
    "filt_sorted_2 = filtered_pass_data_2.copy()  # Making a copy to avoid modifying the original DataFrame\n",
    "\n",
    "# Sort the DataFrame based on 'Score' in descending order\n",
    "filt_sorted_2 = filt_sorted_2.sort_values(by='PNR_SCORE', ascending=False)\n",
    "\n",
    "# Define class categories and corresponding limits\n",
    "class_categories = ['FirstClass', 'BusinessClass', 'PremiumEconomyClass', 'EconomyClass']\n",
    "class_limits = {'FirstClass': df2.loc[Av_Fl[f-1], 'FC_Oversold'], 'BusinessClass': df2.loc[Av_Fl[f-1], 'BC_Oversold'], 'PremiumEconomyClass': df2.loc[Av_Fl[f-1], 'PC_Oversold'], 'EconomyClass': df2.loc[Av_Fl[f-1], 'EC_Oversold']}  \n",
    "\n",
    "# Initialize count for each class\n",
    "class_count = {category: 0 for category in class_categories}\n",
    "\n",
    "# Create a new column 'Assigned Class'\n",
    "filt_sorted_2['Assigned Class'] = filt_sorted_2.apply(assign_class, axis=1)"
   ]
  },
  {
   "cell_type": "code",
   "execution_count": null,
   "id": "daf2d7cd-4d2b-480b-897f-16f344548caa",
   "metadata": {},
   "outputs": [],
   "source": [
    "#Passengers who were alloted the same class in flight 1\n",
    "filt = (filt_sorted_1['Class'] == filt_sorted_1['Assigned Class'])\n",
    "same_allotment_1 = filt_sorted_1.loc[filt]   "
   ]
  },
  {
   "cell_type": "code",
   "execution_count": 828,
   "id": "c93a2b3c-e20e-4321-bbbe-ef942d762160",
   "metadata": {},
   "outputs": [],
   "source": [
    "#Passengers who were alloted the same class in flight 2\n",
    "filt = (filt_sorted_2['Class'] == filt_sorted_2['Assigned Class'])\n",
    "same_allotment_2 = filt_sorted_2.loc[filt]"
   ]
  },
  {
   "cell_type": "code",
   "execution_count": null,
   "id": "aa4bcd0a-6876-4456-a4c3-e845aba7a3d5",
   "metadata": {},
   "outputs": [],
   "source": [
    "#Passengers who were downgraded "
   ]
  },
  {
   "cell_type": "code",
   "execution_count": null,
   "id": "08c00150-e512-4f73-bbd6-eb6ef38938c5",
   "metadata": {},
   "outputs": [],
   "source": [
    "#Flight 1"
   ]
  },
  {
   "cell_type": "code",
   "execution_count": null,
   "id": "f2b3fa98-6f39-4e54-b70b-6d4f24d793b9",
   "metadata": {},
   "outputs": [],
   "source": [
    "filt1 = (filt_sorted_1['Class'] == 'FirstClass')\n",
    "filt2 = (filt_sorted_1['Assigned Class'] == 'BusinessClass')\n",
    "filt3 = (filt_sorted_1['Assigned Class'] == 'PremiumEconomyClass')\n",
    "filt4 = (filt_sorted_1['Assigned Class'] == 'EconomyClass')\n",
    "FC_dn1 = filt_sorted_1.loc[filt1 & (filt2 | filt3| filt4)]\n",
    "filt2 = (filt_sorted_1['Class'] == 'BusinessClass')\n",
    "filt3 = (filt_sorted_1['Assigned Class'] == 'PremiumEconomyClass')\n",
    "filt4 = (filt_sorted_1['Assigned Class'] == 'EconomyClass')\n",
    "BC_dn1 = filt_sorted_1.loc[filt2 & (filt3 | filt4)]\n",
    "filt3 = (filt_sorted_1['Class'] == 'PremiumEconomyClass')\n",
    "filt4 = (filt_sorted_1['Assigned Class'] == 'EconomyClass')\n",
    "PC_dn1 = filt_sorted_1.loc[filt3 & (filt4)]"
   ]
  },
  {
   "cell_type": "code",
   "execution_count": null,
   "id": "fbef0639-859f-41de-9b71-126e45d153ec",
   "metadata": {},
   "outputs": [],
   "source": [
    "#Flight 2"
   ]
  },
  {
   "cell_type": "code",
   "execution_count": null,
   "id": "025e15b3-39d9-4dc9-a921-463b3cef9dec",
   "metadata": {},
   "outputs": [],
   "source": [
    "filt1 = (filt_sorted_2['Class'] == 'FirstClass')\n",
    "filt2 = (filt_sorted_2['Assigned Class'] == 'BusinessClass')\n",
    "filt3 = (filt_sorted_2['Assigned Class'] == 'PremiumEconomyClass')\n",
    "filt4 = (filt_sorted_2['Assigned Class'] == 'EconomyClass')\n",
    "FC_dn2 = filt_sorted_2.loc[filt1 & (filt2 | filt3| filt4)]\n",
    "filt2 = (filt_sorted_2['Class'] == 'BusinessClass')\n",
    "filt3 = (filt_sorted_2['Assigned Class'] == 'PremiumEconomyClass')\n",
    "filt4 = (filt_sorted_2['Assigned Class'] == 'EconomyClass')\n",
    "BC_dn2 = filt_sorted_2.loc[filt2 & (filt3 | filt4)]\n",
    "filt3 = (filt_sorted_2['Class'] == 'PremiumEconomyClass')\n",
    "filt4 = (filt_sorted_2['Assigned Class'] == 'EconomyClass')\n",
    "PC_dn2 = filt_sorted_2.loc[filt3 & (filt4)]"
   ]
  },
  {
   "cell_type": "code",
   "execution_count": null,
   "id": "158f5fb4-fdc1-4eef-bee2-cad8fbc4665d",
   "metadata": {},
   "outputs": [],
   "source": [
    "#Passengers who were upgraded "
   ]
  },
  {
   "cell_type": "code",
   "execution_count": null,
   "id": "4ab9a3ea-b1f4-488c-bfd2-1adb5c377d02",
   "metadata": {},
   "outputs": [],
   "source": [
    "#Flight 1"
   ]
  },
  {
   "cell_type": "code",
   "execution_count": null,
   "id": "46c48ab5-9ae9-400e-a892-f774843e53fa",
   "metadata": {},
   "outputs": [],
   "source": [
    "filt1 = (filt_sorted_1['Assigned Class'] == 'FirstClass')\n",
    "filt2 = (filt_sorted_1['Assigned Class'] == 'BusinessClass')\n",
    "filt3 = (filt_sorted_1['Assigned Class'] == 'PremiumEconomyClass')\n",
    "filt4 = (filt_sorted_1['Class'] == 'EconomyClass')\n",
    "EC_up1 = filt_sorted_1.loc[filt4 & (filt1 | filt2| filt3)]\n",
    "filt1 = (filt_sorted_1['Assigned Class'] == 'FirstClass')\n",
    "filt2 = (filt_sorted_1['Assigned Class'] == 'BusinessClass')\n",
    "filt3 = (filt_sorted_1['Class'] == 'PremiumEconomyClass')\n",
    "PC_up1 = filt_sorted_1.loc[filt3 & (filt1 | filt2)]\n",
    "filt1 = (filt_sorted_1['Assigned Class'] == 'FirstClass')\n",
    "filt2 = (filt_sorted_1['Class'] == 'BusinessClass')\n",
    "BC_up1 = filt_sorted_1.loc[filt2 & filt1]"
   ]
  },
  {
   "cell_type": "code",
   "execution_count": null,
   "id": "d279f6ae-cf22-40b2-8c63-291e242164ae",
   "metadata": {},
   "outputs": [],
   "source": [
    "#Flight 2"
   ]
  },
  {
   "cell_type": "code",
   "execution_count": null,
   "id": "d3bb5613-1eaa-4445-93e7-e9ceffde81f7",
   "metadata": {},
   "outputs": [],
   "source": [
    "filt1 = (filt_sorted_2['Assigned Class'] == 'FirstClass')\n",
    "filt2 = (filt_sorted_2['Assigned Class'] == 'BusinessClass')\n",
    "filt3 = (filt_sorted_2['Assigned Class'] == 'PremiumEconomyClass')\n",
    "filt4 = (filt_sorted_2['Class'] == 'EconomyClass')\n",
    "EC_up2 = filt_sorted_2.loc[filt4 & (filt1 | filt2| filt3)]\n",
    "filt1 = (filt_sorted_2['Assigned Class'] == 'FirstClass')\n",
    "filt2 = (filt_sorted_2['Assigned Class'] == 'BusinessClass')\n",
    "filt3 = (filt_sorted_2['Class'] == 'PremiumEconomyClass')\n",
    "PC_up2 = filt_sorted_2.loc[filt3 & (filt1 | filt2)]\n",
    "filt1 = (filt_sorted_2['Assigned Class'] == 'FirstClass')\n",
    "filt2 = (filt_sorted_2['Class'] == 'BusinessClass')\n",
    "BC_up2 = filt_sorted_2.loc[filt2 & filt1]"
   ]
  },
  {
   "cell_type": "markdown",
   "id": "cd066a7e",
   "metadata": {},
   "source": [
    "Result of solution 1"
   ]
  },
  {
   "cell_type": "code",
   "execution_count": 841,
   "id": "828594f2-846f-46bb-b561-7bd5c41e6aa7",
   "metadata": {},
   "outputs": [
    {
     "name": "stdout",
     "output_type": "stream",
     "text": [
      "94 passengers were allotted the same class they applied for\n",
      "65 passengers were downgraded\n",
      "96 passengers were upgraded\n"
     ]
    }
   ],
   "source": [
    "print(f\"{len(same_allotment_1) + len(same_allotment_2)} passengers were allotted the same class they applied for\")\n",
    "print(f\"{len(FC_dn1) + len(BC_dn1) + len(PC_dn1) + len(FC_dn2) + len(BC_dn2) + len(PC_dn2)} passengers were downgraded\")\n",
    "print(f\"{len(EC_up1) + len(PC_up1) + len(BC_up1) + len(EC_up2) + len(PC_up2) + len(BC_up2)} passengers were upgraded\")"
   ]
  },
  {
   "cell_type": "code",
   "execution_count": null,
   "id": "fb66a619-bdaa-4414-9ca7-59bd492aa4ea",
   "metadata": {},
   "outputs": [],
   "source": []
  },
  {
   "cell_type": "code",
   "execution_count": null,
   "id": "462959b7",
   "metadata": {},
   "outputs": [],
   "source": []
  },
  {
   "cell_type": "code",
   "execution_count": null,
   "id": "85ca49cd",
   "metadata": {},
   "outputs": [],
   "source": []
  },
  {
   "cell_type": "code",
   "execution_count": null,
   "id": "ece373a5",
   "metadata": {},
   "outputs": [],
   "source": []
  },
  {
   "cell_type": "markdown",
   "id": "01cc8ee3",
   "metadata": {},
   "source": [
    "Aircraft Type Change"
   ]
  },
  {
   "cell_type": "code",
   "execution_count": 371,
   "id": "427cd712-9259-4ba5-a99a-6688ba0dd773",
   "metadata": {},
   "outputs": [],
   "source": [
    "import pandas as pd"
   ]
  },
  {
   "cell_type": "code",
   "execution_count": 385,
   "id": "c8949ab9-bd35-4b9a-90bb-28d496ceb8ce",
   "metadata": {},
   "outputs": [],
   "source": [
    "sch_data = 'SCH-ZZ-20231208_035117.xlsx'      #Importing schedule data\n",
    "inv_data = 'INV-ZZ-20231208_041852.xlsx'      #Importing inventory data"
   ]
  },
  {
   "cell_type": "code",
   "execution_count": 386,
   "id": "f41493a6-b60d-4f10-a2e0-50b09c8aca01",
   "metadata": {},
   "outputs": [],
   "source": [
    "sch = pd.read_excel(sch_data)\n",
    "inv = pd.read_excel(inv_data)"
   ]
  },
  {
   "cell_type": "code",
   "execution_count": 387,
   "id": "9b392b3f-78f4-4fb2-9bf0-3bcbb0f460c0",
   "metadata": {},
   "outputs": [],
   "source": [
    "df1 = pd.DataFrame(sch)         #Converting excel data into dataframe\n",
    "df2 = pd.DataFrame(inv) "
   ]
  },
  {
   "cell_type": "code",
   "execution_count": 388,
   "id": "ca63ba6a-e17b-468f-bf2a-ef11a1f6d1f3",
   "metadata": {},
   "outputs": [],
   "source": [
    "df2['Bool'] = 1   #Creating a new column in df2 and naming it as Bool and assigning all values as 1\n",
    "                  #Bool value will be 0 for the flights which are cancelled"
   ]
  },
  {
   "cell_type": "code",
   "execution_count": 395,
   "id": "2f8f9d09-d68f-49b2-b422-7c1c7fc406a3",
   "metadata": {},
   "outputs": [
    {
     "name": "stdout",
     "output_type": "stream",
     "text": [
      "940\n"
     ]
    }
   ],
   "source": [
    "import numpy as np\n",
    "import random\n",
    "#Considering Aircraft Type Change\n",
    "\n",
    "a = random.randrange(len(df2))\n",
    "print(a)\n",
    "cancelled_flights = [a]"
   ]
  },
  {
   "cell_type": "code",
   "execution_count": 396,
   "id": "2711000c-5c1e-4efa-b489-94a687115d2d",
   "metadata": {},
   "outputs": [
    {
     "data": {
      "text/plain": [
       "AircraftType     Boeing 767\n",
       "TotalCapacity           278\n",
       "Name: 940, dtype: object"
      ]
     },
     "execution_count": 396,
     "metadata": {},
     "output_type": "execute_result"
    }
   ],
   "source": [
    "df2.loc[a, ['AircraftType', 'TotalCapacity']]"
   ]
  },
  {
   "cell_type": "code",
   "execution_count": 397,
   "id": "8cad306a-cdae-4cde-ba75-e5d192a77106",
   "metadata": {},
   "outputs": [
    {
     "name": "stdout",
     "output_type": "stream",
     "text": [
      "686\n"
     ]
    },
    {
     "data": {
      "text/plain": [
       "AircraftType     Boeing 717\n",
       "TotalCapacity           100\n",
       "Name: 686, dtype: object"
      ]
     },
     "execution_count": 397,
     "metadata": {},
     "output_type": "execute_result"
    }
   ],
   "source": [
    "b = random.randrange(len(df2))\n",
    "print(b)\n",
    "df2.loc[b, ['AircraftType', 'TotalCapacity']]"
   ]
  },
  {
   "cell_type": "code",
   "execution_count": 398,
   "id": "a517b2e8-cd4d-4c2b-ae53-342f3aa4d9dd",
   "metadata": {},
   "outputs": [],
   "source": [
    "#The AircraftType of the 1st flight is changed with that of the 2nd flight"
   ]
  },
  {
   "cell_type": "code",
   "execution_count": 399,
   "id": "6462b2fd-2b7a-47a5-a3b7-ad53cce9df85",
   "metadata": {},
   "outputs": [
    {
     "name": "stdout",
     "output_type": "stream",
     "text": [
      "[940]\n"
     ]
    }
   ],
   "source": [
    "for i in cancelled_flights:\n",
    "    df2.at[i, 'Bool'] = 0     #Assigning a bool value of 0 to the cancelled flights\n",
    "print(cancelled_flights)"
   ]
  },
  {
   "cell_type": "markdown",
   "id": "7eca1974",
   "metadata": {},
   "source": [
    "Flight Scoring"
   ]
  },
  {
   "cell_type": "code",
   "execution_count": 400,
   "id": "8bd057f2-f49f-486a-85c2-925def48e30d",
   "metadata": {},
   "outputs": [],
   "source": [
    "threshold1 = pd.Timedelta(hours=6)\n",
    "threshold2 = pd.Timedelta(hours=12)\n",
    "threshold3 = pd.Timedelta(hours=24)\n",
    "threshold4 = pd.Timedelta(hours=48)\n",
    "threshold5 = pd.Timedelta(hours=72)\n",
    "zero_time = pd.Timedelta(hours=0)\n",
    "inf_time = pd.Timedelta(weeks=52)"
   ]
  },
  {
   "cell_type": "code",
   "execution_count": 401,
   "id": "5b645552-b4ac-492e-bb84-ea1f9a5ec2dc",
   "metadata": {},
   "outputs": [],
   "source": [
    "#Algorithm for flight scoring based on arrival, departure time, arrival, departure time etc. \n",
    "for j in range(len(cancelled_flights)):\n",
    "    new_col = f'Flight_Score_{cancelled_flights[j]}'\n",
    "    new_col2 = f'Quality Score Grade_{cancelled_flights[j]}'\n",
    "    df2[new_col] = 0                 #New column in the dataframe for scoring cancelled flights\n",
    "    df2[new_col2] = 'NaN'            #Each flights having a bool value of 1 will have a score \n",
    "                                     #corresponding to each cancelled flight\n",
    "    \n",
    "    for i in range(len(df2)):\n",
    "        if df2.loc[i, 'Bool'] == 1:  #Only scoring non-cancelled flights\n",
    "            if df2.loc[i, 'DepartureAirport'] == df2.loc[cancelled_flights[j], \n",
    "            'DepartureAirport'] and df2.loc[i, 'ArrivalAirport'] == df2.loc[cancelled_flights[j], 'ArrivalAirport']:\n",
    "               df2.loc[i, new_col] = 40 \n",
    "               diff_dep = df2.loc[i, 'DepartureDateTime'] - df2.loc[cancelled_flights[j], 'DepartureDateTime']\n",
    "               diff_arr = df2.loc[i, 'ArrivalDateTime'] - df2.loc[cancelled_flights[j], 'ArrivalDateTime']\n",
    "               if((diff_dep <= threshold4) and (diff_dep >= zero_time)):                            \n",
    "                    df2.loc[i, new_col] = df2.loc[i, new_col] + 30                                  \n",
    "                    if((diff_dep <= threshold3) and (diff_dep >= zero_time)):                       \n",
    "                        df2.loc[i, new_col] = df2.loc[i, new_col] + 10   #Adding only 10 because there is a nested-if \n",
    "                        if((diff_dep <= threshold2) and (diff_dep >= zero_time)):\n",
    "                            df2.loc[i, new_col] = df2.loc[i, new_col] + 10\n",
    "                            if((diff_dep <= threshold1) and (diff_dep >= zero_time)):\n",
    "                                df2.loc[i, new_col] = df2.loc[i, new_col] + 20\n",
    "               if((diff_arr <= threshold4) and (diff_arr >= zero_time)):                            \n",
    "                    df2.loc[i, new_col] = df2.loc[i, new_col] + 30                                    \n",
    "                    if((diff_arr <= threshold3) and (diff_arr >= zero_time)):                        \n",
    "                        df2.loc[i, new_col] = df2.loc[i, new_col] + 10\n",
    "                        if((diff_arr <= threshold2) and (diff_arr >= zero_time)):\n",
    "                            df2.loc[i, new_col] = df2.loc[i, new_col] + 10\n",
    "                            if((diff_arr <= threshold1) and (diff_arr >= zero_time)):\n",
    "                                df2.loc[i, new_col] = df2.loc[i, new_col] + 20\n",
    "               for k in range(len(df1)):\n",
    "                    if (df2.loc[i, 'ScheduleId'] == df1.loc[k, 'ScheduleID']):\n",
    "                        tail_number = df1.loc[k, 'AircraftTailNumber']\n",
    "               for k in range(len(df1)):\n",
    "                    if (df2.loc[cancelled_flights[j], 'ScheduleId'] == df1.loc[k, 'ScheduleID']):\n",
    "                        if (df1.loc[k, 'AircraftTailNumber'] == tail_number):\n",
    "                            df2.loc[i, new_col] = df2.loc[i, new_col] + 50\n",
    "\n",
    "            #Quality grading of flights acc. to ruleset provided\n",
    "            if(df2.loc[i, new_col] < 150 and df2.loc[i, new_col] > 0):\n",
    "                df2.loc[i, new_col2] = 'D'\n",
    "            if(df2.loc[i, new_col] >= 150):\n",
    "                df2.loc[i, new_col2] = 'C'\n",
    "            if(df2.loc[i, new_col] >= 180):\n",
    "                df2.loc[i, new_col2] = 'B'\n",
    "            if(df2.loc[i, new_col] >= 200):\n",
    "                df2.loc[i, new_col2] = 'A'\n",
    "\n",
    "df2 = pd.concat([df2], axis=1)"
   ]
  },
  {
   "cell_type": "markdown",
   "id": "13edfd15",
   "metadata": {},
   "source": [
    "Available Flights"
   ]
  },
  {
   "cell_type": "code",
   "execution_count": 402,
   "id": "053455e4-aee0-46f6-b68b-e5cba99b53a4",
   "metadata": {},
   "outputs": [],
   "source": [
    "filt1 = (df2[f'Quality Score Grade_{cancelled_flights[0]}'] == 'A')\n",
    "filt2 = (df2[f'Quality Score Grade_{cancelled_flights[0]}'] == 'B')\n",
    "filt3 = (df2[f'Quality Score Grade_{cancelled_flights[0]}'] == 'C')\n",
    "filt4 = (df2['Oversold'] < 0)       #Considering only those flights which have vacant seats\n",
    "Available_flights = df2.loc[(filt1 | filt2 | filt3) & filt4]"
   ]
  },
  {
   "cell_type": "code",
   "execution_count": 403,
   "id": "edd8ea6d-b077-4142-a190-c33b4b56e05f",
   "metadata": {},
   "outputs": [
    {
     "data": {
      "text/html": [
       "<div>\n",
       "<style scoped>\n",
       "    .dataframe tbody tr th:only-of-type {\n",
       "        vertical-align: middle;\n",
       "    }\n",
       "\n",
       "    .dataframe tbody tr th {\n",
       "        vertical-align: top;\n",
       "    }\n",
       "\n",
       "    .dataframe thead th {\n",
       "        text-align: right;\n",
       "    }\n",
       "</style>\n",
       "<table border=\"1\" class=\"dataframe\">\n",
       "  <thead>\n",
       "    <tr style=\"text-align: right;\">\n",
       "      <th></th>\n",
       "      <th>InventoryId</th>\n",
       "      <th>ScheduleId</th>\n",
       "      <th>CarrierCode</th>\n",
       "      <th>Dep_Key</th>\n",
       "      <th>FlightNumber</th>\n",
       "      <th>AircraftType</th>\n",
       "      <th>DepartureDate</th>\n",
       "      <th>DepartureDateTime</th>\n",
       "      <th>ArrivalDateTime</th>\n",
       "      <th>DepartureAirport</th>\n",
       "      <th>...</th>\n",
       "      <th>EC_BookedInventory</th>\n",
       "      <th>EC_Oversold</th>\n",
       "      <th>EC_AvailableInventory</th>\n",
       "      <th>FC_CD</th>\n",
       "      <th>BC_CD</th>\n",
       "      <th>PC_CD</th>\n",
       "      <th>EC_CD</th>\n",
       "      <th>Bool</th>\n",
       "      <th>Flight_Score_940</th>\n",
       "      <th>Quality Score Grade_940</th>\n",
       "    </tr>\n",
       "  </thead>\n",
       "  <tbody>\n",
       "    <tr>\n",
       "      <th>941</th>\n",
       "      <td>INV-ZZ-8424367</td>\n",
       "      <td>SCH-ZZ-3838342</td>\n",
       "      <td>ZZ</td>\n",
       "      <td>ZZ20240525HYDCCU3772.0</td>\n",
       "      <td>3772</td>\n",
       "      <td>Boeing 767</td>\n",
       "      <td>2024-05-25</td>\n",
       "      <td>2024-05-25 05:58:00</td>\n",
       "      <td>2024-05-26 03:23:00</td>\n",
       "      <td>HYD</td>\n",
       "      <td>...</td>\n",
       "      <td>63</td>\n",
       "      <td>48</td>\n",
       "      <td>67</td>\n",
       "      <td>{'F': 16, 'P': 11}</td>\n",
       "      <td>{'C': 22, 'J': 16, 'Z': 16}</td>\n",
       "      <td>{'Q': 25, 'R': 17, 'S': 8, 'T': 8, 'H': 17, 'M...</td>\n",
       "      <td>{'Y': 8, 'A': 8, 'B': 4, 'D': 4, 'E': 4, 'G': ...</td>\n",
       "      <td>1</td>\n",
       "      <td>170</td>\n",
       "      <td>C</td>\n",
       "    </tr>\n",
       "    <tr>\n",
       "      <th>942</th>\n",
       "      <td>INV-ZZ-7025490</td>\n",
       "      <td>SCH-ZZ-3838342</td>\n",
       "      <td>ZZ</td>\n",
       "      <td>ZZ20240526HYDCCU3772.0</td>\n",
       "      <td>3772</td>\n",
       "      <td>Boeing 767</td>\n",
       "      <td>2024-05-26</td>\n",
       "      <td>2024-05-26 05:58:00</td>\n",
       "      <td>2024-05-27 03:23:00</td>\n",
       "      <td>HYD</td>\n",
       "      <td>...</td>\n",
       "      <td>62</td>\n",
       "      <td>49</td>\n",
       "      <td>71</td>\n",
       "      <td>{'F': 16, 'P': 11}</td>\n",
       "      <td>{'C': 22, 'J': 16, 'Z': 16}</td>\n",
       "      <td>{'Q': 25, 'R': 17, 'S': 8, 'T': 8, 'H': 17, 'M...</td>\n",
       "      <td>{'Y': 8, 'A': 8, 'B': 4, 'D': 4, 'E': 4, 'G': ...</td>\n",
       "      <td>1</td>\n",
       "      <td>150</td>\n",
       "      <td>C</td>\n",
       "    </tr>\n",
       "  </tbody>\n",
       "</table>\n",
       "<p>2 rows � 43 columns</p>\n",
       "</div>"
      ],
      "text/plain": [
       "        InventoryId      ScheduleId CarrierCode                 Dep_Key  \\\n",
       "941  INV-ZZ-8424367  SCH-ZZ-3838342          ZZ  ZZ20240525HYDCCU3772.0   \n",
       "942  INV-ZZ-7025490  SCH-ZZ-3838342          ZZ  ZZ20240526HYDCCU3772.0   \n",
       "\n",
       "     FlightNumber AircraftType DepartureDate   DepartureDateTime  \\\n",
       "941          3772   Boeing 767    2024-05-25 2024-05-25 05:58:00   \n",
       "942          3772   Boeing 767    2024-05-26 2024-05-26 05:58:00   \n",
       "\n",
       "        ArrivalDateTime DepartureAirport  ... EC_BookedInventory  EC_Oversold  \\\n",
       "941 2024-05-26 03:23:00              HYD  ...                 63           48   \n",
       "942 2024-05-27 03:23:00              HYD  ...                 62           49   \n",
       "\n",
       "     EC_AvailableInventory               FC_CD                        BC_CD  \\\n",
       "941                     67  {'F': 16, 'P': 11}  {'C': 22, 'J': 16, 'Z': 16}   \n",
       "942                     71  {'F': 16, 'P': 11}  {'C': 22, 'J': 16, 'Z': 16}   \n",
       "\n",
       "                                                 PC_CD  \\\n",
       "941  {'Q': 25, 'R': 17, 'S': 8, 'T': 8, 'H': 17, 'M...   \n",
       "942  {'Q': 25, 'R': 17, 'S': 8, 'T': 8, 'H': 17, 'M...   \n",
       "\n",
       "                                                 EC_CD  Bool  \\\n",
       "941  {'Y': 8, 'A': 8, 'B': 4, 'D': 4, 'E': 4, 'G': ...     1   \n",
       "942  {'Y': 8, 'A': 8, 'B': 4, 'D': 4, 'E': 4, 'G': ...     1   \n",
       "\n",
       "     Flight_Score_940  Quality Score Grade_940  \n",
       "941               170                        C  \n",
       "942               150                        C  \n",
       "\n",
       "[2 rows x 43 columns]"
      ]
     },
     "execution_count": 403,
     "metadata": {},
     "output_type": "execute_result"
    }
   ],
   "source": [
    "Available_flights"
   ]
  },
  {
   "cell_type": "code",
   "execution_count": 404,
   "id": "d2732161-24ae-4920-8db7-9167f01f3f92",
   "metadata": {},
   "outputs": [
    {
     "name": "stdout",
     "output_type": "stream",
     "text": [
      "[2, 2]\n",
      "[941, 942]\n",
      "[130, 133]\n"
     ]
    }
   ],
   "source": [
    "F = []          #Array for storing score for each alternate flight\n",
    "Av_Fl = []      #Array for storing index of each alternate flight in the inventory dataframe\n",
    "for i in range(len(Available_flights)):\n",
    "    ix = Available_flights.index[i]\n",
    "    Av_Fl.append(ix)\n",
    "    F.append(df2.loc[ix, f'Quality Score Grade_{cancelled_flights[0]}'])     \n",
    "    #Change the index based on the index of the flight cancelled\n",
    "\n",
    "#Converting Quality Score into numerical scores\n",
    "for i in range(len(F)):\n",
    "    if F[i] == 'A':\n",
    "        F[i] = 4     \n",
    "    if F[i] == 'B':\n",
    "        F[i] = 3\n",
    "    if F[i] == 'C':\n",
    "        F[i] = 2\n",
    "    if F[i] == 'D': \n",
    "        F[i] = 1\n",
    "        \n",
    "V_S = []       #Array for storing number of available seats in each alternating flight\n",
    "for i in range(len(Available_flights)):\n",
    "    ix = Available_flights.index[i]\n",
    "    V_S.append(-df2.loc[ix, 'Oversold'])\n",
    "print(F)\n",
    "print(Av_Fl)\n",
    "print(V_S)"
   ]
  },
  {
   "cell_type": "code",
   "execution_count": 405,
   "id": "7aefd28e-8fd3-4e14-b297-68f6ab79d7d4",
   "metadata": {},
   "outputs": [
    {
     "name": "stdout",
     "output_type": "stream",
     "text": [
      "[13.0, 13.0]\n"
     ]
    }
   ],
   "source": [
    "#Scaling down the values in V_S \n",
    "for i in range(len(V_S)):\n",
    "    V_S[i] = V_S[i]/10\n",
    "    V_S[i] = np.floor(V_S[i])   #Floor value so that no. of passengers accommodated\n",
    "print(V_S)                      #in each flight is less than the flight's capacity"
   ]
  },
  {
   "cell_type": "code",
   "execution_count": 406,
   "id": "45a3698e-1d9b-4b41-bf94-50a90a81a32e",
   "metadata": {},
   "outputs": [],
   "source": [
    "PNR = 'PNRB-ZZ-20231208_062017.xlsx'     #Importing the PNR Data\n",
    "Pass = 'PNRP-ZZ-20231208_111136.xlsx'    #Importing the Passenger Data"
   ]
  },
  {
   "cell_type": "code",
   "execution_count": 407,
   "id": "3124f233-3eaf-45a3-9be2-26f18e17a5b4",
   "metadata": {},
   "outputs": [],
   "source": [
    "PNR1 = pd.read_excel(PNR)          \n",
    "Pass1 = pd.read_excel(Pass)"
   ]
  },
  {
   "cell_type": "code",
   "execution_count": 408,
   "id": "b91598b4-b82f-4503-be7f-4d39eaf80613",
   "metadata": {},
   "outputs": [],
   "source": [
    "PNR_DF = pd.DataFrame(PNR1)             #Converting excel data into dataframe\n",
    "Pass_DF = pd.DataFrame(Pass1)"
   ]
  },
  {
   "cell_type": "markdown",
   "id": "65a525a5",
   "metadata": {},
   "source": [
    "Passenger Scoring"
   ]
  },
  {
   "cell_type": "code",
   "execution_count": 409,
   "id": "da5da916-afe4-4749-a846-8d467d96cf7d",
   "metadata": {},
   "outputs": [],
   "source": [
    "Pass_DF['SSR_CODE_CD1'] = Pass_DF['SSR_CODE_CD1'].fillna(0)\n",
    "Pass_DF['TierLevel'] = Pass_DF['TierLevel'].fillna(0)"
   ]
  },
  {
   "cell_type": "code",
   "execution_count": 410,
   "id": "59cb1f32-3947-4b5a-890e-2e9d0491bee9",
   "metadata": {},
   "outputs": [],
   "source": [
    "departure_list = PNR_DF['ORIG_CD'].to_list()\n",
    "arrival_list = PNR_DF['DEST_CD'].to_list()\n",
    "\n",
    "city_pairs = [tuple([departure_list[i], arrival_list[i]]) for i in range(len(departure_list))]\n",
    "\n",
    "fltnum_list = PNR_DF[\"FLT_NUM\"].to_list()\n",
    "\n",
    "citypair_dict = {fltnum_list[i] : city_pairs[i] for i in range(len(city_pairs))}"
   ]
  },
  {
   "cell_type": "code",
   "execution_count": 411,
   "id": "501ab9b8-0551-46ce-b8f3-32fc8dde43e5",
   "metadata": {},
   "outputs": [],
   "source": [
    "paxcnt_wt = 50\n",
    "connect_wt = 100\n",
    "grp_threshold = 7\n",
    "grp_wt = 500\n",
    "class_wt = {\n",
    "    'FirstClass' : 2000, 'BusinessClass' : 1750, \n",
    "    'PremiumEconomyClass' : 1500, 'EconomyClass' : 1250\n",
    "}\n",
    "# The airlines can vary the weights as per their rules set and have the choice to disregard certain factors as per their choice."
   ]
  },
  {
   "cell_type": "code",
   "execution_count": 412,
   "id": "db2e0dfe-10bb-4f6f-bf6e-0ea1881d68df",
   "metadata": {},
   "outputs": [],
   "source": [
    "def get_recloc_score(df):\n",
    "    recloc_sclist = []\n",
    "    recloc_score = 0\n",
    "    for i in range(len(df['RECLOC'])):\n",
    "        recloc_score += df['PAX_CNT'][i]*paxcnt_wt + class_wt[df['COS_CD'][i]]\n",
    "        if df['PAX_CNT'][i] >= grp_threshold:\n",
    "            recloc_score += grp_wt\n",
    "        recloc_sclist.append(recloc_score)\n",
    "        recloc_score = 0\n",
    "\n",
    "    df['RECLOC_SCORE'] = recloc_sclist\n",
    "\n",
    "    return df    \n",
    "\n",
    "#Due to multiple passengers having the same recloc, We have split calculating passenger \n",
    "#score into two parts : recloc_Score and passenger_score. The recloc score will initialise\n",
    "#the pax_score variable and build up from there."
   ]
  },
  {
   "cell_type": "code",
   "execution_count": 413,
   "id": "d5c790dc-0518-4045-bc2b-943084bba6c2",
   "metadata": {},
   "outputs": [
    {
     "data": {
      "text/html": [
       "<div>\n",
       "<style scoped>\n",
       "    .dataframe tbody tr th:only-of-type {\n",
       "        vertical-align: middle;\n",
       "    }\n",
       "\n",
       "    .dataframe tbody tr th {\n",
       "        vertical-align: top;\n",
       "    }\n",
       "\n",
       "    .dataframe thead th {\n",
       "        text-align: right;\n",
       "    }\n",
       "</style>\n",
       "<table border=\"1\" class=\"dataframe\">\n",
       "  <thead>\n",
       "    <tr style=\"text-align: right;\">\n",
       "      <th></th>\n",
       "      <th>RECLOC</th>\n",
       "      <th>CREATION_DTZ</th>\n",
       "      <th>DEP_KEY</th>\n",
       "      <th>ACTION_CD</th>\n",
       "      <th>COS_CD</th>\n",
       "      <th>SEG_SEQ</th>\n",
       "      <th>SEG_TOTAL</th>\n",
       "      <th>PAX_CNT</th>\n",
       "      <th>CARRIER_CD</th>\n",
       "      <th>FLT_NUM</th>\n",
       "      <th>ORIG_CD</th>\n",
       "      <th>DEST_CD</th>\n",
       "      <th>DEP_DT</th>\n",
       "      <th>DEP_DTML</th>\n",
       "      <th>ARR_DTML</th>\n",
       "      <th>DEP_DTMZ</th>\n",
       "      <th>ARR_DTMZ</th>\n",
       "      <th>RECLOC_SCORE</th>\n",
       "    </tr>\n",
       "  </thead>\n",
       "  <tbody>\n",
       "    <tr>\n",
       "      <th>0</th>\n",
       "      <td>DRGS80</td>\n",
       "      <td>2024-03-02 16:35:00</td>\n",
       "      <td>ZZ20240403BLRCCU2504</td>\n",
       "      <td>GN</td>\n",
       "      <td>FirstClass</td>\n",
       "      <td>1</td>\n",
       "      <td>4</td>\n",
       "      <td>3</td>\n",
       "      <td>ZZ</td>\n",
       "      <td>2504</td>\n",
       "      <td>BLR</td>\n",
       "      <td>CCU</td>\n",
       "      <td>2024-04-03</td>\n",
       "      <td>2024-04-03 15:35:00</td>\n",
       "      <td>2024-04-03 18:17:00</td>\n",
       "      <td>2024-04-03 10:05:00</td>\n",
       "      <td>2024-04-03 12:47:00</td>\n",
       "      <td>2150</td>\n",
       "    </tr>\n",
       "    <tr>\n",
       "      <th>1</th>\n",
       "      <td>YEZQ47</td>\n",
       "      <td>2024-03-02 16:35:00</td>\n",
       "      <td>ZZ20240403BLRCCU2504</td>\n",
       "      <td>GN</td>\n",
       "      <td>FirstClass</td>\n",
       "      <td>1</td>\n",
       "      <td>2</td>\n",
       "      <td>4</td>\n",
       "      <td>ZZ</td>\n",
       "      <td>2504</td>\n",
       "      <td>BLR</td>\n",
       "      <td>CCU</td>\n",
       "      <td>2024-04-03</td>\n",
       "      <td>2024-04-03 15:35:00</td>\n",
       "      <td>2024-04-03 18:17:00</td>\n",
       "      <td>2024-04-03 10:05:00</td>\n",
       "      <td>2024-04-03 12:47:00</td>\n",
       "      <td>2200</td>\n",
       "    </tr>\n",
       "    <tr>\n",
       "      <th>2</th>\n",
       "      <td>JDDM40</td>\n",
       "      <td>2024-03-02 16:35:00</td>\n",
       "      <td>ZZ20240403BLRCCU2504</td>\n",
       "      <td>GN</td>\n",
       "      <td>FirstClass</td>\n",
       "      <td>1</td>\n",
       "      <td>3</td>\n",
       "      <td>2</td>\n",
       "      <td>ZZ</td>\n",
       "      <td>2504</td>\n",
       "      <td>BLR</td>\n",
       "      <td>CCU</td>\n",
       "      <td>2024-04-03</td>\n",
       "      <td>2024-04-03 15:35:00</td>\n",
       "      <td>2024-04-03 18:17:00</td>\n",
       "      <td>2024-04-03 10:05:00</td>\n",
       "      <td>2024-04-03 12:47:00</td>\n",
       "      <td>2100</td>\n",
       "    </tr>\n",
       "    <tr>\n",
       "      <th>3</th>\n",
       "      <td>AVFF16</td>\n",
       "      <td>2024-03-02 16:35:00</td>\n",
       "      <td>ZZ20240403BLRCCU2504</td>\n",
       "      <td>GN</td>\n",
       "      <td>FirstClass</td>\n",
       "      <td>1</td>\n",
       "      <td>4</td>\n",
       "      <td>1</td>\n",
       "      <td>ZZ</td>\n",
       "      <td>2504</td>\n",
       "      <td>BLR</td>\n",
       "      <td>CCU</td>\n",
       "      <td>2024-04-03</td>\n",
       "      <td>2024-04-03 15:35:00</td>\n",
       "      <td>2024-04-03 18:17:00</td>\n",
       "      <td>2024-04-03 10:05:00</td>\n",
       "      <td>2024-04-03 12:47:00</td>\n",
       "      <td>2050</td>\n",
       "    </tr>\n",
       "    <tr>\n",
       "      <th>4</th>\n",
       "      <td>DBLE79</td>\n",
       "      <td>2024-03-02 16:35:00</td>\n",
       "      <td>ZZ20240403BLRCCU2504</td>\n",
       "      <td>GN</td>\n",
       "      <td>FirstClass</td>\n",
       "      <td>1</td>\n",
       "      <td>2</td>\n",
       "      <td>2</td>\n",
       "      <td>ZZ</td>\n",
       "      <td>2504</td>\n",
       "      <td>BLR</td>\n",
       "      <td>CCU</td>\n",
       "      <td>2024-04-03</td>\n",
       "      <td>2024-04-03 15:35:00</td>\n",
       "      <td>2024-04-03 18:17:00</td>\n",
       "      <td>2024-04-03 10:05:00</td>\n",
       "      <td>2024-04-03 12:47:00</td>\n",
       "      <td>2100</td>\n",
       "    </tr>\n",
       "    <tr>\n",
       "      <th>...</th>\n",
       "      <td>...</td>\n",
       "      <td>...</td>\n",
       "      <td>...</td>\n",
       "      <td>...</td>\n",
       "      <td>...</td>\n",
       "      <td>...</td>\n",
       "      <td>...</td>\n",
       "      <td>...</td>\n",
       "      <td>...</td>\n",
       "      <td>...</td>\n",
       "      <td>...</td>\n",
       "      <td>...</td>\n",
       "      <td>...</td>\n",
       "      <td>...</td>\n",
       "      <td>...</td>\n",
       "      <td>...</td>\n",
       "      <td>...</td>\n",
       "      <td>...</td>\n",
       "    </tr>\n",
       "    <tr>\n",
       "      <th>78179</th>\n",
       "      <td>CJEL38</td>\n",
       "      <td>2023-08-20 13:28:00</td>\n",
       "      <td>ZZ20240630AMDBLR4957</td>\n",
       "      <td>HL</td>\n",
       "      <td>EconomyClass</td>\n",
       "      <td>1</td>\n",
       "      <td>4</td>\n",
       "      <td>7</td>\n",
       "      <td>ZZ</td>\n",
       "      <td>4957</td>\n",
       "      <td>AMD</td>\n",
       "      <td>BLR</td>\n",
       "      <td>2024-06-30</td>\n",
       "      <td>2024-06-30 10:19:00</td>\n",
       "      <td>2024-06-30 21:50:00</td>\n",
       "      <td>2024-06-30 04:49:00</td>\n",
       "      <td>2024-06-30 16:20:00</td>\n",
       "      <td>2100</td>\n",
       "    </tr>\n",
       "    <tr>\n",
       "      <th>78180</th>\n",
       "      <td>NDXM23</td>\n",
       "      <td>2023-08-20 13:28:00</td>\n",
       "      <td>ZZ20240630AMDBLR4957</td>\n",
       "      <td>HL</td>\n",
       "      <td>EconomyClass</td>\n",
       "      <td>1</td>\n",
       "      <td>1</td>\n",
       "      <td>9</td>\n",
       "      <td>ZZ</td>\n",
       "      <td>4957</td>\n",
       "      <td>AMD</td>\n",
       "      <td>BLR</td>\n",
       "      <td>2024-06-30</td>\n",
       "      <td>2024-06-30 10:19:00</td>\n",
       "      <td>2024-06-30 21:50:00</td>\n",
       "      <td>2024-06-30 04:49:00</td>\n",
       "      <td>2024-06-30 16:20:00</td>\n",
       "      <td>2200</td>\n",
       "    </tr>\n",
       "    <tr>\n",
       "      <th>78181</th>\n",
       "      <td>RIUQ17</td>\n",
       "      <td>2023-08-20 13:28:00</td>\n",
       "      <td>ZZ20240630AMDBLR4957</td>\n",
       "      <td>HL</td>\n",
       "      <td>EconomyClass</td>\n",
       "      <td>1</td>\n",
       "      <td>4</td>\n",
       "      <td>5</td>\n",
       "      <td>ZZ</td>\n",
       "      <td>4957</td>\n",
       "      <td>AMD</td>\n",
       "      <td>BLR</td>\n",
       "      <td>2024-06-30</td>\n",
       "      <td>2024-06-30 10:19:00</td>\n",
       "      <td>2024-06-30 21:50:00</td>\n",
       "      <td>2024-06-30 04:49:00</td>\n",
       "      <td>2024-06-30 16:20:00</td>\n",
       "      <td>1500</td>\n",
       "    </tr>\n",
       "    <tr>\n",
       "      <th>78182</th>\n",
       "      <td>QLFS50</td>\n",
       "      <td>2023-08-20 13:28:00</td>\n",
       "      <td>ZZ20240630AMDBLR4957</td>\n",
       "      <td>HL</td>\n",
       "      <td>EconomyClass</td>\n",
       "      <td>1</td>\n",
       "      <td>2</td>\n",
       "      <td>1</td>\n",
       "      <td>ZZ</td>\n",
       "      <td>4957</td>\n",
       "      <td>AMD</td>\n",
       "      <td>BLR</td>\n",
       "      <td>2024-06-30</td>\n",
       "      <td>2024-06-30 10:19:00</td>\n",
       "      <td>2024-06-30 21:50:00</td>\n",
       "      <td>2024-06-30 04:49:00</td>\n",
       "      <td>2024-06-30 16:20:00</td>\n",
       "      <td>1300</td>\n",
       "    </tr>\n",
       "    <tr>\n",
       "      <th>78183</th>\n",
       "      <td>RSMB57</td>\n",
       "      <td>2023-08-20 13:28:00</td>\n",
       "      <td>ZZ20240630AMDBLR4957</td>\n",
       "      <td>HL</td>\n",
       "      <td>EconomyClass</td>\n",
       "      <td>1</td>\n",
       "      <td>3</td>\n",
       "      <td>1</td>\n",
       "      <td>ZZ</td>\n",
       "      <td>4957</td>\n",
       "      <td>AMD</td>\n",
       "      <td>BLR</td>\n",
       "      <td>2024-06-30</td>\n",
       "      <td>2024-06-30 10:19:00</td>\n",
       "      <td>2024-06-30 21:50:00</td>\n",
       "      <td>2024-06-30 04:49:00</td>\n",
       "      <td>2024-06-30 16:20:00</td>\n",
       "      <td>1300</td>\n",
       "    </tr>\n",
       "  </tbody>\n",
       "</table>\n",
       "<p>78184 rows � 18 columns</p>\n",
       "</div>"
      ],
      "text/plain": [
       "       RECLOC        CREATION_DTZ               DEP_KEY ACTION_CD  \\\n",
       "0      DRGS80 2024-03-02 16:35:00  ZZ20240403BLRCCU2504        GN   \n",
       "1      YEZQ47 2024-03-02 16:35:00  ZZ20240403BLRCCU2504        GN   \n",
       "2      JDDM40 2024-03-02 16:35:00  ZZ20240403BLRCCU2504        GN   \n",
       "3      AVFF16 2024-03-02 16:35:00  ZZ20240403BLRCCU2504        GN   \n",
       "4      DBLE79 2024-03-02 16:35:00  ZZ20240403BLRCCU2504        GN   \n",
       "...       ...                 ...                   ...       ...   \n",
       "78179  CJEL38 2023-08-20 13:28:00  ZZ20240630AMDBLR4957        HL   \n",
       "78180  NDXM23 2023-08-20 13:28:00  ZZ20240630AMDBLR4957        HL   \n",
       "78181  RIUQ17 2023-08-20 13:28:00  ZZ20240630AMDBLR4957        HL   \n",
       "78182  QLFS50 2023-08-20 13:28:00  ZZ20240630AMDBLR4957        HL   \n",
       "78183  RSMB57 2023-08-20 13:28:00  ZZ20240630AMDBLR4957        HL   \n",
       "\n",
       "             COS_CD  SEG_SEQ  SEG_TOTAL  PAX_CNT CARRIER_CD  FLT_NUM ORIG_CD  \\\n",
       "0        FirstClass        1          4        3         ZZ     2504     BLR   \n",
       "1        FirstClass        1          2        4         ZZ     2504     BLR   \n",
       "2        FirstClass        1          3        2         ZZ     2504     BLR   \n",
       "3        FirstClass        1          4        1         ZZ     2504     BLR   \n",
       "4        FirstClass        1          2        2         ZZ     2504     BLR   \n",
       "...             ...      ...        ...      ...        ...      ...     ...   \n",
       "78179  EconomyClass        1          4        7         ZZ     4957     AMD   \n",
       "78180  EconomyClass        1          1        9         ZZ     4957     AMD   \n",
       "78181  EconomyClass        1          4        5         ZZ     4957     AMD   \n",
       "78182  EconomyClass        1          2        1         ZZ     4957     AMD   \n",
       "78183  EconomyClass        1          3        1         ZZ     4957     AMD   \n",
       "\n",
       "      DEST_CD     DEP_DT            DEP_DTML            ARR_DTML  \\\n",
       "0         CCU 2024-04-03 2024-04-03 15:35:00 2024-04-03 18:17:00   \n",
       "1         CCU 2024-04-03 2024-04-03 15:35:00 2024-04-03 18:17:00   \n",
       "2         CCU 2024-04-03 2024-04-03 15:35:00 2024-04-03 18:17:00   \n",
       "3         CCU 2024-04-03 2024-04-03 15:35:00 2024-04-03 18:17:00   \n",
       "4         CCU 2024-04-03 2024-04-03 15:35:00 2024-04-03 18:17:00   \n",
       "...       ...        ...                 ...                 ...   \n",
       "78179     BLR 2024-06-30 2024-06-30 10:19:00 2024-06-30 21:50:00   \n",
       "78180     BLR 2024-06-30 2024-06-30 10:19:00 2024-06-30 21:50:00   \n",
       "78181     BLR 2024-06-30 2024-06-30 10:19:00 2024-06-30 21:50:00   \n",
       "78182     BLR 2024-06-30 2024-06-30 10:19:00 2024-06-30 21:50:00   \n",
       "78183     BLR 2024-06-30 2024-06-30 10:19:00 2024-06-30 21:50:00   \n",
       "\n",
       "                 DEP_DTMZ            ARR_DTMZ  RECLOC_SCORE  \n",
       "0     2024-04-03 10:05:00 2024-04-03 12:47:00          2150  \n",
       "1     2024-04-03 10:05:00 2024-04-03 12:47:00          2200  \n",
       "2     2024-04-03 10:05:00 2024-04-03 12:47:00          2100  \n",
       "3     2024-04-03 10:05:00 2024-04-03 12:47:00          2050  \n",
       "4     2024-04-03 10:05:00 2024-04-03 12:47:00          2100  \n",
       "...                   ...                 ...           ...  \n",
       "78179 2024-06-30 04:49:00 2024-06-30 16:20:00          2100  \n",
       "78180 2024-06-30 04:49:00 2024-06-30 16:20:00          2200  \n",
       "78181 2024-06-30 04:49:00 2024-06-30 16:20:00          1500  \n",
       "78182 2024-06-30 04:49:00 2024-06-30 16:20:00          1300  \n",
       "78183 2024-06-30 04:49:00 2024-06-30 16:20:00          1300  \n",
       "\n",
       "[78184 rows x 18 columns]"
      ]
     },
     "execution_count": 413,
     "metadata": {},
     "output_type": "execute_result"
    }
   ],
   "source": [
    "get_recloc_score(PNR_DF)"
   ]
  },
  {
   "cell_type": "code",
   "execution_count": 414,
   "id": "db520b74-7109-4966-be1c-13ea569ea8a0",
   "metadata": {},
   "outputs": [],
   "source": [
    "recloc_dict = {PNR_DF['RECLOC'][i] : PNR_DF['RECLOC_SCORE'][i] for i in range(len(PNR_DF['RECLOC']))}"
   ]
  },
  {
   "cell_type": "code",
   "execution_count": 415,
   "id": "89b07d27-4955-43b5-920e-1689375fcc67",
   "metadata": {},
   "outputs": [],
   "source": [
    "loyalty_dict = {'Platinum' : 1800, 'Gold' : 1600, 'Silver' : 1500, 0 : 0}\n",
    "ssr_wt = 200"
   ]
  },
  {
   "cell_type": "code",
   "execution_count": 416,
   "id": "59f39c7b-f0dc-4d8a-bf49-a2a84cbdb8ce",
   "metadata": {},
   "outputs": [],
   "source": [
    "def get_pnr_score(df):\n",
    "    pnr_sclist = []\n",
    "    pnr_score = 0\n",
    "    for i in range(len(df['RECLOC'])):\n",
    "        pnr_score += recloc_dict[df['RECLOC'][i]] + loyalty_dict[df['TierLevel'][i]]\n",
    "        if df['SSR_CODE_CD1'][i] != 0:\n",
    "            pnr_score += ssr_wt\n",
    "        \n",
    "        pnr_sclist.append(pnr_score)\n",
    "        pnr_score = 0\n",
    "\n",
    "    df['PNR_SCORE'] = pnr_sclist\n",
    "\n",
    "    return df   "
   ]
  },
  {
   "cell_type": "code",
   "execution_count": 417,
   "id": "807194ea-3f97-4898-aa47-86b5ccadde7b",
   "metadata": {},
   "outputs": [
    {
     "data": {
      "text/html": [
       "<div>\n",
       "<style scoped>\n",
       "    .dataframe tbody tr th:only-of-type {\n",
       "        vertical-align: middle;\n",
       "    }\n",
       "\n",
       "    .dataframe tbody tr th {\n",
       "        vertical-align: top;\n",
       "    }\n",
       "\n",
       "    .dataframe thead th {\n",
       "        text-align: right;\n",
       "    }\n",
       "</style>\n",
       "<table border=\"1\" class=\"dataframe\">\n",
       "  <thead>\n",
       "    <tr style=\"text-align: right;\">\n",
       "      <th></th>\n",
       "      <th>RECLOC</th>\n",
       "      <th>CREATION_DTZ</th>\n",
       "      <th>CUSTOMER_ID</th>\n",
       "      <th>LAST_NAME</th>\n",
       "      <th>FIRST_NAME</th>\n",
       "      <th>NATIONALITY</th>\n",
       "      <th>DOB</th>\n",
       "      <th>CONTACT_PH_NUM</th>\n",
       "      <th>CONTACT_EMAIL</th>\n",
       "      <th>DOC_TYPE</th>\n",
       "      <th>DOC_ID</th>\n",
       "      <th>SPECIAL_NAME_CD2</th>\n",
       "      <th>SSR_CODE_CD1</th>\n",
       "      <th>SPECIAL_NAME_CD1</th>\n",
       "      <th>FF_NUM</th>\n",
       "      <th>TierLevel</th>\n",
       "      <th>PNR_SCORE</th>\n",
       "    </tr>\n",
       "  </thead>\n",
       "  <tbody>\n",
       "    <tr>\n",
       "      <th>0</th>\n",
       "      <td>DRGS80</td>\n",
       "      <td>2024-03-02 16:35:00</td>\n",
       "      <td>VNQ9748</td>\n",
       "      <td>Mitchell</td>\n",
       "      <td>Christina</td>\n",
       "      <td>CA</td>\n",
       "      <td>2003-06-01</td>\n",
       "      <td>1-769-506-8397</td>\n",
       "      <td>christinamitchell1@example.com</td>\n",
       "      <td>Driving License</td>\n",
       "      <td>299196000000</td>\n",
       "      <td>NaN</td>\n",
       "      <td>0</td>\n",
       "      <td>ADT</td>\n",
       "      <td>4.276771e+09</td>\n",
       "      <td>Gold</td>\n",
       "      <td>3750</td>\n",
       "    </tr>\n",
       "    <tr>\n",
       "      <th>1</th>\n",
       "      <td>DRGS80</td>\n",
       "      <td>2024-03-02 16:35:00</td>\n",
       "      <td>BAP1926</td>\n",
       "      <td>Parker</td>\n",
       "      <td>Rebecca</td>\n",
       "      <td>CA</td>\n",
       "      <td>2015-08-18</td>\n",
       "      <td>1-947-699-5143</td>\n",
       "      <td>rebeccaparker2@example.com</td>\n",
       "      <td>Passport</td>\n",
       "      <td>11901984430</td>\n",
       "      <td>NaN</td>\n",
       "      <td>0</td>\n",
       "      <td>CHD</td>\n",
       "      <td>8.493470e+09</td>\n",
       "      <td>Platinum</td>\n",
       "      <td>3950</td>\n",
       "    </tr>\n",
       "    <tr>\n",
       "      <th>2</th>\n",
       "      <td>DRGS80</td>\n",
       "      <td>2024-03-02 16:35:00</td>\n",
       "      <td>ALV9938</td>\n",
       "      <td>Swamy</td>\n",
       "      <td>Vardaniya</td>\n",
       "      <td>IN</td>\n",
       "      <td>1945-02-23</td>\n",
       "      <td>6102977873</td>\n",
       "      <td>vardaniyaswamy3@example.com</td>\n",
       "      <td>Govt-Id</td>\n",
       "      <td>4283733463</td>\n",
       "      <td>NaN</td>\n",
       "      <td>0</td>\n",
       "      <td>S65</td>\n",
       "      <td>6.731611e+09</td>\n",
       "      <td>Platinum</td>\n",
       "      <td>3950</td>\n",
       "    </tr>\n",
       "    <tr>\n",
       "      <th>3</th>\n",
       "      <td>YEZQ47</td>\n",
       "      <td>2024-03-02 16:35:00</td>\n",
       "      <td>CEU7075</td>\n",
       "      <td>Edwin</td>\n",
       "      <td>Stuvan</td>\n",
       "      <td>IN</td>\n",
       "      <td>2003-06-18</td>\n",
       "      <td>5791967032</td>\n",
       "      <td>stuvanedwin1@example.com</td>\n",
       "      <td>Passport</td>\n",
       "      <td>139267560</td>\n",
       "      <td>NaN</td>\n",
       "      <td>0</td>\n",
       "      <td>ADT</td>\n",
       "      <td>7.214819e+09</td>\n",
       "      <td>Platinum</td>\n",
       "      <td>4000</td>\n",
       "    </tr>\n",
       "    <tr>\n",
       "      <th>4</th>\n",
       "      <td>YEZQ47</td>\n",
       "      <td>2024-03-02 16:35:00</td>\n",
       "      <td>WFG9647</td>\n",
       "      <td>Hernandez</td>\n",
       "      <td>Andrea</td>\n",
       "      <td>CA</td>\n",
       "      <td>1969-07-03</td>\n",
       "      <td>+1 (378) 291-0325</td>\n",
       "      <td>andreahernandez2@example.com</td>\n",
       "      <td>Govt-Id</td>\n",
       "      <td>5459762750</td>\n",
       "      <td>NaN</td>\n",
       "      <td>0</td>\n",
       "      <td>ADT</td>\n",
       "      <td>NaN</td>\n",
       "      <td>0</td>\n",
       "      <td>2200</td>\n",
       "    </tr>\n",
       "    <tr>\n",
       "      <th>...</th>\n",
       "      <td>...</td>\n",
       "      <td>...</td>\n",
       "      <td>...</td>\n",
       "      <td>...</td>\n",
       "      <td>...</td>\n",
       "      <td>...</td>\n",
       "      <td>...</td>\n",
       "      <td>...</td>\n",
       "      <td>...</td>\n",
       "      <td>...</td>\n",
       "      <td>...</td>\n",
       "      <td>...</td>\n",
       "      <td>...</td>\n",
       "      <td>...</td>\n",
       "      <td>...</td>\n",
       "      <td>...</td>\n",
       "      <td>...</td>\n",
       "    </tr>\n",
       "    <tr>\n",
       "      <th>152508</th>\n",
       "      <td>RIUQ17</td>\n",
       "      <td>2023-08-20 13:28:00</td>\n",
       "      <td>NQF8798</td>\n",
       "      <td>Shankar</td>\n",
       "      <td>Divit</td>\n",
       "      <td>IN</td>\n",
       "      <td>1981-08-22</td>\n",
       "      <td>(347) 703-8971</td>\n",
       "      <td>divitshankar3@example.com</td>\n",
       "      <td>Driving License</td>\n",
       "      <td>169860000000</td>\n",
       "      <td>NaN</td>\n",
       "      <td>0</td>\n",
       "      <td>ADT</td>\n",
       "      <td>NaN</td>\n",
       "      <td>0</td>\n",
       "      <td>1500</td>\n",
       "    </tr>\n",
       "    <tr>\n",
       "      <th>152509</th>\n",
       "      <td>RIUQ17</td>\n",
       "      <td>2023-08-20 13:28:00</td>\n",
       "      <td>RJI4602</td>\n",
       "      <td>Henderson</td>\n",
       "      <td>Autumn</td>\n",
       "      <td>US</td>\n",
       "      <td>2013-09-14</td>\n",
       "      <td>(371) 218-4438</td>\n",
       "      <td>autumnhenderson4@example.com</td>\n",
       "      <td>Govt-Id</td>\n",
       "      <td>7100653216</td>\n",
       "      <td>NaN</td>\n",
       "      <td>0</td>\n",
       "      <td>CHD</td>\n",
       "      <td>5.882689e+09</td>\n",
       "      <td>Gold</td>\n",
       "      <td>3100</td>\n",
       "    </tr>\n",
       "    <tr>\n",
       "      <th>152510</th>\n",
       "      <td>RIUQ17</td>\n",
       "      <td>2023-08-20 13:28:00</td>\n",
       "      <td>VPC0920</td>\n",
       "      <td>Ramanathan</td>\n",
       "      <td>Hridaan</td>\n",
       "      <td>IN</td>\n",
       "      <td>1944-09-06</td>\n",
       "      <td>(437) 839-4309</td>\n",
       "      <td>hridaanramanathan5@example.com</td>\n",
       "      <td>Driving License</td>\n",
       "      <td>715385534</td>\n",
       "      <td>NaN</td>\n",
       "      <td>0</td>\n",
       "      <td>S65</td>\n",
       "      <td>NaN</td>\n",
       "      <td>0</td>\n",
       "      <td>1500</td>\n",
       "    </tr>\n",
       "    <tr>\n",
       "      <th>152511</th>\n",
       "      <td>QLFS50</td>\n",
       "      <td>2023-08-20 13:28:00</td>\n",
       "      <td>BIB2224</td>\n",
       "      <td>Baria</td>\n",
       "      <td>Taimur</td>\n",
       "      <td>IN</td>\n",
       "      <td>2010-06-19</td>\n",
       "      <td>(771) 284-3525</td>\n",
       "      <td>taimurbaria1@example.com</td>\n",
       "      <td>Govt-Id</td>\n",
       "      <td>4431751697</td>\n",
       "      <td>NaN</td>\n",
       "      <td>0</td>\n",
       "      <td>CHD</td>\n",
       "      <td>3.701390e+09</td>\n",
       "      <td>Gold</td>\n",
       "      <td>2900</td>\n",
       "    </tr>\n",
       "    <tr>\n",
       "      <th>152512</th>\n",
       "      <td>RSMB57</td>\n",
       "      <td>2023-08-20 13:28:00</td>\n",
       "      <td>WWZ4650</td>\n",
       "      <td>Swanson</td>\n",
       "      <td>Michael</td>\n",
       "      <td>US</td>\n",
       "      <td>1985-04-05</td>\n",
       "      <td>(945) 565-9777</td>\n",
       "      <td>michaelswanson1@example.com</td>\n",
       "      <td>Govt-Id</td>\n",
       "      <td>1966570122</td>\n",
       "      <td>NRSA</td>\n",
       "      <td>0</td>\n",
       "      <td>ADT</td>\n",
       "      <td>4.330241e+09</td>\n",
       "      <td>Platinum</td>\n",
       "      <td>3100</td>\n",
       "    </tr>\n",
       "  </tbody>\n",
       "</table>\n",
       "<p>152513 rows � 17 columns</p>\n",
       "</div>"
      ],
      "text/plain": [
       "        RECLOC        CREATION_DTZ CUSTOMER_ID   LAST_NAME FIRST_NAME  \\\n",
       "0       DRGS80 2024-03-02 16:35:00     VNQ9748    Mitchell  Christina   \n",
       "1       DRGS80 2024-03-02 16:35:00     BAP1926      Parker    Rebecca   \n",
       "2       DRGS80 2024-03-02 16:35:00     ALV9938       Swamy  Vardaniya   \n",
       "3       YEZQ47 2024-03-02 16:35:00     CEU7075       Edwin     Stuvan   \n",
       "4       YEZQ47 2024-03-02 16:35:00     WFG9647   Hernandez     Andrea   \n",
       "...        ...                 ...         ...         ...        ...   \n",
       "152508  RIUQ17 2023-08-20 13:28:00     NQF8798     Shankar      Divit   \n",
       "152509  RIUQ17 2023-08-20 13:28:00     RJI4602   Henderson     Autumn   \n",
       "152510  RIUQ17 2023-08-20 13:28:00     VPC0920  Ramanathan    Hridaan   \n",
       "152511  QLFS50 2023-08-20 13:28:00     BIB2224       Baria     Taimur   \n",
       "152512  RSMB57 2023-08-20 13:28:00     WWZ4650     Swanson    Michael   \n",
       "\n",
       "       NATIONALITY        DOB     CONTACT_PH_NUM  \\\n",
       "0               CA 2003-06-01     1-769-506-8397   \n",
       "1               CA 2015-08-18     1-947-699-5143   \n",
       "2               IN 1945-02-23         6102977873   \n",
       "3               IN 2003-06-18         5791967032   \n",
       "4               CA 1969-07-03  +1 (378) 291-0325   \n",
       "...            ...        ...                ...   \n",
       "152508          IN 1981-08-22     (347) 703-8971   \n",
       "152509          US 2013-09-14     (371) 218-4438   \n",
       "152510          IN 1944-09-06     (437) 839-4309   \n",
       "152511          IN 2010-06-19     (771) 284-3525   \n",
       "152512          US 1985-04-05     (945) 565-9777   \n",
       "\n",
       "                         CONTACT_EMAIL         DOC_TYPE        DOC_ID  \\\n",
       "0       christinamitchell1@example.com  Driving License  299196000000   \n",
       "1           rebeccaparker2@example.com         Passport   11901984430   \n",
       "2          vardaniyaswamy3@example.com          Govt-Id    4283733463   \n",
       "3             stuvanedwin1@example.com         Passport     139267560   \n",
       "4         andreahernandez2@example.com          Govt-Id    5459762750   \n",
       "...                                ...              ...           ...   \n",
       "152508       divitshankar3@example.com  Driving License  169860000000   \n",
       "152509    autumnhenderson4@example.com          Govt-Id    7100653216   \n",
       "152510  hridaanramanathan5@example.com  Driving License     715385534   \n",
       "152511        taimurbaria1@example.com          Govt-Id    4431751697   \n",
       "152512     michaelswanson1@example.com          Govt-Id    1966570122   \n",
       "\n",
       "       SPECIAL_NAME_CD2 SSR_CODE_CD1 SPECIAL_NAME_CD1        FF_NUM TierLevel  \\\n",
       "0                   NaN            0              ADT  4.276771e+09      Gold   \n",
       "1                   NaN            0              CHD  8.493470e+09  Platinum   \n",
       "2                   NaN            0              S65  6.731611e+09  Platinum   \n",
       "3                   NaN            0              ADT  7.214819e+09  Platinum   \n",
       "4                   NaN            0              ADT           NaN         0   \n",
       "...                 ...          ...              ...           ...       ...   \n",
       "152508              NaN            0              ADT           NaN         0   \n",
       "152509              NaN            0              CHD  5.882689e+09      Gold   \n",
       "152510              NaN            0              S65           NaN         0   \n",
       "152511              NaN            0              CHD  3.701390e+09      Gold   \n",
       "152512             NRSA            0              ADT  4.330241e+09  Platinum   \n",
       "\n",
       "        PNR_SCORE  \n",
       "0            3750  \n",
       "1            3950  \n",
       "2            3950  \n",
       "3            4000  \n",
       "4            2200  \n",
       "...           ...  \n",
       "152508       1500  \n",
       "152509       3100  \n",
       "152510       1500  \n",
       "152511       2900  \n",
       "152512       3100  \n",
       "\n",
       "[152513 rows x 17 columns]"
      ]
     },
     "execution_count": 417,
     "metadata": {},
     "output_type": "execute_result"
    }
   ],
   "source": [
    "get_pnr_score(Pass_DF)"
   ]
  },
  {
   "cell_type": "markdown",
   "id": "387add1c",
   "metadata": {},
   "source": [
    "Identifying affected passengers"
   ]
  },
  {
   "cell_type": "code",
   "execution_count": 418,
   "id": "c9675ac9-751c-4c77-8391-13bce0f4a21a",
   "metadata": {},
   "outputs": [],
   "source": [
    "#Function that returns the PNRs that are affected based on flight no., and departure date of the cancelled flight\n",
    "def Affected_PNR(FLT_NUM, DEP_DATE, PNR_DF):\n",
    "    AffectedPNR = PNR_DF.loc[(PNR_DF['FLT_NUM'] == FLT_NUM) & (PNR_DF['DEP_DT']==DEP_DATE)]\n",
    "    return AffectedPNR"
   ]
  },
  {
   "cell_type": "code",
   "execution_count": 419,
   "id": "ff5409f0-3386-4cb2-82ac-4cf5ac6f6242",
   "metadata": {},
   "outputs": [],
   "source": [
    "#Dataframe consisting of affected PNRs\n",
    "aff = Affected_PNR(df2.loc[cancelled_flights[0],'FlightNumber'], df2.loc[cancelled_flights[0],'DepartureDate'], PNR_DF)"
   ]
  },
  {
   "cell_type": "code",
   "execution_count": 420,
   "id": "d4cc940b-82ce-43eb-8329-dab95f840bbf",
   "metadata": {},
   "outputs": [],
   "source": [
    "#Dataframe consisting of affected passengers\n",
    "total = pd.merge(Pass_DF, aff[['RECLOC']], on='RECLOC', how='inner')"
   ]
  },
  {
   "cell_type": "code",
   "execution_count": 421,
   "id": "ec3b5772-e11c-498e-b873-9a91c28accd9",
   "metadata": {},
   "outputs": [
    {
     "data": {
      "text/plain": [
       "225"
      ]
     },
     "execution_count": 421,
     "metadata": {},
     "output_type": "execute_result"
    }
   ],
   "source": [
    "len(total) #No. of passengers initially traveling in the affected flight"
   ]
  },
  {
   "cell_type": "code",
   "execution_count": 422,
   "id": "01e5d12e-ee3a-4013-b25a-c538490327d5",
   "metadata": {},
   "outputs": [],
   "source": [
    "num_affected_pax = len(total) - df2.loc[b, 'TotalCapacity']"
   ]
  },
  {
   "cell_type": "code",
   "execution_count": 423,
   "id": "9ce6def9-3c9a-44a0-81b8-4e4fe0d310d1",
   "metadata": {},
   "outputs": [
    {
     "name": "stdout",
     "output_type": "stream",
     "text": [
      "125\n"
     ]
    }
   ],
   "source": [
    "print(num_affected_pax)"
   ]
  },
  {
   "cell_type": "code",
   "execution_count": null,
   "id": "5d73f7a1-c708-4faf-98d6-b52ee6841fa0",
   "metadata": {},
   "outputs": [],
   "source": [
    "#num_affected_pax no. of affected passengers need to be identified \n",
    "#We will do this based on PNR score assigned"
   ]
  },
  {
   "cell_type": "code",
   "execution_count": 424,
   "id": "a8fff098-5d33-4593-aaed-db4bceae6b59",
   "metadata": {},
   "outputs": [],
   "source": [
    "#Importing class from PNR Data to Passenger Data\n",
    "aff_pax['Class'] = 'NaN'\n",
    "\n",
    "for i in range(len(aff)):\n",
    "    recloc_aff = aff.loc[aff.index[i], 'RECLOC']\n",
    "    class_aff = aff.loc[aff.index[i], 'COS_CD']\n",
    "\n",
    "    aff_pax.loc[aff_pax['RECLOC'] == recloc_aff, 'Class'] = class_aff"
   ]
  },
  {
   "cell_type": "code",
   "execution_count": 425,
   "id": "ef89a18e-a905-4133-a49b-35346df7a3cc",
   "metadata": {},
   "outputs": [],
   "source": [
    "total = total.sort_values(by='PNR_SCORE', ascending=True)   #Sorting passengers from low to high PNR Score"
   ]
  },
  {
   "cell_type": "code",
   "execution_count": 426,
   "id": "a11e3f01-8940-45fb-b88b-1b1dd7053aeb",
   "metadata": {},
   "outputs": [],
   "source": [
    "aff_pax = pd.DataFrame(total.head(num_affected_pax))"
   ]
  },
  {
   "cell_type": "code",
   "execution_count": 428,
   "id": "755fc5a8-9614-4d7f-9617-4aa1819315ce",
   "metadata": {},
   "outputs": [],
   "source": [
    "#Grouping passengers based on PNR_Score\n",
    "for i in range(len(aff_pax)):\n",
    "    score = aff_pax.loc[aff_pax.index[i], 'PNR_SCORE']\n",
    "    \n",
    "    if score >= 3500:\n",
    "        aff_pax.loc[aff_pax.index[i], 'PNR_SCORE'] = 5\n",
    "    elif score >= 3000:\n",
    "        aff_pax.loc[aff_pax.index[i], 'PNR_SCORE'] = 4\n",
    "    elif score >= 2500:\n",
    "        aff_pax.loc[aff_pax.index[i], 'PNR_SCORE'] = 3\n",
    "    elif score >= 2000:\n",
    "        aff_pax.loc[aff_pax.index[i], 'PNR_SCORE'] = 2\n",
    "    else:\n",
    "        aff_pax.loc[aff_pax.index[i], 'PNR_SCORE'] = 1"
   ]
  },
  {
   "cell_type": "code",
   "execution_count": 429,
   "id": "417749c3-4402-4993-9b43-6d38aa2dea80",
   "metadata": {},
   "outputs": [
    {
     "data": {
      "text/plain": [
       "PNR_SCORE\n",
       "2    43\n",
       "1    41\n",
       "4    32\n",
       "3     9\n",
       "Name: count, dtype: int64"
      ]
     },
     "execution_count": 429,
     "metadata": {},
     "output_type": "execute_result"
    }
   ],
   "source": [
    "aff_pax['PNR_SCORE'].value_counts()"
   ]
  },
  {
   "cell_type": "code",
   "execution_count": 430,
   "id": "68c2962c-070e-49e6-a29f-d316014751de",
   "metadata": {},
   "outputs": [],
   "source": [
    "value_counts = aff_pax['PNR_SCORE'].value_counts()"
   ]
  },
  {
   "cell_type": "code",
   "execution_count": 431,
   "id": "9e034f5b-aba2-46df-aeeb-2a1473475328",
   "metadata": {},
   "outputs": [],
   "source": [
    "# Convert the Series to a DataFrame\n",
    "freq_df = pd.DataFrame({'PNR_SCORE': value_counts.index, 'Frequency': value_counts.values})"
   ]
  },
  {
   "cell_type": "code",
   "execution_count": 432,
   "id": "ad6b776b-ec1f-48b5-bd32-0abe34ba6a70",
   "metadata": {},
   "outputs": [
    {
     "data": {
      "text/html": [
       "<div>\n",
       "<style scoped>\n",
       "    .dataframe tbody tr th:only-of-type {\n",
       "        vertical-align: middle;\n",
       "    }\n",
       "\n",
       "    .dataframe tbody tr th {\n",
       "        vertical-align: top;\n",
       "    }\n",
       "\n",
       "    .dataframe thead th {\n",
       "        text-align: right;\n",
       "    }\n",
       "</style>\n",
       "<table border=\"1\" class=\"dataframe\">\n",
       "  <thead>\n",
       "    <tr style=\"text-align: right;\">\n",
       "      <th></th>\n",
       "      <th>PNR_SCORE</th>\n",
       "      <th>Frequency</th>\n",
       "    </tr>\n",
       "  </thead>\n",
       "  <tbody>\n",
       "    <tr>\n",
       "      <th>0</th>\n",
       "      <td>2</td>\n",
       "      <td>43</td>\n",
       "    </tr>\n",
       "    <tr>\n",
       "      <th>1</th>\n",
       "      <td>1</td>\n",
       "      <td>41</td>\n",
       "    </tr>\n",
       "    <tr>\n",
       "      <th>2</th>\n",
       "      <td>4</td>\n",
       "      <td>32</td>\n",
       "    </tr>\n",
       "    <tr>\n",
       "      <th>3</th>\n",
       "      <td>3</td>\n",
       "      <td>9</td>\n",
       "    </tr>\n",
       "  </tbody>\n",
       "</table>\n",
       "</div>"
      ],
      "text/plain": [
       "   PNR_SCORE  Frequency\n",
       "0          2         43\n",
       "1          1         41\n",
       "2          4         32\n",
       "3          3          9"
      ]
     },
     "execution_count": 432,
     "metadata": {},
     "output_type": "execute_result"
    }
   ],
   "source": [
    "freq_df"
   ]
  },
  {
   "cell_type": "code",
   "execution_count": 433,
   "id": "28636190-eea1-4e11-8dd9-5c80e76e2466",
   "metadata": {},
   "outputs": [
    {
     "name": "stdout",
     "output_type": "stream",
     "text": [
      "[2, 1, 4, 3]\n",
      "[43, 41, 32, 9]\n"
     ]
    }
   ],
   "source": [
    "Score = []         #Array for storing PNR scores\n",
    "G = []             #Array for storing number of passengers \n",
    "                   #corresponding to the PNR Score\n",
    "for i in range(len(freq_df)):\n",
    "    Score.append(freq_df.loc[i, 'PNR_SCORE'])\n",
    "    G.append(freq_df.loc[i, 'Frequency'])\n",
    "print(Score)\n",
    "print(G)"
   ]
  },
  {
   "cell_type": "code",
   "execution_count": 434,
   "id": "c82452f1-68a5-4d4f-bdab-4b7310054628",
   "metadata": {},
   "outputs": [
    {
     "name": "stdout",
     "output_type": "stream",
     "text": [
      "[5.0, 5.0, 4.0, 1.0]\n"
     ]
    }
   ],
   "source": [
    "#Scaling down the values in G\n",
    "for i in range(len(G)):\n",
    "    G[i] = G[i]/10\n",
    "    G[i] = np.ceil(G[i])   #Ceil value so that number of passengers accommodated in\n",
    "                           #a flight is always less than than the flight's capacity\n",
    "print(G)"
   ]
  },
  {
   "cell_type": "markdown",
   "id": "9063f484",
   "metadata": {},
   "source": [
    "Solving using quantum solver"
   ]
  },
  {
   "cell_type": "code",
   "execution_count": 435,
   "id": "c1ccc4a5-0eb4-480c-ab67-38eb20eb0113",
   "metadata": {},
   "outputs": [],
   "source": [
    "from qiskit_algorithms import QAOA, NumPyMinimumEigensolver\n",
    "from qiskit_algorithms.optimizers import COBYLA, SPSA\n",
    "from qiskit.primitives import Sampler\n",
    "from qiskit_optimization.algorithms import (\n",
    "    MinimumEigenOptimizer,\n",
    "    SolutionSample,\n",
    "    OptimizationResultStatus,\n",
    ")\n",
    "from qiskit_optimization import QuadraticProgram\n",
    "from qiskit.visualization import plot_histogram\n",
    "from typing import List, Tuple\n",
    "import numpy as np\n",
    "from qiskit_optimization.translators import from_docplex_mp\n",
    "from qiskit_optimization.converters import LinearInequalityToPenalty, QuadraticProgramToQubo"
   ]
  },
  {
   "cell_type": "code",
   "execution_count": 436,
   "id": "779ff343-fa90-4f95-a982-f8d4af7db2cd",
   "metadata": {},
   "outputs": [
    {
     "name": "stdout",
     "output_type": "stream",
     "text": [
      "Problem name: \n",
      "\n",
      "Maximize\n",
      "  4*x_0_0 + 4*x_0_1 + 2*x_1_0 + 2*x_1_1 + 8*x_2_0 + 8*x_2_1 + 6*x_3_0 + 6*x_3_1\n",
      "\n",
      "Subject to\n",
      "  Linear constraints (6)\n",
      "    x_0_0 + x_0_1 <= 1  'c0'\n",
      "    x_1_0 + x_1_1 <= 1  'c1'\n",
      "    x_2_0 + x_2_1 <= 1  'c2'\n",
      "    x_3_0 + x_3_1 <= 1  'c3'\n",
      "    5*x_0_0 + 5*x_1_0 + 4*x_2_0 + x_3_0 <= 13  'c4'\n",
      "    5*x_0_1 + 5*x_1_1 + 4*x_2_1 + x_3_1 <= 13  'c5'\n",
      "\n",
      "  Binary variables (8)\n",
      "    x_0_0 x_1_0 x_2_0 x_3_0 x_0_1 x_1_1 x_2_1 x_3_1\n",
      "\n"
     ]
    }
   ],
   "source": [
    "#Formulating the problem\n",
    "qp = QuadraticProgram()\n",
    "\n",
    "#Defining variables\n",
    "for j in range(len(F)):\n",
    "    for i in range(len(Score)):\n",
    "        qp.binary_var(name=f'x_{i}_{j}')\n",
    "\n",
    "#Objective function\n",
    "linear_dict = {f'x_{i}_{j}': F[j] * Score[i] for i in range(len(Score)) for j in range(len(F))}\n",
    "qp.maximize(linear=linear_dict)\n",
    "\n",
    "#Add constraints\n",
    "#Passenger Constraint (Each passenger(group here) is assigned one flight)\n",
    "for k in range(len(Score)):\n",
    "    constraint1 = {f'x_{k}_{j}': 1 for j in range(len(F))}\n",
    "    qp.linear_constraint(linear=constraint1, sense='<=', rhs=1)\n",
    "\n",
    "#Flight Constraint (Flights shouldn't accommodate more than it can carry/fly)\n",
    "for k in range(len(F)):\n",
    "    constraint2 = {f'x_{i}_{k}': G[i] for i in range(len(Score))}\n",
    "    qp.linear_constraint(linear=constraint2, sense='<=', rhs=V_S[k])\n",
    "\n",
    "print(qp.prettyprint())"
   ]
  },
  {
   "cell_type": "code",
   "execution_count": 437,
   "id": "f813cb63-8c66-468d-a403-d5e319d0edea",
   "metadata": {},
   "outputs": [
    {
     "name": "stdout",
     "output_type": "stream",
     "text": [
      "Problem name: \n",
      "\n",
      "Minimize\n",
      "  205*c4@int_slack@0^2 + 820*c4@int_slack@0*c4@int_slack@1\n",
      "  + 1640*c4@int_slack@0*c4@int_slack@2 + 2460*c4@int_slack@0*c4@int_slack@3\n",
      "  + 820*c4@int_slack@1^2 + 3280*c4@int_slack@1*c4@int_slack@2\n",
      "  + 4920*c4@int_slack@1*c4@int_slack@3 + 3280*c4@int_slack@2^2\n",
      "  + 9840*c4@int_slack@2*c4@int_slack@3 + 7380*c4@int_slack@3^2\n",
      "  + 205*c5@int_slack@0^2 + 820*c5@int_slack@0*c5@int_slack@1\n",
      "  + 1640*c5@int_slack@0*c5@int_slack@2 + 2460*c5@int_slack@0*c5@int_slack@3\n",
      "  + 820*c5@int_slack@1^2 + 3280*c5@int_slack@1*c5@int_slack@2\n",
      "  + 4920*c5@int_slack@1*c5@int_slack@3 + 3280*c5@int_slack@2^2\n",
      "  + 9840*c5@int_slack@2*c5@int_slack@3 + 7380*c5@int_slack@3^2\n",
      "  + 2050*x_0_0*c4@int_slack@0 + 4100*x_0_0*c4@int_slack@1\n",
      "  + 8200*x_0_0*c4@int_slack@2 + 12300*x_0_0*c4@int_slack@3 + 5125*x_0_0^2\n",
      "  + 41*x_0_0*x_0_1 + 10250*x_0_0*x_1_0 + 8200*x_0_0*x_2_0 + 2050*x_0_0*x_3_0\n",
      "  + 2050*x_0_1*c5@int_slack@0 + 4100*x_0_1*c5@int_slack@1\n",
      "  + 8200*x_0_1*c5@int_slack@2 + 12300*x_0_1*c5@int_slack@3 + 5125*x_0_1^2\n",
      "  + 10250*x_0_1*x_1_1 + 8200*x_0_1*x_2_1 + 2050*x_0_1*x_3_1\n",
      "  + 2050*x_1_0*c4@int_slack@0 + 4100*x_1_0*c4@int_slack@1\n",
      "  + 8200*x_1_0*c4@int_slack@2 + 12300*x_1_0*c4@int_slack@3 + 5125*x_1_0^2\n",
      "  + 41*x_1_0*x_1_1 + 8200*x_1_0*x_2_0 + 2050*x_1_0*x_3_0\n",
      "  + 2050*x_1_1*c5@int_slack@0 + 4100*x_1_1*c5@int_slack@1\n",
      "  + 8200*x_1_1*c5@int_slack@2 + 12300*x_1_1*c5@int_slack@3 + 5125*x_1_1^2\n",
      "  + 8200*x_1_1*x_2_1 + 2050*x_1_1*x_3_1 + 1640*x_2_0*c4@int_slack@0\n",
      "  + 3280*x_2_0*c4@int_slack@1 + 6560*x_2_0*c4@int_slack@2\n",
      "  + 9840*x_2_0*c4@int_slack@3 + 3280*x_2_0^2 + 41*x_2_0*x_2_1 + 1640*x_2_0*x_3_0\n",
      "  + 1640*x_2_1*c5@int_slack@0 + 3280*x_2_1*c5@int_slack@1\n",
      "  + 6560*x_2_1*c5@int_slack@2 + 9840*x_2_1*c5@int_slack@3 + 3280*x_2_1^2\n",
      "  + 1640*x_2_1*x_3_1 + 410*x_3_0*c4@int_slack@0 + 820*x_3_0*c4@int_slack@1\n",
      "  + 1640*x_3_0*c4@int_slack@2 + 2460*x_3_0*c4@int_slack@3 + 205*x_3_0^2\n",
      "  + 41*x_3_0*x_3_1 + 410*x_3_1*c5@int_slack@0 + 820*x_3_1*c5@int_slack@1\n",
      "  + 1640*x_3_1*c5@int_slack@2 + 2460*x_3_1*c5@int_slack@3 + 205*x_3_1^2\n",
      "  - 5330*c4@int_slack@0 - 10660*c4@int_slack@1 - 21320*c4@int_slack@2\n",
      "  - 31980*c4@int_slack@3 - 5330*c5@int_slack@0 - 10660*c5@int_slack@1\n",
      "  - 21320*c5@int_slack@2 - 31980*c5@int_slack@3 - 26654*x_0_0 - 26654*x_0_1\n",
      "  - 26652*x_1_0 - 26652*x_1_1 - 21328*x_2_0 - 21328*x_2_1 - 5336*x_3_0\n",
      "  - 5336*x_3_1 + 69290\n",
      "\n",
      "Subject to\n",
      "  No constraints\n",
      "\n",
      "  Binary variables (16)\n",
      "    x_0_0 x_1_0 x_2_0 x_3_0 x_0_1 x_1_1 x_2_1 x_3_1 c4@int_slack@0\n",
      "    c4@int_slack@1 c4@int_slack@2 c4@int_slack@3 c5@int_slack@0 c5@int_slack@1\n",
      "    c5@int_slack@2 c5@int_slack@3\n",
      "\n"
     ]
    }
   ],
   "source": [
    "#Converting our problem to QUBO using optimization converters\n",
    "ineq2pen_2 = QuadraticProgramToQubo()\n",
    "qubo = ineq2pen_2.convert(qp)\n",
    "print(qubo.prettyprint())\n",
    "#All the constraints have been converted to penalty terms and added \n",
    "#to the objective function as well as slack variables are introduced"
   ]
  },
  {
   "cell_type": "code",
   "execution_count": 438,
   "id": "554d27ef-8bb7-4ade-abed-accc4c60c5e1",
   "metadata": {},
   "outputs": [
    {
     "name": "stdout",
     "output_type": "stream",
     "text": [
      "offset: 13141.0\n",
      "H:\n",
      "SparsePauliOp(['IIIIIIIIIIIIIIIZ', 'IIIIIIIIIIIZIIII', 'IIIIIIIIIIIIIIZI', 'IIIIIIIIIIZIIIII', 'IIIIIIIIIIIIIZII', 'IIIIIIIIIZIIIIII', 'IIIIIIIIIIIIZIII', 'IIIIIIIIZIIIIIII', 'IIIIIIIZIIIIIIII', 'IIIIIIZIIIIIIIII', 'IIIIIZIIIIIIIIII', 'IIIIZIIIIIIIIIII', 'IIIZIIIIIIIIIIII', 'IIZIIIIIIIIIIIII', 'IZIIIIIIIIIIIIII', 'ZIIIIIIIIIIIIIII', 'IIIIIIIIIIIIIIZZ', 'IIIIIIIIIIIIIZIZ', 'IIIIIIIIIIIIZIIZ', 'IIIIIIIIIIIZIIIZ', 'IIIIIIIZIIIIIIIZ', 'IIIIIIZIIIIIIIIZ', 'IIIIIZIIIIIIIIIZ', 'IIIIZIIIIIIIIIIZ', 'IIIIIIIIIIIIIZZI', 'IIIIIIIIIIIIZIZI', 'IIIIIIIIIIZIIIZI', 'IIIIIIIZIIIIIIZI', 'IIIIIIZIIIIIIIZI', 'IIIIIZIIIIIIIIZI', 'IIIIZIIIIIIIIIZI', 'IIIIIIIIIIIIZZII', 'IIIIIIIIIZIIIZII', 'IIIIIIIZIIIIIZII', 'IIIIIIZIIIIIIZII', 'IIIIIZIIIIIIIZII', 'IIIIZIIIIIIIIZII', 'IIIIIIIIZIIIZIII', 'IIIIIIIZIIIIZIII', 'IIIIIIZIIIIIZIII', 'IIIIIZIIIIIIZIII', 'IIIIZIIIIIIIZIII', 'IIIIIIIIIIZZIIII', 'IIIIIIIIIZIZIIII', 'IIIIIIIIZIIZIIII', 'IIIZIIIIIIIZIIII', 'IIZIIIIIIIIZIIII', 'IZIIIIIIIIIZIIII', 'ZIIIIIIIIIIZIIII', 'IIIIIIIIIZZIIIII', 'IIIIIIIIZIZIIIII', 'IIIZIIIIIIZIIIII', 'IIZIIIIIIIZIIIII', 'IZIIIIIIIIZIIIII', 'ZIIIIIIIIIZIIIII', 'IIIIIIIIZZIIIIII', 'IIIZIIIIIZIIIIII', 'IIZIIIIIIZIIIIII', 'IZIIIIIIIZIIIIII', 'ZIIIIIIIIZIIIIII', 'IIIZIIIIZIIIIIII', 'IIZIIIIIZIIIIIII', 'IZIIIIIIZIIIIIII', 'ZIIIIIIIZIIIIIII', 'IIIIIIZZIIIIIIII', 'IIIIIZIZIIIIIIII', 'IIIIZIIZIIIIIIII', 'IIIIIZZIIIIIIIII', 'IIIIZIZIIIIIIIII', 'IIIIZZIIIIIIIIII', 'IIZZIIIIIIIIIIII', 'IZIZIIIIIIIIIIII', 'ZIIZIIIIIIIIIIII', 'IZZIIIIIIIIIIIII', 'ZIZIIIIIIIIIIIII', 'ZZIIIIIIIIIIIIII'],\n",
      "              coeffs=[-1033.25+0.j, -1033.25+0.j, -1034.25+0.j, -1034.25+0.j,  -826.25+0.j,\n",
      "  -826.25+0.j,  -212.25+0.j,  -212.25+0.j,  -205.  +0.j,  -410.  +0.j,\n",
      "  -820.  +0.j, -1230.  +0.j,  -205.  +0.j,  -410.  +0.j,  -820.  +0.j,\n",
      " -1230.  +0.j,  2562.5 +0.j,  2050.  +0.j,   512.5 +0.j,    10.25+0.j,\n",
      "   512.5 +0.j,  1025.  +0.j,  2050.  +0.j,  3075.  +0.j,  2050.  +0.j,\n",
      "   512.5 +0.j,    10.25+0.j,   512.5 +0.j,  1025.  +0.j,  2050.  +0.j,\n",
      "  3075.  +0.j,   410.  +0.j,    10.25+0.j,   410.  +0.j,   820.  +0.j,\n",
      "  1640.  +0.j,  2460.  +0.j,    10.25+0.j,   102.5 +0.j,   205.  +0.j,\n",
      "   410.  +0.j,   615.  +0.j,  2562.5 +0.j,  2050.  +0.j,   512.5 +0.j,\n",
      "   512.5 +0.j,  1025.  +0.j,  2050.  +0.j,  3075.  +0.j,  2050.  +0.j,\n",
      "   512.5 +0.j,   512.5 +0.j,  1025.  +0.j,  2050.  +0.j,  3075.  +0.j,\n",
      "   410.  +0.j,   410.  +0.j,   820.  +0.j,  1640.  +0.j,  2460.  +0.j,\n",
      "   102.5 +0.j,   205.  +0.j,   410.  +0.j,   615.  +0.j,   205.  +0.j,\n",
      "   410.  +0.j,   615.  +0.j,   820.  +0.j,  1230.  +0.j,  2460.  +0.j,\n",
      "   205.  +0.j,   410.  +0.j,   615.  +0.j,   820.  +0.j,  1230.  +0.j,\n",
      "  2460.  +0.j])\n"
     ]
    }
   ],
   "source": [
    "#Converting our QUBO problem to Ising Model \n",
    "H, offset = qubo.to_ising()\n",
    "print(\"offset: {}\".format(offset))\n",
    "print(\"H:\")\n",
    "print(H)    #The Hamiltonian for our problem"
   ]
  },
  {
   "cell_type": "code",
   "execution_count": 439,
   "id": "2d62547d-acdb-42d0-b9df-18468ab586d6",
   "metadata": {},
   "outputs": [],
   "source": [
    "qaoa_mes = QAOA(sampler=Sampler(), optimizer=COBYLA(),reps=1)"
   ]
  },
  {
   "cell_type": "code",
   "execution_count": 440,
   "id": "ece4be4c-c621-4fc2-ae2b-425b2761a1b8",
   "metadata": {},
   "outputs": [],
   "source": [
    "qaoa = MinimumEigenOptimizer(qaoa_mes)  # using QAOA"
   ]
  },
  {
   "cell_type": "code",
   "execution_count": 441,
   "id": "a786d3b0-96a2-46e1-8808-6e3b3bedc435",
   "metadata": {},
   "outputs": [
    {
     "name": "stdout",
     "output_type": "stream",
     "text": [
      "objective function value: -20.0\n",
      "variable values: x_0_0=0.0, x_1_0=0.0, x_2_0=1.0, x_3_0=0.0, x_0_1=1.0, x_1_1=1.0, x_2_1=0.0, x_3_1=1.0, c4@int_slack@0=1.0, c4@int_slack@1=1.0, c4@int_slack@2=0.0, c4@int_slack@3=1.0, c5@int_slack@0=0.0, c5@int_slack@1=1.0, c5@int_slack@2=0.0, c5@int_slack@3=0.0\n",
      "status: SUCCESS\n"
     ]
    }
   ],
   "source": [
    "qubo_result = qaoa.solve(qubo)\n",
    "print(qubo_result.prettyprint())"
   ]
  },
  {
   "cell_type": "code",
   "execution_count": 444,
   "id": "c7ea14bb-1394-419b-aa21-917dca94983d",
   "metadata": {},
   "outputs": [
    {
     "name": "stdout",
     "output_type": "stream",
     "text": [
      "variable order: ['x_0_0', 'x_1_0', 'x_2_0', 'x_3_0', 'x_0_1', 'x_1_1', 'x_2_1', 'x_3_1', 'c4@int_slack@0', 'c4@int_slack@1', 'c4@int_slack@2', 'c4@int_slack@3', 'c5@int_slack@0', 'c5@int_slack@1', 'c5@int_slack@2', 'c5@int_slack@3']\n"
     ]
    }
   ],
   "source": [
    "print(\"variable order:\", [var.name for var in qubo_result.variables])\n",
    "X = []\n",
    "for i in range(min(4, len(qubo_result.samples))):\n",
    "    sample = qubo_result.samples[i]\n",
    "\n",
    "    # Extract 'x' array from the sample\n",
    "    x_array = sample.x\n",
    "    X.append(x_array[:len(Score) * len(F)])   #Omitting the slack variables"
   ]
  },
  {
   "cell_type": "markdown",
   "id": "33480b51",
   "metadata": {},
   "source": [
    "The first few results"
   ]
  },
  {
   "cell_type": "code",
   "execution_count": 445,
   "id": "371c7ec2-d703-4c84-827a-589839556c18",
   "metadata": {},
   "outputs": [
    {
     "data": {
      "text/plain": [
       "[array([0., 0., 1., 0., 1., 1., 0., 1.]),\n",
       " array([0., 0., 1., 1., 1., 1., 0., 0.]),\n",
       " array([0., 1., 0., 0., 1., 0., 1., 1.]),\n",
       " array([1., 0., 0., 0., 0., 1., 1., 1.])]"
      ]
     },
     "execution_count": 445,
     "metadata": {},
     "output_type": "execute_result"
    }
   ],
   "source": [
    "X #List that contains the first 4 optimal solutions"
   ]
  },
  {
   "cell_type": "code",
   "execution_count": 446,
   "id": "8d1f40a2-2be3-4256-af15-fbe893445cac",
   "metadata": {},
   "outputs": [
    {
     "data": {
      "text/plain": [
       "array([0., 0., 1., 0., 1., 1., 0., 1.])"
      ]
     },
     "execution_count": 446,
     "metadata": {},
     "output_type": "execute_result"
    }
   ],
   "source": [
    "#Anslyzing first solution\n",
    "n=1\n",
    "X[n-1]"
   ]
  },
  {
   "cell_type": "code",
   "execution_count": 447,
   "id": "38ebe4b1-60b0-44ef-b4fb-25401740ffc5",
   "metadata": {},
   "outputs": [],
   "source": [
    "aff_pax['Alt_Fli'] = 'NaN'      #New column for storing the assigned alternate flight to passengers"
   ]
  },
  {
   "cell_type": "code",
   "execution_count": 448,
   "id": "2e3bcceb-49b7-49c7-b7ff-5141bb596f18",
   "metadata": {},
   "outputs": [
    {
     "name": "stdout",
     "output_type": "stream",
     "text": [
      "Group 3 is assigned to Flight 1\n",
      "Group 1 is assigned to Flight 2\n",
      "Group 2 is assigned to Flight 2\n",
      "Group 4 is assigned to Flight 2\n"
     ]
    }
   ],
   "source": [
    "for i in range(len(X[n-1])):\n",
    "    if X[n-1][i] == 1:\n",
    "        alt_flight_number = (i // len(Score)) + 1\n",
    "        group_index = (i % len(Score)) + 1\n",
    "        assignment_info = f\"Group {group_index} is assigned to Flight {alt_flight_number}\" \n",
    "        print(assignment_info)\n",
    "        condition = aff_pax['PNR_SCORE'] == Score[group_index - 1]\n",
    "        aff_pax.loc[condition, 'Alt_Fli'] = Av_Fl[alt_flight_number - 1]       "
   ]
  },
  {
   "cell_type": "code",
   "execution_count": 449,
   "id": "3d06a9ed-956d-4d0a-a2ed-783866cf36a4",
   "metadata": {},
   "outputs": [
    {
     "data": {
      "text/plain": [
       "Alt_Fli\n",
       "942    93\n",
       "941    32\n",
       "Name: count, dtype: int64"
      ]
     },
     "execution_count": 449,
     "metadata": {},
     "output_type": "execute_result"
    }
   ],
   "source": [
    "aff_pax['Alt_Fli'].value_counts()  #No. of passengers in each flight"
   ]
  },
  {
   "cell_type": "markdown",
   "id": "77902c6e",
   "metadata": {},
   "source": [
    "Passengers who were reaccommodated"
   ]
  },
  {
   "cell_type": "code",
   "execution_count": 450,
   "id": "1a34eff9-0353-49ba-acab-908ea52a2e3f",
   "metadata": {},
   "outputs": [],
   "source": [
    "filt = (aff_pax['Alt_Fli'] != 'NaN')\n",
    "Reaccommodated_List_df = aff_pax.loc[filt] #Dataframe that contains the passengers who were rescheduled"
   ]
  },
  {
   "cell_type": "code",
   "execution_count": 451,
   "id": "380a686b-e704-4225-8c29-51424fd8198b",
   "metadata": {},
   "outputs": [
    {
     "data": {
      "text/html": [
       "<div>\n",
       "<style scoped>\n",
       "    .dataframe tbody tr th:only-of-type {\n",
       "        vertical-align: middle;\n",
       "    }\n",
       "\n",
       "    .dataframe tbody tr th {\n",
       "        vertical-align: top;\n",
       "    }\n",
       "\n",
       "    .dataframe thead th {\n",
       "        text-align: right;\n",
       "    }\n",
       "</style>\n",
       "<table border=\"1\" class=\"dataframe\">\n",
       "  <thead>\n",
       "    <tr style=\"text-align: right;\">\n",
       "      <th></th>\n",
       "      <th>RECLOC</th>\n",
       "      <th>CREATION_DTZ</th>\n",
       "      <th>CUSTOMER_ID</th>\n",
       "      <th>LAST_NAME</th>\n",
       "      <th>FIRST_NAME</th>\n",
       "      <th>NATIONALITY</th>\n",
       "      <th>DOB</th>\n",
       "      <th>CONTACT_PH_NUM</th>\n",
       "      <th>CONTACT_EMAIL</th>\n",
       "      <th>DOC_TYPE</th>\n",
       "      <th>DOC_ID</th>\n",
       "      <th>SPECIAL_NAME_CD2</th>\n",
       "      <th>SSR_CODE_CD1</th>\n",
       "      <th>SPECIAL_NAME_CD1</th>\n",
       "      <th>FF_NUM</th>\n",
       "      <th>TierLevel</th>\n",
       "      <th>PNR_SCORE</th>\n",
       "      <th>Alt_Fli</th>\n",
       "    </tr>\n",
       "  </thead>\n",
       "  <tbody>\n",
       "    <tr>\n",
       "      <th>53</th>\n",
       "      <td>HIQY50</td>\n",
       "      <td>2023-12-13 17:46:00</td>\n",
       "      <td>BFL9846</td>\n",
       "      <td>Verma</td>\n",
       "      <td>Stuvan</td>\n",
       "      <td>IN</td>\n",
       "      <td>2018-08-26</td>\n",
       "      <td>(825) 850-2161</td>\n",
       "      <td>stuvanverma1@example.com</td>\n",
       "      <td>Passport</td>\n",
       "      <td>359761000000</td>\n",
       "      <td>NaN</td>\n",
       "      <td>0</td>\n",
       "      <td>CHD</td>\n",
       "      <td>NaN</td>\n",
       "      <td>0</td>\n",
       "      <td>1</td>\n",
       "      <td>942</td>\n",
       "    </tr>\n",
       "    <tr>\n",
       "      <th>97</th>\n",
       "      <td>ICIN14</td>\n",
       "      <td>2024-03-31 13:23:00</td>\n",
       "      <td>IBU0480</td>\n",
       "      <td>Butala</td>\n",
       "      <td>Nehmat</td>\n",
       "      <td>IN</td>\n",
       "      <td>1933-10-02</td>\n",
       "      <td>(854) 838-9325</td>\n",
       "      <td>nehmatbutala1@example.com</td>\n",
       "      <td>Passport</td>\n",
       "      <td>815897112</td>\n",
       "      <td>NaN</td>\n",
       "      <td>0</td>\n",
       "      <td>S65</td>\n",
       "      <td>NaN</td>\n",
       "      <td>0</td>\n",
       "      <td>1</td>\n",
       "      <td>942</td>\n",
       "    </tr>\n",
       "    <tr>\n",
       "      <th>223</th>\n",
       "      <td>ENNR75</td>\n",
       "      <td>2024-05-01 22:05:00</td>\n",
       "      <td>TWX8197</td>\n",
       "      <td>Ramesh</td>\n",
       "      <td>Saksham</td>\n",
       "      <td>IN</td>\n",
       "      <td>1985-06-17</td>\n",
       "      <td>(294) 191-1123</td>\n",
       "      <td>sakshamramesh1@example.com</td>\n",
       "      <td>Driving License</td>\n",
       "      <td>834261000000</td>\n",
       "      <td>NRPS</td>\n",
       "      <td>0</td>\n",
       "      <td>ADT</td>\n",
       "      <td>NaN</td>\n",
       "      <td>0</td>\n",
       "      <td>1</td>\n",
       "      <td>942</td>\n",
       "    </tr>\n",
       "    <tr>\n",
       "      <th>135</th>\n",
       "      <td>OCET22</td>\n",
       "      <td>2024-01-22 17:47:00</td>\n",
       "      <td>GCL2933</td>\n",
       "      <td>Kent</td>\n",
       "      <td>Jason</td>\n",
       "      <td>CA</td>\n",
       "      <td>2012-04-13</td>\n",
       "      <td>(926) 381-2042</td>\n",
       "      <td>jasonkent1@example.com</td>\n",
       "      <td>Passport</td>\n",
       "      <td>576714000000</td>\n",
       "      <td>NRPS</td>\n",
       "      <td>0</td>\n",
       "      <td>CHD</td>\n",
       "      <td>NaN</td>\n",
       "      <td>0</td>\n",
       "      <td>1</td>\n",
       "      <td>942</td>\n",
       "    </tr>\n",
       "    <tr>\n",
       "      <th>151</th>\n",
       "      <td>XZIG88</td>\n",
       "      <td>2024-03-15 02:12:00</td>\n",
       "      <td>SNU4316</td>\n",
       "      <td>Daniels</td>\n",
       "      <td>Theresa</td>\n",
       "      <td>US</td>\n",
       "      <td>1966-06-30</td>\n",
       "      <td>(271) 678-9552</td>\n",
       "      <td>theresadaniels1@example.com</td>\n",
       "      <td>Govt-Id</td>\n",
       "      <td>4628699765</td>\n",
       "      <td>NaN</td>\n",
       "      <td>0</td>\n",
       "      <td>ADT</td>\n",
       "      <td>NaN</td>\n",
       "      <td>0</td>\n",
       "      <td>1</td>\n",
       "      <td>942</td>\n",
       "    </tr>\n",
       "  </tbody>\n",
       "</table>\n",
       "</div>"
      ],
      "text/plain": [
       "     RECLOC        CREATION_DTZ CUSTOMER_ID LAST_NAME FIRST_NAME NATIONALITY  \\\n",
       "53   HIQY50 2023-12-13 17:46:00     BFL9846     Verma     Stuvan          IN   \n",
       "97   ICIN14 2024-03-31 13:23:00     IBU0480    Butala     Nehmat          IN   \n",
       "223  ENNR75 2024-05-01 22:05:00     TWX8197    Ramesh    Saksham          IN   \n",
       "135  OCET22 2024-01-22 17:47:00     GCL2933      Kent      Jason          CA   \n",
       "151  XZIG88 2024-03-15 02:12:00     SNU4316   Daniels    Theresa          US   \n",
       "\n",
       "           DOB  CONTACT_PH_NUM                CONTACT_EMAIL         DOC_TYPE  \\\n",
       "53  2018-08-26  (825) 850-2161     stuvanverma1@example.com         Passport   \n",
       "97  1933-10-02  (854) 838-9325    nehmatbutala1@example.com         Passport   \n",
       "223 1985-06-17  (294) 191-1123   sakshamramesh1@example.com  Driving License   \n",
       "135 2012-04-13  (926) 381-2042       jasonkent1@example.com         Passport   \n",
       "151 1966-06-30  (271) 678-9552  theresadaniels1@example.com          Govt-Id   \n",
       "\n",
       "           DOC_ID SPECIAL_NAME_CD2 SSR_CODE_CD1 SPECIAL_NAME_CD1  FF_NUM  \\\n",
       "53   359761000000              NaN            0              CHD     NaN   \n",
       "97      815897112              NaN            0              S65     NaN   \n",
       "223  834261000000             NRPS            0              ADT     NaN   \n",
       "135  576714000000             NRPS            0              CHD     NaN   \n",
       "151    4628699765              NaN            0              ADT     NaN   \n",
       "\n",
       "    TierLevel  PNR_SCORE Alt_Fli  \n",
       "53          0          1     942  \n",
       "97          0          1     942  \n",
       "223         0          1     942  \n",
       "135         0          1     942  \n",
       "151         0          1     942  "
      ]
     },
     "execution_count": 451,
     "metadata": {},
     "output_type": "execute_result"
    }
   ],
   "source": [
    "Reaccommodated_List_df.head()"
   ]
  },
  {
   "cell_type": "markdown",
   "id": "d76a64c4",
   "metadata": {},
   "source": [
    "Pasengers who couldn't be reaccommodated"
   ]
  },
  {
   "cell_type": "code",
   "execution_count": 452,
   "id": "30682413-7d22-4f8f-bf9e-c8e5221317db",
   "metadata": {},
   "outputs": [],
   "source": [
    "filt = (aff_pax['Alt_Fli'] == 'NaN')\n",
    "Exception_List_df = aff_pax.loc[filt] #Dataframe that contains the passengers who couldn't be rescheduled"
   ]
  },
  {
   "cell_type": "code",
   "execution_count": 453,
   "id": "53305d6a-87ab-4ee2-a2fe-b6cc2d8a8d39",
   "metadata": {},
   "outputs": [
    {
     "data": {
      "text/html": [
       "<div>\n",
       "<style scoped>\n",
       "    .dataframe tbody tr th:only-of-type {\n",
       "        vertical-align: middle;\n",
       "    }\n",
       "\n",
       "    .dataframe tbody tr th {\n",
       "        vertical-align: top;\n",
       "    }\n",
       "\n",
       "    .dataframe thead th {\n",
       "        text-align: right;\n",
       "    }\n",
       "</style>\n",
       "<table border=\"1\" class=\"dataframe\">\n",
       "  <thead>\n",
       "    <tr style=\"text-align: right;\">\n",
       "      <th></th>\n",
       "      <th>RECLOC</th>\n",
       "      <th>CREATION_DTZ</th>\n",
       "      <th>CUSTOMER_ID</th>\n",
       "      <th>LAST_NAME</th>\n",
       "      <th>FIRST_NAME</th>\n",
       "      <th>NATIONALITY</th>\n",
       "      <th>DOB</th>\n",
       "      <th>CONTACT_PH_NUM</th>\n",
       "      <th>CONTACT_EMAIL</th>\n",
       "      <th>DOC_TYPE</th>\n",
       "      <th>DOC_ID</th>\n",
       "      <th>SPECIAL_NAME_CD2</th>\n",
       "      <th>SSR_CODE_CD1</th>\n",
       "      <th>SPECIAL_NAME_CD1</th>\n",
       "      <th>FF_NUM</th>\n",
       "      <th>TierLevel</th>\n",
       "      <th>PNR_SCORE</th>\n",
       "      <th>Alt_Fli</th>\n",
       "    </tr>\n",
       "  </thead>\n",
       "  <tbody>\n",
       "  </tbody>\n",
       "</table>\n",
       "</div>"
      ],
      "text/plain": [
       "Empty DataFrame\n",
       "Columns: [RECLOC, CREATION_DTZ, CUSTOMER_ID, LAST_NAME, FIRST_NAME, NATIONALITY, DOB, CONTACT_PH_NUM, CONTACT_EMAIL, DOC_TYPE, DOC_ID, SPECIAL_NAME_CD2, SSR_CODE_CD1, SPECIAL_NAME_CD1, FF_NUM, TierLevel, PNR_SCORE, Alt_Fli]\n",
       "Index: []"
      ]
     },
     "execution_count": 453,
     "metadata": {},
     "output_type": "execute_result"
    }
   ],
   "source": [
    "Exception_List_df.head()"
   ]
  },
  {
   "cell_type": "code",
   "execution_count": 454,
   "id": "803e19bd-6172-42de-aa36-9bf873064d0f",
   "metadata": {},
   "outputs": [
    {
     "name": "stdout",
     "output_type": "stream",
     "text": [
      "125 passengers out of 125 were reaccommodated\n"
     ]
    }
   ],
   "source": [
    "print(f'{len(Reaccommodated_List_df)} passengers out of {len(aff_pax)} were reaccommodated')"
   ]
  },
  {
   "cell_type": "code",
   "execution_count": 455,
   "id": "d0eee16f-fd07-497d-8126-2fa2e5c284f5",
   "metadata": {},
   "outputs": [],
   "source": [
    "#Importing class from PNR Data to Passenger Data\n",
    "aff_pax['Class'] = 'NaN'\n",
    "\n",
    "for i in range(len(aff)):\n",
    "    recloc_aff = aff.loc[aff.index[i], 'RECLOC']\n",
    "    class_aff = aff.loc[aff.index[i], 'COS_CD']\n",
    "\n",
    "    aff_pax.loc[aff_pax['RECLOC'] == recloc_aff, 'Class'] = class_aff"
   ]
  },
  {
   "cell_type": "markdown",
   "id": "4dfc1427",
   "metadata": {},
   "source": [
    "Assigning cabin"
   ]
  },
  {
   "cell_type": "code",
   "execution_count": 456,
   "id": "0d38e9d9-e139-4cf2-b5a2-3e9ac3ae832e",
   "metadata": {},
   "outputs": [],
   "source": [
    "aff_pax['Assigned Class'] = ''     #New column for storing the newly assigned class in alternate flights"
   ]
  },
  {
   "cell_type": "code",
   "execution_count": 457,
   "id": "95502de5-b7ad-4541-bddb-e96c93e922b8",
   "metadata": {},
   "outputs": [],
   "source": [
    "#Alternate flight 1\n",
    "f = 1\n",
    "filt = (aff_pax['Alt_Fli'] == Av_Fl[f-1])\n",
    "filtered = aff_pax.loc[filt]"
   ]
  },
  {
   "cell_type": "code",
   "execution_count": 458,
   "id": "0eba8e16-5e09-4ebe-9a6a-60a03d5c780a",
   "metadata": {},
   "outputs": [],
   "source": [
    "filt = (aff_pax['Alt_Fli'] == Av_Fl[f-1])\n",
    "filtered_pass_data_1 = aff_pax.loc[filt]"
   ]
  },
  {
   "cell_type": "code",
   "execution_count": 459,
   "id": "aaa7b4ae-f09b-4a6e-8ec3-53e11f7b6bfc",
   "metadata": {},
   "outputs": [],
   "source": [
    "# Assign classes based on 'Score' and class limits\n",
    "def assign_class(row):\n",
    "     global class_count\n",
    "     for category, limit in class_limits.items():\n",
    "           if class_count[category] < limit:\n",
    "               class_count[category] += 1\n",
    "               return category\n",
    "     return None"
   ]
  },
  {
   "cell_type": "code",
   "execution_count": 460,
   "id": "73005a79-6b64-4d8a-b5a0-8be9ec3d2d63",
   "metadata": {},
   "outputs": [],
   "source": [
    "#Assigning class based on PNR scores\n",
    "filt_sorted_1 = filtered_pass_data_1.copy()  # Making a copy to avoid modifying the original DataFrame\n",
    "\n",
    "# Sort the DataFrame based on 'Score' in descending order\n",
    "filt_sorted_1 = filt_sorted_1.sort_values(by='PNR_SCORE', ascending=False)\n",
    "\n",
    "# Define class categories and corresponding limits\n",
    "class_categories = ['FirstClass', 'BusinessClass', 'PremiumEconomyClass', 'EconomyClass']\n",
    "class_limits = {'FirstClass': df2.loc[Av_Fl[f-1], 'FC_Oversold'], 'BusinessClass': df2.loc[Av_Fl[f-1], 'BC_Oversold'], 'PremiumEconomyClass': df2.loc[Av_Fl[f-1], 'PC_Oversold'], 'EconomyClass': df2.loc[Av_Fl[f-1], 'EC_Oversold']} \n",
    "\n",
    "# Initialize count for each class\n",
    "class_count = {category: 0 for category in class_categories}\n",
    "\n",
    "# Create a new column 'Assigned Class'\n",
    "filt_sorted_1['Assigned Class'] = filt_sorted_1.apply(assign_class, axis=1)"
   ]
  },
  {
   "cell_type": "code",
   "execution_count": 461,
   "id": "5f93edd6-1ec1-4c91-a7a1-b599403dfdee",
   "metadata": {},
   "outputs": [],
   "source": [
    "#Alternate flight 2\n",
    "f = 2\n",
    "filt = (aff_pax['Alt_Fli'] == Av_Fl[f-1])\n",
    "filtered = aff_pax.loc[filt]"
   ]
  },
  {
   "cell_type": "code",
   "execution_count": 462,
   "id": "b08baacd-cd46-4e49-a2bd-08940783d244",
   "metadata": {},
   "outputs": [],
   "source": [
    "filt = (aff_pax['Alt_Fli'] == Av_Fl[f-1])\n",
    "filtered_pass_data_2 = aff_pax.loc[filt]"
   ]
  },
  {
   "cell_type": "code",
   "execution_count": 463,
   "id": "58615cca-e7d9-47ed-8958-73532a6d4fe3",
   "metadata": {},
   "outputs": [],
   "source": [
    "filt_sorted_2 = filtered_pass_data_2.copy()  # Making a copy to avoid modifying the original DataFrame\n",
    "\n",
    "# Sort the DataFrame based on 'Score' in descending order\n",
    "filt_sorted_2 = filt_sorted_2.sort_values(by='PNR_SCORE', ascending=False)\n",
    "\n",
    "# Define class categories and corresponding limits\n",
    "class_categories = ['FirstClass', 'BusinessClass', 'PremiumEconomyClass', 'EconomyClass']\n",
    "class_limits = {'FirstClass': df2.loc[Av_Fl[f-1], 'FC_Oversold'], 'BusinessClass': df2.loc[Av_Fl[f-1], 'BC_Oversold'], 'PremiumEconomyClass': df2.loc[Av_Fl[f-1], 'PC_Oversold'], 'EconomyClass': df2.loc[Av_Fl[f-1], 'EC_Oversold']}  \n",
    "\n",
    "# Initialize count for each class\n",
    "class_count = {category: 0 for category in class_categories}\n",
    "\n",
    "# Create a new column 'Assigned Class'\n",
    "filt_sorted_2['Assigned Class'] = filt_sorted_2.apply(assign_class, axis=1)"
   ]
  },
  {
   "cell_type": "code",
   "execution_count": null,
   "id": "6fc6f3d1-2423-432f-93e7-899d2b82bb64",
   "metadata": {},
   "outputs": [],
   "source": []
  },
  {
   "cell_type": "code",
   "execution_count": 464,
   "id": "bf3db7ad-8f28-4417-b2d3-f5174645258b",
   "metadata": {},
   "outputs": [],
   "source": [
    "#Passengers who were alloted the same class in flight 1\n",
    "filt = (filt_sorted_1['Class'] == filt_sorted_1['Assigned Class'])\n",
    "same_allotment_1 = filt_sorted_1.loc[filt]   "
   ]
  },
  {
   "cell_type": "code",
   "execution_count": 465,
   "id": "dac04dcd-9a20-40d3-96f4-a6438c1e6725",
   "metadata": {},
   "outputs": [],
   "source": [
    "#Passengers who were alloted the same class in flight 2\n",
    "filt = (filt_sorted_2['Class'] == filt_sorted_2['Assigned Class'])\n",
    "same_allotment_2 = filt_sorted_2.loc[filt]"
   ]
  },
  {
   "cell_type": "code",
   "execution_count": 466,
   "id": "173f71c0-5de8-45a4-8a22-77ec60f66b38",
   "metadata": {},
   "outputs": [],
   "source": [
    "#Passengers who were downgraded "
   ]
  },
  {
   "cell_type": "code",
   "execution_count": 467,
   "id": "2d8684ca-8001-40a3-830b-5a518cf29971",
   "metadata": {},
   "outputs": [],
   "source": [
    "#Flight 1"
   ]
  },
  {
   "cell_type": "code",
   "execution_count": 468,
   "id": "7cf2508c-d7f3-4f66-bfdd-7bdf5e93144d",
   "metadata": {},
   "outputs": [],
   "source": [
    "filt1 = (filt_sorted_1['Class'] == 'FirstClass')\n",
    "filt2 = (filt_sorted_1['Assigned Class'] == 'BusinessClass')\n",
    "filt3 = (filt_sorted_1['Assigned Class'] == 'PremiumEconomyClass')\n",
    "filt4 = (filt_sorted_1['Assigned Class'] == 'EconomyClass')\n",
    "FC_dn1 = filt_sorted_1.loc[filt1 & (filt2 | filt3| filt4)]"
   ]
  },
  {
   "cell_type": "code",
   "execution_count": 469,
   "id": "a2df539a-d805-47c2-a6b2-244f6b5ff29b",
   "metadata": {},
   "outputs": [],
   "source": [
    "filt2 = (filt_sorted_1['Class'] == 'BusinessClass')\n",
    "filt3 = (filt_sorted_1['Assigned Class'] == 'PremiumEconomyClass')\n",
    "filt4 = (filt_sorted_1['Assigned Class'] == 'EconomyClass')\n",
    "BC_dn1 = filt_sorted_1.loc[filt2 & (filt3 | filt4)]"
   ]
  },
  {
   "cell_type": "code",
   "execution_count": 470,
   "id": "b514ceb9-7880-4dda-86d8-64de0726a08c",
   "metadata": {},
   "outputs": [],
   "source": [
    "filt3 = (filt_sorted_1['Class'] == 'PremiumEconomyClass')\n",
    "filt4 = (filt_sorted_1['Assigned Class'] == 'EconomyClass')\n",
    "PC_dn1 = filt_sorted_1.loc[filt3 & (filt4)]"
   ]
  },
  {
   "cell_type": "code",
   "execution_count": 471,
   "id": "38bd931c-32ab-4ed9-a3fd-361352e15cf9",
   "metadata": {},
   "outputs": [],
   "source": [
    "#Flight 2"
   ]
  },
  {
   "cell_type": "code",
   "execution_count": 472,
   "id": "6ad910b3-c19c-4576-b2e0-f6b15b276ad5",
   "metadata": {},
   "outputs": [],
   "source": [
    "filt1 = (filt_sorted_2['Class'] == 'FirstClass')\n",
    "filt2 = (filt_sorted_2['Assigned Class'] == 'BusinessClass')\n",
    "filt3 = (filt_sorted_2['Assigned Class'] == 'PremiumEconomyClass')\n",
    "filt4 = (filt_sorted_2['Assigned Class'] == 'EconomyClass')\n",
    "FC_dn2 = filt_sorted_2.loc[filt1 & (filt2 | filt3| filt4)]"
   ]
  },
  {
   "cell_type": "code",
   "execution_count": 473,
   "id": "18eb348d-5adb-41d3-9beb-0fadb80fd221",
   "metadata": {},
   "outputs": [],
   "source": [
    "filt2 = (filt_sorted_2['Class'] == 'BusinessClass')\n",
    "filt3 = (filt_sorted_2['Assigned Class'] == 'PremiumEconomyClass')\n",
    "filt4 = (filt_sorted_2['Assigned Class'] == 'EconomyClass')\n",
    "BC_dn2 = filt_sorted_2.loc[filt2 & (filt3 | filt4)]"
   ]
  },
  {
   "cell_type": "code",
   "execution_count": 474,
   "id": "2c4103f3-b225-4ab0-81a9-c0f6b9e7d9be",
   "metadata": {},
   "outputs": [],
   "source": [
    "filt3 = (filt_sorted_2['Class'] == 'PremiumEconomyClass')\n",
    "filt4 = (filt_sorted_2['Assigned Class'] == 'EconomyClass')\n",
    "PC_dn2 = filt_sorted_2.loc[filt3 & (filt4)]"
   ]
  },
  {
   "cell_type": "code",
   "execution_count": 475,
   "id": "ccc779bb-ef63-4d21-a077-b720ac267d7f",
   "metadata": {},
   "outputs": [],
   "source": [
    "#Passengers who were upgraded "
   ]
  },
  {
   "cell_type": "code",
   "execution_count": 476,
   "id": "9578df47-40ef-4379-a991-3cf53af5270a",
   "metadata": {},
   "outputs": [],
   "source": [
    "#Flight 1"
   ]
  },
  {
   "cell_type": "code",
   "execution_count": 477,
   "id": "b9a765a3-6378-497d-aa60-5bfecb7fc7fb",
   "metadata": {},
   "outputs": [],
   "source": [
    "filt1 = (filt_sorted_1['Assigned Class'] == 'FirstClass')\n",
    "filt2 = (filt_sorted_1['Assigned Class'] == 'BusinessClass')\n",
    "filt3 = (filt_sorted_1['Assigned Class'] == 'PremiumEconomyClass')\n",
    "filt4 = (filt_sorted_1['Class'] == 'EconomyClass')\n",
    "EC_up1 = filt_sorted_1.loc[filt4 & (filt1 | filt2| filt3)]"
   ]
  },
  {
   "cell_type": "code",
   "execution_count": 478,
   "id": "e7f4a75b-af26-4575-b97a-66f3e28aebed",
   "metadata": {},
   "outputs": [],
   "source": [
    "filt1 = (filt_sorted_1['Assigned Class'] == 'FirstClass')\n",
    "filt2 = (filt_sorted_1['Assigned Class'] == 'BusinessClass')\n",
    "filt3 = (filt_sorted_1['Class'] == 'PremiumEconomyClass')\n",
    "PC_up1 = filt_sorted_1.loc[filt3 & (filt1 | filt2)]"
   ]
  },
  {
   "cell_type": "code",
   "execution_count": 479,
   "id": "d71c670c-616e-4407-9685-50c31f31be4c",
   "metadata": {},
   "outputs": [],
   "source": [
    "filt1 = (filt_sorted_1['Assigned Class'] == 'FirstClass')\n",
    "filt2 = (filt_sorted_1['Class'] == 'BusinessClass')\n",
    "BC_up1 = filt_sorted_1.loc[filt2 & filt1]"
   ]
  },
  {
   "cell_type": "code",
   "execution_count": 480,
   "id": "4651fe82-b4b0-446c-97b9-1425fa9348f1",
   "metadata": {},
   "outputs": [],
   "source": [
    "#Flight 2"
   ]
  },
  {
   "cell_type": "code",
   "execution_count": 481,
   "id": "76912ec3-d28f-483e-9502-f56d2eff7561",
   "metadata": {},
   "outputs": [],
   "source": [
    "filt1 = (filt_sorted_2['Assigned Class'] == 'FirstClass')\n",
    "filt2 = (filt_sorted_2['Assigned Class'] == 'BusinessClass')\n",
    "filt3 = (filt_sorted_2['Assigned Class'] == 'PremiumEconomyClass')\n",
    "filt4 = (filt_sorted_2['Class'] == 'EconomyClass')\n",
    "EC_up2 = filt_sorted_2.loc[filt4 & (filt1 | filt2| filt3)]"
   ]
  },
  {
   "cell_type": "code",
   "execution_count": 482,
   "id": "19562a46-1bb3-4ba8-a83b-2950d8be8ed5",
   "metadata": {},
   "outputs": [],
   "source": [
    "filt1 = (filt_sorted_2['Assigned Class'] == 'FirstClass')\n",
    "filt2 = (filt_sorted_2['Assigned Class'] == 'BusinessClass')\n",
    "filt3 = (filt_sorted_2['Class'] == 'PremiumEconomyClass')\n",
    "PC_up2 = filt_sorted_2.loc[filt3 & (filt1 | filt2)]"
   ]
  },
  {
   "cell_type": "code",
   "execution_count": 483,
   "id": "53206af9-5d49-4423-befc-314d93926e3f",
   "metadata": {},
   "outputs": [],
   "source": [
    "filt1 = (filt_sorted_2['Assigned Class'] == 'FirstClass')\n",
    "filt2 = (filt_sorted_2['Class'] == 'BusinessClass')\n",
    "BC_up2 = filt_sorted_2.loc[filt2 & filt1]"
   ]
  },
  {
   "cell_type": "markdown",
   "id": "adbe7692",
   "metadata": {},
   "source": [
    "Result of solution 1"
   ]
  },
  {
   "cell_type": "code",
   "execution_count": 484,
   "id": "bf936540-1b9c-4136-ab8b-74531567ce9b",
   "metadata": {},
   "outputs": [
    {
     "name": "stdout",
     "output_type": "stream",
     "text": [
      "9 passengers were allotted the same class they applied for\n",
      "26 passengers were downgraded\n",
      "90 passengers were upgraded\n"
     ]
    }
   ],
   "source": [
    "print(f\"{len(same_allotment_1) + len(same_allotment_2)} passengers were allotted the same class they applied for\")\n",
    "print(f\"{len(FC_dn1) + len(BC_dn1) + len(PC_dn1) + len(FC_dn2) + len(BC_dn2) + len(PC_dn2)} passengers were downgraded\")\n",
    "print(f\"{len(EC_up1) + len(PC_up1) + len(BC_up1) + len(EC_up2) + len(PC_up2) + len(BC_up2)} passengers were upgraded\")"
   ]
  },
  {
   "cell_type": "code",
   "execution_count": null,
   "id": "b4edd5cb-3cdd-4e31-ab25-c82a4fb20730",
   "metadata": {},
   "outputs": [],
   "source": []
  },
  {
   "cell_type": "code",
   "execution_count": null,
   "id": "2a08183a-f50c-4e88-849a-f7eb03ea927c",
   "metadata": {},
   "outputs": [],
   "source": []
  }
 ],
 "metadata": {
  "kernelspec": {
   "display_name": "Python 3 (ipykernel)",
   "language": "python",
   "name": "python3"
  },
  "language_info": {
   "codemirror_mode": {
    "name": "ipython",
    "version": 3
   },
   "file_extension": ".py",
   "mimetype": "text/x-python",
   "name": "python",
   "nbconvert_exporter": "python",
   "pygments_lexer": "ipython3",
   "version": "3.11.5"
  }
 },
 "nbformat": 4,
 "nbformat_minor": 5
}
